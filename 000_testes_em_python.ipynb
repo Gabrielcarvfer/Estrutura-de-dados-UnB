{
 "cells": [
  {
   "cell_type": "markdown",
   "source": [
    "Programação orientada a testes (TDD) tem se tornado uma prática cada vez mais comum.\n",
    "\n",
    "Esta prática de desenvolvimento consiste em especificar primeiros os testes com as saídas esperadas, para em seguida implementar de fato as funcionalidades."
   ],
   "metadata": {
    "collapsed": false
   }
  },
  {
   "cell_type": "code",
   "execution_count": 2,
   "metadata": {
    "collapsed": true
   },
   "outputs": [
    {
     "name": "stderr",
     "output_type": "stream",
     "text": [
      ".\n",
      "----------------------------------------------------------------------\n",
      "Ran 1 test in 0.002s\n",
      "\n",
      "OK\n"
     ]
    }
   ],
   "source": [
    "import unittest # biblioteca de testes Python\n",
    "\n",
    "# Classe com casos de teste\n",
    "class CasosDeTeste(unittest.TestCase):\n",
    "    # Cada subcaso de teste deve ser iniciado com o nome test_\n",
    "    def test_funcao_quadratica(self):\n",
    "        # Valores de entradas e saídas esperadas\n",
    "        casos_de_teste = {\n",
    "            # x : y(x) = x^2\n",
    "            1: 1,\n",
    "            2: 4,\n",
    "            3: 9,\n",
    "            4: 16,\n",
    "            5: 25,\n",
    "        }\n",
    "\n",
    "        # Função a ser avaliada\n",
    "        def funcao_quadratica(x):\n",
    "            return x*x\n",
    "\n",
    "        # Verifique se o resultado da função avaliada\n",
    "        # corresponde com os resultados esperados\n",
    "        for (entrada, saida) in casos_de_teste.items():\n",
    "            resultado = funcao_quadratica(entrada)\n",
    "            self.assertEqual(resultado, saida)\n",
    "\n",
    "\n",
    "def main():\n",
    "    loader = unittest.TestLoader()\n",
    "    suite = unittest.TestSuite()\n",
    "    suite.addTests(loader.loadTestsFromTestCase(CasosDeTeste))\n",
    "    runner = unittest.TextTestRunner(failfast=True)\n",
    "    runner.run(suite)\n",
    "\n",
    "\n",
    "if __name__ == '__main__':\n",
    "    main()"
   ]
  },
  {
   "cell_type": "markdown",
   "source": [
    "Você pode utilizar a estrutura acima para implementar seu próprio CodeRunner localmente.\n",
    "\n",
    "Tente criar casos de teste adicionais para os exercícios do Aprender antes de submetê-los.\n",
    "\n",
    "Tipicamente, se criam casos para avaliar o comportamento nos limites esperados dos valores.\n",
    "\n",
    "Por exemplo no caso de se acessar um elemento."
   ],
   "metadata": {
    "collapsed": false
   }
  },
  {
   "cell_type": "code",
   "execution_count": 5,
   "outputs": [
    {
     "name": "stderr",
     "output_type": "stream",
     "text": [
      "E\n",
      "======================================================================\n",
      "ERROR: test_pilha (__main__.CasosDeTeste)\n",
      "----------------------------------------------------------------------\n",
      "Traceback (most recent call last):\n",
      "  File \"C:\\Users\\Gabriel\\AppData\\Local\\Temp\\ipykernel_1200\\3567849554.py\", line 30, in test_pilha\n",
      "    self.assertEqual(None, funcao_valor_na_posição(5))\n",
      "  File \"C:\\Users\\Gabriel\\AppData\\Local\\Temp\\ipykernel_1200\\3567849554.py\", line 20, in funcao_valor_na_posição\n",
      "    return vetor_de_valores[x]\n",
      "IndexError: list index out of range\n",
      "\n",
      "----------------------------------------------------------------------\n",
      "Ran 1 test in 0.006s\n",
      "\n",
      "FAILED (errors=1)\n"
     ]
    }
   ],
   "source": [
    "import unittest # biblioteca de testes Python\n",
    "\n",
    "# Classe com casos de teste\n",
    "class CasosDeTeste(unittest.TestCase):\n",
    "    # Cada subcaso de teste deve ser iniciado com o nome test_\n",
    "    def test_pilha(self):\n",
    "        # Valores de entradas e saídas esperadas\n",
    "        casos_de_teste = {\n",
    "            # posição : valor\n",
    "            0: 1,\n",
    "            1: 4,\n",
    "            2: 9,\n",
    "            3: 16,\n",
    "            4: 25,\n",
    "        }\n",
    "        vetor_de_valores = [1, 4, 9, 16, 25]\n",
    "\n",
    "        # Função a ser avaliada\n",
    "        def funcao_valor_na_posição(x):\n",
    "            return vetor_de_valores[x]\n",
    "\n",
    "        # Verifique se o resultado da função avaliada\n",
    "        # corresponde com os resultados esperados\n",
    "        for (entrada, saida) in casos_de_teste.items():\n",
    "            resultado = funcao_valor_na_posição(entrada)\n",
    "            self.assertEqual(resultado, saida)\n",
    "\n",
    "        # Agora teste os valores de borda, caso sejam acessadas as posições 0 e 6\n",
    "        # último valor da lista\n",
    "        self.assertEqual(funcao_valor_na_posição(-1), 25)\n",
    "        # tenta acessar valor além do fim da lista\n",
    "        self.assertEqual(None, funcao_valor_na_posição(5))\n",
    "\n",
    "\n",
    "def main():\n",
    "    loader = unittest.TestLoader()\n",
    "    suite = unittest.TestSuite()\n",
    "    suite.addTests(loader.loadTestsFromTestCase(CasosDeTeste))\n",
    "    runner = unittest.TextTestRunner(failfast=True)\n",
    "    runner.run(suite)\n",
    "\n",
    "\n",
    "if __name__ == '__main__':\n",
    "    main()"
   ],
   "metadata": {
    "collapsed": false
   }
  },
  {
   "cell_type": "markdown",
   "source": [
    "Como podem ver, o teste falhou. O que significa que ou o caso de teste está errado, ou a implementação está errada. Neste caso, poderiamos esperar, por exemplo, que a implementação retornasse None invés de uma exceção."
   ],
   "metadata": {
    "collapsed": false
   }
  },
  {
   "cell_type": "code",
   "execution_count": 7,
   "outputs": [
    {
     "name": "stderr",
     "output_type": "stream",
     "text": [
      ".\n",
      "----------------------------------------------------------------------\n",
      "Ran 1 test in 0.018s\n",
      "\n",
      "OK\n"
     ]
    }
   ],
   "source": [
    "import unittest # biblioteca de testes Python\n",
    "\n",
    "# Classe com casos de teste\n",
    "class CasosDeTeste(unittest.TestCase):\n",
    "    # Cada subcaso de teste deve ser iniciado com o nome test_\n",
    "    def test_pilha(self):\n",
    "        # Valores de entradas e saídas esperadas\n",
    "        casos_de_teste = {\n",
    "            # posição : valor\n",
    "            0: 1,\n",
    "            1: 4,\n",
    "            2: 9,\n",
    "            3: 16,\n",
    "            4: 25,\n",
    "        }\n",
    "        vetor_de_valores = [1, 4, 9, 16, 25]\n",
    "\n",
    "        # Função a ser avaliada\n",
    "        def funcao_valor_na_posição(x):\n",
    "            if x >= len(vetor_de_valores):\n",
    "                return None\n",
    "            return vetor_de_valores[x]\n",
    "\n",
    "        # Verifique se o resultado da função avaliada\n",
    "        # corresponde com os resultados esperados\n",
    "        for (entrada, saida) in casos_de_teste.items():\n",
    "            resultado = funcao_valor_na_posição(entrada)\n",
    "            self.assertEqual(resultado, saida)\n",
    "\n",
    "        # Agora teste os valores de borda, caso sejam acessadas as posições 0 e 6\n",
    "        # último valor da lista\n",
    "        self.assertEqual(funcao_valor_na_posição(-1), 25)\n",
    "        # tenta acessar valor além do fim da lista\n",
    "        self.assertEqual(None, funcao_valor_na_posição(5))\n",
    "\n",
    "\n",
    "def main():\n",
    "    loader = unittest.TestLoader()\n",
    "    suite = unittest.TestSuite()\n",
    "    suite.addTests(loader.loadTestsFromTestCase(CasosDeTeste))\n",
    "    runner = unittest.TextTestRunner(failfast=True)\n",
    "    runner.run(suite)\n",
    "\n",
    "\n",
    "if __name__ == '__main__':\n",
    "    main()"
   ],
   "metadata": {
    "collapsed": false
   }
  },
  {
   "cell_type": "code",
   "execution_count": null,
   "outputs": [],
   "source": [],
   "metadata": {
    "collapsed": false
   }
  }
 ],
 "metadata": {
  "kernelspec": {
   "display_name": "Python 3",
   "language": "python",
   "name": "python3"
  },
  "language_info": {
   "codemirror_mode": {
    "name": "ipython",
    "version": 2
   },
   "file_extension": ".py",
   "mimetype": "text/x-python",
   "name": "python",
   "nbconvert_exporter": "python",
   "pygments_lexer": "ipython2",
   "version": "2.7.6"
  }
 },
 "nbformat": 4,
 "nbformat_minor": 0
}
