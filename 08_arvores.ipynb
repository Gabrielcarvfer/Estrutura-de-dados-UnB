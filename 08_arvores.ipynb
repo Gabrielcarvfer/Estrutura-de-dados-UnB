{
 "cells": [
  {
   "cell_type": "markdown",
   "source": [
    "# Estrutura de Dados — Árvores\n",
    "\n",
    "Capítulos 6.1, 10.4, 12, 13 e 18 do livro texto sugerido: Introduction to Algorithms, Fourth Edition By Thomas H. Cormen, Charles E. Leiserson, Ronald L. Rivest and Clifford Stein https://mitpress.mit.edu/9780262046305/introduction-to-algorithms/\n",
    "\n",
    "## Aviso\n",
    "\n",
    "Recomenda-se olhar este caderno através do Google Colab, que não renderiza a saída em HTML do exemplo ao final.\n",
    "\n",
    "https://colab.research.google.com/github/Gabrielcarvfer/Estrutura-de-dados-UnB/blob/master/08_arvores.ipynb\n",
    "\n",
    "## Conteúdo\n",
    "\n",
    "Árvores são estruturas de dados hierárquicas, organizada a partir de uma raiz, da qual se ramificam nós.\n",
    "\n",
    "Estes nós formam galhos. Quando um nó está na ponta da árvore, é chamado folha.\n",
    "\n",
    "[![](https://mermaid.ink/img/pako:eNplkEFqwzAQRa9iZu1A46RZaBFIyDbZtLsqhEEaxwJLChOZ0oacqkfoxSJLdgytBsTw__t_MTdQXhMIqFv_qRrkIF0RnzZMKhjvivdtVhjN98fh96d4EWk_TvJstnZ-nsz5X7lKcjXIEcvwKeMLUdS-bfCZm4AcXI7A1FDl3qHhdQQW_4DcsBqB5QCMfz9QgiW2aHQ8wa13JISGLEkQcW3NuQkSymxYw-x5o4Lna-_X2F5JunsswS74ty-nQATuqITuojHQzuCZ0YJIZAmkTczu88HT3e8PY9R75w?type=png)](https://mermaid.live/edit#pako:eNplkEFqwzAQRa9iZu1A46RZaBFIyDbZtLsqhEEaxwJLChOZ0oacqkfoxSJLdgytBsTw__t_MTdQXhMIqFv_qRrkIF0RnzZMKhjvivdtVhjN98fh96d4EWk_TvJstnZ-nsz5X7lKcjXIEcvwKeMLUdS-bfCZm4AcXI7A1FDl3qHhdQQW_4DcsBqB5QCMfz9QgiW2aHQ8wa13JISGLEkQcW3NuQkSymxYw-x5o4Lna-_X2F5JunsswS74ty-nQATuqITuojHQzuCZ0YJIZAmkTczu88HT3e8PY9R75w)\n",
    "\n",
    "Árvores são tipicamente implementadas a partir da composição de nós.\n",
    "\n",
    "Veremos a seguir árvores binárias, onde cada nó tem até dois nós filhos.\n",
    "\n",
    "### Árvores binárias desbalanceadas"
   ],
   "metadata": {
    "collapsed": false
   }
  },
  {
   "cell_type": "code",
   "execution_count": 46,
   "outputs": [
    {
     "name": "stdout",
     "output_type": "stream",
     "text": [
      "Nó com valor 4 já existe na árvore\n",
      "\n",
      " ┌4─1─2─3\n",
      "5┤\n",
      " │   ┌8─7\n",
      " └6─9┤\n",
      "     └10─12─11\n"
     ]
    },
    {
     "data": {
      "text/plain": "<__main__.ImprimeArvoreDesbalanceada at 0x7f7dab95e560>"
     },
     "execution_count": 46,
     "metadata": {},
     "output_type": "execute_result"
    }
   ],
   "source": [
    "class ElementoArvoreBinaria: # nó\n",
    "    def __init__(self, valor, pai=None, filho_esquerdo=None, filho_direito=None):\n",
    "        self.valor = valor\n",
    "        self.pai = pai\n",
    "        self.filho_esquerdo = filho_esquerdo\n",
    "        self.filho_direito = filho_direito\n",
    "\n",
    "class ArvoreBinariaDesbalanceada:\n",
    "    def __init__(self, raiz: ElementoArvoreBinaria = None):\n",
    "        self.raiz = raiz\n",
    "\n",
    "    # Nomes não iniciados com underline são públicos\n",
    "    # Objetivo é ser chamado tanto por objetos de mesma classe ou por de outras classes\n",
    "    def insere_valor(self, valor):\n",
    "        # Cria nó raiz caso não exista\n",
    "        if self.raiz is None:\n",
    "            self.raiz = ElementoArvoreBinaria(valor)\n",
    "        # Ou procura uma posição livre para adicionar o valor\n",
    "        else:\n",
    "            self._insere_valor_recursivo(self.raiz, valor)\n",
    "\n",
    "    # Nomes de variáveis e métodos iniciados com underline são \"escondidos\"/privados\n",
    "    # Objetivo é só ser chamado pelos objetos da mesma classe\n",
    "    def _insere_valor_recursivo(self, no_atual: ElementoArvoreBinaria, valor):\n",
    "        # Sempre inserimos os valores na ordem crescente\n",
    "        # Significa que se o valor for menor que o nó atual,\n",
    "        #  tentaremos colocar o valor no seu filho esquerdo\n",
    "        if valor < no_atual.valor:\n",
    "            # Se o filho esquerdo ainda não existe, cria ele com o valor e termina\n",
    "            if no_atual.filho_esquerdo is None:\n",
    "                no_atual.filho_esquerdo = ElementoArvoreBinaria(valor, pai=no_atual)\n",
    "            else:\n",
    "                # Se o filho esquerdo existe, continua recursivamente\n",
    "                self._insere_valor_recursivo(no_atual.filho_esquerdo, valor)\n",
    "        # Se o valor for maior que o nó atual,\n",
    "        # devemos olhar no filho esquerdo do nó atual\n",
    "        elif valor > no_atual.valor:\n",
    "            # Se o filho direito ainda não existe, cria ele com o valor e termina\n",
    "            if no_atual.filho_direito is None:\n",
    "                no_atual.filho_direito = ElementoArvoreBinaria(valor, pai=no_atual)\n",
    "            else:\n",
    "                # Se o filho esquerdo existe, continua recursivamente\n",
    "                self._insere_valor_recursivo(no_atual.filho_direito, valor)\n",
    "        else:\n",
    "            print(f\"Nó com valor {valor} já existe na árvore\")\n",
    "\n",
    "# Biblioteca externa que permite imprimir as árvores\n",
    "from print_tree import print_tree\n",
    "\n",
    "class ImprimeArvoreDesbalanceada(print_tree):\n",
    "    # Métodos necessários para imprimir a árvore print_tree\n",
    "    def get_children(self, node):\n",
    "        if type(node) == ArvoreBinariaDesbalanceada:\n",
    "            node = node.raiz\n",
    "        filhos = []\n",
    "        # Pega filhos apenas se não forem nulos\n",
    "        for filho in [node.filho_esquerdo, node.filho_direito]:\n",
    "            if filho:\n",
    "                filhos.append(filho)\n",
    "        return filhos\n",
    "    def get_node_str(self, node):\n",
    "        if type(node) == ArvoreBinariaDesbalanceada:\n",
    "            node = node.raiz\n",
    "        return str(node.valor)\n",
    "\n",
    "arvore = ArvoreBinariaDesbalanceada()\n",
    "arvore.insere_valor(5)\n",
    "arvore.insere_valor(4)\n",
    "arvore.insere_valor(4)\n",
    "arvore.insere_valor(6)\n",
    "arvore.insere_valor(1)\n",
    "arvore.insere_valor(2)\n",
    "arvore.insere_valor(3)\n",
    "arvore.insere_valor(9)\n",
    "arvore.insere_valor(8)\n",
    "arvore.insere_valor(7)\n",
    "arvore.insere_valor(10)\n",
    "arvore.insere_valor(12)\n",
    "arvore.insere_valor(11)\n",
    "\n",
    "ImprimeArvoreDesbalanceada(arvore)"
   ],
   "metadata": {
    "collapsed": false
   }
  },
  {
   "cell_type": "markdown",
   "source": [
    "Como se pode observar, apesar de termos uma política bem definida, a ordem em que os elementos são adicionados causam o desbalanceamento da árvore.\n",
    "\n",
    "Isto é ruim, visto que o aumento da profundidade da árvore aumenta o número médio de saltos até se alcançar algum dos valores.\n",
    "\n",
    "No caso de uma árvore utilizada para busca binária, a sua complexidade log(n) seria comprometida.\n",
    "\n",
    "Resolvemos isto utilizando árvores balanceadas.\n",
    "\n",
    "Para balancearmos uma árvore, precisamos duas operações de rotação: rotação para esquerda e para direita.\n",
    "\n",
    "### Operações de rotações em árvores\n",
    "\n",
    "As rotações são operações onde um nó pai é trocado por um dos seus nós filhos, e passa a ser um filho deste. Se o nó filho vem da sua direita, é uma rotação para direita. Se o nó filho vem da sua esquerda, é uma rotação para direita."
   ],
   "metadata": {
    "collapsed": false
   }
  },
  {
   "cell_type": "code",
   "execution_count": 47,
   "outputs": [],
   "source": [
    "def rotaciona_para_esquerda(arvore, no_atual):\n",
    "    # O procedimento de rotação para esquerda transforma isto\n",
    "    #\n",
    "    #              no_atual\n",
    "    #              /     \\\n",
    "    #        filho_esq  filho_dir (temp)\n",
    "    #                    /     \\\n",
    "    #              filho_esq  filho_dir\n",
    "    #\n",
    "    # Nisto\n",
    "    #               filho_dir (temp)\n",
    "    #                    /     \\\n",
    "    #              no_atual  filho_dir\n",
    "    #              /    \\\n",
    "    #       filho_esq  filho_esq de temp\n",
    "    #\n",
    "\n",
    "    # Início\n",
    "    #\n",
    "    #              no_atual\n",
    "    #              /     \\\n",
    "    #        filho_esq  filho_dir (temp)\n",
    "    #                    /     \\\n",
    "    #              filho_esq  filho_dir\n",
    "    temp = no_atual.filho_direito\n",
    "    # caso não tenha o filho direito, não há o que fazer\n",
    "    #\n",
    "    #              no_atual\n",
    "    #              /     \\                    \\\n",
    "    #        filho_esq  filho_esq de temp     filho_dir (temp)\n",
    "    #                                          /     \\\n",
    "    #                                                filho_dir\n",
    "    no_atual.filho_direito = temp.filho_esquerdo\n",
    "    if temp.filho_esquerdo:\n",
    "        temp.filho_esquerdo.pai = no_atual\n",
    "    #                       pai do no_atual (pode não existir)\n",
    "    #                    /                 \\\n",
    "    #                   /                   \\\n",
    "    #              no_atual                   \\\n",
    "    #              /     \\                    \\\n",
    "    #        filho_esq  filho_esq de temp     filho_dir (temp)\n",
    "    #                                               \\\n",
    "    #                                                filho_dir\n",
    "    temp.pai = no_atual.pai\n",
    "    if no_atual.pai is None:\n",
    "        # Se o pai do nó atual for a raiz, temp vira a raiz\n",
    "        #                       filho_dir (temp)\n",
    "        #                    /                 \\\n",
    "        #                   /                   \\\n",
    "        #              no_atual                  filho_dir\n",
    "        #              /     \\\n",
    "        #        filho_esq  filho_esq de temp\n",
    "        arvore.raiz = temp\n",
    "    elif no_atual == no_atual.pai.filho_esquerdo:\n",
    "        #                                             pai do no_atual\n",
    "        #                    /                       /\n",
    "        #                   /                   filho_dir (temp)\n",
    "        #              no_atual                       \\\n",
    "        #              /     \\                      filho_dir\n",
    "        #        filho_esq  filho_esq de temp\n",
    "        no_atual.pai.filho_esquerdo = temp\n",
    "    else:\n",
    "        #                     pai do no_atual\n",
    "        #                    /              \\\n",
    "        #                   /                filho_dir (temp)\n",
    "        #              no_atual                  \\\n",
    "        #              /     \\                filho_dir\n",
    "        #        filho_esq  filho_esq de temp\n",
    "        no_atual.pai.filho_direito = temp\n",
    "    #               filho_dir (temp)\n",
    "    #                    /     \\\n",
    "    #              no_atual  filho_dir\n",
    "    #              /    \\\n",
    "    #       filho_esq  filho_esq de temp\n",
    "    temp.filho_esquerdo = no_atual\n",
    "    no_atual.pai = temp\n",
    "\n",
    "def rotaciona_para_direita(arvore, no_atual):\n",
    "    # Nesse não haverão comentários, mas é o\n",
    "    # procedimento reverso ao da rotação para esquerda\n",
    "    temp = no_atual.filho_esquerdo\n",
    "    no_atual.filho_esquerdo = temp.filho_direito\n",
    "    if temp.filho_direito:\n",
    "        temp.filho_direito.pai = no_atual\n",
    "    temp.pai = no_atual.pai\n",
    "    if no_atual.pai is None:\n",
    "        arvore.raiz = temp\n",
    "    elif no_atual == no_atual.pai.filho_direito:\n",
    "        no_atual.pai.filho_direito = temp\n",
    "    else:\n",
    "        no_atual.pai.filho_esquerdo = temp\n",
    "    temp.filho_direito = no_atual\n",
    "    no_atual.pai = temp"
   ],
   "metadata": {
    "collapsed": false
   }
  },
  {
   "cell_type": "markdown",
   "source": [
    "Observemos o comportamento da árvore quando aplicamos estas operações.\n",
    "\n",
    "Faremos uma rotação à esquerda de 2."
   ],
   "metadata": {
    "collapsed": false
   }
  },
  {
   "cell_type": "code",
   "execution_count": 48,
   "outputs": [
    {
     "name": "stdout",
     "output_type": "stream",
     "text": [
      "\n",
      " ┌4─1─2─3\n",
      "5┤\n",
      " │   ┌8─7\n",
      " └6─9┤\n",
      "     └10─12─11\n"
     ]
    },
    {
     "data": {
      "text/plain": "<__main__.ImprimeArvoreDesbalanceada at 0x7f7dab917a30>"
     },
     "execution_count": 48,
     "metadata": {},
     "output_type": "execute_result"
    }
   ],
   "source": [
    "ImprimeArvoreDesbalanceada(arvore)"
   ],
   "metadata": {
    "collapsed": false
   }
  },
  {
   "cell_type": "code",
   "execution_count": 49,
   "outputs": [
    {
     "name": "stdout",
     "output_type": "stream",
     "text": [
      "\n",
      " ┌4─1─3─2\n",
      "5┤\n",
      " │   ┌8─7\n",
      " └6─9┤\n",
      "     └10─12─11\n"
     ]
    },
    {
     "data": {
      "text/plain": "<__main__.ImprimeArvoreDesbalanceada at 0x7f7dab914460>"
     },
     "execution_count": 49,
     "metadata": {},
     "output_type": "execute_result"
    }
   ],
   "source": [
    "from copy import deepcopy\n",
    "copiaArvore = deepcopy(arvore)\n",
    "rotaciona_para_esquerda(copiaArvore, copiaArvore.raiz.filho_esquerdo.filho_esquerdo.filho_direito) # rotaciona 2 para esquerda\n",
    "ImprimeArvoreDesbalanceada(copiaArvore)"
   ],
   "metadata": {
    "collapsed": false
   }
  },
  {
   "cell_type": "markdown",
   "source": [
    "Como podemos ver, agora 3 está à direita de um, e 2 está à esquerda de 3. Podemos rotacionar agora o 1 para a esquerda."
   ],
   "metadata": {
    "collapsed": false
   }
  },
  {
   "cell_type": "code",
   "execution_count": 50,
   "outputs": [
    {
     "name": "stdout",
     "output_type": "stream",
     "text": [
      "\n",
      " ┌4─3─1─2\n",
      "5┤\n",
      " │   ┌8─7\n",
      " └6─9┤\n",
      "     └10─12─11\n"
     ]
    },
    {
     "data": {
      "text/plain": "<__main__.ImprimeArvoreDesbalanceada at 0x7f7dab9142b0>"
     },
     "execution_count": 50,
     "metadata": {},
     "output_type": "execute_result"
    }
   ],
   "source": [
    "copiaArvore2 = deepcopy(copiaArvore)\n",
    "rotaciona_para_esquerda(copiaArvore2, copiaArvore2.raiz.filho_esquerdo.filho_esquerdo) # rotaciona 1 para esquerda\n",
    "ImprimeArvoreDesbalanceada(copiaArvore2)"
   ],
   "metadata": {
    "collapsed": false
   }
  },
  {
   "cell_type": "markdown",
   "source": [
    "Podemos rotacionar o 9 para a esquerda."
   ],
   "metadata": {
    "collapsed": false
   }
  },
  {
   "cell_type": "code",
   "execution_count": 51,
   "outputs": [
    {
     "name": "stdout",
     "output_type": "stream",
     "text": [
      "\n",
      " ┌4─3─1─2\n",
      "5┤\n",
      " │    ┌9─8─7\n",
      " └6─10┤\n",
      "      └12─11\n"
     ]
    },
    {
     "data": {
      "text/plain": "<__main__.ImprimeArvoreDesbalanceada at 0x7f7dab95f400>"
     },
     "execution_count": 51,
     "metadata": {},
     "output_type": "execute_result"
    }
   ],
   "source": [
    "copiaArvore3 = deepcopy(copiaArvore2)\n",
    "rotaciona_para_esquerda(copiaArvore3, copiaArvore3.raiz.filho_direito.filho_direito) # rotaciona 2 para esquerda\n",
    "ImprimeArvoreDesbalanceada(copiaArvore3)"
   ],
   "metadata": {
    "collapsed": false
   }
  },
  {
   "cell_type": "code",
   "execution_count": 52,
   "outputs": [
    {
     "name": "stdout",
     "output_type": "stream",
     "text": [
      "\n",
      " ┌4─3─1─2\n",
      "5┤\n",
      " │       ┌9─8─7\n",
      " └6─12─10┤\n",
      "         └11\n"
     ]
    },
    {
     "data": {
      "text/plain": "<__main__.ImprimeArvoreDesbalanceada at 0x7f7dab95de10>"
     },
     "execution_count": 52,
     "metadata": {},
     "output_type": "execute_result"
    }
   ],
   "source": [
    "copiaArvore4 = deepcopy(copiaArvore3)\n",
    "rotaciona_para_esquerda(copiaArvore4, copiaArvore4.raiz.filho_direito.filho_direito) # rotaciona 10 para esquerda\n",
    "ImprimeArvoreDesbalanceada(copiaArvore4)"
   ],
   "metadata": {
    "collapsed": false
   }
  },
  {
   "cell_type": "code",
   "execution_count": 53,
   "outputs": [
    {
     "name": "stdout",
     "output_type": "stream",
     "text": [
      "\n",
      " ┌4─3─1─2\n",
      "5┤\n",
      " │    ┌9─8─7\n",
      " └6─10┤\n",
      "      └12─11\n"
     ]
    },
    {
     "data": {
      "text/plain": "<__main__.ImprimeArvoreDesbalanceada at 0x7f7dab95c3d0>"
     },
     "execution_count": 53,
     "metadata": {},
     "output_type": "execute_result"
    }
   ],
   "source": [
    "copiaArvore5 = deepcopy(copiaArvore4)\n",
    "rotaciona_para_direita(copiaArvore5, copiaArvore5.raiz.filho_direito.filho_direito) # rotaciona 12 para direita\n",
    "ImprimeArvoreDesbalanceada(copiaArvore5)"
   ],
   "metadata": {
    "collapsed": false
   }
  },
  {
   "cell_type": "markdown",
   "source": [
    "### Árvores binárias: balanceamento estático\n",
    "\n",
    "Um dos algoritmos que permitem o balanceamento com estas operações de rotações é o algoritmo de Day-Stout-Warren (DSW).\n",
    "\n",
    "O algoritmo é executado em dois passos.\n",
    "\n",
    "No primeiro, rotacionamos todos os nós que tiverem filhos esquerdos para a direita, formando um backbone (coluna).\n",
    "\n",
    "No segundo passo, rotacionamos para a esquerda M nós, sendo M = desbalanceamento/2, até que a árvore esteja balanceada.\n",
    "\n",
    "Em termos de código, temos:"
   ],
   "metadata": {
    "collapsed": false
   }
  },
  {
   "cell_type": "code",
   "execution_count": 54,
   "outputs": [
    {
     "name": "stdout",
     "output_type": "stream",
     "text": [
      "\n",
      " ┌4─1─2─3\n",
      "5┤\n",
      " │   ┌8─7\n",
      " └6─9┤\n",
      "     │     ┌11\n",
      "     └10─12┤\n",
      "           └14─15\n",
      "Altura árvore: 6\n",
      "Desbalanceamento: 2\n"
     ]
    }
   ],
   "source": [
    "def altura_arvore(no: ElementoArvoreBinaria, altura: int =0):\n",
    "    altura_esquerda = 0\n",
    "    altura_direita = 0\n",
    "    if no is None:\n",
    "        return max(0, altura-1)\n",
    "    if no.filho_esquerdo:\n",
    "        altura_esquerda = altura_arvore(no.filho_esquerdo, altura+1)\n",
    "    if no.filho_direito:\n",
    "        altura_direita = altura_arvore(no.filho_direito, altura+1)\n",
    "    return max(altura, altura_esquerda, altura_direita)\n",
    "\n",
    "copiaArvore6 = deepcopy(arvore)\n",
    "copiaArvore6.insere_valor(14)\n",
    "copiaArvore6.insere_valor(15)\n",
    "ImprimeArvoreDesbalanceada(copiaArvore6.raiz)\n",
    "print(\"Altura árvore:\", altura_arvore(copiaArvore6.raiz))\n",
    "print(\"Desbalanceamento:\", abs(altura_arvore(copiaArvore6.raiz.filho_esquerdo) - altura_arvore(copiaArvore6.raiz.filho_direito)))"
   ],
   "metadata": {
    "collapsed": false
   }
  },
  {
   "cell_type": "markdown",
   "source": [
    "Em posse da nossa árvore, executaremos o algoritmo DSW."
   ],
   "metadata": {
    "collapsed": false
   }
  },
  {
   "cell_type": "code",
   "execution_count": 55,
   "outputs": [
    {
     "name": "stdout",
     "output_type": "stream",
     "text": [
      "=======================ANTES====================\n",
      "\n",
      " ┌4─1─2─3\n",
      "5┤\n",
      " │   ┌8─7\n",
      " └6─9┤\n",
      "     │     ┌11\n",
      "     └10─12┤\n",
      "           └14─15\n",
      "================APÓS PRIMEIRO PASSO===============\n",
      "\n",
      "1─2─3─4─5─6─7─8─9─10─11─12─14─15\n",
      "===============DURANTE SEGUNDO PASSO==============\n",
      "\n",
      " ┌1\n",
      "2┤\n",
      " │ ┌3\n",
      " └4┤\n",
      "   │ ┌5\n",
      "   └6┤\n",
      "     │ ┌7\n",
      "     └8┤\n",
      "       │  ┌9\n",
      "       └10┤\n",
      "          │  ┌11\n",
      "          └12┤\n",
      "             └14─15\n",
      "\n",
      "   ┌1\n",
      " ┌2┤\n",
      " │ └3\n",
      "4┤\n",
      " │   ┌5\n",
      " │ ┌6┤\n",
      " │ │ └7\n",
      " └8┤\n",
      "   │  ┌9\n",
      "   └10┤\n",
      "      │  ┌11\n",
      "      └12┤\n",
      "         └14─15\n",
      "\n",
      "     ┌1\n",
      "   ┌2┤\n",
      "   │ └3\n",
      " ┌4┤\n",
      " │ │ ┌5\n",
      " │ └6┤\n",
      " │   └7\n",
      "8┤\n",
      " │  ┌9\n",
      " └10┤\n",
      "    │  ┌11\n",
      "    └12┤\n",
      "       └14─15\n",
      "================ÁRVORE BALANCEADA==================\n",
      "\n",
      "     ┌1\n",
      "   ┌2┤\n",
      "   │ └3\n",
      " ┌4┤\n",
      " │ │ ┌5\n",
      " │ └6┤\n",
      " │   └7\n",
      "8┤\n",
      " │  ┌9\n",
      " └10┤\n",
      "    │  ┌11\n",
      "    └12┤\n",
      "       └14─15\n"
     ]
    }
   ],
   "source": [
    "def balanceamento_estatico_dsw(arvore: ArvoreBinariaDesbalanceada):\n",
    "    print(\"=======================ANTES====================\")\n",
    "    ImprimeArvoreDesbalanceada(arvore.raiz)\n",
    "\n",
    "    # Primeiro passo, todo nó com filho a esquerda será rotacionado para a direita\n",
    "    def primeiro_passo_recursivo(no: ElementoArvoreBinaria):\n",
    "        while no.filho_esquerdo:\n",
    "            primeiro_passo_recursivo(no.filho_esquerdo)\n",
    "            rotaciona_para_direita(arvore, no)\n",
    "        if no.filho_direito:\n",
    "            primeiro_passo_recursivo(no.filho_direito)\n",
    "\n",
    "    print(\"================APÓS PRIMEIRO PASSO===============\")\n",
    "    primeiro_passo_recursivo(arvore.raiz)\n",
    "    ImprimeArvoreDesbalanceada(arvore.raiz)\n",
    "\n",
    "    print(\"===============DURANTE SEGUNDO PASSO==============\")\n",
    "    # No segundo passo, fazemos M rotações recursivas,\n",
    "    # partindo da raíz aos nós à direita\n",
    "    def rotacao_recursiva_esquerda(no_rotacionado, rotacoes):\n",
    "        if rotacoes > 0:\n",
    "            filho_direito = no_rotacionado.filho_direito\n",
    "            rotaciona_para_esquerda(arvore, no_rotacionado)\n",
    "            rotacao_recursiva_esquerda(filho_direito.filho_direito, rotacoes-1)\n",
    "\n",
    "    coluna = altura_arvore(arvore.raiz)-1\n",
    "    rotacoes = coluna//2\n",
    "    while rotacoes > 0:\n",
    "        rotacao_recursiva_esquerda(arvore.raiz,rotacoes)\n",
    "        coluna -= rotacoes + 1\n",
    "        rotacoes = coluna // 2\n",
    "        ImprimeArvoreDesbalanceada(arvore.raiz)\n",
    "\n",
    "    print(\"================ÁRVORE BALANCEADA==================\")\n",
    "    ImprimeArvoreDesbalanceada(arvore.raiz)\n",
    "\n",
    "copiaArvore7 = deepcopy(copiaArvore6)\n",
    "balanceamento_estatico_dsw(copiaArvore7)\n"
   ],
   "metadata": {
    "collapsed": false
   }
  },
  {
   "cell_type": "markdown",
   "source": [
    "Este balanceamento pode ser muito custoso se a árvore for modificada frequentemente.\n",
    "\n",
    "Neste caso, utilizamos árvores autobalanciáveis.\n",
    "\n",
    "### Árvores binárias autobalanciáveis: Red-Black tree\n",
    "\n",
    "Porém, nós precisaremos de mais um campo para fazer isto.\n",
    "\n",
    "Este campo indica uma cor, que alterna conforme necessário, indicando a necessidade de propagação de ajustes.\n",
    "\n",
    "Existe uma animação da operação desta árvore em: https://dichchankinh.com/~galles/visualization/RedBlack.html\n",
    "\n",
    "Este tipo de árvore é conhecida como RB-Tree, ou Red-Black tree.\n",
    "\n",
    "Flamenguistas reconhecerão as cores rubro-negras."
   ],
   "metadata": {
    "collapsed": false
   }
  },
  {
   "cell_type": "code",
   "execution_count": 56,
   "outputs": [],
   "source": [
    "class ElementoArvoreRubroNegra:  # nó\n",
    "    def __init__(self, valor, cor=False, pai=None, filho_esquerdo=None, filho_direito=None):\n",
    "        self.vermelho = cor # False=preta, True=vermelha\n",
    "        self.valor = valor\n",
    "        self.pai = pai\n",
    "        self.filho_esquerdo = filho_esquerdo\n",
    "        self.filho_direito = filho_direito\n",
    "\n",
    "class ArvoreBinariaBalanceada:\n",
    "    def __init__(self):\n",
    "        # nó auxiliar NULO\n",
    "        self.nulo = ElementoArvoreRubroNegra(0)\n",
    "        self.raiz = self.nulo\n",
    "\n",
    "    # Nomes não iniciados com underline são públicos\n",
    "    # Objetivo é ser chamado tanto por objetos de mesma classe ou por de outras classes\n",
    "    def insere_valor(self, valor, imprime_resultado=False, imprime_antes_rotacoes=False):\n",
    "        # Cria nó raiz caso não exista\n",
    "        if self.raiz == self.nulo:\n",
    "            self.raiz = ElementoArvoreRubroNegra(valor, filho_esquerdo=self.nulo, filho_direito=self.nulo)\n",
    "            no_inserido = self.raiz\n",
    "        # Ou procura uma posição livre para adicionar o valor\n",
    "        else:\n",
    "            no_inserido = self._insere_valor_recursivo(self.raiz, valor)\n",
    "\n",
    "        # Balanceamento rubro negro\n",
    "        if no_inserido:\n",
    "            if imprime_resultado:\n",
    "                if imprime_antes_rotacoes:\n",
    "                    print(\"Antes das rotações:\")\n",
    "                    ImprimeArvoreBalanceada(self)\n",
    "                    print(\"===================\")\n",
    "            self._balanceamento_rubro_negro(no_inserido)\n",
    "            if imprime_resultado:\n",
    "                if imprime_antes_rotacoes:\n",
    "                    print(\"Depois das rotações:\")\n",
    "                ImprimeArvoreBalanceada(self)\n",
    "                if imprime_antes_rotacoes:\n",
    "                    print(\"===================\")\n",
    "\n",
    "    def _balanceamento_rubro_negro(self, no_atual: ElementoArvoreRubroNegra):\n",
    "        while no_atual != self.raiz and no_atual.pai.vermelho:\n",
    "            if no_atual.pai == no_atual.pai.pai.filho_direito:\n",
    "                tio = no_atual.pai.pai.filho_esquerdo\n",
    "                if tio.vermelho:\n",
    "                    tio.vermelho = False\n",
    "                    no_atual.pai.vermelho = False\n",
    "                    no_atual.pai.pai.vermelho = True\n",
    "                    no_atual = no_atual.pai.pai\n",
    "                else:\n",
    "                    if no_atual == no_atual.pai.filho_esquerdo:\n",
    "                        no_atual = no_atual.pai\n",
    "                        rotaciona_para_direita(self, no_atual)\n",
    "                    no_atual.pai.vermelho = False\n",
    "                    no_atual.pai.pai.vermelho = True\n",
    "                    rotaciona_para_esquerda(self, no_atual.pai.pai)\n",
    "            else:\n",
    "                tio = no_atual.pai.pai.filho_direito\n",
    "\n",
    "                if tio.vermelho:\n",
    "                    tio.vermelho = False\n",
    "                    no_atual.pai.vermelho = False\n",
    "                    no_atual.pai.pai.vermelho = True\n",
    "                    no_atual = no_atual.pai.pai\n",
    "                else:\n",
    "                    if no_atual == no_atual.pai.filho_direito:\n",
    "                        no_atual = no_atual.pai\n",
    "                        rotaciona_para_esquerda(self, no_atual)\n",
    "                    no_atual.pai.vermelho = False\n",
    "                    no_atual.pai.pai.vermelho = True\n",
    "                    rotaciona_para_direita(self, no_atual.pai.pai)\n",
    "        self.raiz.vermelho = False\n",
    "\n",
    "\n",
    "    # Nomes de variáveis e métodos iniciados com underline são \"escondidos\"/privados\n",
    "    # Objetivo é só ser chamado pelos objetos da mesma classe\n",
    "    def _insere_valor_recursivo(self, no_atual: ElementoArvoreRubroNegra, valor):\n",
    "        # Sempre inserimos os valores na ordem crescente\n",
    "        # Significa que se o valor for menor que o nó atual,\n",
    "        #  tentaremos colocar o valor no seu filho esquerdo\n",
    "        if valor < no_atual.valor:\n",
    "            # Se o filho esquerdo ainda não existe, cria ele com o valor e termina\n",
    "            if no_atual.filho_esquerdo == self.nulo:\n",
    "                no_atual.filho_esquerdo = ElementoArvoreRubroNegra(valor, cor=True, pai=no_atual, filho_esquerdo=self.nulo, filho_direito=self.nulo)\n",
    "                return no_atual.filho_esquerdo\n",
    "            else:\n",
    "                # Se o filho esquerdo existe, continua recursivamente\n",
    "                return self._insere_valor_recursivo(no_atual.filho_esquerdo, valor)\n",
    "        # Se o valor for maior que o nó atual,\n",
    "        # devemos olhar no filho esquerdo do nó atual\n",
    "        elif valor > no_atual.valor:\n",
    "            # Se o filho direito ainda não existe, cria ele com o valor e termina\n",
    "            if no_atual.filho_direito == self.nulo:\n",
    "                no_atual.filho_direito = ElementoArvoreRubroNegra(valor, cor=True, pai=no_atual, filho_esquerdo=self.nulo, filho_direito=self.nulo)\n",
    "                return no_atual.filho_direito\n",
    "            else:\n",
    "                # Se o filho direito existe, continua recursivamente\n",
    "                return self._insere_valor_recursivo(no_atual.filho_direito, valor)\n",
    "        else:\n",
    "            print(f\"Nó com valor {valor} já existe na árvore\")\n",
    "            return None\n",
    "\n",
    "\n",
    "class ImprimeArvoreBalanceada(print_tree):\n",
    "    # Métodos necessários para imprimir a árvore print_tree\n",
    "    def get_children(self, node):\n",
    "        if type(node) == ArvoreBinariaBalanceada:\n",
    "            node = node.raiz\n",
    "        filhos = []\n",
    "        # Pega filhos apenas se não forem nulos\n",
    "        for filho in [node.filho_esquerdo, node.filho_direito]:\n",
    "            if filho:\n",
    "                filhos.append(filho)\n",
    "        return filhos\n",
    "    def get_node_str(self, node):\n",
    "        if type(node) == ArvoreBinariaBalanceada:\n",
    "            node = node.raiz\n",
    "        # Não imprima nada para o nó auxiliar NULO\n",
    "        if node.filho_esquerdo is None and node.filho_direito is None:\n",
    "            return \"\"\n",
    "        return f\"{node.valor}:{'RED' if node.vermelho else 'BLACK'} \""
   ],
   "metadata": {
    "collapsed": false
   }
  },
  {
   "cell_type": "markdown",
   "source": [
    "Agora podemos começar a adicionar valores nesta árvore"
   ],
   "metadata": {
    "collapsed": false
   }
  },
  {
   "cell_type": "code",
   "execution_count": 57,
   "outputs": [
    {
     "name": "stdout",
     "output_type": "stream",
     "text": [
      "\n",
      "        ┌\n",
      "5:BLACK ┤\n",
      "        └\n"
     ]
    }
   ],
   "source": [
    "arvore = ArvoreBinariaBalanceada()\n",
    "arvore.insere_valor(5, imprime_resultado=True)"
   ],
   "metadata": {
    "collapsed": false
   }
  },
  {
   "cell_type": "markdown",
   "source": [
    "Note que ela tem duas arestas conectando ao nó auxiliar NULO.\n",
    "\n",
    "Para não mostrá-lo, modificamos a impressão da árvore para deixar o seu lugar vazio."
   ],
   "metadata": {
    "collapsed": false
   }
  },
  {
   "cell_type": "code",
   "execution_count": 58,
   "outputs": [
    {
     "name": "stdout",
     "output_type": "stream",
     "text": [
      "\n",
      "               ┌\n",
      "        ┌4:RED ┤\n",
      "        │      └\n",
      "5:BLACK ┤\n",
      "        └\n",
      "Nó com valor 4 já existe na árvore\n"
     ]
    }
   ],
   "source": [
    "arvore.insere_valor(4, imprime_resultado=True)\n",
    "arvore.insere_valor(4)"
   ],
   "metadata": {
    "collapsed": false
   }
  },
  {
   "cell_type": "markdown",
   "source": [
    "Continuamos adicionando valores."
   ],
   "metadata": {
    "collapsed": false
   }
  },
  {
   "cell_type": "code",
   "execution_count": 59,
   "outputs": [
    {
     "name": "stdout",
     "output_type": "stream",
     "text": [
      "\n",
      "               ┌\n",
      "        ┌4:RED ┤\n",
      "        │      └\n",
      "5:BLACK ┤\n",
      "        │      ┌\n",
      "        └6:RED ┤\n",
      "               └\n"
     ]
    }
   ],
   "source": [
    "arvore.insere_valor(6, imprime_resultado=True)"
   ],
   "metadata": {
    "collapsed": false
   }
  },
  {
   "cell_type": "markdown",
   "source": [
    "Perfeitamente balanceada."
   ],
   "metadata": {
    "collapsed": false
   }
  },
  {
   "cell_type": "code",
   "execution_count": 60,
   "outputs": [
    {
     "name": "stdout",
     "output_type": "stream",
     "text": [
      "\n",
      "                        ┌\n",
      "                 ┌1:RED ┤\n",
      "                 │      └\n",
      "        ┌4:BLACK ┤\n",
      "        │        └\n",
      "5:BLACK ┤\n",
      "        │        ┌\n",
      "        └6:BLACK ┤\n",
      "                 └\n"
     ]
    }
   ],
   "source": [
    "arvore.insere_valor(1, imprime_resultado=True)"
   ],
   "metadata": {
    "collapsed": false
   }
  },
  {
   "cell_type": "markdown",
   "source": [
    "Aqui era o ponto de início do desbalanceamento. Porém, na red-black tree, o 2 é adicionado como filho direito do 1.\n",
    "Como o seu pai (1) também é vermelho, isto significa que ele tem um filho não nulo (2). Fazemos então a rotação para direita, trocando 2 com 1.\n",
    "\n",
    "Em seguida, verificamos que ambos continuam vermelhos e fazemos uma nova rotação com o pai (4), desta vez para esquerda.\n",
    "\n",
    "Chegando no resultado balanceado."
   ],
   "metadata": {
    "collapsed": false
   }
  },
  {
   "cell_type": "code",
   "execution_count": 61,
   "outputs": [
    {
     "name": "stdout",
     "output_type": "stream",
     "text": [
      "Antes das rotações:\n",
      "\n",
      "                        ┌\n",
      "                 ┌1:RED ┤\n",
      "                 │      │      ┌\n",
      "                 │      └2:RED ┤\n",
      "                 │             └\n",
      "        ┌4:BLACK ┤\n",
      "        │        └\n",
      "5:BLACK ┤\n",
      "        │        ┌\n",
      "        └6:BLACK ┤\n",
      "                 └\n",
      "===================\n",
      "Depois das rotações:\n",
      "\n",
      "                        ┌\n",
      "                 ┌1:RED ┤\n",
      "                 │      └\n",
      "        ┌2:BLACK ┤\n",
      "        │        │      ┌\n",
      "        │        └4:RED ┤\n",
      "        │               └\n",
      "5:BLACK ┤\n",
      "        │        ┌\n",
      "        └6:BLACK ┤\n",
      "                 └\n",
      "===================\n"
     ]
    }
   ],
   "source": [
    "arvore.insere_valor(2, imprime_resultado=True, imprime_antes_rotacoes=True)"
   ],
   "metadata": {
    "collapsed": false
   }
  },
  {
   "cell_type": "markdown",
   "source": [
    "Colocamos a seguir uma série de outros valores."
   ],
   "metadata": {
    "collapsed": false
   }
  },
  {
   "cell_type": "code",
   "execution_count": 62,
   "outputs": [
    {
     "name": "stdout",
     "output_type": "stream",
     "text": [
      "\n",
      "                          ┌\n",
      "                 ┌1:BLACK ┤\n",
      "                 │        └\n",
      "        ┌2:BLACK ┤\n",
      "        │        │               ┌\n",
      "        │        │        ┌3:RED ┤\n",
      "        │        │        │      └\n",
      "        │        └4:BLACK ┤\n",
      "        │                 └\n",
      "5:BLACK ┤\n",
      "        │                 ┌\n",
      "        │        ┌6:BLACK ┤\n",
      "        │        │        │      ┌\n",
      "        │        │        └7:RED ┤\n",
      "        │        │               └\n",
      "        └8:BLACK ┤\n",
      "                 │                ┌\n",
      "                 │       ┌9:BLACK ┤\n",
      "                 │       │        └\n",
      "                 └10:RED ┤\n",
      "                         │                 ┌\n",
      "                         │         ┌11:RED ┤\n",
      "                         │         │       └\n",
      "                         └12:BLACK ┤\n",
      "                                   └\n"
     ]
    }
   ],
   "source": [
    "arvore.insere_valor(3)\n",
    "arvore.insere_valor(9)\n",
    "arvore.insere_valor(8)\n",
    "arvore.insere_valor(7)\n",
    "arvore.insere_valor(10)\n",
    "arvore.insere_valor(12)\n",
    "arvore.insere_valor(11, imprime_resultado=True)"
   ],
   "metadata": {
    "collapsed": false
   }
  },
  {
   "cell_type": "markdown",
   "source": [
    "Bastante diferente da nossa árvore totalmente desbalanceada."
   ],
   "metadata": {
    "collapsed": false
   }
  },
  {
   "cell_type": "code",
   "execution_count": 63,
   "outputs": [
    {
     "name": "stdout",
     "output_type": "stream",
     "text": [
      "\n",
      " ┌4─3─1─2\n",
      "5┤\n",
      " │    ┌9─8─7\n",
      " └6─10┤\n",
      "      └12─11\n"
     ]
    },
    {
     "data": {
      "text/plain": "<__main__.ImprimeArvoreDesbalanceada at 0x7f7dab94eef0>"
     },
     "execution_count": 63,
     "metadata": {},
     "output_type": "execute_result"
    }
   ],
   "source": [
    "ImprimeArvoreDesbalanceada(copiaArvore5)"
   ],
   "metadata": {
    "collapsed": false
   }
  },
  {
   "cell_type": "markdown",
   "source": [
    "E como podemos serializar estas árvores, para permitir o armazenamento delas?\n",
    "\n",
    "Podemos representar de diversas maneiras. Em ordem, pré-ordem e pós-ordem (inorder, preorder e postorder)."
   ],
   "metadata": {
    "collapsed": false
   }
  },
  {
   "cell_type": "code",
   "execution_count": 64,
   "outputs": [
    {
     "name": "stdout",
     "output_type": "stream",
     "text": [
      "\n",
      "        ┌4\n",
      "     ┌10┤\n",
      "     │  └12\n",
      "  ┌15┤\n",
      "  │  │  ┌18\n",
      "  │  └22┤\n",
      "  │     └24\n",
      "25┤\n",
      "  │     ┌31\n",
      "  │  ┌35┤\n",
      "  │  │  └44\n",
      "  └50┤\n",
      "     │  ┌66\n",
      "     └70┤\n",
      "        └90\n"
     ]
    },
    {
     "data": {
      "text/plain": "<__main__.ImprimeArvoreDesbalanceada at 0x7f7dab906410>"
     },
     "execution_count": 64,
     "metadata": {},
     "output_type": "execute_result"
    }
   ],
   "source": [
    "# valores retirados da árvore em https://www.geeksforgeeks.org/tree-traversals-inorder-preorder-and-postorder/\n",
    "arvoreParaSerializar = ArvoreBinariaDesbalanceada()\n",
    "for valor in [25, 15, 50, 10, 22, 35, 70, 4, 12, 18, 24, 31, 44, 66, 90]:\n",
    "    arvoreParaSerializar.insere_valor(valor)\n",
    "\n",
    "ImprimeArvoreDesbalanceada(arvoreParaSerializar)"
   ],
   "metadata": {
    "collapsed": false
   }
  },
  {
   "cell_type": "markdown",
   "source": [
    "#### Serialização em ordem\n",
    "\n",
    "Nesta serialização, partimos recursivamente da raiz até o nó folha mais a esquerda, e dele voltamos imprimindo os elementos em ordem de valor alfa-numérico, como já ordenado pela árvore."
   ],
   "metadata": {
    "collapsed": false
   }
  },
  {
   "cell_type": "code",
   "execution_count": 65,
   "outputs": [
    {
     "name": "stdout",
     "output_type": "stream",
     "text": [
      "4 10 12 15 18 22 24 25 31 35 44 50 66 70 90 "
     ]
    }
   ],
   "source": [
    "def serializaEmOrdem(no):\n",
    "    if no.filho_esquerdo:\n",
    "        serializaEmOrdem(no.filho_esquerdo)\n",
    "    print(no.valor, end=\" \")\n",
    "    if no.filho_direito:\n",
    "        serializaEmOrdem(no.filho_direito)\n",
    "\n",
    "serializaEmOrdem(arvoreParaSerializar.raiz)"
   ],
   "metadata": {
    "collapsed": false
   }
  },
  {
   "cell_type": "markdown",
   "source": [
    "#### Serialização pré-ordem\n",
    "\n",
    "Já na serialização pré-ordem, temos a sequência de entradas para remontar a árvore atual.\n",
    "Recursivamente, varremos a árvore imprimindo os valores dos nós na ordem na qual aparecem."
   ],
   "metadata": {
    "collapsed": false
   }
  },
  {
   "cell_type": "code",
   "execution_count": 66,
   "outputs": [
    {
     "name": "stdout",
     "output_type": "stream",
     "text": [
      "25 15 10 4 12 22 18 24 50 35 31 44 70 66 90 "
     ]
    }
   ],
   "source": [
    "def serializaPreOrdem(no):\n",
    "    print(no.valor, end=\" \")\n",
    "    if no.filho_esquerdo:\n",
    "        serializaPreOrdem(no.filho_esquerdo)\n",
    "    if no.filho_direito:\n",
    "        serializaPreOrdem(no.filho_direito)\n",
    "\n",
    "serializaPreOrdem(arvoreParaSerializar.raiz)"
   ],
   "metadata": {
    "collapsed": false
   }
  },
  {
   "cell_type": "markdown",
   "source": [
    "#### Serialização pós-ordem\n",
    "\n",
    "Já na serialização pré-ordem, temos a sequência nós folhas, seguido dos seus nós pais. Como em notação polonesa reversa.\n",
    "Recursivamente, varremos a árvore imprimindo os valores das folhas antes dos nós pais."
   ],
   "metadata": {
    "collapsed": false
   }
  },
  {
   "cell_type": "code",
   "execution_count": 67,
   "outputs": [
    {
     "name": "stdout",
     "output_type": "stream",
     "text": [
      "4 12 10 18 24 22 15 31 44 35 66 90 70 50 25 "
     ]
    }
   ],
   "source": [
    "def serializaPosOrdem(no):\n",
    "    if no.filho_esquerdo:\n",
    "        serializaPosOrdem(no.filho_esquerdo)\n",
    "    if no.filho_direito:\n",
    "        serializaPosOrdem(no.filho_direito)\n",
    "    print(no.valor, end=\" \")\n",
    "\n",
    "serializaPosOrdem(arvoreParaSerializar.raiz)"
   ],
   "metadata": {
    "collapsed": false
   }
  },
  {
   "cell_type": "markdown",
   "source": [
    "Mas para que servem estas árvores?\n",
    "\n",
    "Para diversas aplicações. Bancos de dados hierárquicos, sistemas de arquivos, árvores de decisão, etc.\n",
    "\n",
    "Veremos algumas delas a seguir.\n",
    "\n",
    "### Aplicações com árvores\n",
    "\n",
    "#### Sistemas de arquivos\n",
    "\n",
    "Sistemas de arquivos são compostos por nós. Mais especificamente, por i-nodos.\n",
    "\n",
    "O que nós usuários percebemos como uma hierarquia de pastas e arquivos é, de fato, implementado como uma árvore em disco.\n",
    "\n",
    "Primeiro, vamos representar um conjunto de arquivos em forma de árvore. Utilizaremos este diretório como base.\n",
    "\n"
   ],
   "metadata": {
    "collapsed": false
   }
  },
  {
   "cell_type": "code",
   "execution_count": 68,
   "outputs": [
    {
     "name": "stdout",
     "output_type": "stream",
     "text": [
      "['000_testes_em_python.ipynb', '00_orientacao_a_objetos.ipynb', '01_introducao.ipynb', '02_analise_de_algoritmos', '02_analise_de_algoritmos.ipynb', '03_pilha_e_fila', '03_pilha_e_fila.ipynb', '04_lista_e_deque.ipynb', '05_recursao', '05_recursao.ipynb', '06_ordenacao.ipynb', '07_busca.ipynb', '08_arvores.ipynb', '09_grafos.ipynb', '09_grafos.py', 'requirements.txt', 'test.py', '02_analise_de_algoritmos/assymptotics.png', '02_analise_de_algoritmos/bigO_complexity_chart.png', '03_pilha_e_fila/c_stack_frame.png', '03_pilha_e_fila/python_stack_frame.png', '05_recursao/libpython3.png', '05_recursao/python3.png', '05_recursao/spack.png']\n"
     ]
    }
   ],
   "source": [
    "import os\n",
    "import glob\n",
    "caminhos_absolutos = glob.glob(os.getcwd()+ \"/**/*\", recursive=True)\n",
    "caminhos_relativos = list(map(lambda x: os.path.relpath(x, os.getcwd()), caminhos_absolutos))\n",
    "print(caminhos_relativos)"
   ],
   "metadata": {
    "collapsed": false
   }
  },
  {
   "cell_type": "markdown",
   "source": [
    "Agora criaremos uma árvore com estes valores. Para isto precisaremos de uma árvore desbalanceada e não binária."
   ],
   "metadata": {
    "collapsed": false
   }
  },
  {
   "cell_type": "code",
   "execution_count": 69,
   "outputs": [
    {
     "name": "stdout",
     "output_type": "stream",
     "text": [
      "\n",
      "  ┌000_testes_em_python.ipynb\n",
      "  ├00_orientacao_a_objetos.ipynb\n",
      "  ├01_introducao.ipynb\n",
      "  │                        ┌assymptotics.png\n",
      "  ├02_analise_de_algoritmos┤\n",
      "  │                        └bigO_complexity_chart.png\n",
      "  ├02_analise_de_algoritmos.ipynb\n",
      "  │               ┌c_stack_frame.png\n",
      "  ├03_pilha_e_fila┤\n",
      "  │               └python_stack_frame.png\n",
      "  ├03_pilha_e_fila.ipynb\n",
      "  ├04_lista_e_deque.ipynb\n",
      "  │           ┌libpython3.png\n",
      "./┼05_recursao┼python3.png\n",
      "  │           └spack.png\n",
      "  ├05_recursao.ipynb\n",
      "  ├06_ordenacao.ipynb\n",
      "  ├07_busca.ipynb\n",
      "  ├08_arvores.ipynb\n",
      "  ├09_grafos.ipynb\n",
      "  ├09_grafos.py\n",
      "  ├requirements.txt\n",
      "  └test.py\n"
     ]
    },
    {
     "data": {
      "text/plain": "<__main__.ImprimeArvoreArquivos at 0x7f7dab912a70>"
     },
     "execution_count": 69,
     "metadata": {},
     "output_type": "execute_result"
    }
   ],
   "source": [
    "class ElementoArvoreArquivos: # nó\n",
    "    def __init__(self, valor, pai=None):\n",
    "        self.valor = valor\n",
    "        self.pai = pai\n",
    "        self.filhos = []\n",
    "\n",
    "class ArvoreArquivos:\n",
    "    def __init__(self):\n",
    "        # Diretório de base (raíz) da árvore\n",
    "        self.raiz = ElementoArvoreArquivos(\"./\")\n",
    "\n",
    "    def insere_valor(self, valor):\n",
    "        self._insere_valor_recursivo(self.raiz, valor)\n",
    "\n",
    "    def _insere_valor_recursivo(self, no_atual: ElementoArvoreArquivos, valor):\n",
    "        # Assumindo um diretório raiz C:\\\\Usuários\\\\Gabriel,\n",
    "        # teremos caminhos relativos para este diretório, e cada chamada\n",
    "        # recursiva irá tirar a pasta mais distante do diretório raiz\n",
    "        #\n",
    "        # iteração 0        iteração 1                iteração 2         iteração 3\n",
    "        # Downloads       /Estruturas-de-dados-UnB\n",
    "        # Área de Trabalho/\n",
    "        # Imagens         /Japão                   /Matsue              /castelo.jpg\n",
    "        # Músicas         /Frank Klepacki          /Brain Freeze.mp3\n",
    "        # Vídeos          /\n",
    "        # Documentos      /ED2022_1                /prova_ficticia.pdf\n",
    "\n",
    "        posicao_primeira_barra = valor.find('/')\n",
    "        if posicao_primeira_barra >= 0:\n",
    "            caminho = valor[:posicao_primeira_barra]\n",
    "            subcaminho = valor[posicao_primeira_barra+1:]\n",
    "        else:\n",
    "            caminho = valor\n",
    "            subcaminho = None\n",
    "        # Busca por nó filho da raiz contendo pasta atual\n",
    "        no_caminho = list(filter(lambda x: x.valor == caminho, no_atual.filhos))\n",
    "        if no_caminho:\n",
    "            no_caminho = no_caminho[0]\n",
    "        else:\n",
    "            no_caminho = ElementoArvoreArquivos(caminho, pai=no_atual)\n",
    "            no_atual.filhos.append(no_caminho)\n",
    "\n",
    "        if subcaminho:\n",
    "            self._insere_valor_recursivo(no_caminho, subcaminho)\n",
    "\n",
    "# Biblioteca externa que permite imprimir as árvores\n",
    "from print_tree import print_tree\n",
    "\n",
    "class ImprimeArvoreArquivos(print_tree):\n",
    "    # Métodos necessários para imprimir a árvore print_tree\n",
    "    def get_children(self, node):\n",
    "        if type(node) == ArvoreArquivos:\n",
    "            node = node.raiz\n",
    "        return node.filhos\n",
    "    def get_node_str(self, node):\n",
    "        if type(node) == ArvoreArquivos:\n",
    "            node = node.raiz\n",
    "        return str(node.valor)\n",
    "\n",
    "# Cria árvore e adiciona caminhos\n",
    "arvoreSistemaArquivos = ArvoreArquivos()\n",
    "for caminho in caminhos_relativos:\n",
    "    arvoreSistemaArquivos.insere_valor(caminho)\n",
    "\n",
    "ImprimeArvoreArquivos(arvoreSistemaArquivos)"
   ],
   "metadata": {
    "collapsed": false
   }
  },
  {
   "cell_type": "markdown",
   "source": [
    "É basicamente este tipo de processamento que o Windows Explorer, Mac OS Finder, Linux Nautilus e outros exploradores de arquivos fazem para listar os arquivos de disco e mostrar graficamente.\n",
    "\n",
    "A implementação do sistema de arquivos com i-nodos é bem mais complexa, e será vista nas disciplinas de Organização de arquivos e Sistemas Operacionais. Se houver algum aventureiro querendo explorar a implementação, aqui vai o link para o código-fonte do Linux: https://github.com/torvalds/linux/blob/master/fs/inode.c\n",
    "\n",
    "#### Árvore de decisão\n",
    "\n",
    "Quem já ouviu falar de inteligência artificial, provavelmente já ouviu sobre árvores de decisão.\n",
    "\n",
    "Árvores de decisão utilizam algumas métricas, tipicamente desigualdade ou entropia, de contribuição de uma dada característica/feature para um determinado resultado/decisão.\n",
    "\n",
    "Na árvore de decisão, colocam-se as características/features que contribuem mais próximas da raiz, e as que contribuem menos são colocadas mais distantes da raiz.\n",
    "\n",
    "Vamos fazer isto utilizando um conjundo de dados do Scikit-Learn para dígitos manuscritos."
   ],
   "metadata": {
    "collapsed": false
   }
  },
  {
   "cell_type": "code",
   "execution_count": 70,
   "outputs": [
    {
     "data": {
      "text/plain": "<Figure size 720x216 with 4 Axes>",
      "image/png": "[encoded data removed]"
     },
     "metadata": {
      "needs_background": "light"
     },
     "output_type": "display_data"
    }
   ],
   "source": [
    "from sklearn.datasets import load_digits\n",
    "import matplotlib.pyplot as plt\n",
    "\n",
    "digits = load_digits()\n",
    "\n",
    "_, axes = plt.subplots(nrows=1, ncols=4, figsize=(10, 3))\n",
    "for ax, image, label in zip(axes, digits.images, digits.target):\n",
    "    ax.set_axis_off()\n",
    "    ax.imshow(image, cmap=plt.cm.gray_r, interpolation=\"nearest\")"
   ],
   "metadata": {
    "collapsed": false
   }
  },
  {
   "cell_type": "markdown",
   "source": [
    "Com estes dados em mãos, podemos fazer os cálculos de quais conjuntos de pixels e seus valores que mais contribuem para identificar os caracteres manuscritos. Com estes resultados, podemos montar a árvore de decisão e utilizá-la para classificar imagens de dígitos manuscritos inéditos com alguma acurácia.\n",
    "\n",
    "Façamos o seguinte. Transformemos a imagem de 8x8 pixels em vetores de 64 pixels.\n",
    "\n",
    "Depois façamos os cálculos da relevância dos pixels, assumindo que cada pixel é uma feature/propriedade dos dados, que contrubui para uma tomada de decisão (e.g. valor de referência do dígito, como informado por uma pessoa que os identificou quando da criação do conjunto de dados)."
   ],
   "metadata": {
    "collapsed": false
   }
  },
  {
   "cell_type": "code",
   "execution_count": 71,
   "outputs": [
    {
     "data": {
      "text/plain": "DecisionTreeClassifier()",
      "text/html": "<style>#sk-container-id-2 {color: black;background-color: white;}#sk-container-id-2 pre{padding: 0;}#sk-container-id-2 div.sk-toggleable {background-color: white;}#sk-container-id-2 label.sk-toggleable__label {cursor: pointer;display: block;width: 100%;margin-bottom: 0;padding: 0.3em;box-sizing: border-box;text-align: center;}#sk-container-id-2 label.sk-toggleable__label-arrow:before {content: \"▸\";float: left;margin-right: 0.25em;color: #696969;}#sk-container-id-2 label.sk-toggleable__label-arrow:hover:before {color: black;}#sk-container-id-2 div.sk-estimator:hover label.sk-toggleable__label-arrow:before {color: black;}#sk-container-id-2 div.sk-toggleable__content {max-height: 0;max-width: 0;overflow: hidden;text-align: left;background-color: #f0f8ff;}#sk-container-id-2 div.sk-toggleable__content pre {margin: 0.2em;color: black;border-radius: 0.25em;background-color: #f0f8ff;}#sk-container-id-2 input.sk-toggleable__control:checked~div.sk-toggleable__content {max-height: 200px;max-width: 100%;overflow: auto;}#sk-container-id-2 input.sk-toggleable__control:checked~label.sk-toggleable__label-arrow:before {content: \"▾\";}#sk-container-id-2 div.sk-estimator input.sk-toggleable__control:checked~label.sk-toggleable__label {background-color: #d4ebff;}#sk-container-id-2 div.sk-label input.sk-toggleable__control:checked~label.sk-toggleable__label {background-color: #d4ebff;}#sk-container-id-2 input.sk-hidden--visually {border: 0;clip: rect(1px 1px 1px 1px);clip: rect(1px, 1px, 1px, 1px);height: 1px;margin: -1px;overflow: hidden;padding: 0;position: absolute;width: 1px;}#sk-container-id-2 div.sk-estimator {font-family: monospace;background-color: #f0f8ff;border: 1px dotted black;border-radius: 0.25em;box-sizing: border-box;margin-bottom: 0.5em;}#sk-container-id-2 div.sk-estimator:hover {background-color: #d4ebff;}#sk-container-id-2 div.sk-parallel-item::after {content: \"\";width: 100%;border-bottom: 1px solid gray;flex-grow: 1;}#sk-container-id-2 div.sk-label:hover label.sk-toggleable__label {background-color: #d4ebff;}#sk-container-id-2 div.sk-serial::before {content: \"\";position: absolute;border-left: 1px solid gray;box-sizing: border-box;top: 0;bottom: 0;left: 50%;z-index: 0;}#sk-container-id-2 div.sk-serial {display: flex;flex-direction: column;align-items: center;background-color: white;padding-right: 0.2em;padding-left: 0.2em;position: relative;}#sk-container-id-2 div.sk-item {position: relative;z-index: 1;}#sk-container-id-2 div.sk-parallel {display: flex;align-items: stretch;justify-content: center;background-color: white;position: relative;}#sk-container-id-2 div.sk-item::before, #sk-container-id-2 div.sk-parallel-item::before {content: \"\";position: absolute;border-left: 1px solid gray;box-sizing: border-box;top: 0;bottom: 0;left: 50%;z-index: -1;}#sk-container-id-2 div.sk-parallel-item {display: flex;flex-direction: column;z-index: 1;position: relative;background-color: white;}#sk-container-id-2 div.sk-parallel-item:first-child::after {align-self: flex-end;width: 50%;}#sk-container-id-2 div.sk-parallel-item:last-child::after {align-self: flex-start;width: 50%;}#sk-container-id-2 div.sk-parallel-item:only-child::after {width: 0;}#sk-container-id-2 div.sk-dashed-wrapped {border: 1px dashed gray;margin: 0 0.4em 0.5em 0.4em;box-sizing: border-box;padding-bottom: 0.4em;background-color: white;}#sk-container-id-2 div.sk-label label {font-family: monospace;font-weight: bold;display: inline-block;line-height: 1.2em;}#sk-container-id-2 div.sk-label-container {text-align: center;}#sk-container-id-2 div.sk-container {/* jupyter's `normalize.less` sets `[hidden] { display: none; }` but bootstrap.min.css set `[hidden] { display: none !important; }` so we also need the `!important` here to be able to override the default hidden behavior on the sphinx rendered scikit-learn.org. See: https://github.com/scikit-learn/scikit-learn/issues/21755 */display: inline-block !important;position: relative;}#sk-container-id-2 div.sk-text-repr-fallback {display: none;}</style><div id=\"sk-container-id-2\" class=\"sk-top-container\"><div class=\"sk-text-repr-fallback\"><pre>DecisionTreeClassifier()</pre><b>In a Jupyter environment, please rerun this cell to show the HTML representation or trust the notebook. <br />On GitHub, the HTML representation is unable to render, please try loading this page with nbviewer.org.</b></div><div class=\"sk-container\" hidden><div class=\"sk-item\"><div class=\"sk-estimator sk-toggleable\"><input class=\"sk-toggleable__control sk-hidden--visually\" id=\"sk-estimator-id-2\" type=\"checkbox\" checked><label for=\"sk-estimator-id-2\" class=\"sk-toggleable__label sk-toggleable__label-arrow\">DecisionTreeClassifier</label><div class=\"sk-toggleable__content\"><pre>DecisionTreeClassifier()</pre></div></div></div></div></div>"
     },
     "execution_count": 71,
     "metadata": {},
     "output_type": "execute_result"
    }
   ],
   "source": [
    "# Transforma imagem 8x8 em vetor com 64 posições\n",
    "def image_to_vec(image):\n",
    "    vec = []\n",
    "    for line in range(8):\n",
    "        vec.extend(image[line])\n",
    "    return vec\n",
    "\n",
    "vetores = []\n",
    "for image in digits.images[:100]:\n",
    "    vetores.append(image_to_vec(image))\n",
    "\n",
    "from sklearn.tree import DecisionTreeClassifier, plot_tree\n",
    "\n",
    "# Calcula a árvore de decisão\n",
    "tree = DecisionTreeClassifier()\n",
    "tree.fit(vetores, digits.target[:100])"
   ],
   "metadata": {
    "collapsed": false
   }
  },
  {
   "cell_type": "markdown",
   "source": [
    "Agora vamos imprimir a árvore"
   ],
   "metadata": {
    "collapsed": false
   }
  },
  {
   "cell_type": "code",
   "execution_count": 72,
   "outputs": [
    {
     "data": {
      "text/plain": "<Figure size 1296x720 with 1 Axes>",
      "image/png": "[encoded data removed]"
     },
     "metadata": {
      "needs_background": "light"
     },
     "output_type": "display_data"
    }
   ],
   "source": [
    "_, axes = plt.subplots(nrows=1, ncols=1, figsize=(18, 10))\n",
    "\n",
    "_ = plot_tree(tree, ax=axes, fontsize=5)"
   ],
   "metadata": {
    "collapsed": false
   }
  },
  {
   "cell_type": "markdown",
   "source": [
    "A partir desta árvore, podemos tentar identificar outros caracteres inéditos."
   ],
   "metadata": {
    "collapsed": false
   }
  },
  {
   "cell_type": "code",
   "execution_count": 73,
   "outputs": [
    {
     "data": {
      "text/plain": "<Figure size 1008x720 with 6 Axes>",
      "image/png": "[encoded data removed]"
     },
     "metadata": {
      "needs_background": "light"
     },
     "output_type": "display_data"
    }
   ],
   "source": [
    "# Mostra 6 predições feitas a partir da árvore\n",
    "_, axes = plt.subplots(nrows=1, ncols=6, figsize=(14, 10))\n",
    "for ax, image, label in zip(axes, digits.images[101:107], digits.target[101:107]):\n",
    "    ax.set_axis_off()\n",
    "    ax.imshow(image, cmap=plt.cm.gray_r, interpolation=\"nearest\")\n",
    "    ax.set_title(f\"Predito {tree.predict([image_to_vec(image)])}, Real {label}\")"
   ],
   "metadata": {
    "collapsed": false
   }
  },
  {
   "cell_type": "markdown",
   "source": [
    "Bem bacana.\n",
    "\n",
    "Outra aplicação que usa estrutura de árvores é o padrão HTML, utilizado para montar sites.\n",
    "\n",
    "#### HTML: o esqueleto das aplicações Web e documentos XML\n",
    "\n",
    "Quem nunca viu o código fonte de um site não deve saber do que se trata e como se organiza.\n",
    "\n",
    "Antes de mais nada, vamos capturar o código fonte de um site."
   ],
   "metadata": {
    "collapsed": false
   }
  },
  {
   "cell_type": "code",
   "execution_count": 74,
   "outputs": [
    {
     "name": "stdout",
     "output_type": "stream",
     "text": [
      "<!DOCTYPE html>\n",
      "<html xmlns=\"http://www.w3.org/1999/xhtml\" xml:lang=\"en\" lang=\"en\">\n",
      "<head>\n",
      "<meta http-equiv=\"content-type\" content=\"text/html; charset=utf-8\" />\n",
      "<link rel=\"author\" href=\"mailto:webmasters@gnu.org\" />\n",
      "<link rel=\"icon\" type=\"image/png\" href=\"/graphics/gnu-head-mini.png\" />\n",
      "<meta name=\"ICBM\" content=\"42.355469,-71.058627\" />\n",
      "<link rel=\"stylesheet\" type=\"text/css\" href=\"/mini.css\" media=\"handheld\" />\n",
      "<link rel=\"stylesheet\" type=\"text/css\" href=\"/layout.min.css\" media=\"screen\" />\n",
      "<lin\n"
     ]
    }
   ],
   "source": [
    "import requests\n",
    "\n",
    "dados = requests.get(\"https://gnu.org\")\n",
    "print(dados.text[:500])"
   ],
   "metadata": {
    "collapsed": false
   }
  },
  {
   "cell_type": "markdown",
   "source": [
    "Voilà, temos o conteúdo do site em forma textual. Assim como baixado pelo navegador quando acessamos o mesmo site.\n",
    "\n",
    "Note que o site é composto por blocos iniciados por `<tipo_bloco> </tipo_bloco>` ou `<tipo_bloco />`, enquanto `<!-- -->` são tratados como comentários.\n",
    "\n",
    "Estes blocos, assim como no exemplo do sistema de arquivos, formam uma estrutura em árvore, que remontaremos a seguir."
   ],
   "metadata": {
    "collapsed": false
   }
  },
  {
   "cell_type": "code",
   "execution_count": 75,
   "outputs": [
    {
     "name": "stdout",
     "output_type": "stream",
     "text": [
      "\n",
      "           ┌meta\n",
      "           ├link\n",
      "           ├link\n",
      "           ├meta\n",
      "           ├link\n",
      "           ├link\n",
      "           ├link\n",
      "           ├title\n",
      "           ├meta\n",
      "           ├meta\n",
      "           ├link\n",
      "           ├style\n",
      "           ├link\n",
      "           ├link\n",
      "           ├link\n",
      "      ┌head┼link\n",
      "      │    ├link\n",
      "      │    ├link\n",
      "      │    ├link\n",
      "      │    ├link\n",
      "      │    ├link\n",
      "      │    ├link\n",
      "      │    ├link\n",
      "      │    ├link\n",
      "      │    ├link\n",
      "      │    ├link\n",
      "      │    ├link\n",
      "      │    ├meta\n",
      "      │    ├link\n",
      "      │    ├style\n",
      "      │    └style\n",
      "/─html┤\n",
      "      │        ┌div─a─b\n",
      "      │        │       ┌img\n",
      "      │        │   ┌p─a┼img\n",
      "      │        │   │   └span\n",
      "      │        │   │   ┌p─a─span\n",
      "      │        ├div┼div┼div\n",
      "      │        │   │   └p─a─span\n",
      "      │        │   │       ┌div─span\n",
      "      │        │   └div─div┼span\n",
      "      │        │           └span\n",
      "      │        ├div\n",
      "      │        │       ┌img\n",
      "      │        │     ┌a┼strong\n",
      "      │        │     │ └span\n",
      "      │        │   ┌p┼br\n",
      "      │        │   │ └small─a\n",
      "      └body─div┼div┤\n",
      "               │   │   ┌div─a─img\n",
      "               │   └div┤\n",
      "               │       └div─a─img\n",
      "               ├div\n",
      "               │   ┌a─span\n",
      "               │   ├a─b\n",
      "               ├div┤\n",
      "               │   │  ┌li─a\n",
      "               │   │  ├li─a\n",
      "               │   │  ├li─a\n",
      "               │   │  ├li─a\n",
      "               │   │  ├li─a\n",
      "               │   │  ├li─a\n",
      "               │   │  ├li─a\n",
      "               │   │  ├li─a\n",
      "               │   ├ul┤\n",
      "               │   │  ├li─a\n",
      "               │   │  ├li─a\n",
      "               │   │  ├li─a\n",
      "               │   │  ├li─a\n",
      "               │   │  ├li─a\n",
      "               │   │  ├li─a\n",
      "               │   │  ├li─a\n",
      "               │   │  └li─a\n",
      "               │   └div\n",
      "               │   ┌p\n",
      "               │   │                 ┌source\n",
      "               │   │                 ├source\n",
      "               │   │                 ├source\n",
      "               │   │       ┌div─video┼track\n",
      "               │   │       │         ├track\n",
      "               │   │       │         ├track\n",
      "               │   │       │         └track\n",
      "               │   │       ├p─a\n",
      "               │   │       ├h2\n",
      "               │   │       ├p─a\n",
      "               │   │       │ ┌a\n",
      "               │   │       ├p┤\n",
      "               │   │       │ └a\n",
      "               │   │   ┌div┤\n",
      "               │   │   │   ├div─a\n",
      "               │   │   │   ├div\n",
      "               │   │   │   │       ┌a─img\n",
      "               │   │   │   │   ┌div┤\n",
      "               │   │   │   │   │   │       ┌a\n",
      "               │   │   │   │   │   └p─small┤\n",
      "               │   │   │   │   │           └a\n",
      "href=\"https://mate-desktop.org/\"\n",
      "               │   │   │   ├div┤\n",
      "               │   │   │   │   │       ┌a─img\n",
      "               │   │   │   │   │   ┌div┤\n",
      "               │   │   │   │   │   │   └p─small\n",
      "               │   │   │   │   │   │   ┌a─img\n",
      "               │   │   │   │   │   ├div┤\n",
      "               │   │   │   │   │   │   └p─small\n",
      "               │   │   │   │   │   │   ┌a─img\n",
      "               │   │   │   │   │   ├div┤\n",
      "               │   │   │   │   │   │   └p─small\n",
      "               │   │   │   │   └div┤\n",
      "               │   │   │   │       │   ┌a─img\n",
      "               │   │   │   │       ├div┤\n",
      "               │   │   │   │       │   └p─small\n",
      "               │   │   │   │       │   ┌a─img\n",
      "               │   │   │   │       ├div┤\n",
      "               │   │   │   │       │   └p─small\n",
      "               │   │   │   │       │   ┌a─img\n",
      "               │   │   │   │       └div┤\n",
      "               │   │   │   │           └p─small\n",
      "               │   │   │   ├div─a\n",
      "href=\"https://directory.fsf.org/wiki/Free_Software_Directory:Free_software_replacements\"\n",
      "               │   │   │   │                    ┌i\n",
      "               │   │   │   │   ┌div─blockquote─p┤\n",
      "               │   │   │   │   │                └br\n",
      "               │   │   │   │   ├div─p─strong─a\n",
      "               │   │   │   │   ├div─p─a\n",
      "               │   │   │   │   │     ┌strong─a\n",
      "               │   │   │   └div┼div─p┤\n",
      "               │   │   │       │     └strong─a\n",
      "               │   │   │       │      ┌a\n",
      "               │   │   │       │   ┌h3┤\n",
      "               │   │   │       │   │  └a─img\n",
      "               │   │   │       ├div┤\n",
      "               │   │   │       │   │       ┌span\n",
      "               │   │   │       │   │     ┌a┤\n",
      "               │   │   │       │   │     │ └span\n",
      "               │   │   │       │   │   ┌p┤\n",
      "               │   │   │       │   │   │ └span\n",
      "               │   │   │       │   │   │   ┌span\n",
      "               │   │   │       │   │   │ ┌a┤\n",
      "               │   │   │       │   │   │ │ └span\n",
      "               │   │   │       │   └div┼p┤\n",
      "               │   │   │       │       │ └span\n",
      "               │   │   │       │       │   ┌span\n",
      "               │   │   │       │       │ ┌a┤\n",
      "               │   │   │       │       │ │ └span\n",
      "               │   │   │       │       └p┤\n",
      "               │   │   │       │         └span\n",
      "               │   │   │       │   ┌h3\n",
      "               │   │   │       │   │  ┌li─strong─a\n",
      "               │   │   │       │   ├ul┤\n",
      "               │   │   │       │   │  │  ┌a\n",
      "href=\"https://my.fsf.org/give-students-userfreedom\"\n",
      "               │   │   │       │   │  └li┤\n",
      "               │   │   │       │   │     │  ┌li─a\n",
      "href=\"https://libreplanet.org/wiki/Group:Copilot_Watch_Group\"\n",
      "               │   │   │       │   │     └li┼li─a\n",
      "               │   │   │       │   │        └a\n",
      "               │   │   │       ├div┼p\n",
      "               │   │   │       │   │     ┌span\n",
      "               │   │   │       │   │     ├a\n",
      "               │   │   │       │   │     ├a\n",
      "               │   │   │       │   │     ├a\n",
      "               │   │   │       │   ├ul─li┼a\n",
      "               │   │   │       │   │     ├a\n",
      "               │   │   │       │   │     ├a\n",
      "               │   │   │       │   │     ├a\n",
      "               │   │   │       │   │     └span\n",
      "               │   │   │       │   └p\n",
      "               │   │   │       │   ┌p─strong─a\n",
      "               │   │   │       │   ├p─strong─a\n",
      "               │   │   │       └div┤\n",
      "               │   │   │           ├p\n",
      "               │   │   │           │   ┌h4─a\n",
      "               │   │   │           └div┤\n",
      "               │   │   │               └p─small─a\n",
      "               │   ├div┤\n",
      "               │   │   └div\n",
      "               │   ├div\n",
      "               │   │       ┌hr\n",
      "               │   │   ┌div┤\n",
      "               │   │   │   └a─b\n",
      "               └div┼div┤\n",
      "                   │   │   ┌div─a─span\n",
      "                   │   │   │   ┌span\n",
      "                   │   │   ├div┤\n",
      "                   │   │   │   └a─span\n",
      "                   │   └div┤\n",
      "                   │       ├p\n",
      "                   │       │     ┌span─a\n",
      "                   │       │     ├span─a\n",
      "                   │       │     ├span─a\n",
      "                   │       │     ├span─a\n",
      "                   │       │     ├span─a\n",
      "                   │       │     ├span─a\n",
      "                   │       │     ├span─a\n",
      "                   │       └div─p┤\n",
      "                   │             ├span─a\n",
      "                   │             ├span─a\n",
      "                   │             ├span─a\n",
      "                   │             ├span─a\n",
      "                   │             ├span─a\n",
      "                   │             ├span─a\n",
      "                   │             └span─a\n",
      "                   │       ┌hr\n",
      "                   │   ┌div┤\n",
      "                   │   │   └a─span\n",
      "                   │   ├div\n",
      "                   ├div┤\n",
      "                   │   │            ┌a─img\n",
      "                   │   ├blockquote─p┤\n",
      "                   │   │            └strong\n",
      "                   │   │   ┌a\n",
      "                   │   └div┼a\n",
      "                   │       └a\n",
      "                   │ ┌a\n",
      "                   ├p┼a\n",
      "                   │ └a\n",
      "href=\"https://www.fsfla.org/ikiwiki/\"\n",
      "                   │         ┌a\n",
      "                   │       ┌p┼a\n",
      "                   │       │ └a\n",
      "                   │       ├p\n",
      "                   │       │ ┌a\n",
      "                   │       ├p┤\n",
      "                   │       │ └a\n",
      "href=\"/server/standards/README.translations.html\"─a\n",
      "href=\"/server/standards/README.translations.html\"\n",
      "                   └div─div┤\n",
      "                           ├p─a\n",
      "                           │   ┌p─a\n",
      "                           ├div┤\n",
      "                           │   └div\n",
      "                           └p\n"
     ]
    },
    {
     "data": {
      "text/plain": "<__main__.ImprimeArvoreHTML at 0x7f7db8173670>"
     },
     "execution_count": 75,
     "metadata": {},
     "output_type": "execute_result"
    }
   ],
   "source": [
    "class ArvoreHTML:\n",
    "    def __init__(self):\n",
    "        # Diretório de base (raíz) da árvore\n",
    "        self.raiz = ElementoArvoreArquivos(\"/\")\n",
    "\n",
    "    def parse(self, corpo_html):\n",
    "        self._parse_recursivo(self.raiz, corpo_html)\n",
    "\n",
    "    # A cada recursão, partimos do início de um bloco até o seu fim\n",
    "    def _parse_recursivo(self, no_atual: ElementoArvoreArquivos, corpo_html):\n",
    "        while True:\n",
    "            # Procura pelo primeiro <\n",
    "            inicio_bloco = corpo_html.find('<')\n",
    "\n",
    "            # Caso não hajam mais blocos, interrompe execução\n",
    "            if inicio_bloco == -1 or corpo_html[inicio_bloco+1] == \"/\":\n",
    "                return corpo_html\n",
    "\n",
    "            # Checa se bloco é de comentário\n",
    "            if corpo_html[inicio_bloco+1] == \"!\":\n",
    "                if corpo_html[inicio_bloco+2:inicio_bloco+3] == \"--\":\n",
    "                    # Se for, remove tudo até o primeiro --> que aparecer\n",
    "                    final_bloco = corpo_html.find(\"-->\")\n",
    "                    corpo_html = corpo_html[final_bloco+1:]\n",
    "                else:\n",
    "                    # Se for um bloco de identificação do tipo de documento\n",
    "                    final_bloco = corpo_html.find(\">\")\n",
    "                    corpo_html = corpo_html[final_bloco+1:]\n",
    "                # Procura o próximo bloco\n",
    "                continue\n",
    "\n",
    "            # Se chegou aqui, existe um bloco válido. Criamos uma entrada para ele\n",
    "            # Em alguns casos o tipo de bloco será sucedido com espaço antes de ter propriedades e classes definidas\n",
    "            fim_tipo_bloco = corpo_html[inicio_bloco:].find(' ')\n",
    "            # Em outros, haverá apenas o término do bloco\n",
    "            fim_tipo_bloco_alternativo = corpo_html[inicio_bloco:].find('>')\n",
    "            # Procuramos a possiblidade mais curta e usamos ela\n",
    "            fim_tipo_bloco = min(fim_tipo_bloco, fim_tipo_bloco_alternativo)\n",
    "\n",
    "            # Extraímos o tipo do bloco\n",
    "            tipo_bloco = corpo_html[inicio_bloco+1:inicio_bloco+fim_tipo_bloco]\n",
    "            tipo_bloco = tipo_bloco.strip()\n",
    "\n",
    "            # Criamos seu nó\n",
    "            no_bloco = ElementoArvoreArquivos(tipo_bloco, pai=no_atual)\n",
    "            no_atual.filhos.append(no_bloco)\n",
    "\n",
    "            # Fim do bloco de abertura\n",
    "            fim_abertura_bloco = corpo_html.find(\">\")\n",
    "\n",
    "            # Final de bloco em linha, não tem recursão\n",
    "            if corpo_html[fim_abertura_bloco-1] == \"/\":\n",
    "                corpo_html = corpo_html[fim_abertura_bloco+1:]\n",
    "                continue\n",
    "\n",
    "            corpo_html = corpo_html[fim_abertura_bloco+1:]\n",
    "\n",
    "            # Só saberemos de fato o fim do bloco atual após\n",
    "            # processar os seus subelementos\n",
    "            corpo_html = self._parse_recursivo(no_bloco, corpo_html)\n",
    "\n",
    "            # Agora sim, podemos encontrar o bloco de terminação, que não seja em linha\n",
    "            fim_tipo_bloco = f\"</{tipo_bloco}>\"\n",
    "            fim_do_bloco = corpo_html.find(fim_tipo_bloco)\n",
    "            corpo_html = corpo_html[fim_do_bloco+len(fim_tipo_bloco):]\n",
    "\n",
    "class ImprimeArvoreHTML(print_tree):\n",
    "    # Métodos necessários para imprimir a árvore print_tree\n",
    "    def get_children(self, node):\n",
    "        if type(node) == ArvoreHTML:\n",
    "            node = node.raiz\n",
    "        return node.filhos\n",
    "    def get_node_str(self, node):\n",
    "        if type(node) == ArvoreHTML:\n",
    "            node = node.raiz\n",
    "        return str(node.valor)\n",
    "\n",
    "# Cria árvore e adiciona caminhos\n",
    "arvore_html = ArvoreHTML()\n",
    "arvore_html.parse(dados.text)\n",
    "\n",
    "ImprimeArvoreHTML(arvore_html)"
   ],
   "metadata": {
    "collapsed": false
   }
  },
  {
   "cell_type": "markdown",
   "source": [
    "Navegadores da internet utilizam o mesmo tipo de `parsing` para remontar a árvore do documento.\n",
    "\n",
    "O motor Blink, baseado no Webkit, e utilizado por navegadores baseados no Chromium implementa o parsing no seguinte arquivo: https://github.com/chromium/chromium/blob/main/third_party/blink/renderer/core/html/parser/html_document_parser.cc\n",
    "\n",
    "A montagem da árvore HTML é feita no seguinte arquivo: https://github.com/chromium/chromium/blob/main/third_party/blink/renderer/core/html/parser/html_tree_builder.cc"
   ],
   "metadata": {
    "collapsed": false
   }
  },
  {
   "cell_type": "markdown",
   "source": [
    "#### Compressão de arquivos\n",
    "\n",
    "A compressão de arquivos também pode utilizar árvores.\n",
    "\n",
    "A codificação de Huffman, por exemplo, se utiliza da frequência dos caracteres para montar uma lista ordenada por frequência.\n",
    "\n",
    "Em seguida, esta lista é transformada numa lista de nós de uma árvore binária.\n",
    "\n",
    "Os dois nós de menor frequência se tornam filhos de um novo nó pai, que agrega a frequência de ambos os filhos.\n",
    "\n",
    "Os nós filhos são removidos da lista ordenada, e o nó pai é inserido.\n",
    "\n",
    "Repete-se o processo de remoção de um par de nós e agregação deles, até que haja apenas um nó na lista, que será o nó raiz.\n",
    "\n",
    "Para mostrar isto, baixaremos o livro Romeu e Julieta, de William Shakespeare do site do projeto Gutenberg. https://www.gutenberg.org/ebooks/1513"
   ],
   "metadata": {
    "collapsed": false
   }
  },
  {
   "cell_type": "code",
   "execution_count": 76,
   "outputs": [
    {
     "name": "stdout",
     "output_type": "stream",
     "text": [
      "﻿The Project Gutenberg eBook of Romeo and Juliet, by William Shakespeare\r\n",
      "\r\n",
      "This eBook is for the us\n"
     ]
    }
   ],
   "source": [
    "import requests\n",
    "\n",
    "texto_do_livro = requests.get(\"https://www.gutenberg.org/ebooks/1513.txt.utf-8\").text\n",
    "print(texto_do_livro[:100])"
   ],
   "metadata": {
    "collapsed": false
   }
  },
  {
   "cell_type": "markdown",
   "source": [
    "Em seguida, checaremos a frequência dos caracteres no texto."
   ],
   "metadata": {
    "collapsed": false
   }
  },
  {
   "cell_type": "code",
   "execution_count": 77,
   "outputs": [],
   "source": [
    "frequencia_caracteres = {}\n",
    "for char in texto_do_livro:\n",
    "    if char not in frequencia_caracteres:\n",
    "        frequencia_caracteres[char] = 0\n",
    "    frequencia_caracteres[char] += 1\n",
    "\n",
    "frequencia_caracteres = list(sorted(frequencia_caracteres.items(), key=lambda x: x[1]))"
   ],
   "metadata": {
    "collapsed": false
   }
  },
  {
   "cell_type": "markdown",
   "source": [
    "Podemos plotar as frequências em histogramas, para termos idéia de quão frequente são os caracteres."
   ],
   "metadata": {
    "collapsed": false
   }
  },
  {
   "cell_type": "code",
   "execution_count": 78,
   "outputs": [
    {
     "name": "stderr",
     "output_type": "stream",
     "text": [
      ") missing from current font.es/IPython/core/pylabtools.py:151: UserWarning: Glyph 13 (\n",
      "  fig.canvas.print_figure(bytes_io, **kw)\n"
     ]
    },
    {
     "data": {
      "text/plain": "<Figure size 1800x360 with 1 Axes>",
      "image/png": "[encoded data removed]"
     },
     "metadata": {
      "needs_background": "light"
     },
     "output_type": "display_data"
    }
   ],
   "source": [
    "import matplotlib.pyplot as plt\n",
    "\n",
    "fig, axes = plt.subplots(figsize=(25,5))\n",
    "lista = []\n",
    "for x in frequencia_caracteres:\n",
    "    lista.extend(x[0]*x[1])\n",
    "plt.hist(lista, bins=[x[0] for x in frequencia_caracteres])\n",
    "plt.show()\n",
    "del x, fig, axes, lista"
   ],
   "metadata": {
    "collapsed": false
   }
  },
  {
   "cell_type": "markdown",
   "source": [
    "Com as frequências de aparição dos caracteres, podemos montar a nossa lista de nós ordenados por frequência."
   ],
   "metadata": {
    "collapsed": false
   }
  },
  {
   "cell_type": "code",
   "execution_count": 79,
   "outputs": [],
   "source": [
    "class ElementoArvoreBinaria: # nó\n",
    "    def __init__(self, valor, frequencia, pai=None, filho_esquerdo=None, filho_direito=None):\n",
    "        self.valor = valor\n",
    "        self.frequencia = frequencia\n",
    "        self.pai = pai\n",
    "        self.filho_esquerdo = filho_esquerdo\n",
    "        self.filho_direito = filho_direito\n",
    "\n",
    "# Transforma valores e frequencia dos caracteres em nós soltos\n",
    "lista_nos = []\n",
    "for (caractere, frequencia) in frequencia_caracteres:\n",
    "    lista_nos.append(ElementoArvoreBinaria(valor=caractere, frequencia=frequencia))\n",
    "del caractere, frequencia, frequencia_caracteres"
   ],
   "metadata": {
    "collapsed": false
   }
  },
  {
   "cell_type": "markdown",
   "source": [
    "Em seguida, removemos o par de nós com menor frequência, os agrupamos com um novo nó pai, que tem como frequência o somatório dos filhos. Após isto, readicionamos o nó pai na lista de nós."
   ],
   "metadata": {
    "collapsed": false
   }
  },
  {
   "cell_type": "code",
   "execution_count": 80,
   "outputs": [],
   "source": [
    "# Enquanto houverem nós soltos, agrupa-os até sobrar apenas uma raiz\n",
    "while len(lista_nos) > 1:\n",
    "    no_esquerda = lista_nos[0]\n",
    "    no_direita = lista_nos[1]\n",
    "    no_pai = ElementoArvoreBinaria(valor=None,\n",
    "                                   frequencia=no_esquerda.frequencia+no_direita.frequencia,\n",
    "                                   filho_esquerdo=no_esquerda,\n",
    "                                   filho_direito=no_direita)\n",
    "    no_esquerda.pai = no_pai\n",
    "    no_direita.pai = no_pai\n",
    "    lista_nos.pop(0)\n",
    "    lista_nos.pop(0)\n",
    "    lista_nos.append(no_pai)\n",
    "    lista_nos.sort(key=lambda x: x.frequencia)\n",
    "\n",
    "# Ao final, resta apenas a raiz\n",
    "raiz = lista_nos[0]\n",
    "del lista_nos"
   ],
   "metadata": {
    "collapsed": false
   }
  },
  {
   "cell_type": "markdown",
   "source": [
    "Podemos então visualizar a nossa árvore de compressão e descompressão."
   ],
   "metadata": {
    "collapsed": false
   }
  },
  {
   "cell_type": "code",
   "execution_count": 81,
   "outputs": [
    {
     "name": "stdout",
     "output_type": "stream",
     "text": [
      "\n",
      "                                                                            ┌'b':1653\n",
      "                                                                ┌'None':3337┤\n",
      "                                                                │           │                                 ┌'D':183\n",
      "                                                                │           │                      ┌'None':381┤\n",
      "                                                                │           │                      │          └'-':198\n",
      "                                                                │           │           ┌'None':817┤\n",
      "                                                                │           │           │          └'P':436\n",
      "                                                                │           └'None':1684┤\n",
      "                                                                │                       └'’':867\n",
      "                                                    ┌'None':7074┤\n",
      "                                                    │           │                       ┌'O':916\n",
      "                                                    │           │           ┌'None':1843┤\n",
      "                                                    │           │           │           │                     ┌'J':221\n",
      "                                                    │           │           │           │          ┌'None':463┤\n",
      "                                                    │           │           │           │          │          │                                         ┌'3':12\n",
      "                                                    │           │           │           │          │          │                               ┌'None':26┤\n",
      "                                                    │           │           │           │          │          │                               │         └'K':14\n",
      "                                                    │           │           │           │          │          │                     ┌'None':56┤\n",
      "                                                    │           │           │           │          │          │                     │         └'z':30\n",
      "                                                    │           │           │           │          │          │          ┌'None':116┤\n",
      "                                                    │           │           │           │          │          │          │          └'1':60\n",
      "                                                    │           │           │           │          │          └'None':242┤\n",
      "                                                    │           │           │           │          │                     └'[':126\n",
      "                                                    │           │           │           └'None':927┤\n",
      "                                                    │           │           │                      └'W':464\n",
      "                                                    │           └'None':3737┤\n",
      "                                                    │                       │           ┌'R':928\n",
      "                                                    │                       └'None':1894┤\n",
      "                                                    │                                   └'k':966\n",
      "                                       ┌'None':14154┤\n",
      "                                       │            └'h':7080\n",
      "                          ┌'None':30269┤\n",
      "                          │            │                        ┌'u':3765\n",
      "                          │            │            ┌'None':7806┤\n",
      "                          │            │            │           │           ┌'g':1992\n",
      "                          │            │            │           └'None':4041┤\n",
      "                          │            │            │                       │                      ┌'U':494\n",
      "                          │            │            │                       │           ┌'None':993┤\n",
      "                          │            │            │                       │           │          │          ┌'!':249\n",
      "                          │            │            │                       │           │          └'None':499┤\n",
      "                          │            │            │                       │           │                     └'_':250\n",
      "                          │            │            │                       └'None':2049┤\n",
      "                          │            │            │                                   │                                 ┌']':126\n",
      "                          │            │            │                                   │                      ┌'None':252┤\n",
      "                          │            │            │                                   │                      │          │                                        ┌'6':7\n",
      "                          │            │            │                                   │                      │          │                              ┌'None':14┤\n",
      "                          │            │            │                                   │                      │          │                              │         └''':7\n",
      "                          │            │            │                                   │                      │          │                    ┌'None':30┤\n",
      "                          │            │            │                                   │                      │          │                    │         └'*':16\n",
      "                          │            │            │                                   │                      │          │          ┌'None':61┤\n",
      "                          │            │            │                                   │                      │          │          │         └'‘':31\n",
      "                          │            │            │                                   │                      │          └'None':126┤\n",
      "                          │            │            │                                   │                      │                     └'—':65\n",
      "                          │            │            │                                   │           ┌'None':523┤\n",
      "                          │            │            │                                   │           │          └'H':271\n",
      "                          │            │            │                                   └'None':1056┤\n",
      "                          │            │            │                                               └'M':533\n",
      "                          │            └'None':16115┤\n",
      "                          │                         └'a':8309\n",
      "             ┌'None':67881┤\n",
      "             │            │                                                 ┌'f':2118\n",
      "             │            │                                     ┌'None':4279┤\n",
      "             │            │                                     │           │           ┌'A':1061\n",
      "             │            │                                     │           └'None':2161┤\n",
      "             │            │                                     │                       └'v':1100\n",
      "             │            │                         ┌'None':8595┤\n",
      "             │            │                         │           └'d':4316\n",
      "             │            │            ┌'None':17921┤\n",
      "             │            │            │            └'o':9326\n",
      "             │            └'None':37612┤\n",
      "             │                         │                                                            ┌'C':560\n",
      "             │                         │                                                ┌'None':1121┤\n",
      "             │                         │                                                │           └'N':561\n",
      "             │                         │                                    ┌'None':2267┤\n",
      "             │                         │                                    │           └'T':1146\n",
      "             │                         │                        ┌'None':4617┤\n",
      "             │                         │                        │           │                                             ┌'V':140\n",
      "             │                         │                        │           │                                  ┌'None':280┤\n",
      "             │                         │                        │           │                                  │          │                                        ┌'4':8\n",
      "             │                         │                        │           │                                  │          │                              ┌'None':16┤\n",
      "             │                         │                        │           │                                  │          │                              │         │        ┌'7':4\n",
      "             │                         │                        │           │                                  │          │                              │         └'None':8┤\n",
      "             │                         │                        │           │                                  │          │                              │                  │        ┌'&':2\n",
      "             │                         │                        │           │                                  │          │                              │                  └'None':4┤\n",
      "             │                         │                        │           │                                  │          │                              │                           └'X':2\n",
      "             │                         │                        │           │                                  │          │                    ┌'None':33┤\n",
      "             │                         │                        │           │                                  │          │                    │         └'0':17\n",
      "             │                         │                        │           │                                  │          │          ┌'None':67┤\n",
      "             │                         │                        │           │                                  │          │          │         │         ┌'(':17\n",
      "             │                         │                        │           │                                  │          │          │         └'None':34┤\n",
      "             │                         │                        │           │                                  │          │          │                   └')':17\n",
      "             │                         │                        │           │                                  │          └'None':140┤\n",
      "             │                         │                        │           │                                  │                     └'q':73\n",
      "             │                         │                        │           │                       ┌'None':577┤\n",
      "             │                         │                        │           │                       │          └'G':297\n",
      "             │                         │                        │           │           ┌'None':1172┤\n",
      "             │                         │                        │           │           │           └'L':595\n",
      "             │                         │                        │           └'None':2350┤\n",
      "             │                         │                        │                       └'E':1178\n",
      "             │                         │            ┌'None':9454┤\n",
      "             │                         │            │           │           ┌'c':2410\n",
      "             │                         │            │           └'None':4837┤\n",
      "             │                         │            │                       └'w':2427\n",
      "             │                         └'None':19691┤\n",
      "             │                                      └'t':10237\n",
      "'None':167331┤\n",
      "             │                                                   ┌'l':4935\n",
      "             │                                      ┌'None':10344┤\n",
      "             │                                      │            │                                   ┌'S':596\n",
      "             │                                      │            │                       ┌'None':1223┤\n",
      "             │                                      │            │                       │           │          ┌'F':310\n",
      "             │                                      │            │                       │           └'None':627┤\n",
      "             │                                      │            │                       │                      │          ┌'x':156\n",
      "             │                                      │            │                       │                      └'None':317┤\n",
      "             │                                      │            │                       │                                 └'j':161\n",
      "             │                                      │            │           ┌'None':2592┤\n",
      "             │                                      │            │           │           │                      ┌';':320\n",
      "             │                                      │            │           │           │           ┌'None':658┤\n",
      "             │                                      │            │           │           │           │          │                                                   ┌'9':9\n",
      "             │                                      │            │           │           │           │          │                                         ┌'None':18┤\n",
      "             │                                      │            │           │           │           │          │                                         │         │                 ┌'$':2\n",
      "             │                                      │            │           │           │           │          │                                         │         │        ┌'None':4┤\n",
      "             │                                      │            │           │           │           │          │                                         │         │        │        │        ┌'﻿':1\n",
      "             │                                      │            │           │           │           │          │                                         │         │        │        └'None':2┤\n",
      "             │                                      │            │           │           │           │          │                                         │         │        │                 └'#':1\n",
      "             │                                      │            │           │           │           │          │                                         │         └'None':9┤\n",
      "             │                                      │            │           │           │           │          │                                         │                  └'Z':5\n",
      "             │                                      │            │           │           │           │          │                               ┌'None':38┤\n",
      "             │                                      │            │           │           │           │          │                               │         │         ┌'8':10\n",
      "             │                                      │            │           │           │           │          │                               │         └'None':20┤\n",
      "             │                                      │            │           │           │           │          │                               │                   └'5':10\n",
      "             │                                      │            │           │           │           │          │                     ┌'None':81┤\n",
      "             │                                      │            │           │           │           │          │                     │         │                   ┌'2':10\n",
      "             │                                      │            │           │           │           │          │                     │         │         ┌'None':21┤\n",
      "             │                                      │            │           │           │           │          │                     │         │         │         │                           ┌'æ':1\n",
      "             │                                      │            │           │           │           │          │                     │         │         │         │                  ┌'None':2┤\n",
      "             │                                      │            │           │           │           │          │                     │         │         │         │                  │        └'%':1\n",
      "             │                                      │            │           │           │           │          │                     │         │         │         │         ┌'None':5┤\n",
      "             │                                      │            │           │           │           │          │                     │         │         │         │         │        └'Q':3\n",
      "             │                                      │            │           │           │           │          │                     │         │         │         └'None':11┤\n",
      "             │                                      │            │           │           │           │          │                     │         │         │                   └'/':6\n",
      "             │                                      │            │           │           │           │          │                     │         └'None':43┤\n",
      "             │                                      │            │           │           │           │          │                     │                   └'\"':22\n",
      "             │                                      │            │           │           │           │          │          ┌'None':163┤\n",
      "             │                                      │            │           │           │           │          │          │          └':':82\n",
      "             │                                      │            │           │           │           │          └'None':338┤\n",
      "             │                                      │            │           │           │           │                     └'Y':175\n",
      "             │                                      │            │           │           └'None':1369┤\n",
      "             │                                      │            │           │                       │          ┌'B':342\n",
      "             │                                      │            │           │                       └'None':711┤\n",
      "             │                                      │            │           │                                  └'?':369\n",
      "             │                                      │            └'None':5409┤\n",
      "             │                                      │                        └'y':2817\n",
      "             │                         ┌'None':21612┤\n",
      "':5634       │                         │            │            ┌'\n",
      "             │                         │            └'None':11268┤\n",
      "             │                         │                         └'\n",
      "':5634\n",
      "             │            ┌'None':46454┤\n",
      "             │            │            └' ':24842\n",
      "             └'None':99450┤\n",
      "                          │                                                  ┌'.':2820\n",
      "                          │                                      ┌'None':5670┤\n",
      "                          │                                      │           └',':2850\n",
      "                          │                         ┌'None':11865┤\n",
      "                          │                         │            │                       ┌'I':1374\n",
      "                          │                         │            │           ┌'None':2977┤\n",
      "                          │                         │            │           │           └'p':1603\n",
      "                          │                         │            └'None':6195┤\n",
      "                          │                         │                        └'m':3218\n",
      "                          │            ┌'None':25421┤\n",
      "                          │            │            │            ┌'i':6730\n",
      "                          │            │            └'None':13556┤\n",
      "                          │            │                         └'r':6826\n",
      "                          └'None':52996┤\n",
      "                                       │            ┌'e':13648\n",
      "                                       └'None':27575┤\n",
      "                                                    │            ┌'s':6861\n",
      "                                                    └'None':13927┤\n",
      "                                                                 └'n':7066\n"
     ]
    },
    {
     "data": {
      "text/plain": "<__main__.ImprimeArvoreFrequencias at 0x7f7dad87b640>"
     },
     "execution_count": 81,
     "metadata": {},
     "output_type": "execute_result"
    }
   ],
   "source": [
    "from print_tree import print_tree\n",
    "class ImprimeArvoreFrequencias(print_tree):\n",
    "    # Métodos necessários para imprimir a árvore print_tree\n",
    "    def get_children(self, node):\n",
    "        filhos = []\n",
    "        # Pega filhos apenas se não forem nulos\n",
    "        for filho in [node.filho_esquerdo, node.filho_direito]:\n",
    "            if filho:\n",
    "                filhos.append(filho)\n",
    "        return filhos\n",
    "    def get_node_str(self, node):\n",
    "        return f\"'{node.valor}':{node.frequencia}\"\n",
    "\n",
    "ImprimeArvoreFrequencias(raiz)"
   ],
   "metadata": {
    "collapsed": false
   }
  },
  {
   "cell_type": "markdown",
   "source": [
    "Finalmente, devemos navegar a árvore para gerar os códigos de Huffman.\n",
    "\n",
    "Faremos isto recursivamente. Quando navegarmos um filho esquerdo, adicionaremos um 0 ao final do código. Quando navegarmos para um filho direito, adicionaremos um 1 ao final do código."
   ],
   "metadata": {
    "collapsed": false
   }
  },
  {
   "cell_type": "code",
   "execution_count": 82,
   "outputs": [
    {
     "name": "stdout",
     "output_type": "stream",
     "text": [
      "Caractere b: código [0, 0, 0, 0, 0, 0]\n",
      "Caractere D: código [0, 0, 0, 0, 0, 1, 0, 0, 0]\n",
      "Caractere -: código [0, 0, 0, 0, 0, 1, 0, 0, 1]\n",
      "Caractere P: código [0, 0, 0, 0, 0, 1, 0, 1]\n",
      "Caractere ’: código [0, 0, 0, 0, 0, 1, 1]\n",
      "Caractere O: código [0, 0, 0, 0, 1, 0, 0]\n",
      "Caractere J: código [0, 0, 0, 0, 1, 0, 1, 0, 0]\n",
      "Caractere 3: código [0, 0, 0, 0, 1, 0, 1, 0, 1, 0, 0, 0, 0]\n",
      "Caractere K: código [0, 0, 0, 0, 1, 0, 1, 0, 1, 0, 0, 0, 1]\n",
      "Caractere z: código [0, 0, 0, 0, 1, 0, 1, 0, 1, 0, 0, 1]\n"
     ]
    }
   ],
   "source": [
    "codigosHuffman = {}\n",
    "def montaCodigoHuffmanRecursivo(no, codigoparcial=[]):\n",
    "    global codigosHuffman\n",
    "\n",
    "    tem_filhos = False\n",
    "    if no.filho_esquerdo:\n",
    "        tem_filhos = True\n",
    "        montaCodigoHuffmanRecursivo(no.filho_esquerdo, codigoparcial+[0])\n",
    "    if no.filho_direito:\n",
    "        tem_filhos = True\n",
    "        montaCodigoHuffmanRecursivo(no.filho_direito, codigoparcial+[1])\n",
    "\n",
    "    if not tem_filhos:\n",
    "        codigosHuffman[no.valor] = codigoparcial\n",
    "        pass\n",
    "\n",
    "montaCodigoHuffmanRecursivo(raiz)\n",
    "\n",
    "# Salva dicionário para permitir descompressão do arquivo\n",
    "#import pickle\n",
    "#with open(\"arvore_huffman.pickle\", \"wb\") as f:\n",
    "#    pickle.dump(raiz, f)\n",
    "\n",
    "for chave in list(codigosHuffman.keys())[:10]:\n",
    "    print(\"Caractere %s: código %s\" % (chave, codigosHuffman[chave]))\n",
    "del chave"
   ],
   "metadata": {
    "collapsed": false
   }
  },
  {
   "cell_type": "markdown",
   "source": [
    "Em posse dos códigos, podemos traduzir o nosso texto original para um texto codificado."
   ],
   "metadata": {
    "collapsed": false
   }
  },
  {
   "cell_type": "code",
   "execution_count": 83,
   "outputs": [
    {
     "name": "stdout",
     "output_type": "stream",
     "text": [
      "1000101010000101001100010001111010100000101110110101100010011111100110100111101011001001001000111111\n"
     ]
    }
   ],
   "source": [
    "texto_comprimido = []\n",
    "for caractere in texto_do_livro:\n",
    "    texto_comprimido.extend(codigosHuffman[caractere])\n",
    "print(\"\".join(map(str, texto_comprimido[:100])))"
   ],
   "metadata": {
    "collapsed": false
   }
  },
  {
   "cell_type": "markdown",
   "source": [
    "Como transformaremos 0s e 1s em bytes para escrever, podem haver bits faltando para completar um ‘byte’ ao final. Adicionamos bits de padding."
   ],
   "metadata": {
    "collapsed": false
   }
  },
  {
   "cell_type": "code",
   "execution_count": 84,
   "outputs": [],
   "source": [
    "# Se o tamanho do texto comprimido não for múltiplo de 8,\n",
    "# insere padding (caracteres em branco)\n",
    "modulo_de_8 = len(texto_comprimido) % 8\n",
    "if modulo_de_8 != 0:\n",
    "    texto_comprimido.extend([0]*(8-modulo_de_8))\n",
    "del modulo_de_8"
   ],
   "metadata": {
    "collapsed": false
   }
  },
  {
   "cell_type": "markdown",
   "source": [
    "Agora transformamos cada conjunto de 8 bits num ‘byte’ para escrita.\n",
    "\n",
    "Aviso: o código abaixo foi feito para facilitar a compreensão, e não para otimizar o desempenho a.k.a. é tosco e lento."
   ],
   "metadata": {
    "collapsed": false
   }
  },
  {
   "cell_type": "code",
   "execution_count": 85,
   "outputs": [
    {
     "name": "stdout",
     "output_type": "stream",
     "text": [
      "Tamanho original: 167331\n",
      "Tamanho compactado: 102001\n"
     ]
    }
   ],
   "source": [
    "import struct\n",
    "# Para cada 8 bits, transformamos em um ‘byte’\n",
    "texto_comprimido_codificado = bytes()\n",
    "potencias_2 = [2**(7-i) for i in range(8)]\n",
    "texto_comprimido_original = texto_comprimido\n",
    "while len(texto_comprimido) > 0:\n",
    "    byte = texto_comprimido[:8]\n",
    "    valor_byte = 0\n",
    "    for i, bit in enumerate(byte):\n",
    "        if bit:\n",
    "            valor_byte += potencias_2[i]\n",
    "    texto_comprimido = texto_comprimido[8:]\n",
    "    texto_comprimido_codificado += struct.pack(\"B\", valor_byte)\n",
    "\n",
    "# Grava arquivo compactado\n",
    "#with open(\"romeoejulieta.txt.compactado\", \"wb\") as f:\n",
    "#    f.write(texto_comprimido_codificado)\n",
    "\n",
    "print(\"Tamanho original:\", len(texto_do_livro))\n",
    "print(\"Tamanho compactado:\", len(texto_comprimido_codificado))"
   ],
   "metadata": {
    "collapsed": false
   }
  },
  {
   "cell_type": "markdown",
   "source": [
    "Para descompactar, utilizaremos o método inverso. Transformando bytes em bits, depois percorrendo a árvore para recuperar os valores dos caracteres correspondentes."
   ],
   "metadata": {
    "collapsed": false
   }
  },
  {
   "cell_type": "code",
   "execution_count": 86,
   "outputs": [
    {
     "name": "stdout",
     "output_type": "stream",
     "text": [
      "Compressão funcionando perfeitamente\n",
      "﻿The Project Gutenberg eBook of Romeo and Juliet, by William Shakespeare\r\n",
      "\r\n",
      "This eBook is for the us\n",
      "﻿The Project Gutenberg eBook of Romeo and Juliet, by William Shakespeare\r\n",
      "\r\n",
      "This eBook is for the us\n"
     ]
    }
   ],
   "source": [
    "texto_comprimido = []\n",
    "for byte in texto_comprimido_codificado:\n",
    "    byte_extenso = []\n",
    "    for i, pot in enumerate(potencias_2):\n",
    "        if byte & pot > 0:\n",
    "            byte_extenso.append(1)\n",
    "        else:\n",
    "            byte_extenso.append(0)\n",
    "    texto_comprimido.extend(byte_extenso)\n",
    "del byte_extenso, i, byte, pot, potencias_2\n",
    "\n",
    "# Agora caminhamos pela árvore para descomprimir os símbolos\n",
    "texto_descomprimido = \"\"\n",
    "while len(texto_comprimido) > 0:\n",
    "    no = raiz\n",
    "    while len(texto_comprimido) > 0:\n",
    "        # Vai para esquerda caso 0\n",
    "        if texto_comprimido[0] == 0:\n",
    "            no = no.filho_esquerdo\n",
    "        # Vai para a direita caso 1\n",
    "        else:\n",
    "            no = no.filho_direito\n",
    "        # Descarta bit\n",
    "        texto_comprimido.pop(0)\n",
    "\n",
    "        # Quando achar um nó folha, interrompe\n",
    "        if no.valor is not None:\n",
    "            texto_descomprimido += no.valor\n",
    "            break\n",
    "\n",
    "if texto_do_livro == texto_descomprimido:\n",
    "    print(\"Compressão funcionando perfeitamente\")\n",
    "\n",
    "print(texto_do_livro[:100])\n",
    "print(texto_descomprimido[:100])"
   ],
   "metadata": {
    "collapsed": false
   }
  },
  {
   "cell_type": "markdown",
   "source": [
    "Mostramos assim, mais um caso de uso de árvores, desta vez para a compressão de arquivos sem perdas."
   ],
   "metadata": {
    "collapsed": false
   }
  },
  {
   "cell_type": "markdown",
   "source": [
    "### Outros tipos de árvores\n",
    "\n",
    "#### Maple tree\n",
    "\n",
    "https://youtu.be/XwukyRAL7WQ\n",
    "\n",
    "#### B-Tree e variantes\n",
    "\n",
    "https://www.youtube.com/watch?v=4ELJDEjDpqk\n",
    "\n",
    "#### Hitchhiker Tree\n",
    "\n",
    "https://www.youtube.com/watch?v=jdn617M3-P4"
   ],
   "metadata": {
    "collapsed": false
   }
  },
  {
   "cell_type": "code",
   "execution_count": 86,
   "outputs": [],
   "source": [],
   "metadata": {
    "collapsed": false
   }
  }
 ],
 "metadata": {
  "kernelspec": {
   "display_name": "Python 3",
   "language": "python",
   "name": "python3"
  },
  "language_info": {
   "codemirror_mode": {
    "name": "ipython",
    "version": 2
   },
   "file_extension": ".py",
   "mimetype": "text/x-python",
   "name": "python",
   "nbconvert_exporter": "python",
   "pygments_lexer": "ipython2",
   "version": "2.7.6"
  }
 },
 "nbformat": 4,
 "nbformat_minor": 0
}
