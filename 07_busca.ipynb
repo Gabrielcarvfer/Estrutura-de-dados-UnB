{
 "cells": [
  {
   "cell_type": "markdown",
   "source": [
    "Estrutura de Dados - Busca\n",
    "==========================\n",
    "\n",
    "Capítulos 10 e 11 do livro texto sugerido:\n",
    "Introduction to Algorithms, Fourth Edition\n",
    "By Thomas H. Cormen, Charles E. Leiserson, Ronald L. Rivest and Clifford Stein\n",
    "https://mitpress.mit.edu/9780262046305/introduction-to-algorithms/\n",
    "\n",
    "Conteúdo\n",
    "========\n",
    "\n",
    "\n",
    "Como apresentado na seção de ordenação, as estruturas podem ser ordenadas baseado em algum atributo.\n",
    "\n",
    "Este atributo pode ser codificado em um valor numérico, textual ou lógico.\n",
    "\n",
    "Uma das razões de fazermos ordenações é permitir a busca eficiente por um subconjunto específico de entradas que obedecem certos critérios dentro de um grande conjunto.\n",
    "\n",
    "Nesta seção veremos alguns algoritmos de busca diferentes."
   ],
   "metadata": {
    "collapsed": false
   }
  },
  {
   "cell_type": "code",
   "execution_count": 17,
   "metadata": {
    "collapsed": true
   },
   "outputs": [],
   "source": [
    "registro = [9, 4, 7, 3, 9, 8, 2, 7, 4, 3, 6]\n",
    "registro_ordenado = list(sorted(registro))"
   ]
  },
  {
   "cell_type": "markdown",
   "source": [
    "### Busca linear\n",
    "\n",
    "A busca linear, como o próprio nome indica, busca por um determinado elemento checando cada um dos elementos de um conjunto.\n",
    "\n",
    "[![](https://mermaid.ink/img/pako:eNpN0DtrwzAQB_CvYm5qIQG_4tfQIXR0l3aUMlysSyyw5SBLlBLy3atYXKkm8eMe0v8Ow6IIOrhMy_cwonVJ_ynN6s9Xi7cx6fXqUJokHK1S0Z72-zetMpZMlFFyllzUUQqWQhRRSpaS5xxYDqKJUrFUIo9Ss9Q8uWFpeHvL0vKuLP17YiqqkzRk1L9vHYWEo18H7LUhtC_5q4RQdH7S1p9uHbCDmeyMWoWE7s-JEtxIM0nownXS19FJkOYRCtG75evHDNA562kH_qbQ0bvGsHGG7oLTGpSUdov9iJlv0T9-ATMYdsE?type=png)](https://mermaid.live/edit#pako:eNpN0DtrwzAQB_CvYm5qIQG_4tfQIXR0l3aUMlysSyyw5SBLlBLy3atYXKkm8eMe0v8Ow6IIOrhMy_cwonVJ_ynN6s9Xi7cx6fXqUJokHK1S0Z72-zetMpZMlFFyllzUUQqWQhRRSpaS5xxYDqKJUrFUIo9Ss9Q8uWFpeHvL0vKuLP17YiqqkzRk1L9vHYWEo18H7LUhtC_5q4RQdH7S1p9uHbCDmeyMWoWE7s-JEtxIM0nownXS19FJkOYRCtG75evHDNA562kH_qbQ0bvGsHGG7oLTGpSUdov9iJlv0T9-ATMYdsE)\n",
    "\n",
    "[![](https://mermaid.ink/img/pako:eNpN0E1rwzAMBuC_EnTaoIV8NV-HHsqO6WU72j2osdoYEqc4NmWU_ve5MxrzyTzIkvU-YFgUQQeXabkPI1qX9J_SrP58tXgbk16vDqVJwtEqFe1pu91rlbFkooySs-SijlKwFKKIUrKU3GfHshNNlIqlEnmUmqXmzg1Lw9NblpZnZenfF1NRnaQho_6tdRASDn4dsNeG0L7l7xJC0flFvGF4ARuYyc6oVUjo8eoowY00k4QuXCd9HZ0EaZ6hEL1bvr7NAJ2znjbgbwodfWgME2foLjitQUlpt9hjzPw3-ucPM4N2wg?type=png)](https://mermaid.live/edit#pako:eNpN0E1rwzAMBuC_EnTaoIV8NV-HHsqO6WU72j2osdoYEqc4NmWU_ve5MxrzyTzIkvU-YFgUQQeXabkPI1qX9J_SrP58tXgbk16vDqVJwtEqFe1pu91rlbFkooySs-SijlKwFKKIUrKU3GfHshNNlIqlEnmUmqXmzg1Lw9NblpZnZenfF1NRnaQho_6tdRASDn4dsNeG0L7l7xJC0flFvGF4ARuYyc6oVUjo8eoowY00k4QuXCd9HZ0EaZ6hEL1bvr7NAJ2znjbgbwodfWgME2foLjitQUlpt9hjzPw3-ucPM4N2wg)\n",
    "\n",
    "[![](https://mermaid.ink/img/pako:eNpN0E1rwzAMBuC_EnTaoIV8NV-HHsqO6WU72j2osdoYEqc4NmWU_ve5MxrzyTzIkvU-YFgUQQeXabkPI1qX9J_SrP58tXgbk16vDqVJwtEqFe1pu91rlbFkooySs-SijlKwFKKIUrKU3GfHshNNlIqlEnmUmqXmzg1Lw9NblpZnZenfF1NRnaQho_6tdRASDn4dsNeG0L7l7xJC0flFvE94ARuYyc6oVUjo8eoowY00k4QuXCd9HZ0EaZ6hEL1bvr7NAJ2znjbgbwodfWgME2foLjitQUlpt9hjzPw3-ucPM-52ww?type=png)](https://mermaid.live/edit#pako:eNpN0E1rwzAMBuC_EnTaoIV8NV-HHsqO6WU72j2osdoYEqc4NmWU_ve5MxrzyTzIkvU-YFgUQQeXabkPI1qX9J_SrP58tXgbk16vDqVJwtEqFe1pu91rlbFkooySs-SijlKwFKKIUrKU3GfHshNNlIqlEnmUmqXmzg1Lw9NblpZnZenfF1NRnaQho_6tdRASDn4dsNeG0L7l7xJC0flFvE94ARuYyc6oVUjo8eoowY00k4QuXCd9HZ0EaZ6hEL1bvr7NAJ2znjbgbwodfWgME2foLjitQUlpt9hjzPw3-ucPM-52ww)\n",
    "\n",
    "[![](https://mermaid.ink/img/pako:eNpN0E1rwzAMBuC_EnTaoIV8NV-HHsqO6WU72j2osdoYEqc4NmWU_ve5MxrzyTzIkvw-YFgUQQeXabkPI1qX9J_SrP58tXgbk16vDqVJwtEqFe1pu91rlbFkooySs-SijlKwFKKIUrKU3GfHshNNlIqlEnmUmqXmzg1Lw9NblpZnZenfiqmoTtKQUf--dRASDn4dsNeG0L7l7xJC0flFvH14ARuYyc6oVUjo8eoowY00k4QuXCd9HZ0EaZ6hEL1bvr7NAJ2znjbgbwodfWgME2foLjitQUlpt9hjzPw3-ucPNFl2xA?type=png)](https://mermaid.live/edit#pako:eNpN0E1rwzAMBuC_EnTaoIV8NV-HHsqO6WU72j2osdoYEqc4NmWU_ve5MxrzyTzIkvw-YFgUQQeXabkPI1qX9J_SrP58tXgbk16vDqVJwtEqFe1pu91rlbFkooySs-SijlKwFKKIUrKU3GfHshNNlIqlEnmUmqXmzg1Lw9NblpZnZenfiqmoTtKQUf--dRASDn4dsNeG0L7l7xJC0flFvH14ARuYyc6oVUjo8eoowY00k4QuXCd9HZ0EaZ6hEL1bvr7NAJ2znjbgbwodfWgME2foLjitQUlpt9hjzPw3-ucPNFl2xA)\n",
    "\n",
    "Repetindo mais algumas vezes, chegamos ao 2, encontrado na posição 6.\n",
    "\n",
    "[![](https://mermaid.ink/img/pako:eNpN0E1rwzAMBuC_EnTaoIV8NV-HHsqO6WU72j2osdoYEqc4NmWU_ve5MxrzyTzIkvw-YFgUQQeXabkPI1qX9J_SrP58tXgbk16vDqVJwtEqFe1pu91rlbFkooySs-SijlKwFKKIUrKU3GfHshNNlIqlEnmUmqXmzg1Lw9NblpZnZenfiqmoTtKQUf--dRASDn4dsNeG0L7l7xJC0flFvEd4ARuYyc6oVUjo8eoowY00k4QuXCd9HZ0EaZ6hEL1bvr7NAJ2znjbgbwodfWgME2foLjitQUlpt9hjzPw3-ucPNZp2xw?type=png)](https://mermaid.live/edit#pako:eNpN0E1rwzAMBuC_EnTaoIV8NV-HHsqO6WU72j2osdoYEqc4NmWU_ve5MxrzyTzIkvw-YFgUQQeXabkPI1qX9J_SrP58tXgbk16vDqVJwtEqFe1pu91rlbFkooySs-SijlKwFKKIUrKU3GfHshNNlIqlEnmUmqXmzg1Lw9NblpZnZenfiqmoTtKQUf--dRASDn4dsNeG0L7l7xJC0flFvEd4ARuYyc6oVUjo8eoowY00k4QuXCd9HZ0EaZ6hEL1bvr7NAJ2znjbgbwodfWgME2foLjitQUlpt9hjzPw3-ucPNZp2xw)\n",
    "\n",
    "Já para buscar o valor 0, buscaríamos do início até o fim, sem encontrá-lo.\n",
    "\n",
    "[![](https://mermaid.ink/img/pako:eNpN0LtqwzAUBuBXMWdKIQH5Et-GDqGju7SjlOHEUmKBLQdZIoSQd69icUo0iY9zkf4H9LNU0MJ5nG_9gNYl3Y8wiz9dLF6HpNOLQ2GScLRkvDnudp9apiQpL6JkJBmvouQkOc-jFCQFzdmT7HkdpSQpeRalIqlock1S0_aGpKFdKft_IuPlURhl5Nu3DlzAwS89dtootBv2ISAUnV609rO1A7YwKTuhliGhx2uiADeoSQlow3XUl8EJEOYZCtG7-fduemid9WoL_irRqS-NYeME7RnHJaiS2s32O2a-Rv_8AzIgdr8?type=png)](https://mermaid.live/edit#pako:eNpN0LtqwzAUBuBXMWdKIQH5Et-GDqGju7SjlOHEUmKBLQdZIoSQd69icUo0iY9zkf4H9LNU0MJ5nG_9gNYl3Y8wiz9dLF6HpNOLQ2GScLRkvDnudp9apiQpL6JkJBmvouQkOc-jFCQFzdmT7HkdpSQpeRalIqlock1S0_aGpKFdKft_IuPlURhl5Nu3DlzAwS89dtootBv2ISAUnV609rO1A7YwKTuhliGhx2uiADeoSQlow3XUl8EJEOYZCtG7-fduemid9WoL_irRqS-NYeME7RnHJaiS2s32O2a-Rv_8AzIgdr8)\n",
    "\n",
    "[![](https://mermaid.ink/img/pako:eNpN0DtrwzAQB_CvYm5qIQG_4tfQIWR0lnaUMlysSyyw5SBLlBLy3atUXKgm8eMe0v8Ow6IIOrhMy_cwonVJ_ynN6s9Xi7cx6fXqUJokHK1S0Z622w-tMpZMlFFyllzUUQqWQhRRSpaS5-xYdqKJUrFUIo9Ss9Q8uWFpeHvL0vKuLH09MRXVSRoy6t-39kLC3q8D9toQ2rf0XUIoOj_p1R9aYAMz2Rm1ChHdnyMluJFmktCF66Svo5MgzSMUonfL148ZoHPW0wb8TaGjg8awcobugtMalJR2iz3G0P-yf_wCmWN28A?type=png)](https://mermaid.live/edit#pako:eNpN0DtrwzAQB_CvYm5qIQG_4tfQIWR0lnaUMlysSyyw5SBLlBLy3atUXKgm8eMe0v8Ow6IIOrhMy_cwonVJ_ynN6s9Xi7cx6fXqUJokHK1S0Z622w-tMpZMlFFyllzUUQqWQhRRSpaS5-xYdqKJUrFUIo9Ss9Q8uWFpeHvL0vKuLH09MRXVSRoy6t-39kLC3q8D9toQ2rf0XUIoOj_p1R9aYAMz2Rm1ChHdnyMluJFmktCF66Svo5MgzSMUonfL148ZoHPW0wb8TaGjg8awcobugtMalJR2iz3G0P-yf_wCmWN28A)"
   ],
   "metadata": {
    "collapsed": false
   }
  },
  {
   "cell_type": "code",
   "execution_count": 18,
   "outputs": [
    {
     "name": "stdout",
     "output_type": "stream",
     "text": [
      "Foram olhados 7 elementos e o elemento buscado '2' foi encontrado na posição 6 (-1 significa não encontrado)\n",
      "Foram olhados 11 elementos e o elemento buscado '0' foi encontrado na posição -1 (-1 significa não encontrado)\n"
     ]
    }
   ],
   "source": [
    "elementosBuscados = [2, 0]\n",
    "\n",
    "\n",
    "# Para cada elemento buscado, busca na lista\n",
    "def buscaLinear(subconjuntoBuscado, conjuntoDesordenado):\n",
    "    for elementoBuscado in subconjuntoBuscado:\n",
    "        posicaoElemento = -1\n",
    "        pos = 0\n",
    "        # Busca a posição do elemento buscado\n",
    "        for elemento in conjuntoDesordenado:\n",
    "            # Para busca, já encontrou\n",
    "            if posicaoElemento != -1:\n",
    "                break\n",
    "            # Se encontrar elemento, marca a posição\n",
    "            if elementoBuscado == elemento:\n",
    "                posicaoElemento = pos\n",
    "            pos += 1\n",
    "        print(\n",
    "            f\"Foram olhados {pos} elementos e o elemento buscado '{elementoBuscado}' foi encontrado na posição {posicaoElemento} (-1 significa não encontrado)\")\n",
    "\n",
    "\n",
    "buscaLinear(elementosBuscados, registro)"
   ],
   "metadata": {
    "collapsed": false
   }
  },
  {
   "cell_type": "markdown",
   "source": [
    "Se fazemos este tipo de busca frequentemente, é loucura ficarmos visitando tantos elementos.\n",
    "Caso fosse ordenado, podemos assumir que se o primeiro é maior que o buscado, o elemento buscado não existe, que economizaria vários passos.\n",
    "\n",
    "Buscando tanto o valor 0 quanto o 2 só requerem a checagem do primeiro valor da lista ordenada.\n",
    "\n",
    "[![](https://mermaid.ink/img/pako:eNpN0c1uwyAMAOBXiXzapFaiSZq_Qw_VjpkmbUfYwQ20QUqgIqBpqvruo2Gexgl9GNuYGwxWKujgPNmvYUTns_5dmCWcLg6vY9brxaMwWVxaMp5_brcHLXckO14kyUlykoKk4GWSkqQk2ZPseZWkIql4naQmqUkakoY3SVqSlre_HbK_Flk0YZSR_5515AKOYRmw10ahe3NSGZT2iT0LiMGnx9Gah603YQOzcjNqGSd1e2QW4Ec1KwFd3E76MnoBwtxjIAZvP77NAJ13QW0gXCV69aIxVp6hO-O0RFVSe-te0-zXL7j_ACz_ees?type=png)](https://mermaid.live/edit#pako:eNpN0c1uwyAMAOBXiXzapFaiSZq_Qw_VjpkmbUfYwQ20QUqgIqBpqvruo2Gexgl9GNuYGwxWKujgPNmvYUTns_5dmCWcLg6vY9brxaMwWVxaMp5_brcHLXckO14kyUlykoKk4GWSkqQk2ZPseZWkIql4naQmqUkakoY3SVqSlre_HbK_Flk0YZSR_5515AKOYRmw10ahe3NSGZT2iT0LiMGnx9Gah603YQOzcjNqGSd1e2QW4Ec1KwFd3E76MnoBwtxjIAZvP77NAJ13QW0gXCV69aIxVp6hO-O0RFVSe-te0-zXL7j_ACz_ees)"
   ],
   "metadata": {
    "collapsed": false
   }
  },
  {
   "cell_type": "code",
   "execution_count": 19,
   "outputs": [
    {
     "name": "stdout",
     "output_type": "stream",
     "text": [
      "Foram olhados 1 elementos e o elemento buscado '2' foi encontrado na posição 0 (-1 significa não encontrado)\n",
      "Foram olhados 0 elementos e o elemento buscado '0' foi encontrado na posição -1 (-1 significa não encontrado)\n"
     ]
    }
   ],
   "source": [
    "elementosBuscados = [2, 0]\n",
    "\n",
    "\n",
    "def buscaLinearOrdenada(subconjuntoBuscado, conjuntoOrdenado):\n",
    "    # Para cada elemento buscado, busca na lista\n",
    "    for elementoBuscado in subconjuntoBuscado:\n",
    "        posicaoElemento = -1\n",
    "        pos = 0\n",
    "        # Busca a posição do elemento buscado\n",
    "        for elemento in conjuntoOrdenado:\n",
    "            # Nem compara elementos caso o buscado seja menor\n",
    "            # que o primeiro elemento da lista ordenada\n",
    "            if elementoBuscado < elemento:\n",
    "                break\n",
    "            # Para busca, já encontrou\n",
    "            if posicaoElemento != -1:\n",
    "                break\n",
    "            # Se encontrar elemento, marca a posição\n",
    "            if elementoBuscado == elemento:\n",
    "                posicaoElemento = pos\n",
    "            pos += 1\n",
    "        print(\n",
    "            f\"Foram olhados {pos} elementos e o elemento buscado '{elementoBuscado}' foi encontrado na posição {posicaoElemento} (-1 significa não encontrado)\")\n",
    "\n",
    "\n",
    "buscaLinearOrdenada(elementosBuscados, registro_ordenado)"
   ],
   "metadata": {
    "collapsed": false
   }
  },
  {
   "cell_type": "markdown",
   "source": [
    "Nossa busca visitou bem menos elementos desta vez.\n",
    "\n",
    "Porém, a busca linear como está implementada não é bastante eficiente para valores maiores, que estarão ao final da lista."
   ],
   "metadata": {
    "collapsed": false
   }
  },
  {
   "cell_type": "code",
   "execution_count": 20,
   "outputs": [
    {
     "name": "stdout",
     "output_type": "stream",
     "text": [
      "Foram olhados 9 elementos e o elemento buscado '8' foi encontrado na posição 8 (-1 significa não encontrado)\n",
      "Foram olhados 10 elementos e o elemento buscado '9' foi encontrado na posição 9 (-1 significa não encontrado)\n",
      "Foram olhados 11 elementos e o elemento buscado '10' foi encontrado na posição -1 (-1 significa não encontrado)\n"
     ]
    }
   ],
   "source": [
    "buscaLinearOrdenada([8, 9, 10, ], registro_ordenado)\n"
   ],
   "metadata": {
    "collapsed": false
   }
  },
  {
   "cell_type": "markdown",
   "source": [
    "Como buscar mais rápido? Sabendo que temos um conjunto ordenado, podemos fazer uma busca binária.\n",
    "\n",
    "### Busca binária\n",
    "\n",
    "O que pode ser mais rápido que buscar descartando metades inteiras? Não é fácil.\n",
    "\n",
    "Portanto, implementemos uma busca que descarta metades do subconjunto progressivamente até encontrar o elemento que queremos.\n",
    "\n",
    "Busquemos o valor 0.\n",
    "\n",
    "Primeiro olhamos se o valor 0 é menor ou maior que o valor central.\n",
    "\n",
    "É menor que 6, portanto, se estiver na nossa lista, estará na metade esquerda.\n",
    "\n",
    "[![](https://mermaid.ink/img/pako:eNpN0E1uwyAQBeCrWLNqpURybMd_iyysLpNNu4QuJobESDaOMCiqohymZ-nFOimdqqzQpwEe7wb9rDS0cBrnaz-g88n-VdolHM8OL0OyN4tHaRNaRqUie1-vd0ZtWDYij5KxZCw5Sy6KKAVLwbJl2YoySslSiipKxVKx1Cy1qKM0LI1ofhOmfxFTMmm1Vf--1QkJXVh67Iz9-nQGn9JnCTR2fCBnozOwgkm7CY2ijm6POyX4QU9aQkvb0ZwHL0HaOw1i8PPbh-2h9S7oFYSLQq9fDNKbE7QnHBdSrYyf3SG2_lP-_Rt1H3gi?type=png)](https://mermaid.live/edit#pako:eNpN0E1uwyAQBeCrWLNqpURybMd_iyysLpNNu4QuJobESDaOMCiqohymZ-nFOimdqqzQpwEe7wb9rDS0cBrnaz-g88n-VdolHM8OL0OyN4tHaRNaRqUie1-vd0ZtWDYij5KxZCw5Sy6KKAVLwbJl2YoySslSiipKxVKx1Cy1qKM0LI1ofhOmfxFTMmm1Vf--1QkJXVh67Iz9-nQGn9JnCTR2fCBnozOwgkm7CY2ijm6POyX4QU9aQkvb0ZwHL0HaOw1i8PPbh-2h9S7oFYSLQq9fDNKbE7QnHBdSrYyf3SG2_lP-_Rt1H3gi)\n",
    "\n",
    "Atualizamos o limite superior da busca para o elemento central.\n",
    "\n",
    "Então encontramos o novo elemento central.\n",
    "\n",
    "O valor 0 é menor que o central (4), portanto, se o valor 0 estiver na lista, estará na metade esquerda.\n",
    "\n",
    "[![](https://mermaid.ink/img/pako:eNpN0b1uwyAQAOBXsW5qpURybMd_Qwer2dKlHSHDxZAYyQYLY1VVlIfp1AfJi5WYXlQm-A64O7hAa4SEGk69-Ww7tC7av3M9zcezxbGL9mpy-G-9a9huGvH2YyIho-M8tXjgOvJDiZglh_X6RYkNyYalQRKShCQlSVkWJAsitaBQRqEtyZblQXKSnBVBCpKCpCQpWRmkIqlY9Vdq_Kg19sb1kv7RbsM4NPcmG6Vv31bhU_zMwW9bOqfW_BlYwSDtgEr4t7zc7-TgOjlIDrWf9urcOQ5cX_1GnJ35-NIt1M7OcgXzKNDJV4U-5wD1CfvJqxTKGfsWfmf5pOsvsP2Gng?type=png)](https://mermaid.live/edit#pako:eNpN0b1uwyAQAOBXsW5qpURybMd_Qwer2dKlHSHDxZAYyQYLY1VVlIfp1AfJi5WYXlQm-A64O7hAa4SEGk69-Ww7tC7av3M9zcezxbGL9mpy-G-9a9huGvH2YyIho-M8tXjgOvJDiZglh_X6RYkNyYalQRKShCQlSVkWJAsitaBQRqEtyZblQXKSnBVBCpKCpCQpWRmkIqlY9Vdq_Kg19sb1kv7RbsM4NPcmG6Vv31bhU_zMwW9bOqfW_BlYwSDtgEr4t7zc7-TgOjlIDrWf9urcOQ5cX_1GnJ35-NIt1M7OcgXzKNDJV4U-5wD1CfvJqxTKGfsWfmf5pOsvsP2Gng)\n",
    "\n",
    "Atualizamos o limite superior novamente.\n",
    "\n",
    "[![](https://mermaid.ink/img/pako:eNpN0b1uwyAQAOBXsW5qpURybMd_Qwer2dKlHSHDxZAYyQYLY1VVlIfp1AfJi5WYXlQm-O6AO7hAa4SEGk69-Ww7tC7av3M9zcezxbGL9mpy-G-9a9huGvH2YyIho-M8tXjgOvJDiZglh_X6RYkNyYalQZIgUgsKJRRKSVKWBclIMpItyZblQXKSnBVBCpKCpCQpWRmkIqlY9Vdq_Kg19sb1UuKj3YZxaO5NNkrfvq3Cp_iZg09bOqdm_R5YwSDtgEr4t7zcz-TgOjlIDrWf9urcOQ5cX30izs58fOkWamdnuYJ5FOjkq0J_5wD1CfvJqxTKGfsWfmf5pOsvtEOGnQ?type=png)](https://mermaid.live/edit#pako:eNpN0b1uwyAQAOBXsW5qpURybMd_Qwer2dKlHSHDxZAYyQYLY1VVlIfp1AfJi5WYXlQm-O6AO7hAa4SEGk69-Ww7tC7av3M9zcezxbGL9mpy-G-9a9huGvH2YyIho-M8tXjgOvJDiZglh_X6RYkNyYalQZIgUgsKJRRKSVKWBclIMpItyZblQXKSnBVBCpKCpCQpWRmkIqlY9Vdq_Kg19sb1UuKj3YZxaO5NNkrfvq3Cp_iZg09bOqdm_R5YwSDtgEr4t7zcz-TgOjlIDrWf9urcOQ5cX30izs58fOkWamdnuYJ5FOjkq0J_5wD1CfvJqxTKGfsWfmf5pOsvtEOGnQ)\n",
    "\n",
    "Como 3 ainda é maior que 0, buscamos o elemento central, neste caso será coincidente com o limite inferior.\n",
    "\n",
    "[![](https://mermaid.ink/img/pako:eNpN0b1uwyAQAOBXsW5qpUTyX_w3dLCaLV3aETIQQ2IkGyyMVVVRHqZTHyQvVgI9q0zcJzi4uyt0mgto4Dzoz65nxkaHd6rm5XQxbOqjg5wt-xfvW7KfJ3b_0REX0WmZO3akKnJL8pikf3uh-Irb7YvkCYYJyY5eUpQUJUPJSB4kR8lRdig7UgQpUApSBilRSpQKpSJVkBqlJnWQJF6_GDujytew1t0SCu2j2laq-7eR7Cl-puCO-Rb4DLG_AxsYhRmZ5K6p10dOCrYXo6DQuO0gL72lQNXNHWSL1R9fqoPGmkVsYJk4s-JVMvfmCM2ZDbNTwaXV5i2MyU_r9gvheYjj?type=png)](https://mermaid.live/edit#pako:eNpN0b1uwyAQAOBXsW5qpUTyX_w3dLCaLV3aETIQQ2IkGyyMVVVRHqZTHyQvVgI9q0zcJzi4uyt0mgto4Dzoz65nxkaHd6rm5XQxbOqjg5wt-xfvW7KfJ3b_0REX0WmZO3akKnJL8pikf3uh-Irb7YvkCYYJyY5eUpQUJUPJSB4kR8lRdig7UgQpUApSBilRSpQKpSJVkBqlJnWQJF6_GDujytew1t0SCu2j2laq-7eR7Cl-puCO-Rb4DLG_AxsYhRmZ5K6p10dOCrYXo6DQuO0gL72lQNXNHWSL1R9fqoPGmkVsYJk4s-JVMvfmCM2ZDbNTwaXV5i2MyU_r9gvheYjj)\n",
    "\n",
    "Como 2 é maior que 0, significa que o valor 0 não está na lista.\n",
    "\n",
    "Isto pode parecer ineficiente, e de fato é para valores nas pontas.\n",
    "\n",
    "Porém, o custo médio das buscas escalam por $O(log n)$ invés de $O(n)$"
   ],
   "metadata": {
    "collapsed": false
   }
  },
  {
   "cell_type": "code",
   "execution_count": 21,
   "outputs": [
    {
     "name": "stdout",
     "output_type": "stream",
     "text": [
      "[2, 3, 3, 4, 4, 6, 7, 7, 8, 9, 9]\n",
      "Foram olhados 4 elementos e o elemento buscado '0' foi encontrado na posição -1 (-1 significa não encontrado)\n",
      "Foram olhados 4 elementos e o elemento buscado '1' foi encontrado na posição -1 (-1 significa não encontrado)\n",
      "Foram olhados 4 elementos e o elemento buscado '2' foi encontrado na posição 0 (-1 significa não encontrado)\n",
      "Foram olhados 5 elementos e o elemento buscado '5' foi encontrado na posição -1 (-1 significa não encontrado)\n",
      "Foram olhados 1 elementos e o elemento buscado '6' foi encontrado na posição 5 (-1 significa não encontrado)\n",
      "Foram olhados 3 elementos e o elemento buscado '7' foi encontrado na posição 6 (-1 significa não encontrado)\n",
      "Foram olhados 2 elementos e o elemento buscado '8' foi encontrado na posição 8 (-1 significa não encontrado)\n",
      "Foram olhados 3 elementos e o elemento buscado '9' foi encontrado na posição 9 (-1 significa não encontrado)\n",
      "Foram olhados 5 elementos e o elemento buscado '11' foi encontrado na posição -1 (-1 significa não encontrado)\n"
     ]
    }
   ],
   "source": [
    "def buscaBinaria(subconjuntoBuscado, conjuntoOrdenado):\n",
    "    # Para cada elemento buscado, busca na lista\n",
    "    for elementoBuscado in subconjuntoBuscado:\n",
    "        posicaoElemento = -1\n",
    "        # Caso o elemento esteja no intervalo dos dados, busquemos ele\n",
    "        pos = 0\n",
    "        limiteInferior = 0\n",
    "        limiteSuperior = len(conjuntoOrdenado)\n",
    "        while limiteInferior != limiteSuperior:\n",
    "            pos += 1\n",
    "            par = (limiteSuperior + limiteInferior + 1) % 2\n",
    "            elementoCentral = (limiteSuperior + limiteInferior + par) // 2\n",
    "            # Caso o elemento do meio seja menor que o buscado, teste\n",
    "            if conjuntoOrdenado[elementoCentral] < elementoBuscado:\n",
    "                # Se já checou, não tem mais o que buscar\n",
    "                if elementoCentral == limiteInferior:\n",
    "                    break\n",
    "\n",
    "                # Se não, aumente o limite inferior da busca,\n",
    "                # buscando apenas a metade superior dos dados\n",
    "                limiteInferior = elementoCentral\n",
    "            # Caso o elemento do meio seja maior que o buscado, teste\n",
    "            elif conjuntoOrdenado[elementoCentral] > elementoBuscado:\n",
    "                # Se já checou, não tem mais o que buscar\n",
    "                if elementoCentral == limiteSuperior:\n",
    "                    break\n",
    "                # Se não, abaixe o limite superior da busca,\n",
    "                # buscando apenas a metade inferior dos dados\n",
    "                limiteSuperior = elementoCentral\n",
    "            # Caso tenhamos encontrado o valor, pare a busca\n",
    "            else:\n",
    "                posicaoElemento = elementoCentral\n",
    "                break\n",
    "        print(\n",
    "            f\"Foram olhados {pos} elementos e o elemento buscado '{elementoBuscado}' foi encontrado na posição {posicaoElemento} (-1 significa não encontrado)\")\n",
    "\n",
    "\n",
    "print(registro_ordenado)\n",
    "buscaBinaria([0, 1, 2, 5, 6, 7, 8, 9, 11], registro_ordenado)"
   ],
   "metadata": {
    "collapsed": false
   }
  },
  {
   "cell_type": "markdown",
   "source": [
    "Será que podemos fazer ainda melhor? A resposta é com certeza. Ao custo de memória.\n",
    "\n",
    "### Busca com hashes\n",
    "\n",
    "Hashes são estruturas fantásticas, onde um valor é identificada por uma chave única (ou quase) obtida através de uma operação matemática.\n",
    "\n",
    "No caso dos dados que estamos utilizando, os próprios valores podem se comportar como hashes.\n",
    "\n",
    "Uma tabela de hash é uma lista de listas, endereçada por este valor.\n",
    "\n",
    "[![](https://mermaid.ink/img/pako:eNp1k7tuwyAUhl_FYk6k-H4ZOlQdOqRLmw06EENiJBssG6uqorx7j4tt3JieAdAP5_uEBDdUKsZRgS61-ior2mnv-E5kP5yvHW0r70TPvKavtK-I9KCY6HiphZLe6dkkgh1w8LnfPwnmm2SsBXAUvaaB3RirVb0oqTrYlEu20AA1N82Zj0NjCP4zhE6DD03TMnDKJvAaARIcGduU_DVFTlNoTZHTNEHXCBDgxJgilymxoAkdmwSw4_RAWfcAEacGHbvQ6Qad2Auk1vJAW_cCGWdGkbgU2UaRbbnxDM3mJMH5Yspd3HzDzddcGNEONbxrqGDwrm_jJkG64g0nqIBlLa6VJojIOxykg1Yf37JEhe4GvkNDy6jmL4KCsUHFhdY9pJwJrbo381N-P8z9B_9a874?type=png)](https://mermaid.live/edit#pako:eNp1k7tuwyAUhl_FYk6k-H4ZOlQdOqRLmw06EENiJBssG6uqorx7j4tt3JieAdAP5_uEBDdUKsZRgS61-ior2mnv-E5kP5yvHW0r70TPvKavtK-I9KCY6HiphZLe6dkkgh1w8LnfPwnmm2SsBXAUvaaB3RirVb0oqTrYlEu20AA1N82Zj0NjCP4zhE6DD03TMnDKJvAaARIcGduU_DVFTlNoTZHTNEHXCBDgxJgilymxoAkdmwSw4_RAWfcAEacGHbvQ6Qad2Auk1vJAW_cCGWdGkbgU2UaRbbnxDM3mJMH5Yspd3HzDzddcGNEONbxrqGDwrm_jJkG64g0nqIBlLa6VJojIOxykg1Yf37JEhe4GvkNDy6jmL4KCsUHFhdY9pJwJrbo381N-P8z9B_9a874)"
   ],
   "metadata": {
    "collapsed": false
   }
  },
  {
   "cell_type": "code",
   "execution_count": 22,
   "outputs": [
    {
     "name": "stdout",
     "output_type": "stream",
     "text": [
      "[[], [], [0], [1, 2], [3, 4], [], [5], [6, 7], [8], [9, 10], [], []]\n",
      "Foram olhados 1 elementos e o elemento buscado '0' foi encontrado na posição -1 (-1 significa não encontrado)\n",
      "Foram olhados 1 elementos e o elemento buscado '1' foi encontrado na posição -1 (-1 significa não encontrado)\n",
      "Foram olhados 1 elementos e o elemento buscado '2' foi encontrado na posição 0 (-1 significa não encontrado)\n",
      "Foram olhados 1 elementos e o elemento buscado '5' foi encontrado na posição -1 (-1 significa não encontrado)\n",
      "Foram olhados 1 elementos e o elemento buscado '6' foi encontrado na posição 5 (-1 significa não encontrado)\n",
      "Foram olhados 1 elementos e o elemento buscado '7' foi encontrado na posição 6 (-1 significa não encontrado)\n",
      "Foram olhados 1 elementos e o elemento buscado '8' foi encontrado na posição 8 (-1 significa não encontrado)\n",
      "Foram olhados 1 elementos e o elemento buscado '9' foi encontrado na posição 9 (-1 significa não encontrado)\n",
      "Foram olhados 1 elementos e o elemento buscado '11' foi encontrado na posição -1 (-1 significa não encontrado)\n"
     ]
    }
   ],
   "source": [
    "# Cria uma lista de listas, com um número de posições grande\n",
    "tabela_hash = [[] for _ in range(12)]\n",
    "\n",
    "# Armazena posições da lista ordenada na tabela de hashes\n",
    "pos = 0\n",
    "for elemento in registro_ordenado:\n",
    "    tabela_hash[elemento].append(pos)\n",
    "    pos += 1\n",
    "\n",
    "print(tabela_hash)\n",
    "\n",
    "def buscaComHash(subconjuntoBuscado, tabelaHash):\n",
    "    # Para cada elemento buscado, busca na tabela\n",
    "    for elementoBuscado in subconjuntoBuscado:\n",
    "        posicaoElemento = -1\n",
    "        pos = 1\n",
    "        if len(tabelaHash[elementoBuscado]) > 0:\n",
    "            posicaoElemento = tabelaHash[elementoBuscado][0]\n",
    "        print(\n",
    "            f\"Foram olhados {pos} elementos e o elemento buscado '{elementoBuscado}' foi encontrado na posição {posicaoElemento} (-1 significa não encontrado)\")\n",
    "\n",
    "buscaComHash([0, 1, 2, 5, 6, 7, 8, 9, 11], tabela_hash)"
   ],
   "metadata": {
    "collapsed": false
   }
  },
  {
   "cell_type": "markdown",
   "source": [
    "O motivo de haver hashing é que não podemos ter uma tabela infinita, com uma entrada para cada valor.\n",
    "Se buscarmos um valor fora do tamanho, teremos problemas."
   ],
   "metadata": {
    "collapsed": false
   }
  },
  {
   "cell_type": "code",
   "execution_count": 23,
   "outputs": [
    {
     "name": "stdout",
     "output_type": "stream",
     "text": [
      "list index out of range\n"
     ]
    }
   ],
   "source": [
    "try:\n",
    "    buscaComHash([12], tabela_hash)\n",
    "except IndexError as e:\n",
    "    print(e)"
   ],
   "metadata": {
    "collapsed": false
   }
  },
  {
   "cell_type": "markdown",
   "source": [
    "Para resolvermos, podemos usar o operador módulo como função de `hash`.\n",
    "Mas a partir deste ponto, poderemos ter vários valores distintos caindo numa mesma entrada da tabela de hash.\n",
    "Isto significa que teremos que realizar uma busca linear nesta tabela.\n",
    "\n",
    "[![](https://mermaid.ink/img/pako:eNp107tugzAUgOFXQZ4TCQj3IUPVoUO6tNlMBgc7wRJgC4yqKsq794AxOIh6AHSw_2_yAxWCMpShWyV-ipK0yjl95U3XX-8tkaVzJldWkQ_SlXnjwKK8ZYXionHOb3rCqYv9y35_5NTTk2HNgRPvFPGXH8OScGInRccLItzhqPRc7M0jz70s-1lDZwd2mpyZefigbf8_-7Cy4cQMjba_DPxteELsHIA40PI0eVWDlXrAgUHGlgyWQbCtToCdAwxHWg221GgJyRBHBggnAOLDa9WyT0IXxxoIt4DYAiIcG2DsyHgZxJa4KtsdUHCiuWiLSywuwYmpJxv10KQTM4lwOnvpVj216ilOTT19qcMT7VDN2ppwCvfkMfzMkSpZzXKUwWfF76XKUd48YSPplfj-bQqUqbZnO9RLShR75wTcGmU3UnUwZZQr0X7qmzdewOcf7lMLNg?type=png)](https://mermaid.live/edit#pako:eNp107tugzAUgOFXQZ4TCQj3IUPVoUO6tNlMBgc7wRJgC4yqKsq794AxOIh6AHSw_2_yAxWCMpShWyV-ipK0yjl95U3XX-8tkaVzJldWkQ_SlXnjwKK8ZYXionHOb3rCqYv9y35_5NTTk2HNgRPvFPGXH8OScGInRccLItzhqPRc7M0jz70s-1lDZwd2mpyZefigbf8_-7Cy4cQMjba_DPxteELsHIA40PI0eVWDlXrAgUHGlgyWQbCtToCdAwxHWg221GgJyRBHBggnAOLDa9WyT0IXxxoIt4DYAiIcG2DsyHgZxJa4KtsdUHCiuWiLSywuwYmpJxv10KQTM4lwOnvpVj216ilOTT19qcMT7VDN2ppwCvfkMfzMkSpZzXKUwWfF76XKUd48YSPplfj-bQqUqbZnO9RLShR75wTcGmU3UnUwZZQr0X7qmzdewOcf7lMLNg)"
   ],
   "metadata": {
    "collapsed": false
   }
  },
  {
   "cell_type": "code",
   "execution_count": 24,
   "outputs": [
    {
     "name": "stdout",
     "output_type": "stream",
     "text": [
      "[[], [], [(2, 0)], [(3, 1), (3, 2)], [(4, 3), (4, 4)], [], [(6, 5)], [(7, 6), (7, 7)], [(8, 8)], [(9, 9), (9, 10)]]\n",
      "Foram olhados 1 elementos e o elemento buscado '0' foi encontrado na posição -1 (-1 significa não encontrado)\n",
      "Foram olhados 1 elementos e o elemento buscado '1' foi encontrado na posição -1 (-1 significa não encontrado)\n",
      "Foram olhados 2 elementos e o elemento buscado '2' foi encontrado na posição 0 (-1 significa não encontrado)\n",
      "Foram olhados 1 elementos e o elemento buscado '5' foi encontrado na posição -1 (-1 significa não encontrado)\n",
      "Foram olhados 2 elementos e o elemento buscado '6' foi encontrado na posição 5 (-1 significa não encontrado)\n",
      "Foram olhados 2 elementos e o elemento buscado '7' foi encontrado na posição 6 (-1 significa não encontrado)\n",
      "Foram olhados 2 elementos e o elemento buscado '8' foi encontrado na posição 8 (-1 significa não encontrado)\n",
      "Foram olhados 2 elementos e o elemento buscado '9' foi encontrado na posição 9 (-1 significa não encontrado)\n",
      "Foram olhados 1 elementos e o elemento buscado '11' foi encontrado na posição -1 (-1 significa não encontrado)\n"
     ]
    }
   ],
   "source": [
    "# Cria uma lista de listas, com um número de posições grande\n",
    "tabela_hash_modulo = [[] for _ in range(10)]\n",
    "\n",
    "# Armazena posições da lista ordenada na tabela de hashes\n",
    "pos = 0\n",
    "for elemento in registro_ordenado:\n",
    "    tabela_hash_modulo[elemento%10].append((elemento, pos))\n",
    "    pos += 1\n",
    "\n",
    "print(tabela_hash_modulo)\n",
    "\n",
    "def buscaComHashModulo(subconjuntoBuscado, tabelaHashModulo):\n",
    "    # Para cada elemento buscado, busca na tabela\n",
    "    for elementoBuscado in subconjuntoBuscado:\n",
    "        posicaoElemento = -1\n",
    "        pos = 1\n",
    "        hash = elementoBuscado % len(tabelaHashModulo)\n",
    "        if len(tabelaHashModulo[hash]) > 0:\n",
    "            # Elemento pode estar na tabela, use busca linear\n",
    "            for (elementoNaTabelaHash, posicao) in tabelaHashModulo[hash]:\n",
    "                pos += 1\n",
    "                if elementoNaTabelaHash == elementoBuscado:\n",
    "                    posicaoElemento = posicao\n",
    "                    break\n",
    "        print(\n",
    "            f\"Foram olhados {pos} elementos e o elemento buscado '{elementoBuscado}' foi encontrado na posição {posicaoElemento} (-1 significa não encontrado)\")\n",
    "\n",
    "buscaComHashModulo([0, 1, 2, 5, 6, 7, 8, 9, 11], tabela_hash_modulo)"
   ],
   "metadata": {
    "collapsed": false
   }
  },
  {
   "cell_type": "markdown",
   "source": [
    "E a busca de um elemento que anteriormente falharia, agora retorna o valor esperado (-1)"
   ],
   "metadata": {
    "collapsed": false
   }
  },
  {
   "cell_type": "code",
   "execution_count": 25,
   "outputs": [
    {
     "name": "stdout",
     "output_type": "stream",
     "text": [
      "Foram olhados 2 elementos e o elemento buscado '12' foi encontrado na posição -1 (-1 significa não encontrado)\n"
     ]
    }
   ],
   "source": [
    "buscaComHashModulo([12], tabela_hash_modulo)"
   ],
   "metadata": {
    "collapsed": false
   }
  },
  {
   "cell_type": "markdown",
   "source": [
    "Para mostrar que nossa tabela de hash com módulo está funcionando, adicionemos o elemento 12"
   ],
   "metadata": {
    "collapsed": false
   }
  },
  {
   "cell_type": "code",
   "execution_count": 26,
   "outputs": [
    {
     "name": "stdout",
     "output_type": "stream",
     "text": [
      "[[], [], [(2, 0), (12, 11)], [(3, 1), (3, 2)], [(4, 3), (4, 4)], [], [(6, 5)], [(7, 6), (7, 7)], [(8, 8)], [(9, 9), (9, 10)]]\n",
      "Foram olhados 3 elementos e o elemento buscado '12' foi encontrado na posição 11 (-1 significa não encontrado)\n"
     ]
    }
   ],
   "source": [
    "# Cria uma lista de listas, com um número de posições grande\n",
    "tabela_hash_modulo2 = [[] for _ in range(10)]\n",
    "\n",
    "# Armazena posições da lista ordenada na tabela de hashes\n",
    "pos = 0\n",
    "for elemento in registro_ordenado+[12]:\n",
    "    tabela_hash_modulo2[elemento%10].append((elemento, pos))\n",
    "    pos += 1\n",
    "print(tabela_hash_modulo2)\n",
    "buscaComHashModulo([12], tabela_hash_modulo2)"
   ],
   "metadata": {
    "collapsed": false
   }
  },
  {
   "cell_type": "markdown",
   "source": [
    "Como podemos ver, tabelas de hash são bastante eficientes.\n",
    "\n",
    "Não por acaso são usadas indiscriminadamente pelo Python.\n",
    "\n",
    "Esta estrutura é nada mais nada menos que o famoso dicionário `dict()` ou `{}`.\n",
    "\n",
    "Em outras linguagens de programação, também é conhecida como um mapa."
   ],
   "metadata": {
    "collapsed": false
   }
  },
  {
   "cell_type": "code",
   "execution_count": 26,
   "outputs": [],
   "source": [],
   "metadata": {
    "collapsed": false
   }
  }
 ],
 "metadata": {
  "kernelspec": {
   "display_name": "Python 3",
   "language": "python",
   "name": "python3"
  },
  "language_info": {
   "codemirror_mode": {
    "name": "ipython",
    "version": 2
   },
   "file_extension": ".py",
   "mimetype": "text/x-python",
   "name": "python",
   "nbconvert_exporter": "python",
   "pygments_lexer": "ipython2",
   "version": "2.7.6"
  }
 },
 "nbformat": 4,
 "nbformat_minor": 0
}
