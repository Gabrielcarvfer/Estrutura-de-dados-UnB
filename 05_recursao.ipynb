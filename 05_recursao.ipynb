{
 "cells": [
  {
   "cell_type": "markdown",
   "source": [
    "Estrutura de Dados - Recursão\n",
    "==========================================\n",
    "\n",
    "Capítulo 2 do livro texto sugerido:\n",
    "Introduction to Algorithms, Fourth Edition\n",
    "By Thomas H. Cormen, Charles E. Leiserson, Ronald L. Rivest and Clifford Stein\n",
    "https://mitpress.mit.edu/9780262046305/introduction-to-algorithms/\n",
    "\n",
    "Conteúdo\n",
    "========\n",
    "\n",
    "Muitos algoritmos complexos podem ser resolvidos através da sua subdivisão em partes menores, posteriormente reunidas na solução final.\n",
    "\n",
    "Esta divisão do problema pode ser feita até se encontrar um problema mínimo com solução trivial.\n",
    "\n",
    "A este processo se dá o nome de recursão, e a estratégia é conhecida como dividir para conquistar.\n",
    "\n",
    "Um algoritmo que pode ser implementado com recursão é o de ordenação Merge-sort.\n",
    "\n",
    "Assim como todo o algoritmo recursivo, precisamos estabelecer o caso comum e a condição de parada das recursões.\n",
    "\n",
    "Para o merge sort existem duas condições de parada, sendo ambas triviais:\n",
    "- Caso a lista tenha até um elemento, ela já está ordenada\n",
    "- Caso a lista tenha dois elementos, ordênam-se os dois elementos"
   ],
   "metadata": {
    "collapsed": false
   }
  },
  {
   "cell_type": "code",
   "execution_count": 104,
   "metadata": {
    "collapsed": true
   },
   "outputs": [
    {
     "name": "stdout",
     "output_type": "stream",
     "text": [
      "[]\n",
      "[1]\n",
      "[1, 2]\n",
      "None\n"
     ]
    }
   ],
   "source": [
    "def mergeSortCondicaoParada(lista):\n",
    "    # Se só tem um elemento, já está ordenada\n",
    "    if len(lista) <= 1:\n",
    "        return lista\n",
    "    # Se tem dois elementos, comparação é trivial\n",
    "    if len(lista) == 2:\n",
    "        if lista[0] > lista[1]:\n",
    "            return [lista[1], lista[0]]\n",
    "        else:\n",
    "            return lista\n",
    "    # Retorna None caso não seja ainda não tenha\n",
    "    # atingido uma condição de parada\n",
    "    return None\n",
    "\n",
    "print(mergeSortCondicaoParada([]))\n",
    "print(mergeSortCondicaoParada([1]))\n",
    "print(mergeSortCondicaoParada([2,1]))\n",
    "print(mergeSortCondicaoParada([3,2,1])) # não atende a condição de parada len(lista) > 2"
   ]
  },
  {
   "cell_type": "markdown",
   "source": [
    "Agora que temos a condição de parada, precisamos tratar o caso comum, onde a lista terá mais de dois elementos e precisará ser dividida em duas partes, as quais serão ordenadas separadamente e depois juntas"
   ],
   "metadata": {
    "collapsed": false
   }
  },
  {
   "cell_type": "code",
   "execution_count": 105,
   "outputs": [
    {
     "name": "stdout",
     "output_type": "stream",
     "text": [
      "Resultado ordenado: []\n",
      "Resultado ordenado: [1]\n",
      "Resultado ordenado: [1, 2]\n",
      "Resultado ordenado: [1, 2, 3]\n",
      "Resultado ordenado: [1, 2, 3, 4]\n",
      "Resultado ordenado: [1, 2, 3, 4, 5]\n"
     ]
    }
   ],
   "source": [
    "def mergeSort(lista):\n",
    "    listaAtendeCondicaoParada = mergeSortCondicaoParada(lista)\n",
    "    # Retorna lista já ordenada caso já atenda o critério de parada\n",
    "    if listaAtendeCondicaoParada is not None:\n",
    "        return listaAtendeCondicaoParada\n",
    "\n",
    "    # Quebra a lista em duas metades e chama o mergeSort novamente\n",
    "    metade = len(lista)//2\n",
    "    metadeEsquerdaOrdenada = mergeSort(lista[:metade])\n",
    "    metadeDireitaOrdenada = mergeSort(lista[metade:])\n",
    "\n",
    "    # Junta metades ordenadas\n",
    "    listaFinal = []\n",
    "    while True:\n",
    "        # Se apenas a metade esquerda tiver elementos,\n",
    "        # copia todos os elementos para a lista final\n",
    "        if metadeEsquerdaOrdenada and not metadeDireitaOrdenada:\n",
    "            listaFinal.extend(metadeEsquerdaOrdenada)\n",
    "            break\n",
    "        # Se apenas a metade direita tiver elementos,\n",
    "        # copia todos os elementos para a lista final\n",
    "        elif not metadeEsquerdaOrdenada and metadeDireitaOrdenada:\n",
    "            listaFinal.extend(metadeDireitaOrdenada)\n",
    "            break\n",
    "        else:\n",
    "            # Caso ambas metades contenham elementos,\n",
    "            # copia o menor primeiro elemento entre as duas listas ordenadas\n",
    "            if metadeEsquerdaOrdenada[0] < metadeDireitaOrdenada[0]:\n",
    "                listaFinal.append(metadeEsquerdaOrdenada[0])\n",
    "                metadeEsquerdaOrdenada.pop(0)\n",
    "            else:\n",
    "                listaFinal.append(metadeDireitaOrdenada[0])\n",
    "                metadeDireitaOrdenada.pop(0)\n",
    "    return listaFinal\n",
    "\n",
    "print(\"Resultado ordenado:\", mergeSort([]))\n",
    "print(\"Resultado ordenado:\", mergeSort([1]))\n",
    "print(\"Resultado ordenado:\", mergeSort([2,1]))\n",
    "print(\"Resultado ordenado:\", mergeSort([3,2,1]))\n",
    "print(\"Resultado ordenado:\", mergeSort([4,3,2,1]))\n",
    "print(\"Resultado ordenado:\", mergeSort([5,4,3,2,1]))"
   ],
   "metadata": {
    "collapsed": false
   }
  },
  {
   "cell_type": "markdown",
   "source": [
    "Podemos observar a árvore de execução recursiva decorrente das chamadas do mergeSort.\n",
    "\n",
    "Aqui utilizaremos a ferramenta PyInstrument para fazer a impressão desta árvore.\n",
    "\n",
    "Perceba que o mergeSort chama a si mesmo duas vezes para processar cada uma das suas metades.\n",
    "\n"
   ],
   "metadata": {
    "collapsed": false
   }
  },
  {
   "cell_type": "code",
   "execution_count": 106,
   "outputs": [
    {
     "name": "stdout",
     "output_type": "stream",
     "text": [
      "\n",
      "  _     ._   __/__   _ _  _  _ _/_   Recorded: 17:43:57  Samples:  13286\n",
      " /_//_/// /_\\ / //_// / //_'/ //     Duration: 0.455     CPU time: 0.456\n",
      "/   _/                      v4.4.0\n",
      "\n",
      "Program: /mnt/dev/tools/source/ed_2022_2/venv/lib/python3.10/site-packages/ipykernel_launcher.py -f /home/gabriel/.local/share/jupyter/runtime/kernel-5c176e18-6ee9-4e1b-aad9-114ff1f808e2.json\n",
      "\n",
      "\u001B[31m0.454\u001B[0m ZMQInteractiveShell.run_ast_nodes\u001B[0m  \u001B[2mIPython/core/interactiveshell.py:3274\u001B[0m\n",
      "`- \u001B[31m0.450\u001B[0m \u001B[48;5;24m\u001B[38;5;15m<module>\u001B[0m  \u001B[2m../../../tmp/ipykernel_17303/1193443913.py:1\u001B[0m\n",
      "   `- \u001B[31m0.450\u001B[0m \u001B[48;5;24m\u001B[38;5;15mmergeSort\u001B[0m  \u001B[2m../../../tmp/ipykernel_17303/3417733175.py:1\u001B[0m\n",
      "      |- \u001B[33m0.229\u001B[0m \u001B[48;5;24m\u001B[38;5;15mmergeSort\u001B[0m  \u001B[2m../../../tmp/ipykernel_17303/3417733175.py:1\u001B[0m\n",
      "      |  |- \u001B[33m0.121\u001B[0m \u001B[48;5;24m\u001B[38;5;15mmergeSort\u001B[0m  \u001B[2m../../../tmp/ipykernel_17303/3417733175.py:1\u001B[0m\n",
      "      |  |  |- \u001B[32m0.073\u001B[0m \u001B[48;5;24m\u001B[38;5;15mmergeSort\u001B[0m  \u001B[2m../../../tmp/ipykernel_17303/3417733175.py:1\u001B[0m\n",
      "      |  |  |  |- \u001B[32m0.046\u001B[0m \u001B[48;5;24m\u001B[38;5;15mmergeSort\u001B[0m  \u001B[2m../../../tmp/ipykernel_17303/3417733175.py:1\u001B[0m\n",
      "      |  |  |  |  |- \u001B[92m\u001B[2m0.020\u001B[0m \u001B[48;5;24m\u001B[38;5;15mmergeSort\u001B[0m  \u001B[2m../../../tmp/ipykernel_17303/3417733175.py:1\u001B[0m\n",
      "      |  |  |  |  |  |- \u001B[92m\u001B[2m0.008\u001B[0m \u001B[48;5;24m\u001B[38;5;15mmergeSort\u001B[0m  \u001B[2m../../../tmp/ipykernel_17303/3417733175.py:1\u001B[0m\n",
      "      |  |  |  |  |  `- \u001B[92m\u001B[2m0.008\u001B[0m \u001B[48;5;24m\u001B[38;5;15mmergeSort\u001B[0m  \u001B[2m../../../tmp/ipykernel_17303/3417733175.py:1\u001B[0m\n",
      "      |  |  |  |  `- \u001B[92m\u001B[2m0.021\u001B[0m \u001B[48;5;24m\u001B[38;5;15mmergeSort\u001B[0m  \u001B[2m../../../tmp/ipykernel_17303/3417733175.py:1\u001B[0m\n",
      "      |  |  |  |     |- \u001B[92m\u001B[2m0.008\u001B[0m \u001B[48;5;24m\u001B[38;5;15mmergeSort\u001B[0m  \u001B[2m../../../tmp/ipykernel_17303/3417733175.py:1\u001B[0m\n",
      "      |  |  |  |     `- \u001B[92m\u001B[2m0.008\u001B[0m \u001B[48;5;24m\u001B[38;5;15mmergeSort\u001B[0m  \u001B[2m../../../tmp/ipykernel_17303/3417733175.py:1\u001B[0m\n",
      "      |  |  |  `- \u001B[92m\u001B[2m0.021\u001B[0m \u001B[48;5;24m\u001B[38;5;15mmergeSort\u001B[0m  \u001B[2m../../../tmp/ipykernel_17303/3417733175.py:1\u001B[0m\n",
      "      |  |  |     |- \u001B[92m\u001B[2m0.010\u001B[0m \u001B[48;5;24m\u001B[38;5;15mmergeSort\u001B[0m  \u001B[2m../../../tmp/ipykernel_17303/3417733175.py:1\u001B[0m\n",
      "      |  |  |     |  `- \u001B[92m\u001B[2m0.005\u001B[0m \u001B[48;5;24m\u001B[38;5;15mmergeSort\u001B[0m  \u001B[2m../../../tmp/ipykernel_17303/3417733175.py:1\u001B[0m\n",
      "      |  |  |     `- \u001B[92m\u001B[2m0.008\u001B[0m \u001B[48;5;24m\u001B[38;5;15mmergeSort\u001B[0m  \u001B[2m../../../tmp/ipykernel_17303/3417733175.py:1\u001B[0m\n",
      "      |  |  `- \u001B[32m0.040\u001B[0m \u001B[48;5;24m\u001B[38;5;15mmergeSort\u001B[0m  \u001B[2m../../../tmp/ipykernel_17303/3417733175.py:1\u001B[0m\n",
      "      |  |     |- \u001B[92m\u001B[2m0.018\u001B[0m \u001B[48;5;24m\u001B[38;5;15mmergeSort\u001B[0m  \u001B[2m../../../tmp/ipykernel_17303/3417733175.py:1\u001B[0m\n",
      "      |  |     |  |- \u001B[92m\u001B[2m0.008\u001B[0m \u001B[48;5;24m\u001B[38;5;15mmergeSort\u001B[0m  \u001B[2m../../../tmp/ipykernel_17303/3417733175.py:1\u001B[0m\n",
      "      |  |     |  `- \u001B[92m\u001B[2m0.008\u001B[0m \u001B[48;5;24m\u001B[38;5;15mmergeSort\u001B[0m  \u001B[2m../../../tmp/ipykernel_17303/3417733175.py:1\u001B[0m\n",
      "      |  |     `- \u001B[92m\u001B[2m0.018\u001B[0m \u001B[48;5;24m\u001B[38;5;15mmergeSort\u001B[0m  \u001B[2m../../../tmp/ipykernel_17303/3417733175.py:1\u001B[0m\n",
      "      |  |        |- \u001B[92m\u001B[2m0.008\u001B[0m \u001B[48;5;24m\u001B[38;5;15mmergeSort\u001B[0m  \u001B[2m../../../tmp/ipykernel_17303/3417733175.py:1\u001B[0m\n",
      "      |  |        `- \u001B[92m\u001B[2m0.008\u001B[0m \u001B[48;5;24m\u001B[38;5;15mmergeSort\u001B[0m  \u001B[2m../../../tmp/ipykernel_17303/3417733175.py:1\u001B[0m\n",
      "      |  `- \u001B[33m0.093\u001B[0m \u001B[48;5;24m\u001B[38;5;15mmergeSort\u001B[0m  \u001B[2m../../../tmp/ipykernel_17303/3417733175.py:1\u001B[0m\n",
      "      |     |- \u001B[32m0.040\u001B[0m \u001B[48;5;24m\u001B[38;5;15mmergeSort\u001B[0m  \u001B[2m../../../tmp/ipykernel_17303/3417733175.py:1\u001B[0m\n",
      "      |     |  |- \u001B[92m\u001B[2m0.018\u001B[0m \u001B[48;5;24m\u001B[38;5;15mmergeSort\u001B[0m  \u001B[2m../../../tmp/ipykernel_17303/3417733175.py:1\u001B[0m\n",
      "      |     |  |  |- \u001B[92m\u001B[2m0.008\u001B[0m \u001B[48;5;24m\u001B[38;5;15mmergeSort\u001B[0m  \u001B[2m../../../tmp/ipykernel_17303/3417733175.py:1\u001B[0m\n",
      "      |     |  |  `- \u001B[92m\u001B[2m0.008\u001B[0m \u001B[48;5;24m\u001B[38;5;15mmergeSort\u001B[0m  \u001B[2m../../../tmp/ipykernel_17303/3417733175.py:1\u001B[0m\n",
      "      |     |  `- \u001B[92m\u001B[2m0.018\u001B[0m \u001B[48;5;24m\u001B[38;5;15mmergeSort\u001B[0m  \u001B[2m../../../tmp/ipykernel_17303/3417733175.py:1\u001B[0m\n",
      "      |     |     |- \u001B[92m\u001B[2m0.008\u001B[0m \u001B[48;5;24m\u001B[38;5;15mmergeSort\u001B[0m  \u001B[2m../../../tmp/ipykernel_17303/3417733175.py:1\u001B[0m\n",
      "      |     |     `- \u001B[92m\u001B[2m0.008\u001B[0m \u001B[48;5;24m\u001B[38;5;15mmergeSort\u001B[0m  \u001B[2m../../../tmp/ipykernel_17303/3417733175.py:1\u001B[0m\n",
      "      |     `- \u001B[32m0.041\u001B[0m \u001B[48;5;24m\u001B[38;5;15mmergeSort\u001B[0m  \u001B[2m../../../tmp/ipykernel_17303/3417733175.py:1\u001B[0m\n",
      "      |        |- \u001B[92m\u001B[2m0.018\u001B[0m \u001B[48;5;24m\u001B[38;5;15mmergeSort\u001B[0m  \u001B[2m../../../tmp/ipykernel_17303/3417733175.py:1\u001B[0m\n",
      "      |        |  |- \u001B[92m\u001B[2m0.008\u001B[0m \u001B[48;5;24m\u001B[38;5;15mmergeSort\u001B[0m  \u001B[2m../../../tmp/ipykernel_17303/3417733175.py:1\u001B[0m\n",
      "      |        |  `- \u001B[92m\u001B[2m0.008\u001B[0m \u001B[48;5;24m\u001B[38;5;15mmergeSort\u001B[0m  \u001B[2m../../../tmp/ipykernel_17303/3417733175.py:1\u001B[0m\n",
      "      |        `- \u001B[92m\u001B[2m0.019\u001B[0m \u001B[48;5;24m\u001B[38;5;15mmergeSort\u001B[0m  \u001B[2m../../../tmp/ipykernel_17303/3417733175.py:1\u001B[0m\n",
      "      |           |- \u001B[92m\u001B[2m0.008\u001B[0m \u001B[48;5;24m\u001B[38;5;15mmergeSort\u001B[0m  \u001B[2m../../../tmp/ipykernel_17303/3417733175.py:1\u001B[0m\n",
      "      |           `- \u001B[92m\u001B[2m0.008\u001B[0m \u001B[48;5;24m\u001B[38;5;15mmergeSort\u001B[0m  \u001B[2m../../../tmp/ipykernel_17303/3417733175.py:1\u001B[0m\n",
      "      `- \u001B[33m0.192\u001B[0m \u001B[48;5;24m\u001B[38;5;15mmergeSort\u001B[0m  \u001B[2m../../../tmp/ipykernel_17303/3417733175.py:1\u001B[0m\n",
      "         |- \u001B[32m0.087\u001B[0m \u001B[48;5;24m\u001B[38;5;15mmergeSort\u001B[0m  \u001B[2m../../../tmp/ipykernel_17303/3417733175.py:1\u001B[0m\n",
      "         |  |- \u001B[32m0.040\u001B[0m \u001B[48;5;24m\u001B[38;5;15mmergeSort\u001B[0m  \u001B[2m../../../tmp/ipykernel_17303/3417733175.py:1\u001B[0m\n",
      "         |  |  |- \u001B[92m\u001B[2m0.018\u001B[0m \u001B[48;5;24m\u001B[38;5;15mmergeSort\u001B[0m  \u001B[2m../../../tmp/ipykernel_17303/3417733175.py:1\u001B[0m\n",
      "         |  |  |  |- \u001B[92m\u001B[2m0.008\u001B[0m \u001B[48;5;24m\u001B[38;5;15mmergeSort\u001B[0m  \u001B[2m../../../tmp/ipykernel_17303/3417733175.py:1\u001B[0m\n",
      "         |  |  |  `- \u001B[92m\u001B[2m0.008\u001B[0m \u001B[48;5;24m\u001B[38;5;15mmergeSort\u001B[0m  \u001B[2m../../../tmp/ipykernel_17303/3417733175.py:1\u001B[0m\n",
      "         |  |  `- \u001B[92m\u001B[2m0.018\u001B[0m \u001B[48;5;24m\u001B[38;5;15mmergeSort\u001B[0m  \u001B[2m../../../tmp/ipykernel_17303/3417733175.py:1\u001B[0m\n",
      "         |  |     |- \u001B[92m\u001B[2m0.008\u001B[0m \u001B[48;5;24m\u001B[38;5;15mmergeSort\u001B[0m  \u001B[2m../../../tmp/ipykernel_17303/3417733175.py:1\u001B[0m\n",
      "         |  |     `- \u001B[92m\u001B[2m0.008\u001B[0m \u001B[48;5;24m\u001B[38;5;15mmergeSort\u001B[0m  \u001B[2m../../../tmp/ipykernel_17303/3417733175.py:1\u001B[0m\n",
      "         |  `- \u001B[32m0.040\u001B[0m \u001B[48;5;24m\u001B[38;5;15mmergeSort\u001B[0m  \u001B[2m../../../tmp/ipykernel_17303/3417733175.py:1\u001B[0m\n",
      "         |     |- \u001B[92m\u001B[2m0.018\u001B[0m \u001B[48;5;24m\u001B[38;5;15mmergeSort\u001B[0m  \u001B[2m../../../tmp/ipykernel_17303/3417733175.py:1\u001B[0m\n",
      "         |     |  |- \u001B[92m\u001B[2m0.008\u001B[0m \u001B[48;5;24m\u001B[38;5;15mmergeSort\u001B[0m  \u001B[2m../../../tmp/ipykernel_17303/3417733175.py:1\u001B[0m\n",
      "         |     |  `- \u001B[92m\u001B[2m0.008\u001B[0m \u001B[48;5;24m\u001B[38;5;15mmergeSort\u001B[0m  \u001B[2m../../../tmp/ipykernel_17303/3417733175.py:1\u001B[0m\n",
      "         |     `- \u001B[92m\u001B[2m0.018\u001B[0m \u001B[48;5;24m\u001B[38;5;15mmergeSort\u001B[0m  \u001B[2m../../../tmp/ipykernel_17303/3417733175.py:1\u001B[0m\n",
      "         |        |- \u001B[92m\u001B[2m0.008\u001B[0m \u001B[48;5;24m\u001B[38;5;15mmergeSort\u001B[0m  \u001B[2m../../../tmp/ipykernel_17303/3417733175.py:1\u001B[0m\n",
      "         |        `- \u001B[92m\u001B[2m0.008\u001B[0m \u001B[48;5;24m\u001B[38;5;15mmergeSort\u001B[0m  \u001B[2m../../../tmp/ipykernel_17303/3417733175.py:1\u001B[0m\n",
      "         `- \u001B[33m0.091\u001B[0m \u001B[48;5;24m\u001B[38;5;15mmergeSort\u001B[0m  \u001B[2m../../../tmp/ipykernel_17303/3417733175.py:1\u001B[0m\n",
      "            |- \u001B[32m0.043\u001B[0m \u001B[48;5;24m\u001B[38;5;15mmergeSort\u001B[0m  \u001B[2m../../../tmp/ipykernel_17303/3417733175.py:1\u001B[0m\n",
      "            |  |- \u001B[92m\u001B[2m0.018\u001B[0m \u001B[48;5;24m\u001B[38;5;15mmergeSort\u001B[0m  \u001B[2m../../../tmp/ipykernel_17303/3417733175.py:1\u001B[0m\n",
      "            |  |  |- \u001B[92m\u001B[2m0.008\u001B[0m \u001B[48;5;24m\u001B[38;5;15mmergeSort\u001B[0m  \u001B[2m../../../tmp/ipykernel_17303/3417733175.py:1\u001B[0m\n",
      "            |  |  `- \u001B[92m\u001B[2m0.008\u001B[0m \u001B[48;5;24m\u001B[38;5;15mmergeSort\u001B[0m  \u001B[2m../../../tmp/ipykernel_17303/3417733175.py:1\u001B[0m\n",
      "            |  `- \u001B[92m\u001B[2m0.021\u001B[0m \u001B[48;5;24m\u001B[38;5;15mmergeSort\u001B[0m  \u001B[2m../../../tmp/ipykernel_17303/3417733175.py:1\u001B[0m\n",
      "            |     |- \u001B[92m\u001B[2m0.011\u001B[0m \u001B[48;5;24m\u001B[38;5;15mmergeSort\u001B[0m  \u001B[2m../../../tmp/ipykernel_17303/3417733175.py:1\u001B[0m\n",
      "            |     |  `- \u001B[92m\u001B[2m0.007\u001B[0m \u001B[48;5;24m\u001B[38;5;15mmergeSort\u001B[0m  \u001B[2m../../../tmp/ipykernel_17303/3417733175.py:1\u001B[0m\n",
      "            |     |     `- \u001B[92m\u001B[2m0.005\u001B[0m \u001B[48;5;24m\u001B[38;5;15mmergeSort\u001B[0m  \u001B[2m../../../tmp/ipykernel_17303/3417733175.py:1\u001B[0m\n",
      "            |     `- \u001B[92m\u001B[2m0.008\u001B[0m \u001B[48;5;24m\u001B[38;5;15mmergeSort\u001B[0m  \u001B[2m../../../tmp/ipykernel_17303/3417733175.py:1\u001B[0m\n",
      "            `- \u001B[32m0.040\u001B[0m \u001B[48;5;24m\u001B[38;5;15mmergeSort\u001B[0m  \u001B[2m../../../tmp/ipykernel_17303/3417733175.py:1\u001B[0m\n",
      "               |- \u001B[92m\u001B[2m0.018\u001B[0m \u001B[48;5;24m\u001B[38;5;15mmergeSort\u001B[0m  \u001B[2m../../../tmp/ipykernel_17303/3417733175.py:1\u001B[0m\n",
      "               |  |- \u001B[92m\u001B[2m0.008\u001B[0m \u001B[48;5;24m\u001B[38;5;15mmergeSort\u001B[0m  \u001B[2m../../../tmp/ipykernel_17303/3417733175.py:1\u001B[0m\n",
      "               |  `- \u001B[92m\u001B[2m0.008\u001B[0m \u001B[48;5;24m\u001B[38;5;15mmergeSort\u001B[0m  \u001B[2m../../../tmp/ipykernel_17303/3417733175.py:1\u001B[0m\n",
      "               `- \u001B[92m\u001B[2m0.018\u001B[0m \u001B[48;5;24m\u001B[38;5;15mmergeSort\u001B[0m  \u001B[2m../../../tmp/ipykernel_17303/3417733175.py:1\u001B[0m\n",
      "                  |- \u001B[92m\u001B[2m0.008\u001B[0m \u001B[48;5;24m\u001B[38;5;15mmergeSort\u001B[0m  \u001B[2m../../../tmp/ipykernel_17303/3417733175.py:1\u001B[0m\n",
      "                  `- \u001B[92m\u001B[2m0.008\u001B[0m \u001B[48;5;24m\u001B[38;5;15mmergeSort\u001B[0m  \u001B[2m../../../tmp/ipykernel_17303/3417733175.py:1\u001B[0m\n",
      "\n",
      "\n"
     ]
    }
   ],
   "source": [
    "from pyinstrument import Profiler\n",
    "p = Profiler(interval=0.00001)\n",
    "p.start()\n",
    "resultado = mergeSort([500-i for i in range(500)])\n",
    "p.stop()\n",
    "print(p.output_text(color=True, show_all=True, timeline=True))"
   ],
   "metadata": {
    "collapsed": false
   }
  },
  {
   "cell_type": "markdown",
   "source": [
    "Provavelmente irá perceber que a condição de parada não foi impressa, apesar de ter sido executada.\n",
    "\n",
    "Isto é resultado da medição por amostragem feita pelo PyInstrument.\n",
    "\n",
    "Se mudarmos o intervalo de amostragem, podemos aumentar a probabilidade de uma amostra aparecer."
   ],
   "metadata": {
    "collapsed": false
   }
  },
  {
   "cell_type": "code",
   "execution_count": 107,
   "outputs": [
    {
     "name": "stdout",
     "output_type": "stream",
     "text": [
      "\n",
      "  _     ._   __/__   _ _  _  _ _/_   Recorded: 17:43:58  Samples:  7\n",
      " /_//_/// /_\\ / //_// / //_'/ //     Duration: 0.001     CPU time: 0.001\n",
      "/   _/                      v4.4.0\n",
      "\n",
      "Program: /mnt/dev/tools/source/ed_2022_2/venv/lib/python3.10/site-packages/ipykernel_launcher.py -f /home/gabriel/.local/share/jupyter/runtime/kernel-5c176e18-6ee9-4e1b-aad9-114ff1f808e2.json\n",
      "\n",
      "\u001B[31m0.001\u001B[0m ZMQInteractiveShell.run_ast_nodes\u001B[0m  \u001B[2mIPython/core/interactiveshell.py:3274\u001B[0m\n",
      "|- \u001B[31m0.001\u001B[0m \u001B[48;5;24m\u001B[38;5;15m<module>\u001B[0m  \u001B[2m../../../tmp/ipykernel_17303/3508207992.py:1\u001B[0m\n",
      "|  `- \u001B[31m0.001\u001B[0m \u001B[48;5;24m\u001B[38;5;15mmergeSort\u001B[0m  \u001B[2m../../../tmp/ipykernel_17303/3417733175.py:1\u001B[0m\n",
      "|     `- \u001B[31m0.001\u001B[0m \u001B[48;5;24m\u001B[38;5;15mmergeSort\u001B[0m  \u001B[2m../../../tmp/ipykernel_17303/3417733175.py:1\u001B[0m\n",
      "|        |- \u001B[31m0.001\u001B[0m \u001B[48;5;24m\u001B[38;5;15mmergeSort\u001B[0m  \u001B[2m../../../tmp/ipykernel_17303/3417733175.py:1\u001B[0m\n",
      "|        |  |- \u001B[32m0.000\u001B[0m \u001B[48;5;24m\u001B[38;5;15mmergeSort\u001B[0m  \u001B[2m../../../tmp/ipykernel_17303/3417733175.py:1\u001B[0m\n",
      "|        |  |  `- \u001B[32m0.000\u001B[0m \u001B[48;5;24m\u001B[38;5;15mmergeSort\u001B[0m  \u001B[2m../../../tmp/ipykernel_17303/3417733175.py:1\u001B[0m\n",
      "|        |  |     `- \u001B[32m0.000\u001B[0m \u001B[48;5;24m\u001B[38;5;15mmergeSort\u001B[0m  \u001B[2m../../../tmp/ipykernel_17303/3417733175.py:1\u001B[0m\n",
      "|        |  |        `- \u001B[32m0.000\u001B[0m \u001B[48;5;24m\u001B[38;5;15mmergeSort\u001B[0m  \u001B[2m../../../tmp/ipykernel_17303/3417733175.py:1\u001B[0m\n",
      "|        |  |           `- \u001B[32m0.000\u001B[0m \u001B[48;5;24m\u001B[38;5;15mmergeSortCondicaoParada\u001B[0m  \u001B[2m../../../tmp/ipykernel_17303/1625165271.py:1\u001B[0m\n",
      "|        |  |- \u001B[32m0.000\u001B[0m [self]\u001B[0m  \u001B[2mNone\u001B[0m\n",
      "|        |  `- \u001B[33m0.000\u001B[0m \u001B[48;5;24m\u001B[38;5;15mmergeSort\u001B[0m  \u001B[2m../../../tmp/ipykernel_17303/3417733175.py:1\u001B[0m\n",
      "|        |     `- \u001B[33m0.000\u001B[0m \u001B[48;5;24m\u001B[38;5;15mmergeSort\u001B[0m  \u001B[2m../../../tmp/ipykernel_17303/3417733175.py:1\u001B[0m\n",
      "|        |        `- \u001B[33m0.000\u001B[0m \u001B[48;5;24m\u001B[38;5;15mmergeSort\u001B[0m  \u001B[2m../../../tmp/ipykernel_17303/3417733175.py:1\u001B[0m\n",
      "|        |           |- \u001B[32m0.000\u001B[0m \u001B[48;5;24m\u001B[38;5;15mmergeSort\u001B[0m  \u001B[2m../../../tmp/ipykernel_17303/3417733175.py:1\u001B[0m\n",
      "|        |           |  `- \u001B[32m0.000\u001B[0m \u001B[48;5;24m\u001B[38;5;15mmergeSortCondicaoParada\u001B[0m  \u001B[2m../../../tmp/ipykernel_17303/1625165271.py:1\u001B[0m\n",
      "|        |           |- \u001B[32m0.000\u001B[0m list.append\u001B[0m  \u001B[2mNone\u001B[0m\n",
      "|        |           `- \u001B[32m0.000\u001B[0m [self]\u001B[0m  \u001B[2mNone\u001B[0m\n",
      "|        `- \u001B[32m0.000\u001B[0m [self]\u001B[0m  \u001B[2mNone\u001B[0m\n",
      "`- \u001B[32m0.000\u001B[0m XCachingCompiler.__call__\u001B[0m  \u001B[2mcodeop.py:117\u001B[0m\n",
      "   `- \u001B[32m0.000\u001B[0m compile\u001B[0m  \u001B[2mNone\u001B[0m\n",
      "\n",
      "\n"
     ]
    }
   ],
   "source": [
    "from pyinstrument import Profiler\n",
    "p = Profiler(interval=0.0001)\n",
    "p.start()\n",
    "resultado = mergeSort([100-i for i in range(100)])\n",
    "p.stop()\n",
    "print(p.output_text(color=True, show_all=True, timeline=True))"
   ],
   "metadata": {
    "collapsed": false
   }
  },
  {
   "cell_type": "markdown",
   "source": [
    "A mesma estratégia recursiva pode ser utilizada para resolver os mais diversos problemas.\n",
    "\n",
    "Outro exemplo já mostrado na introdução foi a procura pela rota mais curta entre dois vértices de um grafo.\n",
    "\n",
    "Criemos primeiro um grafo com rotas aéreas entre algumas cidades"
   ],
   "metadata": {
    "collapsed": false
   }
  },
  {
   "cell_type": "code",
   "execution_count": 108,
   "outputs": [],
   "source": [
    "class Vertice():\n",
    "    def __init__(self, nome):\n",
    "        self.nome = nome\n",
    "        self.verticesConectados = []\n",
    "\n",
    "    def adicionarVerticeConectado(self, novoVertice, distancia):\n",
    "        self.verticesConectados.append((novoVertice, distancia))\n",
    "        novoVertice.verticesConectados.append((self, distancia))\n",
    "\n",
    "    def apagarConexao(self, vertice):\n",
    "        for (verticeConectado, distancia) in self.verticesConectados:\n",
    "            if verticeConectado == vertice:\n",
    "                self.verticesConectados.remove((verticeConectado, distancia))\n",
    "                verticeConectado.verticesConectados.remove((self, distancia))\n",
    "                break\n",
    "\n",
    "    def apagarConexoes(self):\n",
    "        for (verticeConectado, distancia) in self.verticesConectados:\n",
    "            for verticeTuple in verticeConectado.verticesConectados:\n",
    "                if verticeTuple[0] == self:\n",
    "                    verticeConectado.verticesConectados.remove(verticeTuple)\n",
    "        del self\n",
    "\n",
    "# Belém (Val-de-cans) e Brasília (Juscelino Kubitscheck)\n",
    "bel = Vertice(\"BEL\")\n",
    "bsb = Vertice(\"BSB\")\n",
    "bel.adicionarVerticeConectado(bsb, 1600)\n",
    "\n",
    "# Belo Horizonte (Confins)\n",
    "cnf = Vertice(\"CNF\")\n",
    "bel.adicionarVerticeConectado(cnf, 2100)\n",
    "bsb.adicionarVerticeConectado(cnf, 618)\n",
    "\n",
    "# São Paulo (Guarulhos)\n",
    "gru = Vertice(\"GRU\")\n",
    "bel.adicionarVerticeConectado(gru, 2472)\n",
    "bsb.adicionarVerticeConectado(gru, 876)\n",
    "\n",
    "# Rio de Janeiro (Galeão)\n",
    "gig = Vertice(\"GIG\")\n",
    "gig.adicionarVerticeConectado(gru, 360)\n",
    "gig.adicionarVerticeConectado(bsb, 936)\n",
    "gig.adicionarVerticeConectado(cnf, 340)"
   ],
   "metadata": {
    "collapsed": false
   }
  },
  {
   "cell_type": "markdown",
   "source": [
    "Em seguida, montamos a estratégia recursiva para encontrar a menor rota"
   ],
   "metadata": {
    "collapsed": false
   }
  },
  {
   "cell_type": "markdown",
   "source": [],
   "metadata": {
    "collapsed": false
   }
  },
  {
   "cell_type": "code",
   "execution_count": 109,
   "outputs": [
    {
     "name": "stdout",
     "output_type": "stream",
     "text": [
      "Rota mais curta entre Belém e Guarulhos:2472 km passando por ['BEL', 'GRU']\n"
     ]
    }
   ],
   "source": [
    "def buscaRotaMaisCurta (verticePartida, verticeDestino, distanciaVisitada=0, verticesVisitados=None):\n",
    "    # Esta é uma função recursiva\n",
    "    if verticesVisitados is None:\n",
    "        verticesVisitados = [verticePartida]\n",
    "\n",
    "    # A condição de parada é quando o vértice de destino já está na rota,\n",
    "    # o que significa que chegamos ao destino usando a rota descrita pelos\n",
    "    # vértices visitados\n",
    "    if verticeDestino in verticesVisitados:\n",
    "        return distanciaVisitada, verticesVisitados\n",
    "\n",
    "    distanciaRotaMaisCurta = 99999999999999 # distância absurda\n",
    "    rotaMaisCurta = None\n",
    "\n",
    "    # Para cada vértice conectado ao ponto de partida, explore os vértices conectados\n",
    "    for (verticeEscala, distancia) in verticePartida.verticesConectados:\n",
    "        # Não faça duas escalas numa mesma cidade\n",
    "        if verticeEscala in verticesVisitados:\n",
    "            continue\n",
    "        # Busca a menor rota entre o vértice de escala e o destino\n",
    "        distanciaNovaRota, NovaRota = buscaRotaMaisCurta(verticeEscala,\n",
    "                                                         verticeDestino,\n",
    "                                                         distanciaVisitada+distancia,\n",
    "                                                         [*verticesVisitados, verticeEscala])\n",
    "        # Pegue sempre a rota mais curta\n",
    "        if distanciaNovaRota < distanciaRotaMaisCurta:\n",
    "            distanciaRotaMaisCurta = distanciaNovaRota\n",
    "            rotaMaisCurta = NovaRota\n",
    "\n",
    "    # Retorne as rotas parciais mais curtas\n",
    "    return distanciaRotaMaisCurta, rotaMaisCurta\n",
    "\n",
    "distancia, rota = buscaRotaMaisCurta(bel, gru)\n",
    "print(\"Rota mais curta entre Belém e Guarulhos:%d km passando por %s\" % (distancia, list(map(lambda x: x.nome, rota))))"
   ],
   "metadata": {
    "collapsed": false
   }
  },
  {
   "cell_type": "markdown",
   "source": [
    "Agora removamos a conexão direta entre Guarulhos e Belém e procuremos a rota alternativa mais curta"
   ],
   "metadata": {
    "collapsed": false
   }
  },
  {
   "cell_type": "code",
   "execution_count": 110,
   "outputs": [
    {
     "name": "stdout",
     "output_type": "stream",
     "text": [
      "Rota mais curta entre Belém e Guarulhos:2476 km passando por ['BEL', 'BSB', 'GRU']\n"
     ]
    }
   ],
   "source": [
    "gru.apagarConexao(bel)\n",
    "distancia, rota = buscaRotaMaisCurta(bel, gru)\n",
    "print(\"Rota mais curta entre Belém e Guarulhos:%d km passando por %s\" % (distancia, list(map(lambda x: x.nome, rota))))"
   ],
   "metadata": {
    "collapsed": false
   }
  },
  {
   "cell_type": "markdown",
   "source": [
    "Agora removamos a conexão direta entre Brasília e Belém e procuremos a rota alternativa mais curta"
   ],
   "metadata": {
    "collapsed": false
   }
  },
  {
   "cell_type": "code",
   "execution_count": 111,
   "outputs": [
    {
     "name": "stdout",
     "output_type": "stream",
     "text": [
      "Rota mais curta entre Belém e Guarulhos:2800 km passando por ['BEL', 'CNF', 'GIG', 'GRU']\n",
      "\n",
      "  _     ._   __/__   _ _  _  _ _/_   Recorded: 17:43:58  Samples:  103\n",
      " /_//_/// /_\\ / //_// / //_'/ //     Duration: 0.003     CPU time: 0.003\n",
      "/   _/                      v4.4.0\n",
      "\n",
      "Program: /mnt/dev/tools/source/ed_2022_2/venv/lib/python3.10/site-packages/ipykernel_launcher.py -f /home/gabriel/.local/share/jupyter/runtime/kernel-5c176e18-6ee9-4e1b-aad9-114ff1f808e2.json\n",
      "\n",
      "\u001B[31m0.003\u001B[0m ZMQInteractiveShell.run_ast_nodes\u001B[0m  \u001B[2mIPython/core/interactiveshell.py:3274\u001B[0m\n",
      "|- \u001B[92m\u001B[2m0.000\u001B[0m [self]\u001B[0m  \u001B[2mNone\u001B[0m\n",
      "|- \u001B[92m\u001B[2m0.000\u001B[0m helper\u001B[0m  \u001B[2mcontextlib.py:279\u001B[0m\n",
      "|  `- \u001B[92m\u001B[2m0.000\u001B[0m _GeneratorContextManager.__init__\u001B[0m  \u001B[2mcontextlib.py:102\u001B[0m\n",
      "|- \u001B[92m\u001B[2m0.000\u001B[0m _GeneratorContextManager.__enter__\u001B[0m  \u001B[2mcontextlib.py:130\u001B[0m\n",
      "|  `- \u001B[92m\u001B[2m0.000\u001B[0m [self]\u001B[0m  \u001B[2mNone\u001B[0m\n",
      "|- \u001B[92m\u001B[2m0.000\u001B[0m XCachingCompiler.__call__\u001B[0m  \u001B[2mcodeop.py:117\u001B[0m\n",
      "|  |- \u001B[92m\u001B[2m0.000\u001B[0m [self]\u001B[0m  \u001B[2mNone\u001B[0m\n",
      "|  |- \u001B[92m\u001B[2m0.000\u001B[0m compile\u001B[0m  \u001B[2mNone\u001B[0m\n",
      "|  `- \u001B[92m\u001B[2m0.000\u001B[0m [self]\u001B[0m  \u001B[2mNone\u001B[0m\n",
      "|- \u001B[92m\u001B[2m0.000\u001B[0m _GeneratorContextManager.__exit__\u001B[0m  \u001B[2mcontextlib.py:139\u001B[0m\n",
      "|  `- \u001B[92m\u001B[2m0.000\u001B[0m [self]\u001B[0m  \u001B[2mNone\u001B[0m\n",
      "|- \u001B[92m\u001B[2m0.000\u001B[0m [self]\u001B[0m  \u001B[2mNone\u001B[0m\n",
      "|- \u001B[92m\u001B[2m0.000\u001B[0m [self]\u001B[0m  \u001B[2mNone\u001B[0m\n",
      "|- \u001B[33m0.001\u001B[0m \u001B[48;5;24m\u001B[38;5;15m<module>\u001B[0m  \u001B[2m../../../tmp/ipykernel_17303/2348155953.py:1\u001B[0m\n",
      "|  `- \u001B[33m0.001\u001B[0m \u001B[48;5;24m\u001B[38;5;15mbuscaRotaMaisCurta\u001B[0m  \u001B[2m../../../tmp/ipykernel_17303/2064920437.py:1\u001B[0m\n",
      "|     `- \u001B[32m0.000\u001B[0m \u001B[48;5;24m\u001B[38;5;15mbuscaRotaMaisCurta\u001B[0m  \u001B[2m../../../tmp/ipykernel_17303/2064920437.py:1\u001B[0m\n",
      "|        |- \u001B[92m\u001B[2m0.000\u001B[0m [self]\u001B[0m  \u001B[2mNone\u001B[0m\n",
      "|        |- \u001B[32m0.000\u001B[0m \u001B[48;5;24m\u001B[38;5;15mbuscaRotaMaisCurta\u001B[0m  \u001B[2m../../../tmp/ipykernel_17303/2064920437.py:1\u001B[0m\n",
      "|        |  |- \u001B[92m\u001B[2m0.000\u001B[0m [self]\u001B[0m  \u001B[2mNone\u001B[0m\n",
      "|        |  |- \u001B[92m\u001B[2m0.000\u001B[0m \u001B[48;5;24m\u001B[38;5;15mbuscaRotaMaisCurta\u001B[0m  \u001B[2m../../../tmp/ipykernel_17303/2064920437.py:1\u001B[0m\n",
      "|        |  |- \u001B[92m\u001B[2m0.000\u001B[0m [self]\u001B[0m  \u001B[2mNone\u001B[0m\n",
      "|        |  |- \u001B[92m\u001B[2m0.000\u001B[0m \u001B[48;5;24m\u001B[38;5;15mbuscaRotaMaisCurta\u001B[0m  \u001B[2m../../../tmp/ipykernel_17303/2064920437.py:1\u001B[0m\n",
      "|        |  |  |- \u001B[92m\u001B[2m0.000\u001B[0m [self]\u001B[0m  \u001B[2mNone\u001B[0m\n",
      "|        |  |  |- \u001B[92m\u001B[2m0.000\u001B[0m \u001B[48;5;24m\u001B[38;5;15mbuscaRotaMaisCurta\u001B[0m  \u001B[2m../../../tmp/ipykernel_17303/2064920437.py:1\u001B[0m\n",
      "|        |  |  `- \u001B[92m\u001B[2m0.000\u001B[0m [self]\u001B[0m  \u001B[2mNone\u001B[0m\n",
      "|        |  `- \u001B[92m\u001B[2m0.000\u001B[0m [self]\u001B[0m  \u001B[2mNone\u001B[0m\n",
      "|        |- \u001B[92m\u001B[2m0.000\u001B[0m [self]\u001B[0m  \u001B[2mNone\u001B[0m\n",
      "|        |- \u001B[32m0.000\u001B[0m \u001B[48;5;24m\u001B[38;5;15mbuscaRotaMaisCurta\u001B[0m  \u001B[2m../../../tmp/ipykernel_17303/2064920437.py:1\u001B[0m\n",
      "|        |  |- \u001B[92m\u001B[2m0.000\u001B[0m [self]\u001B[0m  \u001B[2mNone\u001B[0m\n",
      "|        |  |- \u001B[92m\u001B[2m0.000\u001B[0m \u001B[48;5;24m\u001B[38;5;15mbuscaRotaMaisCurta\u001B[0m  \u001B[2m../../../tmp/ipykernel_17303/2064920437.py:1\u001B[0m\n",
      "|        |  |- \u001B[92m\u001B[2m0.000\u001B[0m [self]\u001B[0m  \u001B[2mNone\u001B[0m\n",
      "|        |  |- \u001B[92m\u001B[2m0.000\u001B[0m \u001B[48;5;24m\u001B[38;5;15mbuscaRotaMaisCurta\u001B[0m  \u001B[2m../../../tmp/ipykernel_17303/2064920437.py:1\u001B[0m\n",
      "|        |  |  |- \u001B[92m\u001B[2m0.000\u001B[0m [self]\u001B[0m  \u001B[2mNone\u001B[0m\n",
      "|        |  |  |- \u001B[92m\u001B[2m0.000\u001B[0m \u001B[48;5;24m\u001B[38;5;15mbuscaRotaMaisCurta\u001B[0m  \u001B[2m../../../tmp/ipykernel_17303/2064920437.py:1\u001B[0m\n",
      "|        |  |  `- \u001B[92m\u001B[2m0.000\u001B[0m [self]\u001B[0m  \u001B[2mNone\u001B[0m\n",
      "|        |  `- \u001B[92m\u001B[2m0.000\u001B[0m [self]\u001B[0m  \u001B[2mNone\u001B[0m\n",
      "|        `- \u001B[92m\u001B[2m0.000\u001B[0m [self]\u001B[0m  \u001B[2mNone\u001B[0m\n",
      "|- \u001B[92m\u001B[2m0.000\u001B[0m [self]\u001B[0m  \u001B[2mNone\u001B[0m\n",
      "|- \u001B[92m\u001B[2m0.000\u001B[0m Bool.__get__\u001B[0m  \u001B[2mtraitlets/traitlets.py:675\u001B[0m\n",
      "|- \u001B[92m\u001B[2m0.000\u001B[0m helper\u001B[0m  \u001B[2mcontextlib.py:279\u001B[0m\n",
      "|  `- \u001B[92m\u001B[2m0.000\u001B[0m _GeneratorContextManager.__init__\u001B[0m  \u001B[2mcontextlib.py:102\u001B[0m\n",
      "|     `- \u001B[92m\u001B[2m0.000\u001B[0m [self]\u001B[0m  \u001B[2mNone\u001B[0m\n",
      "|- \u001B[92m\u001B[2m0.000\u001B[0m _GeneratorContextManager.__enter__\u001B[0m  \u001B[2mcontextlib.py:130\u001B[0m\n",
      "|  `- \u001B[92m\u001B[2m0.000\u001B[0m [self]\u001B[0m  \u001B[2mNone\u001B[0m\n",
      "|- \u001B[92m\u001B[2m0.000\u001B[0m XCachingCompiler.__call__\u001B[0m  \u001B[2mcodeop.py:117\u001B[0m\n",
      "|  |- \u001B[92m\u001B[2m0.000\u001B[0m compile\u001B[0m  \u001B[2mNone\u001B[0m\n",
      "|  `- \u001B[92m\u001B[2m0.000\u001B[0m [self]\u001B[0m  \u001B[2mNone\u001B[0m\n",
      "|- \u001B[92m\u001B[2m0.000\u001B[0m _GeneratorContextManager.__exit__\u001B[0m  \u001B[2mcontextlib.py:139\u001B[0m\n",
      "|  `- \u001B[92m\u001B[2m0.000\u001B[0m [self]\u001B[0m  \u001B[2mNone\u001B[0m\n",
      "|- \u001B[92m\u001B[2m0.000\u001B[0m [self]\u001B[0m  \u001B[2mNone\u001B[0m\n",
      "|- \u001B[92m\u001B[2m0.000\u001B[0m [self]\u001B[0m  \u001B[2mNone\u001B[0m\n",
      "`- \u001B[32m0.000\u001B[0m \u001B[48;5;24m\u001B[38;5;15m<module>\u001B[0m  \u001B[2m../../../tmp/ipykernel_17303/2348155953.py:1\u001B[0m\n",
      "   `- \u001B[32m0.000\u001B[0m Profiler.stop\u001B[0m  \u001B[2mpyinstrument/profiler.py:136\u001B[0m\n",
      "      |- \u001B[92m\u001B[2m0.000\u001B[0m get_stack_sampler\u001B[0m  \u001B[2mpyinstrument/stack_sampler.py:154\u001B[0m\n",
      "      `- \u001B[32m0.000\u001B[0m StackSampler.unsubscribe\u001B[0m  \u001B[2mpyinstrument/stack_sampler.py:77\u001B[0m\n",
      "         |- \u001B[92m\u001B[2m0.000\u001B[0m [self]\u001B[0m  \u001B[2mNone\u001B[0m\n",
      "         |- \u001B[92m\u001B[2m0.000\u001B[0m [self]\u001B[0m  \u001B[2mNone\u001B[0m\n",
      "         |- \u001B[92m\u001B[2m0.000\u001B[0m ContextVar.set\u001B[0m  \u001B[2mNone\u001B[0m\n",
      "         `- \u001B[92m\u001B[2m0.000\u001B[0m [self]\u001B[0m  \u001B[2mNone\u001B[0m\n",
      "\n",
      "\n"
     ]
    }
   ],
   "source": [
    "bsb.apagarConexao(bel)\n",
    "from pyinstrument import Profiler\n",
    "p = Profiler(interval=0.00001)\n",
    "p.start()\n",
    "distancia, rota = buscaRotaMaisCurta(bel, gru)\n",
    "p.stop()\n",
    "print(\"Rota mais curta entre Belém e Guarulhos:%d km passando por %s\" % (distancia, list(map(lambda x: x.nome, rota))))\n",
    "print(p.output_text(color=True, show_all=True, timeline=True))"
   ],
   "metadata": {
    "collapsed": false
   }
  },
  {
   "cell_type": "markdown",
   "source": [],
   "metadata": {
    "collapsed": false
   }
  },
  {
   "cell_type": "markdown",
   "source": [
    "Agora removamos a conexão direta entre Confins e Belém (removendo todos as rotas possíveis)"
   ],
   "metadata": {
    "collapsed": false
   }
  },
  {
   "cell_type": "code",
   "execution_count": 112,
   "outputs": [
    {
     "name": "stdout",
     "output_type": "stream",
     "text": [
      "Rota mais curta entre Belém e Guarulhos:99999999999999 km passando por None\n"
     ]
    }
   ],
   "source": [
    "cnf.apagarConexao(bel)\n",
    "distancia, rota = buscaRotaMaisCurta(bel, gru)\n",
    "print(\"Rota mais curta entre Belém e Guarulhos:%d km passando por %s\" % (distancia, rota))"
   ],
   "metadata": {
    "collapsed": false
   }
  },
  {
   "cell_type": "markdown",
   "source": [
    "Como a rota inexiste (None), a distância máxima da rota é o valor de distância máxima utilizada para comparação dentro do algoritmo."
   ],
   "metadata": {
    "collapsed": false
   }
  },
  {
   "cell_type": "code",
   "execution_count": 112,
   "outputs": [],
   "source": [],
   "metadata": {
    "collapsed": false
   }
  }
 ],
 "metadata": {
  "kernelspec": {
   "display_name": "Python 3",
   "language": "python",
   "name": "python3"
  },
  "language_info": {
   "codemirror_mode": {
    "name": "ipython",
    "version": 2
   },
   "file_extension": ".py",
   "mimetype": "text/x-python",
   "name": "python",
   "nbconvert_exporter": "python",
   "pygments_lexer": "ipython2",
   "version": "2.7.6"
  }
 },
 "nbformat": 4,
 "nbformat_minor": 0
}
