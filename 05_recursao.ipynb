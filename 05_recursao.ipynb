{
 "cells": [
  {
   "cell_type": "markdown",
   "source": [
    "Estrutura de Dados - Recursão\n",
    "==========================================\n",
    "\n",
    "Capítulo 2 do livro texto sugerido:\n",
    "Introduction to Algorithms, Fourth Edition\n",
    "By Thomas H. Cormen, Charles E. Leiserson, Ronald L. Rivest and Clifford Stein\n",
    "https://mitpress.mit.edu/9780262046305/introduction-to-algorithms/\n",
    "\n",
    "Conteúdo\n",
    "========\n",
    "\n",
    "Muitos algoritmos complexos podem ser resolvidos através da sua subdivisão em partes menores, posteriormente reunidas na solução final.\n",
    "\n",
    "Esta divisão do problema pode ser feita até se encontrar um problema mínimo com solução trivial.\n",
    "\n",
    "A este processo se dá o nome de recursão, e a estratégia é conhecida como dividir para conquistar.\n",
    "\n",
    "Um algoritmo que pode ser implementado com recursão é o de ordenação Merge-sort.\n",
    "\n",
    "Assim como todo o algoritmo recursivo, precisamos estabelecer o caso comum e a condição de parada das recursões.\n",
    "\n",
    "Para o merge sort existem duas condições de parada, sendo ambas triviais:\n",
    "- Caso a lista tenha até um elemento, ela já está ordenada\n",
    "- Caso a lista tenha dois elementos, ordenam-se os dois elementos"
   ],
   "metadata": {
    "collapsed": false
   }
  },
  {
   "cell_type": "code",
   "execution_count": 62,
   "metadata": {
    "collapsed": true
   },
   "outputs": [
    {
     "name": "stdout",
     "output_type": "stream",
     "text": [
      "[]\n",
      "[1]\n",
      "[1, 2]\n",
      "None\n"
     ]
    }
   ],
   "source": [
    "def mergeSortCondicaoParada(lista):\n",
    "    # Se só tem um elemento, já está ordenada\n",
    "    if len(lista) <= 1:\n",
    "        return lista\n",
    "    # Se tem dois elementos, comparação é trivial\n",
    "    if len(lista) == 2:\n",
    "        if lista[0] > lista[1]:\n",
    "            return [lista[1], lista[0]]\n",
    "        else:\n",
    "            return lista\n",
    "    # Retorna None caso não seja ainda não tenha\n",
    "    # atingido uma condição de parada\n",
    "    return None\n",
    "\n",
    "print(mergeSortCondicaoParada([]))\n",
    "print(mergeSortCondicaoParada([1]))\n",
    "print(mergeSortCondicaoParada([2,1]))\n",
    "print(mergeSortCondicaoParada([3,2,1])) # não atende a condição de parada len(lista) > 2"
   ]
  },
  {
   "cell_type": "markdown",
   "source": [
    "Agora que temos a condição de parada, precisamos tratar o caso comum, onde a lista terá mais de dois elementos e precisará ser dividida em duas partes, as quais serão ordenadas separadamente e depois juntas"
   ],
   "metadata": {
    "collapsed": false
   }
  },
  {
   "cell_type": "code",
   "execution_count": 63,
   "outputs": [
    {
     "name": "stdout",
     "output_type": "stream",
     "text": [
      "Resultado ordenado: []\n",
      "Resultado ordenado: [1]\n",
      "Resultado ordenado: [1, 2]\n",
      "Resultado ordenado: [1, 2, 3]\n",
      "Resultado ordenado: [1, 2, 3, 4]\n",
      "Resultado ordenado: [1, 2, 3, 4, 5]\n"
     ]
    }
   ],
   "source": [
    "def mergeSort(lista):\n",
    "    listaAtendeCondicaoParada = mergeSortCondicaoParada(lista)\n",
    "    # Retorna lista já ordenada caso já atenda o critério de parada\n",
    "    if listaAtendeCondicaoParada is not None:\n",
    "        return listaAtendeCondicaoParada\n",
    "\n",
    "    # Quebra a lista em duas metades e chama o mergeSort novamente\n",
    "    metade = len(lista)//2\n",
    "    metadeEsquerdaOrdenada = mergeSort(lista[:metade])\n",
    "    metadeDireitaOrdenada = mergeSort(lista[metade:])\n",
    "\n",
    "    # Junta metades ordenadas\n",
    "    listaFinal = []\n",
    "    while True:\n",
    "        # Se apenas a metade esquerda tiver elementos,\n",
    "        # copia todos os elementos para a lista final\n",
    "        if metadeEsquerdaOrdenada and not metadeDireitaOrdenada:\n",
    "            listaFinal.extend(metadeEsquerdaOrdenada)\n",
    "            break\n",
    "        # Se apenas a metade direita tiver elementos,\n",
    "        # copia todos os elementos para a lista final\n",
    "        elif not metadeEsquerdaOrdenada and metadeDireitaOrdenada:\n",
    "            listaFinal.extend(metadeDireitaOrdenada)\n",
    "            break\n",
    "        else:\n",
    "            # Caso ambas metades contenham elementos,\n",
    "            # copia o menor primeiro elemento entre as duas listas ordenadas\n",
    "            if metadeEsquerdaOrdenada[0] < metadeDireitaOrdenada[0]:\n",
    "                listaFinal.append(metadeEsquerdaOrdenada[0])\n",
    "                metadeEsquerdaOrdenada.pop(0)\n",
    "            else:\n",
    "                listaFinal.append(metadeDireitaOrdenada[0])\n",
    "                metadeDireitaOrdenada.pop(0)\n",
    "    return listaFinal\n",
    "\n",
    "print(\"Resultado ordenado:\", mergeSort([]))\n",
    "print(\"Resultado ordenado:\", mergeSort([1]))\n",
    "print(\"Resultado ordenado:\", mergeSort([2,1]))\n",
    "print(\"Resultado ordenado:\", mergeSort([3,2,1]))\n",
    "print(\"Resultado ordenado:\", mergeSort([4,3,2,1]))\n",
    "print(\"Resultado ordenado:\", mergeSort([5,4,3,2,1]))"
   ],
   "metadata": {
    "collapsed": false
   }
  },
  {
   "cell_type": "markdown",
   "source": [
    "Podemos observar a árvore de execução recursiva decorrente das chamadas do mergeSort.\n",
    "\n",
    "Aqui utilizaremos a ferramenta PyInstrument para fazer a impressão desta árvore.\n",
    "\n",
    "Perceba que o mergeSort chama a si mesmo duas vezes para processar cada uma das suas metades.\n",
    "\n"
   ],
   "metadata": {
    "collapsed": false
   }
  },
  {
   "cell_type": "code",
   "execution_count": 64,
   "outputs": [
    {
     "name": "stdout",
     "output_type": "stream",
     "text": [
      "\n",
      "  _     ._   __/__   _ _  _  _ _/_   Recorded: 18:23:21  Samples:  13299\n",
      " /_//_/// /_\\ / //_// / //_'/ //     Duration: 0.500     CPU time: 0.501\n",
      "/   _/                      v4.3.0\n",
      "\n",
      "Program: /usr/local/lib/python3.10/dist-packages/ipykernel_launcher.py -f /home/gabriel/.local/share/jupyter/runtime/kernel-52e1595c-cc7e-44ce-95b2-61140f46f792.json\n",
      "\n",
      "\u001B[31m0.500\u001B[0m run_ast_nodes\u001B[0m  \u001B[2mIPython/core/interactiveshell.py:3265\u001B[0m\n",
      "`- \u001B[31m0.497\u001B[0m run_code\u001B[0m  \u001B[2mIPython/core/interactiveshell.py:3416\u001B[0m\n",
      "   `- \u001B[31m0.496\u001B[0m \u001B[48;5;24m\u001B[38;5;15m<module>\u001B[0m  \u001B[2m../../../tmp/ipykernel_14477/1193443913.py:1\u001B[0m\n",
      "      `- \u001B[31m0.496\u001B[0m \u001B[48;5;24m\u001B[38;5;15mmergeSort\u001B[0m  \u001B[2m../../../tmp/ipykernel_14477/3417733175.py:1\u001B[0m\n",
      "         |- \u001B[33m0.160\u001B[0m \u001B[48;5;24m\u001B[38;5;15mmergeSort\u001B[0m  \u001B[2m../../../tmp/ipykernel_14477/3417733175.py:1\u001B[0m\n",
      "         |  |- \u001B[32m0.089\u001B[0m \u001B[48;5;24m\u001B[38;5;15mmergeSort\u001B[0m  \u001B[2m../../../tmp/ipykernel_14477/3417733175.py:1\u001B[0m\n",
      "         |  |  |- \u001B[32m0.057\u001B[0m \u001B[48;5;24m\u001B[38;5;15mmergeSort\u001B[0m  \u001B[2m../../../tmp/ipykernel_14477/3417733175.py:1\u001B[0m\n",
      "         |  |  |  |- \u001B[32m0.029\u001B[0m \u001B[48;5;24m\u001B[38;5;15mmergeSort\u001B[0m  \u001B[2m../../../tmp/ipykernel_14477/3417733175.py:1\u001B[0m\n",
      "         |  |  |  |  |- \u001B[92m\u001B[2m0.012\u001B[0m \u001B[48;5;24m\u001B[38;5;15mmergeSort\u001B[0m  \u001B[2m../../../tmp/ipykernel_14477/3417733175.py:1\u001B[0m\n",
      "         |  |  |  |  |  `- \u001B[92m\u001B[2m0.005\u001B[0m \u001B[48;5;24m\u001B[38;5;15mmergeSort\u001B[0m  \u001B[2m../../../tmp/ipykernel_14477/3417733175.py:1\u001B[0m\n",
      "         |  |  |  |  `- \u001B[92m\u001B[2m0.013\u001B[0m \u001B[48;5;24m\u001B[38;5;15mmergeSort\u001B[0m  \u001B[2m../../../tmp/ipykernel_14477/3417733175.py:1\u001B[0m\n",
      "         |  |  |  |     |- \u001B[92m\u001B[2m0.005\u001B[0m \u001B[48;5;24m\u001B[38;5;15mmergeSort\u001B[0m  \u001B[2m../../../tmp/ipykernel_14477/3417733175.py:1\u001B[0m\n",
      "         |  |  |  |     `- \u001B[92m\u001B[2m0.005\u001B[0m \u001B[48;5;24m\u001B[38;5;15mmergeSort\u001B[0m  \u001B[2m../../../tmp/ipykernel_14477/3417733175.py:1\u001B[0m\n",
      "         |  |  |  `- \u001B[32m0.025\u001B[0m \u001B[48;5;24m\u001B[38;5;15mmergeSort\u001B[0m  \u001B[2m../../../tmp/ipykernel_14477/3417733175.py:1\u001B[0m\n",
      "         |  |  |     |- \u001B[92m\u001B[2m0.012\u001B[0m \u001B[48;5;24m\u001B[38;5;15mmergeSort\u001B[0m  \u001B[2m../../../tmp/ipykernel_14477/3417733175.py:1\u001B[0m\n",
      "         |  |  |     |  `- \u001B[92m\u001B[2m0.005\u001B[0m \u001B[48;5;24m\u001B[38;5;15mmergeSort\u001B[0m  \u001B[2m../../../tmp/ipykernel_14477/3417733175.py:1\u001B[0m\n",
      "         |  |  |     `- \u001B[92m\u001B[2m0.011\u001B[0m \u001B[48;5;24m\u001B[38;5;15mmergeSort\u001B[0m  \u001B[2m../../../tmp/ipykernel_14477/3417733175.py:1\u001B[0m\n",
      "         |  |  |        `- \u001B[92m\u001B[2m0.005\u001B[0m \u001B[48;5;24m\u001B[38;5;15mmergeSort\u001B[0m  \u001B[2m../../../tmp/ipykernel_14477/3417733175.py:1\u001B[0m\n",
      "         |  |  `- \u001B[32m0.026\u001B[0m \u001B[48;5;24m\u001B[38;5;15mmergeSort\u001B[0m  \u001B[2m../../../tmp/ipykernel_14477/3417733175.py:1\u001B[0m\n",
      "         |  |     |- \u001B[92m\u001B[2m0.011\u001B[0m \u001B[48;5;24m\u001B[38;5;15mmergeSort\u001B[0m  \u001B[2m../../../tmp/ipykernel_14477/3417733175.py:1\u001B[0m\n",
      "         |  |     |  `- \u001B[92m\u001B[2m0.005\u001B[0m \u001B[48;5;24m\u001B[38;5;15mmergeSort\u001B[0m  \u001B[2m../../../tmp/ipykernel_14477/3417733175.py:1\u001B[0m\n",
      "         |  |     `- \u001B[92m\u001B[2m0.012\u001B[0m \u001B[48;5;24m\u001B[38;5;15mmergeSort\u001B[0m  \u001B[2m../../../tmp/ipykernel_14477/3417733175.py:1\u001B[0m\n",
      "         |  |        |- \u001B[92m\u001B[2m0.005\u001B[0m \u001B[48;5;24m\u001B[38;5;15mmergeSort\u001B[0m  \u001B[2m../../../tmp/ipykernel_14477/3417733175.py:1\u001B[0m\n",
      "         |  |        `- \u001B[92m\u001B[2m0.005\u001B[0m \u001B[48;5;24m\u001B[38;5;15mmergeSort\u001B[0m  \u001B[2m../../../tmp/ipykernel_14477/3417733175.py:1\u001B[0m\n",
      "         |  `- \u001B[32m0.062\u001B[0m \u001B[48;5;24m\u001B[38;5;15mmergeSort\u001B[0m  \u001B[2m../../../tmp/ipykernel_14477/3417733175.py:1\u001B[0m\n",
      "         |     |- \u001B[32m0.031\u001B[0m \u001B[48;5;24m\u001B[38;5;15mmergeSort\u001B[0m  \u001B[2m../../../tmp/ipykernel_14477/3417733175.py:1\u001B[0m\n",
      "         |     |  |- \u001B[92m\u001B[2m0.012\u001B[0m \u001B[48;5;24m\u001B[38;5;15mmergeSort\u001B[0m  \u001B[2m../../../tmp/ipykernel_14477/3417733175.py:1\u001B[0m\n",
      "         |     |  |  |- \u001B[92m\u001B[2m0.005\u001B[0m \u001B[48;5;24m\u001B[38;5;15mmergeSort\u001B[0m  \u001B[2m../../../tmp/ipykernel_14477/3417733175.py:1\u001B[0m\n",
      "         |     |  |  `- \u001B[92m\u001B[2m0.005\u001B[0m \u001B[48;5;24m\u001B[38;5;15mmergeSort\u001B[0m  \u001B[2m../../../tmp/ipykernel_14477/3417733175.py:1\u001B[0m\n",
      "         |     |  `- \u001B[92m\u001B[2m0.013\u001B[0m \u001B[48;5;24m\u001B[38;5;15mmergeSort\u001B[0m  \u001B[2m../../../tmp/ipykernel_14477/3417733175.py:1\u001B[0m\n",
      "         |     |     |- \u001B[92m\u001B[2m0.005\u001B[0m \u001B[48;5;24m\u001B[38;5;15mmergeSort\u001B[0m  \u001B[2m../../../tmp/ipykernel_14477/3417733175.py:1\u001B[0m\n",
      "         |     |     `- \u001B[92m\u001B[2m0.006\u001B[0m \u001B[48;5;24m\u001B[38;5;15mmergeSort\u001B[0m  \u001B[2m../../../tmp/ipykernel_14477/3417733175.py:1\u001B[0m\n",
      "         |     `- \u001B[32m0.026\u001B[0m \u001B[48;5;24m\u001B[38;5;15mmergeSort\u001B[0m  \u001B[2m../../../tmp/ipykernel_14477/3417733175.py:1\u001B[0m\n",
      "         |        |- \u001B[92m\u001B[2m0.012\u001B[0m \u001B[48;5;24m\u001B[38;5;15mmergeSort\u001B[0m  \u001B[2m../../../tmp/ipykernel_14477/3417733175.py:1\u001B[0m\n",
      "         |        |  `- \u001B[92m\u001B[2m0.005\u001B[0m \u001B[48;5;24m\u001B[38;5;15mmergeSort\u001B[0m  \u001B[2m../../../tmp/ipykernel_14477/3417733175.py:1\u001B[0m\n",
      "         |        `- \u001B[92m\u001B[2m0.012\u001B[0m \u001B[48;5;24m\u001B[38;5;15mmergeSort\u001B[0m  \u001B[2m../../../tmp/ipykernel_14477/3417733175.py:1\u001B[0m\n",
      "         |           |- \u001B[92m\u001B[2m0.005\u001B[0m \u001B[48;5;24m\u001B[38;5;15mmergeSort\u001B[0m  \u001B[2m../../../tmp/ipykernel_14477/3417733175.py:1\u001B[0m\n",
      "         |           `- \u001B[92m\u001B[2m0.005\u001B[0m \u001B[48;5;24m\u001B[38;5;15mmergeSort\u001B[0m  \u001B[2m../../../tmp/ipykernel_14477/3417733175.py:1\u001B[0m\n",
      "         `- \u001B[31m0.315\u001B[0m \u001B[48;5;24m\u001B[38;5;15mmergeSort\u001B[0m  \u001B[2m../../../tmp/ipykernel_14477/3417733175.py:1\u001B[0m\n",
      "            |- \u001B[33m0.250\u001B[0m \u001B[48;5;24m\u001B[38;5;15mmergeSort\u001B[0m  \u001B[2m../../../tmp/ipykernel_14477/3417733175.py:1\u001B[0m\n",
      "            |  |- \u001B[32m0.026\u001B[0m \u001B[48;5;24m\u001B[38;5;15mmergeSort\u001B[0m  \u001B[2m../../../tmp/ipykernel_14477/3417733175.py:1\u001B[0m\n",
      "            |  |  |- \u001B[92m\u001B[2m0.012\u001B[0m \u001B[48;5;24m\u001B[38;5;15mmergeSort\u001B[0m  \u001B[2m../../../tmp/ipykernel_14477/3417733175.py:1\u001B[0m\n",
      "            |  |  |  |- \u001B[92m\u001B[2m0.005\u001B[0m \u001B[48;5;24m\u001B[38;5;15mmergeSort\u001B[0m  \u001B[2m../../../tmp/ipykernel_14477/3417733175.py:1\u001B[0m\n",
      "            |  |  |  `- \u001B[92m\u001B[2m0.005\u001B[0m \u001B[48;5;24m\u001B[38;5;15mmergeSort\u001B[0m  \u001B[2m../../../tmp/ipykernel_14477/3417733175.py:1\u001B[0m\n",
      "            |  |  `- \u001B[92m\u001B[2m0.012\u001B[0m \u001B[48;5;24m\u001B[38;5;15mmergeSort\u001B[0m  \u001B[2m../../../tmp/ipykernel_14477/3417733175.py:1\u001B[0m\n",
      "            |  |     |- \u001B[92m\u001B[2m0.005\u001B[0m \u001B[48;5;24m\u001B[38;5;15mmergeSort\u001B[0m  \u001B[2m../../../tmp/ipykernel_14477/3417733175.py:1\u001B[0m\n",
      "            |  |     `- \u001B[92m\u001B[2m0.005\u001B[0m \u001B[48;5;24m\u001B[38;5;15mmergeSort\u001B[0m  \u001B[2m../../../tmp/ipykernel_14477/3417733175.py:1\u001B[0m\n",
      "            |  `- \u001B[33m0.219\u001B[0m \u001B[48;5;24m\u001B[38;5;15mmergeSort\u001B[0m  \u001B[2m../../../tmp/ipykernel_14477/3417733175.py:1\u001B[0m\n",
      "            |     |- \u001B[92m\u001B[2m0.012\u001B[0m \u001B[48;5;24m\u001B[38;5;15mmergeSort\u001B[0m  \u001B[2m../../../tmp/ipykernel_14477/3417733175.py:1\u001B[0m\n",
      "            |     |  |- \u001B[92m\u001B[2m0.005\u001B[0m \u001B[48;5;24m\u001B[38;5;15mmergeSort\u001B[0m  \u001B[2m../../../tmp/ipykernel_14477/3417733175.py:1\u001B[0m\n",
      "            |     |  `- \u001B[92m\u001B[2m0.005\u001B[0m \u001B[48;5;24m\u001B[38;5;15mmergeSort\u001B[0m  \u001B[2m../../../tmp/ipykernel_14477/3417733175.py:1\u001B[0m\n",
      "            |     |- \u001B[92m\u001B[2m0.015\u001B[0m \u001B[48;5;24m\u001B[38;5;15mmergeSort\u001B[0m  \u001B[2m../../../tmp/ipykernel_14477/3417733175.py:1\u001B[0m\n",
      "            |     |  |- \u001B[92m\u001B[2m0.005\u001B[0m \u001B[48;5;24m\u001B[38;5;15mmergeSort\u001B[0m  \u001B[2m../../../tmp/ipykernel_14477/3417733175.py:1\u001B[0m\n",
      "            |     |  `- \u001B[92m\u001B[2m0.008\u001B[0m \u001B[48;5;24m\u001B[38;5;15mmergeSort\u001B[0m  \u001B[2m../../../tmp/ipykernel_14477/3417733175.py:1\u001B[0m\n",
      "            |     |     `- \u001B[92m\u001B[2m0.005\u001B[0m \u001B[48;5;24m\u001B[38;5;15mmergeSort\u001B[0m  \u001B[2m../../../tmp/ipykernel_14477/3417733175.py:1\u001B[0m\n",
      "            |     `- \u001B[33m0.190\u001B[0m list.append\u001B[0m  \u001B[2m<built-in>:0\u001B[0m\n",
      "            `- \u001B[32m0.056\u001B[0m \u001B[48;5;24m\u001B[38;5;15mmergeSort\u001B[0m  \u001B[2m../../../tmp/ipykernel_14477/3417733175.py:1\u001B[0m\n",
      "               |- \u001B[32m0.026\u001B[0m \u001B[48;5;24m\u001B[38;5;15mmergeSort\u001B[0m  \u001B[2m../../../tmp/ipykernel_14477/3417733175.py:1\u001B[0m\n",
      "               |  |- \u001B[92m\u001B[2m0.012\u001B[0m \u001B[48;5;24m\u001B[38;5;15mmergeSort\u001B[0m  \u001B[2m../../../tmp/ipykernel_14477/3417733175.py:1\u001B[0m\n",
      "               |  |  `- \u001B[92m\u001B[2m0.005\u001B[0m \u001B[48;5;24m\u001B[38;5;15mmergeSort\u001B[0m  \u001B[2m../../../tmp/ipykernel_14477/3417733175.py:1\u001B[0m\n",
      "               |  `- \u001B[92m\u001B[2m0.011\u001B[0m \u001B[48;5;24m\u001B[38;5;15mmergeSort\u001B[0m  \u001B[2m../../../tmp/ipykernel_14477/3417733175.py:1\u001B[0m\n",
      "               `- \u001B[32m0.026\u001B[0m \u001B[48;5;24m\u001B[38;5;15mmergeSort\u001B[0m  \u001B[2m../../../tmp/ipykernel_14477/3417733175.py:1\u001B[0m\n",
      "                  |- \u001B[92m\u001B[2m0.011\u001B[0m \u001B[48;5;24m\u001B[38;5;15mmergeSort\u001B[0m  \u001B[2m../../../tmp/ipykernel_14477/3417733175.py:1\u001B[0m\n",
      "                  |  `- \u001B[92m\u001B[2m0.005\u001B[0m \u001B[48;5;24m\u001B[38;5;15mmergeSort\u001B[0m  \u001B[2m../../../tmp/ipykernel_14477/3417733175.py:1\u001B[0m\n",
      "                  `- \u001B[92m\u001B[2m0.011\u001B[0m \u001B[48;5;24m\u001B[38;5;15mmergeSort\u001B[0m  \u001B[2m../../../tmp/ipykernel_14477/3417733175.py:1\u001B[0m\n",
      "                     `- \u001B[92m\u001B[2m0.005\u001B[0m \u001B[48;5;24m\u001B[38;5;15mmergeSort\u001B[0m  \u001B[2m../../../tmp/ipykernel_14477/3417733175.py:1\u001B[0m\n",
      "\n",
      "\n"
     ]
    }
   ],
   "source": [
    "from pyinstrument import Profiler\n",
    "p = Profiler(interval=0.00001)\n",
    "p.start()\n",
    "resultado = mergeSort([500-i for i in range(500)])\n",
    "p.stop()\n",
    "print(p.output_text(color=True, show_all=True, timeline=True))"
   ],
   "metadata": {
    "collapsed": false
   }
  },
  {
   "cell_type": "markdown",
   "source": [
    "Provavelmente irá perceber que a condição de parada não foi impressa, apesar de ter sido executada.\n",
    "\n",
    "Isto é resultado da medição por amostragem feita pelo PyInstrument.\n",
    "\n",
    "Se mudarmos o intervalo de amostragem, podemos aumentar a probabilidade de uma amostra aparecer."
   ],
   "metadata": {
    "collapsed": false
   }
  },
  {
   "cell_type": "code",
   "execution_count": 65,
   "outputs": [
    {
     "name": "stdout",
     "output_type": "stream",
     "text": [
      "\n",
      "  _     ._   __/__   _ _  _  _ _/_   Recorded: 18:23:22  Samples:  6\n",
      " /_//_/// /_\\ / //_// / //_'/ //     Duration: 0.001     CPU time: 0.001\n",
      "/   _/                      v4.3.0\n",
      "\n",
      "Program: /usr/local/lib/python3.10/dist-packages/ipykernel_launcher.py -f /home/gabriel/.local/share/jupyter/runtime/kernel-52e1595c-cc7e-44ce-95b2-61140f46f792.json\n",
      "\n",
      "\u001B[31m0.001\u001B[0m run_ast_nodes\u001B[0m  \u001B[2mIPython/core/interactiveshell.py:3265\u001B[0m\n",
      "|- \u001B[31m0.001\u001B[0m run_code\u001B[0m  \u001B[2mIPython/core/interactiveshell.py:3416\u001B[0m\n",
      "|  `- \u001B[31m0.001\u001B[0m \u001B[48;5;24m\u001B[38;5;15m<module>\u001B[0m  \u001B[2m../../../tmp/ipykernel_14477/3508207992.py:1\u001B[0m\n",
      "|     `- \u001B[31m0.001\u001B[0m \u001B[48;5;24m\u001B[38;5;15mmergeSort\u001B[0m  \u001B[2m../../../tmp/ipykernel_14477/3417733175.py:1\u001B[0m\n",
      "|        `- \u001B[31m0.001\u001B[0m \u001B[48;5;24m\u001B[38;5;15mmergeSort\u001B[0m  \u001B[2m../../../tmp/ipykernel_14477/3417733175.py:1\u001B[0m\n",
      "|           |- \u001B[33m0.000\u001B[0m \u001B[48;5;24m\u001B[38;5;15mmergeSort\u001B[0m  \u001B[2m../../../tmp/ipykernel_14477/3417733175.py:1\u001B[0m\n",
      "|           |  `- \u001B[33m0.000\u001B[0m \u001B[48;5;24m\u001B[38;5;15mmergeSort\u001B[0m  \u001B[2m../../../tmp/ipykernel_14477/3417733175.py:1\u001B[0m\n",
      "|           |     `- \u001B[33m0.000\u001B[0m \u001B[48;5;24m\u001B[38;5;15mmergeSort\u001B[0m  \u001B[2m../../../tmp/ipykernel_14477/3417733175.py:1\u001B[0m\n",
      "|           |        |- \u001B[32m0.000\u001B[0m [self]\u001B[0m  \u001B[2m\u001B[0m\n",
      "|           |        `- \u001B[32m0.000\u001B[0m \u001B[48;5;24m\u001B[38;5;15mmergeSort\u001B[0m  \u001B[2m../../../tmp/ipykernel_14477/3417733175.py:1\u001B[0m\n",
      "|           |           `- \u001B[32m0.000\u001B[0m \u001B[48;5;24m\u001B[38;5;15mmergeSort\u001B[0m  \u001B[2m../../../tmp/ipykernel_14477/3417733175.py:1\u001B[0m\n",
      "|           |              `- \u001B[32m0.000\u001B[0m \u001B[48;5;24m\u001B[38;5;15mmergeSortCondicaoParada\u001B[0m  \u001B[2m../../../tmp/ipykernel_14477/1625165271.py:1\u001B[0m\n",
      "|           |- \u001B[32m0.000\u001B[0m [self]\u001B[0m  \u001B[2m\u001B[0m\n",
      "|           |- \u001B[32m0.000\u001B[0m \u001B[48;5;24m\u001B[38;5;15mmergeSort\u001B[0m  \u001B[2m../../../tmp/ipykernel_14477/3417733175.py:1\u001B[0m\n",
      "|           |  `- \u001B[32m0.000\u001B[0m list.pop\u001B[0m  \u001B[2m<built-in>:0\u001B[0m\n",
      "|           `- \u001B[32m0.000\u001B[0m list.pop\u001B[0m  \u001B[2m<built-in>:0\u001B[0m\n",
      "`- \u001B[32m0.000\u001B[0m __exit__\u001B[0m  \u001B[2mcontextlib.py:139\u001B[0m\n",
      "\n",
      "\n"
     ]
    }
   ],
   "source": [
    "from pyinstrument import Profiler\n",
    "p = Profiler(interval=0.0001)\n",
    "p.start()\n",
    "resultado = mergeSort([100-i for i in range(100)])\n",
    "p.stop()\n",
    "print(p.output_text(color=True, show_all=True, timeline=True))"
   ],
   "metadata": {
    "collapsed": false
   }
  },
  {
   "cell_type": "markdown",
   "source": [
    "### Tangente recursiva\n",
    "\n",
    "A mesma estratégia recursiva pode ser utilizada para resolver os mais diversos problemas.\n",
    "\n",
    "Podemos utilizar recursão, por exemplo, para calcular o valor aproximado da tangente de um ângulo."
   ],
   "metadata": {
    "collapsed": false
   }
  },
  {
   "cell_type": "code",
   "execution_count": 66,
   "outputs": [
    {
     "name": "stdout",
     "output_type": "stream",
     "text": [
      "Tangente de Pi/4 é 1.00\n",
      "Tangente de Pi/2 é -9651074695810.24\n"
     ]
    },
    {
     "data": {
      "text/plain": "<Figure size 720x720 with 1 Axes>",
      "image/png": "[encoded data removed]"
     },
     "metadata": {
      "needs_background": "light"
     },
     "output_type": "display_data"
    }
   ],
   "source": [
    "#Para entender de onde saiu a função tangente\n",
    "# fica o vídeo do Mathologer https://www.youtube.com/watch?v=Lk_QF_hcM8A\n",
    "#\n",
    "# tan(x) =                   x\n",
    "#          -----------------------------------------\n",
    "#           1 - x^2\n",
    "#              -------------------------------------\n",
    "#               3 - x^2\n",
    "#                  ---------------------------------\n",
    "#                   5 - x^2\n",
    "#                      -----------------------------\n",
    "#                       7 - x^2\n",
    "#                          -------------------------\n",
    "#                           9 - x^2\n",
    "#                              ---------------------\n",
    "#                               11 - x^2\n",
    "#                                   ----------------\n",
    "#                                     13 - x^2\n",
    "#                                         ----------\n",
    "#                                           15 - x^2\n",
    "#                                               ----\n",
    "#                                                ...\n",
    "\n",
    "PI = 3.14159265359\n",
    "\n",
    "#Define função recursiva da tangente\n",
    "def tan_recursion(den, level, maxLevel, radQuadrado):\n",
    "    if level < maxLevel:\n",
    "        valor_calculado = den - radQuadrado / tan_recursion(den+2,level+1,maxLevel,radQuadrado) # caso comum\n",
    "    else:\n",
    "        valor_calculado = den # condição de parada\n",
    "    return valor_calculado\n",
    "\n",
    "\n",
    "#Define função tangente\n",
    "def tan(rad, maxLevel):\n",
    "    radQuadrado = rad*rad #calcula o quadrado\n",
    "    if rad == 0.0:\n",
    "        return 0.0\n",
    "    valor_calculado = rad / tan_recursion(1, 0, maxLevel,radQuadrado)\n",
    "    return valor_calculado\n",
    "\n",
    "#Define função que converte graus em radianos\n",
    "def grau_para_rad(angulo):\n",
    "    return angulo*PI/180\n",
    "\n",
    "\n",
    "#Calcula dois exemplos de tangente recursivo com 100 iterações\n",
    "print(\"Tangente de Pi/4 é %.2f\" % tan(grau_para_rad(45),10))\n",
    "print(\"Tangente de Pi/2 é %.2f\" % tan(grau_para_rad(90),10))\n",
    "\n",
    "#Cria lista com valores de -180 a 175, a cada 5 (-180,-175,-170,...)\n",
    "intervalo_impressao = list(range(-180, 180, 5))\n",
    "\n",
    "#Cria lista para guardar valores de tangente calculados\n",
    "valores_tangente = []\n",
    "valores_tangente_recursivo = [[],[],[],[],[]]\n",
    "\n",
    "#Importa biblioteca matemática para calcular a tangente\n",
    "import math\n",
    "\n",
    "iteracoes = [0,1,2,6,9]\n",
    "#Para cada um dos ângulos na lista intervalo_impressão\n",
    "for angulo in intervalo_impressao:\n",
    "    # Transformamos o ângulo em radianos\n",
    "    rads = grau_para_rad(angulo)\n",
    "\n",
    "    #Calculamos a tangente do ângulo com a biblioteca matemática\n",
    "    valores_tangente.append(math.tan(rads))\n",
    "\n",
    "    #Calculamos a tangente recursiva dos mesmos ângulos\n",
    "    # com 0,1,2,6,9 chamadas recursivas e guardamos nas listas apropriadas\n",
    "    for i in range(5):\n",
    "        valores_tangente_recursivo[i].append(tan(rads, iteracoes[i]))\n",
    "\n",
    "#Importamos a biblioteca gráfica\n",
    "import matplotlib.pyplot as pyplot\n",
    "\n",
    "fig, ax = pyplot.subplots(figsize=(10,10))\n",
    "#Plotamos os valores calculados pela biblioteca matemática\n",
    "ax.plot(intervalo_impressao, valores_tangente, 'green', label=\"Tangente referência\")\n",
    "\n",
    "\n",
    "cores = [\"purple\",\"blue\",\"orange\",\"red\", \"gray\"]\n",
    "#Plotamos os valores calculados pela função de tangente recursiva, cada uma com uma cor\n",
    "for i in range(5):\n",
    "    ax.plot(intervalo_impressao, valores_tangente_recursivo[i], cores[i], label=f\"Iterações {iteracoes[i]}\")\n",
    "\n",
    "#Limitamos a área de plotagem de -Pi a Pi (eixo X), e -10 a 10 (eixo Y)\n",
    "ax.axis([-180, 180, -10, 10])\n",
    "ax.legend()\n",
    "\n",
    "#Imprimimos os valores plotados em tela, abrindo a janela com os valores plotados\n",
    "pyplot.show()"
   ],
   "metadata": {
    "collapsed": false
   }
  },
  {
   "cell_type": "markdown",
   "source": [
    "### Rota mais curta\n",
    "Outro exemplo já mostrado na introdução foi a procura pela rota mais curta entre dois vértices de um grafo.\n",
    "\n",
    "Criemos primeiro um grafo com rotas aéreas entre algumas cidades"
   ],
   "metadata": {
    "collapsed": false
   }
  },
  {
   "cell_type": "code",
   "execution_count": 67,
   "outputs": [],
   "source": [
    "class Vertice():\n",
    "    def __init__(self, nome):\n",
    "        self.nome = nome\n",
    "        self.verticesConectados = []\n",
    "\n",
    "    def adicionarVerticeConectado(self, novoVertice, distancia):\n",
    "        self.verticesConectados.append((novoVertice, distancia))\n",
    "        novoVertice.verticesConectados.append((self, distancia))\n",
    "\n",
    "    def apagarConexao(self, vertice):\n",
    "        for (verticeConectado, distancia) in self.verticesConectados:\n",
    "            if verticeConectado == vertice:\n",
    "                self.verticesConectados.remove((verticeConectado, distancia))\n",
    "                verticeConectado.verticesConectados.remove((self, distancia))\n",
    "                break\n",
    "\n",
    "    def apagarConexoes(self):\n",
    "        for (verticeConectado, distancia) in self.verticesConectados:\n",
    "            for verticeTuple in verticeConectado.verticesConectados:\n",
    "                if verticeTuple[0] == self:\n",
    "                    verticeConectado.verticesConectados.remove(verticeTuple)\n",
    "        del self\n",
    "\n",
    "# Belém (Val-de-cans) e Brasília (Juscelino Kubitscheck)\n",
    "bel = Vertice(\"BEL\")\n",
    "bsb = Vertice(\"BSB\")\n",
    "bel.adicionarVerticeConectado(bsb, 1600)\n",
    "\n",
    "# Belo Horizonte (Confins)\n",
    "cnf = Vertice(\"CNF\")\n",
    "bel.adicionarVerticeConectado(cnf, 2100)\n",
    "bsb.adicionarVerticeConectado(cnf, 618)\n",
    "\n",
    "# São Paulo (Guarulhos)\n",
    "gru = Vertice(\"GRU\")\n",
    "bel.adicionarVerticeConectado(gru, 2472)\n",
    "bsb.adicionarVerticeConectado(gru, 876)\n",
    "\n",
    "# Rio de Janeiro (Galeão)\n",
    "gig = Vertice(\"GIG\")\n",
    "gig.adicionarVerticeConectado(gru, 360)\n",
    "gig.adicionarVerticeConectado(bsb, 936)\n",
    "gig.adicionarVerticeConectado(cnf, 340)"
   ],
   "metadata": {
    "collapsed": false
   }
  },
  {
   "cell_type": "markdown",
   "source": [
    "Em seguida, montamos a estratégia recursiva para encontrar a menor rota"
   ],
   "metadata": {
    "collapsed": false
   }
  },
  {
   "cell_type": "code",
   "execution_count": 68,
   "outputs": [
    {
     "name": "stdout",
     "output_type": "stream",
     "text": [
      "Rota mais curta entre Belém e Guarulhos:2472 km passando por ['BEL', 'GRU']\n"
     ]
    }
   ],
   "source": [
    "def buscaRotaMaisCurta (verticePartida, verticeDestino, distanciaVisitada=0, verticesVisitados=None):\n",
    "    # Esta é uma função recursiva\n",
    "    if verticesVisitados is None:\n",
    "        verticesVisitados = [verticePartida]\n",
    "\n",
    "    # A condição de parada é quando o vértice de destino já está na rota,\n",
    "    # o que significa que chegamos ao destino usando a rota descrita pelos\n",
    "    # vértices visitados\n",
    "    if verticeDestino in verticesVisitados:\n",
    "        return distanciaVisitada, verticesVisitados\n",
    "\n",
    "    distanciaRotaMaisCurta = 99999999999999 # distância absurda\n",
    "    rotaMaisCurta = None\n",
    "\n",
    "    # Para cada vértice conectado ao ponto de partida, explore os vértices conectados\n",
    "    for (verticeEscala, distancia) in verticePartida.verticesConectados:\n",
    "        # Não faça duas escalas numa mesma cidade\n",
    "        if verticeEscala in verticesVisitados:\n",
    "            continue\n",
    "        # Busca a menor rota entre o vértice de escala e o destino\n",
    "        distanciaNovaRota, NovaRota = buscaRotaMaisCurta(verticeEscala,\n",
    "                                                         verticeDestino,\n",
    "                                                         distanciaVisitada+distancia,\n",
    "                                                         [*verticesVisitados, verticeEscala])\n",
    "        # Pegue sempre a rota mais curta\n",
    "        if distanciaNovaRota < distanciaRotaMaisCurta:\n",
    "            distanciaRotaMaisCurta = distanciaNovaRota\n",
    "            rotaMaisCurta = NovaRota\n",
    "\n",
    "    # Retorne as rotas parciais mais curtas\n",
    "    return distanciaRotaMaisCurta, rotaMaisCurta\n",
    "\n",
    "distancia, rota = buscaRotaMaisCurta(bel, gru)\n",
    "print(\"Rota mais curta entre Belém e Guarulhos:%d km passando por %s\" % (distancia, list(map(lambda x: x.nome, rota))))"
   ],
   "metadata": {
    "collapsed": false
   }
  },
  {
   "cell_type": "markdown",
   "source": [
    "Agora removamos a conexão direta entre Guarulhos e Belém e procuremos a rota alternativa mais curta"
   ],
   "metadata": {
    "collapsed": false
   }
  },
  {
   "cell_type": "code",
   "execution_count": 69,
   "outputs": [
    {
     "name": "stdout",
     "output_type": "stream",
     "text": [
      "Rota mais curta entre Belém e Guarulhos:2476 km passando por ['BEL', 'BSB', 'GRU']\n"
     ]
    }
   ],
   "source": [
    "gru.apagarConexao(bel)\n",
    "distancia, rota = buscaRotaMaisCurta(bel, gru)\n",
    "print(\"Rota mais curta entre Belém e Guarulhos:%d km passando por %s\" % (distancia, list(map(lambda x: x.nome, rota))))"
   ],
   "metadata": {
    "collapsed": false
   }
  },
  {
   "cell_type": "markdown",
   "source": [
    "Agora removamos a conexão direta entre Brasília e Belém e procuremos a rota alternativa mais curta"
   ],
   "metadata": {
    "collapsed": false
   }
  },
  {
   "cell_type": "code",
   "execution_count": 70,
   "outputs": [
    {
     "name": "stdout",
     "output_type": "stream",
     "text": [
      "Rota mais curta entre Belém e Guarulhos:2800 km passando por ['BEL', 'CNF', 'GIG', 'GRU']\n",
      "\n",
      "  _     ._   __/__   _ _  _  _ _/_   Recorded: 18:23:22  Samples:  120\n",
      " /_//_/// /_\\ / //_// / //_'/ //     Duration: 0.003     CPU time: 0.004\n",
      "/   _/                      v4.3.0\n",
      "\n",
      "Program: /usr/local/lib/python3.10/dist-packages/ipykernel_launcher.py -f /home/gabriel/.local/share/jupyter/runtime/kernel-52e1595c-cc7e-44ce-95b2-61140f46f792.json\n",
      "\n",
      "\u001B[31m0.003\u001B[0m run_ast_nodes\u001B[0m  \u001B[2mIPython/core/interactiveshell.py:3265\u001B[0m\n",
      "|- \u001B[92m\u001B[2m0.000\u001B[0m __get__\u001B[0m  \u001B[2mtraitlets/traitlets.py:675\u001B[0m\n",
      "|- \u001B[92m\u001B[2m0.000\u001B[0m getattr\u001B[0m  \u001B[2m<built-in>:0\u001B[0m\n",
      "|- \u001B[92m\u001B[2m0.000\u001B[0m helper\u001B[0m  \u001B[2mcontextlib.py:279\u001B[0m\n",
      "|  `- \u001B[92m\u001B[2m0.000\u001B[0m __init__\u001B[0m  \u001B[2mcontextlib.py:102\u001B[0m\n",
      "|- \u001B[92m\u001B[2m0.000\u001B[0m __enter__\u001B[0m  \u001B[2mcontextlib.py:130\u001B[0m\n",
      "|  `- \u001B[92m\u001B[2m0.000\u001B[0m [self]\u001B[0m  \u001B[2m\u001B[0m\n",
      "|- \u001B[92m\u001B[2m0.000\u001B[0m __call__\u001B[0m  \u001B[2mcodeop.py:117\u001B[0m\n",
      "|  `- \u001B[92m\u001B[2m0.000\u001B[0m compile\u001B[0m  \u001B[2m<built-in>:0\u001B[0m\n",
      "|- \u001B[92m\u001B[2m0.000\u001B[0m __exit__\u001B[0m  \u001B[2mcontextlib.py:139\u001B[0m\n",
      "|  `- \u001B[92m\u001B[2m0.000\u001B[0m [self]\u001B[0m  \u001B[2m\u001B[0m\n",
      "|- \u001B[33m0.001\u001B[0m run_code\u001B[0m  \u001B[2mIPython/core/interactiveshell.py:3416\u001B[0m\n",
      "|  |- \u001B[92m\u001B[2m0.000\u001B[0m __call__\u001B[0m  \u001B[2mIPython/core/hooks.py:103\u001B[0m\n",
      "|  |- \u001B[92m\u001B[2m0.000\u001B[0m [self]\u001B[0m  \u001B[2m\u001B[0m\n",
      "|  `- \u001B[32m0.001\u001B[0m \u001B[48;5;24m\u001B[38;5;15m<module>\u001B[0m  \u001B[2m../../../tmp/ipykernel_14477/2348155953.py:1\u001B[0m\n",
      "|     `- \u001B[32m0.001\u001B[0m \u001B[48;5;24m\u001B[38;5;15mbuscaRotaMaisCurta\u001B[0m  \u001B[2m../../../tmp/ipykernel_14477/2064920437.py:1\u001B[0m\n",
      "|        |- \u001B[32m0.000\u001B[0m \u001B[48;5;24m\u001B[38;5;15mbuscaRotaMaisCurta\u001B[0m  \u001B[2m../../../tmp/ipykernel_14477/2064920437.py:1\u001B[0m\n",
      "|        |  |- \u001B[32m0.000\u001B[0m \u001B[48;5;24m\u001B[38;5;15mbuscaRotaMaisCurta\u001B[0m  \u001B[2m../../../tmp/ipykernel_14477/2064920437.py:1\u001B[0m\n",
      "|        |  |  `- \u001B[92m\u001B[2m0.000\u001B[0m \u001B[48;5;24m\u001B[38;5;15mbuscaRotaMaisCurta\u001B[0m  \u001B[2m../../../tmp/ipykernel_14477/2064920437.py:1\u001B[0m\n",
      "|        |  `- \u001B[32m0.000\u001B[0m \u001B[48;5;24m\u001B[38;5;15mbuscaRotaMaisCurta\u001B[0m  \u001B[2m../../../tmp/ipykernel_14477/2064920437.py:1\u001B[0m\n",
      "|        |     `- \u001B[92m\u001B[2m0.000\u001B[0m \u001B[48;5;24m\u001B[38;5;15mbuscaRotaMaisCurta\u001B[0m  \u001B[2m../../../tmp/ipykernel_14477/2064920437.py:1\u001B[0m\n",
      "|        `- \u001B[92m\u001B[2m0.000\u001B[0m [self]\u001B[0m  \u001B[2m\u001B[0m\n",
      "|- \u001B[92m\u001B[2m0.000\u001B[0m __get__\u001B[0m  \u001B[2mtraitlets/traitlets.py:675\u001B[0m\n",
      "|- \u001B[92m\u001B[2m0.000\u001B[0m helper\u001B[0m  \u001B[2mcontextlib.py:279\u001B[0m\n",
      "|  `- \u001B[92m\u001B[2m0.000\u001B[0m __init__\u001B[0m  \u001B[2mcontextlib.py:102\u001B[0m\n",
      "|- \u001B[92m\u001B[2m0.000\u001B[0m __enter__\u001B[0m  \u001B[2mcontextlib.py:130\u001B[0m\n",
      "|  `- \u001B[92m\u001B[2m0.000\u001B[0m [self]\u001B[0m  \u001B[2m\u001B[0m\n",
      "|- \u001B[92m\u001B[2m0.000\u001B[0m __call__\u001B[0m  \u001B[2mcodeop.py:117\u001B[0m\n",
      "|  `- \u001B[92m\u001B[2m0.000\u001B[0m compile\u001B[0m  \u001B[2m<built-in>:0\u001B[0m\n",
      "|- \u001B[32m0.000\u001B[0m [self]\u001B[0m  \u001B[2m\u001B[0m\n",
      "|- \u001B[92m\u001B[2m0.000\u001B[0m __exit__\u001B[0m  \u001B[2mcontextlib.py:139\u001B[0m\n",
      "|  `- \u001B[92m\u001B[2m0.000\u001B[0m [self]\u001B[0m  \u001B[2m\u001B[0m\n",
      "`- \u001B[32m0.001\u001B[0m run_code\u001B[0m  \u001B[2mIPython/core/interactiveshell.py:3416\u001B[0m\n",
      "   |- \u001B[92m\u001B[2m0.000\u001B[0m __call__\u001B[0m  \u001B[2mIPython/core/hooks.py:103\u001B[0m\n",
      "   |- \u001B[92m\u001B[2m0.000\u001B[0m [self]\u001B[0m  \u001B[2m\u001B[0m\n",
      "   `- \u001B[32m0.000\u001B[0m \u001B[48;5;24m\u001B[38;5;15m<module>\u001B[0m  \u001B[2m../../../tmp/ipykernel_14477/2348155953.py:1\u001B[0m\n",
      "      `- \u001B[32m0.000\u001B[0m stop\u001B[0m  \u001B[2mpyinstrument/profiler.py:136\u001B[0m\n",
      "         |- \u001B[92m\u001B[2m0.000\u001B[0m get_stack_sampler\u001B[0m  \u001B[2mpyinstrument/stack_sampler.py:154\u001B[0m\n",
      "         `- \u001B[32m0.000\u001B[0m unsubscribe\u001B[0m  \u001B[2mpyinstrument/stack_sampler.py:77\u001B[0m\n",
      "            |- \u001B[92m\u001B[2m0.000\u001B[0m [self]\u001B[0m  \u001B[2m\u001B[0m\n",
      "            `- \u001B[92m\u001B[2m0.000\u001B[0m ContextVar.set\u001B[0m  \u001B[2m<built-in>:0\u001B[0m\n",
      "\n",
      "\n"
     ]
    }
   ],
   "source": [
    "bsb.apagarConexao(bel)\n",
    "from pyinstrument import Profiler\n",
    "p = Profiler(interval=0.00001)\n",
    "p.start()\n",
    "distancia, rota = buscaRotaMaisCurta(bel, gru)\n",
    "p.stop()\n",
    "print(\"Rota mais curta entre Belém e Guarulhos:%d km passando por %s\" % (distancia, list(map(lambda x: x.nome, rota))))\n",
    "print(p.output_text(color=True, show_all=True, timeline=True))"
   ],
   "metadata": {
    "collapsed": false
   }
  },
  {
   "cell_type": "markdown",
   "source": [],
   "metadata": {
    "collapsed": false
   }
  },
  {
   "cell_type": "markdown",
   "source": [
    "Agora removamos a conexão direta entre Confins e Belém (removendo todos as rotas possíveis)"
   ],
   "metadata": {
    "collapsed": false
   }
  },
  {
   "cell_type": "code",
   "execution_count": 71,
   "outputs": [
    {
     "name": "stdout",
     "output_type": "stream",
     "text": [
      "Rota mais curta entre Belém e Guarulhos:99999999999999 km passando por None\n"
     ]
    }
   ],
   "source": [
    "cnf.apagarConexao(bel)\n",
    "distancia, rota = buscaRotaMaisCurta(bel, gru)\n",
    "print(\"Rota mais curta entre Belém e Guarulhos:%d km passando por %s\" % (distancia, rota))"
   ],
   "metadata": {
    "collapsed": false
   }
  },
  {
   "cell_type": "markdown",
   "source": [
    "Como a rota inexiste (None), a distância máxima da rota é o valor de distância máxima utilizada para comparação no algoritmo."
   ],
   "metadata": {
    "collapsed": false
   }
  },
  {
   "cell_type": "markdown",
   "source": [
    "### Remontar grafo de requisitos\n",
    "\n",
    "Outro caso de uso típico é remontar um grafo de requisitos/dependências.\n",
    "\n",
    "Um grafo de requisitos representa a relação de dependência entre diversos componentes.\n",
    "\n",
    "Isto significa que um componente requer que uma série de outros componentes estejam disponíveis antes de este componente ser compilado, montado, etc.\n",
    "\n",
    "Este tipo de grafo é utilizado tanto para o desenvolvimento de software, quanto para a instalação de pacotes (Debian/Ubuntu usam Apt, Archlinux usa Pacman, Windows pode usar Apt(com Cygwin)/Pacman(com msys2)/Scoop, Mac OS pode usar Homebrew/MacPorts/Fink, distribuições de bibliotecas multiplataforma Vcpkg/Spack/etc).\n",
    "\n",
    "Um exemplo do pacote Python3 para Ubuntu:\n",
    "\n",
    "![](05_recursao/python3.png)\n",
    "\n",
    "Repare que o pacote depende de uma série de outros pacotes. Podemos olhar um deles.\n",
    "\n",
    "![](05_recursao/libpython3.png)\n",
    "\n",
    "Vamos agora implementar este grafo para um conjunto de bibliotecas do simulador de redes ns-3,\n",
    "e descobrir, usando recursão, a ordem de construção destas bibliotecas."
   ],
   "metadata": {
    "collapsed": false
   }
  },
  {
   "cell_type": "code",
   "execution_count": 72,
   "outputs": [],
   "source": [
    "modulos_ns3 = {\n",
    "    # Módulo      : lista de dependencias\n",
    "    \"applications\":[\"internet\",\"stats\"],\n",
    "    \"flow-monitor\":[\"internet\",\"stats\"],\n",
    "    \"lte\":[\"fd-net-device\",\"core\",\"network\",\"spectrum\",\"stats\",\"buildings\",\"virtual-net-device\",\"point-to-point\",\"applications\",\"internet\",\"csma\",\"config-store\",\"oran\"],\n",
    "    \"netanim\":[\"internet\",\"mobility\",\"wimax\",\"wifi\",\"csma\",\"lte\",\"uan\",\"energy\",\"lr-wpan\",\"wave\",\"point-to-point-layout\"],\n",
    "    \"internet\":[\"network\",\"core\",\"bridge\",\"traffic-control\"],\n",
    "    \"network\":[\"core\",\"stats\"],\n",
    "    \"core\":[],\n",
    "    \"stats\":[\"core\"],\n",
    "    \"bridge\":[\"network\"],\n",
    "    \"traffic-control\":[\"network\",\"core\"],\n",
    "    \"fd-net-device\":[\"network\"],\n",
    "    \"spectrum\":[\"propagation\",\"antenna\"],\n",
    "    \"propagation\":[\"network\",\"mobility\"],\n",
    "    \"mobility\":[\"network\"],\n",
    "    \"antenna\":[\"core\"],\n",
    "    \"buildings\":[\"mobility\",\"propagation\"],\n",
    "    \"virtual-net-device\":[\"network\"],\n",
    "    \"point-to-point\":[\"network\"],\n",
    "    \"csma\":[\"network\"],\n",
    "    \"config-store\":[\"core\",\"network\"],\n",
    "    \"oran\":[\"core\",\"network\",\"internet\"],\n",
    "    \"wimax\":[\"network\",\"internet\",\"propagation\",\"mobility\"],\n",
    "    \"wifi\":[\"network\",\"propagation\",\"energy\",\"spectrum\",\"antenna\",\"mobility\"],\n",
    "    \"energy\":[\"network\"],\n",
    "    \"uan\":[\"network\",\"mobility\",\"energy\"],\n",
    "    \"lr-wpan\":[\"network\",\"core\",\"mobility\",\"spectrum\",\"propagation\"],\n",
    "    \"wave\":[\"core\",\"propagation\",\"wifi\",\"internet\"],\n",
    "    \"point-to-point-layout\":[\"internet\",\"point-to-point\",\"mobility\"],\n",
    "}"
   ],
   "metadata": {
    "collapsed": false
   }
  },
  {
   "cell_type": "markdown",
   "source": [
    "Neste caso, temos vértices direcionados, já que a dependência é unidirecional."
   ],
   "metadata": {
    "collapsed": false
   }
  },
  {
   "cell_type": "code",
   "execution_count": 73,
   "outputs": [
    {
     "name": "stdout",
     "output_type": "stream",
     "text": [
      "Módulo 'antenna' é dependência dos módulos: spectrum, wifi\n",
      "Módulo 'core' é dependência dos módulos: lte, internet, network, stats, traffic-control, antenna, config-store, oran, lr-wpan, wave\n"
     ]
    }
   ],
   "source": [
    "MAPA_NOME_VERTICE_PARA_INSTANCIA = {}\n",
    "\n",
    "class VerticeDirecionado:\n",
    "    # Cria vértice\n",
    "    def __init__(self, nome, dependencias):\n",
    "        self.nome = nome\n",
    "        self.dependentes = {}\n",
    "        self.dependencias = {}\n",
    "        # Se forem passadas dependencias, as utiliza\n",
    "        if dependencias:\n",
    "            self.adicionar_dependencias(dependencias)\n",
    "\n",
    "    def adicionar_dependencias(self, dependencias):\n",
    "        global MAPA_NOME_VERTICE_PARA_INSTANCIA\n",
    "        # Para cada dependência\n",
    "        for dependencia in dependencias:\n",
    "            # Se não existir no mapa, cria um vértice sem dependências (serão resolvidas posteriormente)\n",
    "            if dependencia not in MAPA_NOME_VERTICE_PARA_INSTANCIA:\n",
    "                MAPA_NOME_VERTICE_PARA_INSTANCIA[dependencia] = VerticeDirecionado(dependencia, [])\n",
    "            # Adicionar o módulo atual a lista de dependencias de cada módulo dependido\n",
    "            MAPA_NOME_VERTICE_PARA_INSTANCIA[dependencia].dependentes.update({self.nome: self})\n",
    "            self.dependencias[dependencia] = MAPA_NOME_VERTICE_PARA_INSTANCIA[dependencia]\n",
    "\n",
    "    def __str__(self):\n",
    "        return f\"Módulo '{self.nome}' é dependência dos módulos: {', '.join(self.dependentes.keys())}\"\n",
    "\n",
    "for (modulo, dependencias) in modulos_ns3.items():\n",
    "    if modulo not in MAPA_NOME_VERTICE_PARA_INSTANCIA:\n",
    "        MAPA_NOME_VERTICE_PARA_INSTANCIA[modulo] = VerticeDirecionado(modulo, dependencias)\n",
    "    else:\n",
    "        MAPA_NOME_VERTICE_PARA_INSTANCIA[modulo].adicionar_dependencias(dependencias)\n",
    "\n",
    "print(MAPA_NOME_VERTICE_PARA_INSTANCIA[\"antenna\"])\n",
    "print(MAPA_NOME_VERTICE_PARA_INSTANCIA[\"core\"])"
   ],
   "metadata": {
    "collapsed": false
   }
  },
  {
   "cell_type": "markdown",
   "source": [
    "Agora como podemos determinar a ordem de construção destes módulos?\n",
    "\n",
    "Primeiro temos que decidir o que pode ser construído. Para isto, façamos o seguinte"
   ],
   "metadata": {
    "collapsed": false
   }
  },
  {
   "cell_type": "code",
   "execution_count": 74,
   "outputs": [
    {
     "name": "stdout",
     "output_type": "stream",
     "text": [
      "['core']\n",
      "['antenna', 'stats']\n",
      "['antenna', 'network']\n"
     ]
    }
   ],
   "source": [
    "def modulos_podem_ser_construidos(lista_modulos_pendentes, lista_modulos_montados):\n",
    "    modulos = []\n",
    "    for modulo_pendente in lista_modulos_pendentes:\n",
    "        # Só podemos montar este módulo pendente se todas as suas\n",
    "        # dependências já estiverem na lista de módulos montados\n",
    "        pode_ser_construido = True\n",
    "        for dependencia in MAPA_NOME_VERTICE_PARA_INSTANCIA[modulo_pendente].dependencias:\n",
    "            # Checa se a dependência foi montada\n",
    "            if dependencia not in lista_modulos_montados:\n",
    "                pode_ser_construido = False\n",
    "                break\n",
    "\n",
    "        # Se o módulo atual não pode ser construído, o pulamos\n",
    "        if not pode_ser_construido:\n",
    "            continue\n",
    "        modulos.append(modulo_pendente)\n",
    "    return modulos\n",
    "\n",
    "print(modulos_podem_ser_construidos([\"core\",\"antenna\", \"stats\",\"network\", \"internet\"],[]))\n",
    "print(modulos_podem_ser_construidos([\"antenna\", \"stats\",\"network\", \"internet\"],[\"core\"]))\n",
    "print(modulos_podem_ser_construidos([\"antenna\", \"network\", \"internet\"],[\"core\", \"stats\"]))"
   ],
   "metadata": {
    "collapsed": false
   }
  },
  {
   "cell_type": "markdown",
   "source": [
    "Como temos como determinar o que pode ser construído, podemos ordenar a montagem dos componentes."
   ],
   "metadata": {
    "collapsed": false
   }
  },
  {
   "cell_type": "code",
   "execution_count": 75,
   "outputs": [
    {
     "name": "stdout",
     "output_type": "stream",
     "text": [
      "A ordem de montagem com o menor número de etapas igual a 9 é:\n",
      "Etapa 0: ['core']\n",
      "Etapa 1: ['stats', 'antenna']\n",
      "Etapa 2: ['network']\n",
      "Etapa 3: ['fd-net-device', 'virtual-net-device', 'point-to-point', 'csma', 'config-store', 'mobility', 'energy', 'bridge', 'traffic-control']\n",
      "Etapa 4: ['internet', 'uan', 'propagation']\n",
      "Etapa 5: ['applications', 'flow-monitor', 'spectrum', 'buildings', 'oran', 'wimax', 'point-to-point-layout']\n",
      "Etapa 6: ['lte', 'wifi', 'lr-wpan']\n",
      "Etapa 7: ['wave']\n",
      "Etapa 8: ['netanim']\n"
     ]
    }
   ],
   "source": [
    "def ordem_montagem_recursiva(lista_modulos_pendentes, lista_modulos_montados, numero_etapas = 0, etapas={}):\n",
    "    # Se todos os módulos já tiverem sido construídos, não temos mais o que fazer\n",
    "    if len(lista_modulos_pendentes) == 0:\n",
    "        return etapas\n",
    "\n",
    "    if numero_etapas not in etapas:\n",
    "        etapas[numero_etapas] = []\n",
    "\n",
    "    # Para cada etapa, nós construímos tudo que for possível concorrentemente\n",
    "    for modulo in modulos_podem_ser_construidos(lista_modulos_pendentes, lista_modulos_montados):\n",
    "        etapas[numero_etapas].append(modulo)\n",
    "        lista_modulos_pendentes.remove(modulo)\n",
    "        lista_modulos_montados.append(modulo)\n",
    "\n",
    "    if len(lista_modulos_pendentes) == 0:\n",
    "        return etapas\n",
    "\n",
    "    return ordem_montagem_recursiva(lista_modulos_pendentes,\n",
    "                                   lista_modulos_montados,\n",
    "                                   numero_etapas+1,\n",
    "                                   etapas)\n",
    "\n",
    "etapas_montagem = ordem_montagem_recursiva(list(MAPA_NOME_VERTICE_PARA_INSTANCIA.keys()), [], 0)\n",
    "print(f\"A ordem de montagem com o menor número de etapas igual a {len(etapas_montagem)} é:\")\n",
    "for (key, value) in etapas_montagem.items():\n",
    "    print(f\"Etapa {key}: {value}\")"
   ],
   "metadata": {
    "collapsed": false
   }
  },
  {
   "cell_type": "markdown",
   "source": [
    "Com esta ordem de montagem, podemos executar diferentes componentes em uma mesma etapa em paralelo, já que sabemos que estes são independentes entre si.\n",
    "\n",
    "Também podemos fazer outra checagem importante recursivamente: listar todas as dependências de um componente, por exemplo, para determinar que pacotes devem ser instalados para satisfazer a aplicação que o usuário realmente quer instalar."
   ],
   "metadata": {
    "collapsed": false
   }
  },
  {
   "cell_type": "code",
   "execution_count": 76,
   "outputs": [
    {
     "name": "stdout",
     "output_type": "stream",
     "text": [
      "Módulo wifi explicitamente requer os seguintes módulos: ['antenna', 'energy', 'mobility', 'network', 'propagation', 'spectrum']\n",
      "Módulo wifi implicitamente requer os seguintes módulos: ['antenna', 'core', 'energy', 'mobility', 'network', 'propagation', 'spectrum', 'stats']\n"
     ]
    }
   ],
   "source": [
    "def lista_dependencias_recursivamente(componente):\n",
    "    lista_completa_dependencias = set()\n",
    "    for dependencia in MAPA_NOME_VERTICE_PARA_INSTANCIA[componente].dependencias:\n",
    "        lista_completa_dependencias.add(dependencia)\n",
    "        lista_completa_dependencias.update(lista_dependencias_recursivamente(dependencia))\n",
    "    return list(lista_completa_dependencias)\n",
    "print(f\"Módulo wifi explicitamente requer os seguintes módulos: {list(sorted(MAPA_NOME_VERTICE_PARA_INSTANCIA['wifi'].dependencias.keys()))}\")\n",
    "print(f\"Módulo wifi implicitamente requer os seguintes módulos: {list(sorted(lista_dependencias_recursivamente('wifi')))}\")"
   ],
   "metadata": {
    "collapsed": false
   }
  },
  {
   "cell_type": "markdown",
   "source": [
    "Como visto, o módulo wifi explicitamente depende dos módulos `antenna`, `energy`, `mobility`, `network`, `propagation` e `spectrum`, porém também dependende de `core` e `stats` indiretamente.\n",
    "\n",
    "O gerenciador de pacotes Spack, voltado para aplicações de supercomputadores (HPC), é capaz de mostrar via linha de comando a árvore de dependências entre os pacotes.\n",
    "\n",
    "![](./05_recursao/spack.png)"
   ],
   "metadata": {
    "collapsed": false
   }
  },
  {
   "cell_type": "code",
   "execution_count": 76,
   "outputs": [],
   "source": [],
   "metadata": {
    "collapsed": false
   }
  }
 ],
 "metadata": {
  "kernelspec": {
   "display_name": "Python 3",
   "language": "python",
   "name": "python3"
  },
  "language_info": {
   "codemirror_mode": {
    "name": "ipython",
    "version": 2
   },
   "file_extension": ".py",
   "mimetype": "text/x-python",
   "name": "python",
   "nbconvert_exporter": "python",
   "pygments_lexer": "ipython2",
   "version": "2.7.6"
  }
 },
 "nbformat": 4,
 "nbformat_minor": 0
}
