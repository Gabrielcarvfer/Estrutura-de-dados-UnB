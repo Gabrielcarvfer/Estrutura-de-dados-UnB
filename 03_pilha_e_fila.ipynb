{
 "cells": [
  {
   "cell_type": "markdown",
   "metadata": {},
   "source": [
    "Estrutura de Dados - Pilha e fila\n",
    "==========================================\n",
    "\n",
    "Capítulo 10 do livro texto sugerido:\n",
    "Introduction to Algorithms, Fourth Edition\n",
    "By Thomas H. Cormen, Charles E. Leiserson, Ronald L. Rivest and Clifford Stein\n",
    "https://mitpress.mit.edu/9780262046305/introduction-to-algorithms/\n",
    "\n",
    "Conteúdo\n",
    "========\n",
    "\n",
    "Como mostrado na Seção de introdução, pilhas e filas são estruturas implementadas de maneira semelhante.\n",
    "\n",
    "Sua maior diferente é quanto a ordem de entrada e saída dos dados: First-In Last-Out (FILO) versus First-In First Out (FIFO).\n",
    "\n",
    "Revisitamos as duas estruturas a seguir:\n",
    "\n",
    "## Pilhas"
   ]
  },
  {
   "cell_type": "code",
   "execution_count": 38,
   "metadata": {},
   "outputs": [
    {
     "name": "stdout",
     "output_type": "stream",
     "text": [
      "None\n",
      "2\n",
      "3\n",
      "1\n",
      "None\n"
     ]
    }
   ],
   "source": [
    "class ElementoPilha():\n",
    "    def __init__(self, valorInicial):\n",
    "        self.valor = valorInicial\n",
    "        self.anterior = None\n",
    "\n",
    "class Pilha():\n",
    "    def __init__(self):\n",
    "        self.elementoPilha = None\n",
    "\n",
    "    def empilha(self, valor):\n",
    "        novoElementoPilha = ElementoPilha(valorInicial=valor)\n",
    "        if self.elementoPilha is not None:\n",
    "            novoElementoPilha.anterior = self.elementoPilha\n",
    "        self.elementoPilha = novoElementoPilha\n",
    "\n",
    "    def desempilha(self):\n",
    "        if self.elementoPilha is None:\n",
    "            return None\n",
    "        elementoPilhaRemovido = self.elementoPilha\n",
    "        self.elementoPilha = elementoPilhaRemovido.anterior\n",
    "        return elementoPilhaRemovido.valor\n",
    "\n",
    "pilha = Pilha()\n",
    "print(pilha.desempilha())\n",
    "pilha.empilha(1)\n",
    "pilha.empilha(2)\n",
    "print(pilha.desempilha())\n",
    "pilha.empilha(3)\n",
    "print(pilha.desempilha())\n",
    "print(pilha.desempilha())\n",
    "print(pilha.desempilha())"
   ]
  },
  {
   "cell_type": "markdown",
   "metadata": {},
   "source": [
    "Mas em que aplicações são utilizadas estas estruturas?\n",
    "\n",
    "Pilhas são utilizadas por programas quando querem chamar uma função.\n",
    "São empilhados os parâmetros da função a ser chamada (callee), em seguida do endereço de retorno (return address) para a próxima instrução do chamador (caller) após a função. O programa então pula para o endereço da função chamada (callee), quando empilha o endereço de base da pilha EBP do chamador (caller) e então inicia sua execução. Ao fim, reestabelece o endereço de base da pilha desempilhando o valor, e então salta para o endereço de retorno especificado.\n",
    "\n",
    "### Quadro de pilha de programa C (https://norasandler.com/2018/01/08/Write-a-Compiler-5.html)\n",
    "![](./03_pilha_e_fila/c_stack_frame.png)\n",
    "\n",
    "De maneira semelhante, o Python tem seus próprios quadros. Estes quadros também contém argumentos, variáveis definidas dentro de uma função (locais),\n",
    "e um endereço de retorno (representado por uma referência ao quadro anterior na pilha).\n",
    "\n",
    "### Quadro de pilha de programa Python (https://towardsdatascience.com/python-stack-frames-and-tail-call-optimization-4d0ea55b0542)\n",
    "![](./03_pilha_e_fila/python_stack_frame.png)\n",
    "\n",
    "Nós podemos acessar e visualizar os conteúdos destes quadros e da pilha. Vejamos dois exemplos."
   ]
  },
  {
   "cell_type": "code",
   "execution_count": 39,
   "metadata": {},
   "outputs": [
    {
     "name": "stdout",
     "output_type": "stream",
     "text": [
      "Funcao1:\n",
      "Variáveis locais: {'argumento1': 1, 'argumento2': 2, 'frame': <frame at 0x000002562A7EA1F0, file 'C:\\\\Users\\\\Gabriel\\\\AppData\\\\Local\\\\Temp\\\\ipykernel_2480\\\\831056386.py', line 6, code funcao1>}\n",
      "Quadro de retorno: <frame at 0x0000025629935890, file 'C:\\\\Users\\\\Gabriel\\\\AppData\\\\Local\\\\Temp\\\\ipykernel_2480\\\\831056386.py', line 9, code <cell line: 9>>\n"
     ]
    }
   ],
   "source": [
    "import sys\n",
    "\n",
    "def funcao1(argumento1, argumento2):\n",
    "    print(\"Funcao1:\")\n",
    "    frame = sys._getframe()\n",
    "    print(\"Variáveis locais:\", frame.f_locals)\n",
    "    print(\"Quadro de retorno:\", frame.f_back)\n",
    "\n",
    "funcao1(1, 2)"
   ]
  },
  {
   "cell_type": "markdown",
   "metadata": {},
   "source": [
    "Agora vejamos uma outra função, com sua pilha de quadros de execução completa:"
   ]
  },
  {
   "cell_type": "code",
   "execution_count": 40,
   "metadata": {},
   "outputs": [
    {
     "name": "stdout",
     "output_type": "stream",
     "text": [
      "Funcao2:\n",
      "Variáveis locais: {'argumentoA': '1', 'argumentoB': '2', 'frame': <frame at 0x000002562A630550, file 'C:\\\\Users\\\\Gabriel\\\\AppData\\\\Local\\\\Temp\\\\ipykernel_2480\\\\3121221515.py', line 6, code funcao2>}\n",
      "Quadro de retorno: <frame at 0x000002562A7D61E0, file 'C:\\\\Users\\\\Gabriel\\\\AppData\\\\Local\\\\Temp\\\\ipykernel_2480\\\\3121221515.py', line 11, code <cell line: 11>>\n",
      "Pilha de quadros:\n",
      "  File \"C:\\tools\\Miniconda3\\lib\\runpy.py\", line 197, in _run_module_as_main\n",
      "    return _run_code(code, main_globals, None,\n",
      "  File \"C:\\tools\\Miniconda3\\lib\\runpy.py\", line 87, in _run_code\n",
      "    exec(code, run_globals)\n",
      "  File \"C:\\tools\\Miniconda3\\lib\\site-packages\\ipykernel_launcher.py\", line 17, in <module>\n",
      "    app.launch_new_instance()\n",
      "  File \"C:\\tools\\Miniconda3\\lib\\site-packages\\traitlets\\config\\application.py\", line 846, in launch_instance\n",
      "    app.start()\n",
      "  File \"C:\\tools\\Miniconda3\\lib\\site-packages\\ipykernel\\kernelapp.py\", line 712, in start\n",
      "    self.io_loop.start()\n",
      "  File \"C:\\tools\\Miniconda3\\lib\\site-packages\\tornado\\platform\\asyncio.py\", line 215, in start\n",
      "    self.asyncio_loop.run_forever()\n",
      "  File \"C:\\tools\\Miniconda3\\lib\\asyncio\\base_events.py\", line 601, in run_forever\n",
      "    self._run_once()\n",
      "  File \"C:\\tools\\Miniconda3\\lib\\asyncio\\base_events.py\", line 1905, in _run_once\n",
      "    handle._run()\n",
      "  File \"C:\\tools\\Miniconda3\\lib\\asyncio\\events.py\", line 80, in _run\n",
      "    self._context.run(self._callback, *self._args)\n",
      "  File \"C:\\tools\\Miniconda3\\lib\\site-packages\\ipykernel\\kernelbase.py\", line 510, in dispatch_queue\n",
      "    await self.process_one()\n",
      "  File \"C:\\tools\\Miniconda3\\lib\\site-packages\\ipykernel\\kernelbase.py\", line 499, in process_one\n",
      "    await dispatch(*args)\n",
      "  File \"C:\\tools\\Miniconda3\\lib\\site-packages\\ipykernel\\kernelbase.py\", line 406, in dispatch_shell\n",
      "    await result\n",
      "  File \"C:\\tools\\Miniconda3\\lib\\site-packages\\ipykernel\\kernelbase.py\", line 730, in execute_request\n",
      "    reply_content = await reply_content\n",
      "  File \"C:\\tools\\Miniconda3\\lib\\site-packages\\ipykernel\\ipkernel.py\", line 383, in do_execute\n",
      "    res = shell.run_cell(\n",
      "  File \"C:\\tools\\Miniconda3\\lib\\site-packages\\ipykernel\\zmqshell.py\", line 528, in run_cell\n",
      "    return super().run_cell(*args, **kwargs)\n",
      "  File \"C:\\tools\\Miniconda3\\lib\\site-packages\\IPython\\core\\interactiveshell.py\", line 2881, in run_cell\n",
      "    result = self._run_cell(\n",
      "  File \"C:\\tools\\Miniconda3\\lib\\site-packages\\IPython\\core\\interactiveshell.py\", line 2936, in _run_cell\n",
      "    return runner(coro)\n",
      "  File \"C:\\tools\\Miniconda3\\lib\\site-packages\\IPython\\core\\async_helpers.py\", line 129, in _pseudo_sync_runner\n",
      "    coro.send(None)\n",
      "  File \"C:\\tools\\Miniconda3\\lib\\site-packages\\IPython\\core\\interactiveshell.py\", line 3135, in run_cell_async\n",
      "    has_raised = await self.run_ast_nodes(code_ast.body, cell_name,\n",
      "  File \"C:\\tools\\Miniconda3\\lib\\site-packages\\IPython\\core\\interactiveshell.py\", line 3338, in run_ast_nodes\n",
      "    if await self.run_code(code, result, async_=asy):\n",
      "  File \"C:\\tools\\Miniconda3\\lib\\site-packages\\IPython\\core\\interactiveshell.py\", line 3398, in run_code\n",
      "    exec(code_obj, self.user_global_ns, self.user_ns)\n",
      "  File \"C:\\Users\\Gabriel\\AppData\\Local\\Temp\\ipykernel_2480\\3121221515.py\", line 11, in <cell line: 11>\n",
      "    funcao2(\"1\", \"2\")\n",
      "  File \"C:\\Users\\Gabriel\\AppData\\Local\\Temp\\ipykernel_2480\\3121221515.py\", line 9, in funcao2\n",
      "    traceback.print_stack(file=sys.stdout)\n"
     ]
    }
   ],
   "source": [
    "import traceback\n",
    "\n",
    "def funcao2(argumentoA, argumentoB):\n",
    "    print(\"Funcao2:\")\n",
    "    frame = sys._getframe()\n",
    "    print(\"Variáveis locais:\", frame.f_locals)\n",
    "    print(\"Quadro de retorno:\", frame.f_back)\n",
    "    print(\"Pilha de quadros:\")\n",
    "    traceback.print_stack(file=sys.stdout)\n",
    "\n",
    "funcao2(\"1\", \"2\")"
   ]
  },
  {
   "cell_type": "markdown",
   "metadata": {},
   "source": [
    "Note que essa pilha enorme não é normal, e sim devido ao código ter sido executado pelo notebook Jupyter.\n",
    "Se o mesmo programa é executado diretamente do interpretador CPython, obtemos o seguinte resultado impresso.\n",
    "\n",
    "\n",
    "```\n",
    "/mnt/dev/tools/source/ed_2022_2/venv/bin/python /mnt/dev/tools/source/ed_2022_2/test.py\n",
    "Funcao2:\n",
    "Variáveis locais: {'argumentoA': '1', 'argumentoB': '2', 'frame': <frame at 0x7fc3cc3dcfc0, file '/mnt/dev/tools/source/ed_2022_2/test.py', line 7, code funcao2>}\n",
    "Quadro de retorno: <frame at 0x7fc3cc349e40, file '/mnt/dev/tools/source/ed_2022_2/test.py', line 13, code <module>>\n",
    "Pilha de quadros:\n",
    "  File \"/mnt/dev/tools/source/ed_2022_2/test.py\", line 13, in <module>\n",
    "    funcao2(\"1\", \"2\")\n",
    "  File \"/mnt/dev/tools/source/ed_2022_2/test.py\", line 10, in funcao2\n",
    "    traceback.print_stack(file=sys.stdout)\n",
    "```"
   ]
  },
  {
   "cell_type": "markdown",
   "source": [
    "É realmente fantástico. Mas sabem onde mais as pilhas são comumente utilizadas? Máquinas de pilhas.\n",
    "\n",
    "O que são máquinas de pilhas? São máquinas que funcionam empilhando parâmetros e desempilhando conforme operadores são chamados.\n",
    "\n",
    "Como ninguém melhor que os próprios operandos para saber quantos parâmetros recebem, este tipo de implementação é bastante comum.\n",
    "\n",
    "E surpresa, o Python é um interpretador que utiliza máquina de pilhas.\n",
    "\n",
    "A especificação dos operandos está disponível em https://docs.python.org/3/library/dis.html."
   ],
   "metadata": {
    "collapsed": false
   }
  },
  {
   "cell_type": "code",
   "execution_count": 41,
   "metadata": {},
   "outputs": [
    {
     "name": "stdout",
     "output_type": "stream",
     "text": [
      "  4           0 LOAD_FAST                0 (n)\n",
      "              2 LOAD_CONST               1 (1)\n",
      "              4 COMPARE_OP               1 (<=)\n",
      "              6 POP_JUMP_IF_FALSE       12\n",
      "\n",
      "  5           8 LOAD_CONST               1 (1)\n",
      "             10 RETURN_VALUE\n",
      "\n",
      "  7     >>   12 LOAD_FAST                0 (n)\n",
      "             14 LOAD_GLOBAL              0 (fatorial)\n",
      "             16 LOAD_FAST                0 (n)\n",
      "             18 LOAD_CONST               1 (1)\n",
      "             20 BINARY_SUBTRACT\n",
      "             22 CALL_FUNCTION            1\n",
      "             24 BINARY_MULTIPLY\n",
      "             26 RETURN_VALUE\n",
      "             28 LOAD_CONST               0 (None)\n",
      "             30 RETURN_VALUE\n"
     ]
    }
   ],
   "source": [
    "from dis import dis\n",
    "\n",
    "def fatorial(n):\n",
    "    if n <= 1:\n",
    "        return 1\n",
    "    else:\n",
    "        return n*fatorial(n-1)\n",
    "\n",
    "dis(fatorial)"
   ]
  },
  {
   "cell_type": "markdown",
   "source": [
    "Existem diversos detalhes de implementação que são complexos de se entender, portanto utilizemos uma implementação mais simples de máquinas de pilha."
   ],
   "metadata": {
    "collapsed": false
   }
  },
  {
   "cell_type": "code",
   "execution_count": 42,
   "outputs": [],
   "source": [
    "class MaquinaDePilha:\n",
    "    def __init__(self):\n",
    "        # Cria pilha de operandos/operadores\n",
    "        self.pilhaOperandos = Pilha()\n",
    "        # Define funções que implementam as\n",
    "        # operações suportadas pela máquina de pilha\n",
    "        def soma(x,y):\n",
    "            return x+y\n",
    "        def subt(x,y):\n",
    "            return x-y\n",
    "        def mult(x,y):\n",
    "            return x*y\n",
    "        def divi(x,y):\n",
    "            return x/y\n",
    "        # Cria um dicionário mapeando\n",
    "        # operadores em operações\n",
    "        self.operadores = {\"+\": soma,\n",
    "                           \"-\": subt,\n",
    "                           \"*\": mult,\n",
    "                           \"/\": divi\n",
    "        }\n",
    "\n",
    "    # Define o método que empilha operandos\n",
    "    def empilhaOperando(self, operando):\n",
    "        # Caso de fato seja operando, empilha seu valor na pilha\n",
    "        if operando not in self.operadores:\n",
    "            print(\"Empilha:\", operando)\n",
    "            self.pilhaOperandos.empilha(operando)\n",
    "        # Caso seja um operador, desempilhe 2 parâmetros,\n",
    "        # execute a operação e empilhe o resultado\n",
    "        else:\n",
    "            print(f\"Operador: {operando}\")\n",
    "            operandoA = self.pilhaOperandos.desempilha()\n",
    "            print(f\"Desempilha: {operandoA}\")\n",
    "            operandoB = self.pilhaOperandos.desempilha()\n",
    "            print(f\"Desempilha: {operandoB}\")\n",
    "            resultado = self.operadores[operando](operandoA, operandoB)\n",
    "            print(f\"Executa: {operandoA} {operando} {operandoB} = {resultado}\")\n",
    "            self.pilhaOperandos.empilha(resultado)\n",
    "            print(f\"Empilha: {resultado}\")\n",
    "\n",
    "    # Desempilha um operando\n",
    "    def desempilhaOperando(self):\n",
    "        valor = self.pilhaOperandos.desempilha()\n",
    "        print(f\"Desempilha: {valor}\")\n",
    "        return valor"
   ],
   "metadata": {
    "collapsed": false
   }
  },
  {
   "cell_type": "markdown",
   "source": [
    "Podemos agora testar o funcionamento desta máquina de pilha."
   ],
   "metadata": {
    "collapsed": false
   }
  },
  {
   "cell_type": "code",
   "execution_count": 43,
   "outputs": [
    {
     "name": "stdout",
     "output_type": "stream",
     "text": [
      "Empilha: 1\n",
      "Empilha: 2\n",
      "Operador: +\n",
      "Desempilha: 2\n",
      "Desempilha: 1\n",
      "Executa: 2 + 1 = 3\n",
      "Empilha: 3\n",
      "Empilha: 3\n",
      "Operador: -\n",
      "Desempilha: 3\n",
      "Desempilha: 3\n",
      "Executa: 3 - 3 = 0\n",
      "Empilha: 0\n",
      "Desempilha: 0\n",
      "0\n"
     ]
    }
   ],
   "source": [
    "maquinaDePilha = MaquinaDePilha()\n",
    "\n",
    "maquinaDePilha.empilhaOperando(1)\n",
    "maquinaDePilha.empilhaOperando(2)\n",
    "maquinaDePilha.empilhaOperando(\"+\")\n",
    "maquinaDePilha.empilhaOperando(3)\n",
    "maquinaDePilha.empilhaOperando(\"-\")\n",
    "resultado = maquinaDePilha.desempilhaOperando()\n",
    "print(resultado)"
   ],
   "metadata": {
    "collapsed": false
   }
  },
  {
   "cell_type": "markdown",
   "source": [
    "### Filas\n",
    "\n",
    "Filas são bastante comuns devido a característica First-In First-Out, especialmente quando tentamos gerenciar recursos e atividades.\n",
    "\n",
    "Se já aguardou sua vez em uma fila, sabe exatamente do que estamos falando."
   ],
   "metadata": {
    "collapsed": false
   }
  },
  {
   "cell_type": "code",
   "execution_count": 44,
   "outputs": [
    {
     "name": "stdout",
     "output_type": "stream",
     "text": [
      "None\n",
      "1\n",
      "2\n",
      "3\n",
      "None\n"
     ]
    }
   ],
   "source": [
    "class ElementoFila():\n",
    "    def __init__(self, valorInicial):\n",
    "        self.valor = valorInicial\n",
    "        self.anterior = None\n",
    "\n",
    "class Fila():\n",
    "    def __init__(self):\n",
    "        self.ultimoElementoFila = None\n",
    "        self.primeiroElementoFila = None\n",
    "\n",
    "    def enfileira(self, valor):\n",
    "        novoElementoFila = ElementoFila(valorInicial=valor)\n",
    "        if self.primeiroElementoFila is not None:\n",
    "            self.primeiroElementoFila.anterior = novoElementoFila\n",
    "        self.primeiroElementoFila = novoElementoFila\n",
    "        if self.ultimoElementoFila is None:\n",
    "            self.ultimoElementoFila = self.primeiroElementoFila\n",
    "\n",
    "    def desenfileira(self):\n",
    "        if self.ultimoElementoFila is None:\n",
    "            self.primeiroElementoFila = None\n",
    "            return None\n",
    "        elementoFilaRemovido = self.ultimoElementoFila\n",
    "        self.ultimoElementoFila = elementoFilaRemovido.anterior\n",
    "        return elementoFilaRemovido.valor\n",
    "\n",
    "fila = Fila()\n",
    "print(fila.desenfileira())\n",
    "fila.enfileira(1)\n",
    "fila.enfileira(2)\n",
    "print(fila.desenfileira())\n",
    "fila.enfileira(3)\n",
    "print(fila.desenfileira())\n",
    "print(fila.desenfileira())\n",
    "print(fila.desenfileira())"
   ],
   "metadata": {
    "collapsed": false
   }
  },
  {
   "cell_type": "markdown",
   "source": [
    "Mas onde podemos usar estas filas?\n",
    "\n",
    "Uma aplicação recorrente é uma fila de trabalho, usada por produtores e consumidores.\n",
    "\n",
    "Produtores produzem trabalho, ou ordens de trabalho, e consumidores consomem os frutos do trabalho, ou executam as ordens de trabalho."
   ],
   "metadata": {
    "collapsed": false
   }
  },
  {
   "cell_type": "code",
   "execution_count": 45,
   "outputs": [
    {
     "name": "stdout",
     "output_type": "stream",
     "text": [
      "Lista parcialmente ordenada: [6, 10, 14, 14, 17, 23, 41, 52, 67, 72]\n",
      "Lista parcialmente ordenada: [27, 36, 44, 88, 101, 104, 105, 117, 119, 136]\n",
      "Lista parcialmente ordenada: [20, 24, 51, 52, 64, 73, 76, 103, 104, 122]\n",
      "Lista parcialmente ordenada: [4, 7, 8, 17, 22, 28, 30, 39, 49, 59]\n",
      "Lista parcialmente ordenada: [1, 15, 38, 45, 59, 66, 74, 77, 93, 107]\n",
      "Lista parcialmente ordenada: [16, 17, 20, 42, 60, 79, 94, 99, 140, 164]\n",
      "Lista parcialmente ordenada: [5, 11, 18, 29, 49, 52, 52, 55, 70, 73]\n",
      "Lista parcialmente ordenada: [0, 9, 18, 24, 29, 37, 37, 40, 49, 59]\n",
      "Lista parcialmente ordenada: [35, 36, 39, 58, 72, 79, 95, 97, 114, 117]\n",
      "Lista parcialmente ordenada: [1, 6, 12, 20, 37, 51, 72, 81, 84, 84]\n"
     ]
    }
   ],
   "source": [
    "import random\n",
    "\n",
    "# Mesmos 10000 inteiros aleatórios\n",
    "inteirosAleatorios = [random.randint(0, 1000) for i in range(1000)]\n",
    "\n",
    "# Bubble sort visto anteriormente, agora consome itens da fila de trabalho\n",
    "# e devolve a resposta na fila de respostas\n",
    "def bubbleSort(filaTrabalho, filaResposta):\n",
    "    # Continua trabalhando enquanto ouver trabalho na fila\n",
    "    while not filaTrabalho.empty():\n",
    "        # Remove trabalho da fila de trabalho\n",
    "        lista = filaTrabalho.get()\n",
    "        # Marca trabalho como feito para permitir que o\n",
    "        # outro lado da fila coloque um novo trabalho nesta\n",
    "        filaTrabalho.task_done()\n",
    "        # Organiza a lista\n",
    "        for i in range(len(lista)):\n",
    "            for j in range(i+1, len(lista)):\n",
    "                if lista[i] > lista[j]:\n",
    "                    temp = lista[i]\n",
    "                    lista[i] = lista[j]\n",
    "                    lista[j] = temp\n",
    "        # Guarda lista organizada na fila de respostas\n",
    "        filaResposta.put_nowait(lista)\n",
    "    return None\n",
    "\n",
    "# Criamos as filas de trabalho e repostas, com capacidade para 100 trabalhos cada\n",
    "from queue import Queue\n",
    "filaDeTrabalho = Queue(maxsize=10)\n",
    "filaDeRepostas = Queue(maxsize=10)\n",
    "\n",
    "# Quebramos os 10000 inteiros aleatórios em 10 trabalhos e enfileiramos o trabalho\n",
    "for i in range(10):\n",
    "    filaDeTrabalho.put_nowait(inteirosAleatorios[i*100:(i+1)*100])\n",
    "\n",
    "# Lançamos 4 threads para consumir a fila de trabalho e organizar cada sublista com inteiros\n",
    "from concurrent.futures import ThreadPoolExecutor\n",
    "with ThreadPoolExecutor(max_workers=4) as pool:\n",
    "    pool.map(bubbleSort, [filaDeTrabalho]*4, [filaDeRepostas]*4)\n",
    "\n",
    "# Lêmos as respostas da fila de respostas\n",
    "listasParciaisOrdenadas = []\n",
    "while not filaDeRepostas.empty():\n",
    "    # Lê lista parcial ordenada da fila de respostas\n",
    "    listasParciaisOrdenadas.append(filaDeRepostas.get())\n",
    "    # Marca tarefa como pronta para que outra resposta seja enfileirada\n",
    "    filaDeRepostas.task_done()\n",
    "    # Imprime começo das listas parciais para ver\n",
    "    # que estão ordenadas individualmente, mas não globalmente\n",
    "    print(\"Lista parcialmente ordenada:\", listasParciaisOrdenadas[-1][:10])"
   ],
   "metadata": {
    "collapsed": false
   }
  },
  {
   "cell_type": "markdown",
   "source": [
    "Ainda precisamos juntar as listas parciais ordenadas. Isto tipicamente é feito sequencialmente."
   ],
   "metadata": {
    "collapsed": false
   }
  },
  {
   "cell_type": "code",
   "execution_count": 46,
   "outputs": [
    {
     "name": "stdout",
     "output_type": "stream",
     "text": [
      "Lista totalmente ordenada: [0, 1, 1, 4, 5, 6, 6, 7, 8, 9, 10, 11, 12, 14, 14, 15, 16, 17, 17, 17, 18, 18, 20, 20, 20, 22, 23, 24, 24, 27, 28, 29, 29, 30, 35, 36, 36, 37, 37, 37, 38, 39, 39, 40, 41, 42, 44, 45, 49, 49, 49, 51, 51, 52, 52, 52, 52, 55, 58, 59, 59, 59, 59, 60, 61, 64, 66, 67, 70, 72, 72, 72, 73, 73, 73, 74, 76, 77, 78, 78, 78, 79, 79, 80, 81, 81, 84, 84, 84, 88, 89, 90, 92, 92, 92, 93, 93, 94, 94, 95, 96, 97, 97, 97, 99, 99, 101, 103, 104, 104, 105, 105, 106, 107, 109, 110, 111, 112, 114, 116, 116, 116, 117, 117, 118, 118, 119, 119, 120, 122, 122, 122, 124, 125, 126, 127, 127, 127, 130, 132]\n"
     ]
    }
   ],
   "source": [
    "# Junta listas parcialmente ordenadas\n",
    "def k_way_merge(listas_parcialmente_ordenadas):\n",
    "    resultadoFinal = []\n",
    "\n",
    "    while True:\n",
    "        num_listas = len(listas_parcialmente_ordenadas)\n",
    "        # Remove listas parciais vazias\n",
    "        for indice_lista in map(lambda x: num_listas-x-1, range(num_listas)):\n",
    "            if len(listas_parcialmente_ordenadas[indice_lista]) == 0:\n",
    "                listas_parcialmente_ordenadas.pop(indice_lista)\n",
    "\n",
    "        # Se não houverem mais listas parciais para juntar, retorne a lista ordenada\n",
    "        if len(listas_parcialmente_ordenadas) == 0:\n",
    "            break\n",
    "\n",
    "        # Capture a lista dos primeiros itens de todas as listas parciais\n",
    "        lista = list(map(lambda x: x[0], listas_parcialmente_ordenadas))\n",
    "\n",
    "        # Remova o valor mínimo de todas as listas em que ocorre\n",
    "        min_val = min(lista)\n",
    "        while True:\n",
    "            try:\n",
    "                # Procura em que lista o valor mínimo aparece\n",
    "                indice_lista = lista.index(min_val)\n",
    "            except ValueError:\n",
    "                # Quando o valor mínimo não ocorrer mais, procura o próximo valor mínimo\n",
    "                break\n",
    "            # Remove o valor mínimo encontrado na frente da lista indice_lista\n",
    "            resultadoFinal.append(listas_parcialmente_ordenadas[indice_lista][0])\n",
    "            listas_parcialmente_ordenadas[indice_lista].pop(0)\n",
    "\n",
    "            # Remove o índice para evitar tentativa de remover duas vezes o mesmo valor\n",
    "            lista[indice_lista] = None\n",
    "    return resultadoFinal\n",
    "\n",
    "print(\"Lista totalmente ordenada:\", k_way_merge(listasParciaisOrdenadas)[:140])"
   ],
   "metadata": {
    "collapsed": false
   }
  }
 ],
 "metadata": {
  "kernelspec": {
   "display_name": "Python 3 (ipykernel)",
   "language": "python",
   "name": "python3"
  },
  "language_info": {
   "codemirror_mode": {
    "name": "ipython",
    "version": 3
   },
   "file_extension": ".py",
   "mimetype": "text/x-python",
   "name": "python",
   "nbconvert_exporter": "python",
   "pygments_lexer": "ipython3",
   "version": "3.10.6"
  }
 },
 "nbformat": 4,
 "nbformat_minor": 1
}
