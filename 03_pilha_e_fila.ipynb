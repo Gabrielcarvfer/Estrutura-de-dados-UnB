{
 "cells": [
  {
   "cell_type": "markdown",
   "metadata": {},
   "source": [
    "Estrutura de Dados - Pilha e fila\n",
    "==========================================\n",
    "\n",
    "Capítulo 10 do livro texto sugerido:\n",
    "Introduction to Algorithms, Fourth Edition\n",
    "By Thomas H. Cormen, Charles E. Leiserson, Ronald L. Rivest and Clifford Stein\n",
    "https://mitpress.mit.edu/9780262046305/introduction-to-algorithms/\n",
    "\n",
    "Conteúdo\n",
    "========\n",
    "\n",
    "Como mostrado na Seção de introdução, pilhas e filas são estruturas implementadas de maneira semelhante.\n",
    "\n",
    "Sua maior diferente é quanto a ordem de entrada e saída dos dados: First-In Last-Out (FILO) versus First-In First Out (FIFO).\n",
    "\n",
    "Revisitamos as duas estruturas a seguir:\n",
    "\n",
    "## Pilhas"
   ]
  },
  {
   "cell_type": "code",
   "execution_count": 23,
   "metadata": {},
   "outputs": [
    {
     "name": "stdout",
     "output_type": "stream",
     "text": [
      "None\n",
      "2\n",
      "3\n",
      "1\n",
      "None\n"
     ]
    }
   ],
   "source": [
    "class ElementoPilha():\n",
    "    def __init__(self, valorInicial):\n",
    "        self.valor = valorInicial\n",
    "        self.anterior = None\n",
    "\n",
    "class Pilha():\n",
    "    def __init__(self):\n",
    "        self.elementoPilha = None\n",
    "\n",
    "    def empilha(self, valor):\n",
    "        novoElementoPilha = ElementoPilha(valorInicial=valor)\n",
    "        if self.elementoPilha is not None:\n",
    "            novoElementoPilha.anterior = self.elementoPilha\n",
    "        self.elementoPilha = novoElementoPilha\n",
    "\n",
    "    def desempilha(self):\n",
    "        if self.elementoPilha is None:\n",
    "            return None\n",
    "        elementoPilhaRemovido = self.elementoPilha\n",
    "        self.elementoPilha = elementoPilhaRemovido.anterior\n",
    "        return elementoPilhaRemovido.valor\n",
    "\n",
    "pilha = Pilha()\n",
    "print(pilha.desempilha())\n",
    "pilha.empilha(1)\n",
    "pilha.empilha(2)\n",
    "print(pilha.desempilha())\n",
    "pilha.empilha(3)\n",
    "print(pilha.desempilha())\n",
    "print(pilha.desempilha())\n",
    "print(pilha.desempilha())"
   ]
  },
  {
   "cell_type": "markdown",
   "metadata": {},
   "source": [
    "Mas em que aplicações são utilizadas estas estruturas?\n",
    "\n",
    "Pilhas são utilizadas por programas quando querem chamar uma função.\n",
    "São empilhados os parâmetros da função a ser chamada (callee), em seguida do endereço de retorno (return address) para a próxima instrução do chamador (caller) após a função. O programa então pula para o endereço da função chamada (callee), quando empilha o endereço de base da pilha EBP do chamador (caller) e então inicia sua execução. Ao fim, reestabelece o endereço de base da pilha desempilhando o valor, e então salta para o endereço de retorno especificado.\n",
    "\n",
    "### Quadro de pilha de programa C (https://norasandler.com/2018/01/08/Write-a-Compiler-5.html)\n",
    "![](./03_pilha_e_fila/c_stack_frame.png)\n",
    "\n",
    "De maneira semelhante, o Python tem seus próprios quadros. Estes quadros também contém argumentos, variáveis definidas dentro de uma função (locais),\n",
    "e um endereço de retorno (representado por uma referência ao quadro anterior na pilha).\n",
    "\n",
    "### Quadro de pilha de programa Python (https://towardsdatascience.com/python-stack-frames-and-tail-call-optimization-4d0ea55b0542)\n",
    "![](./03_pilha_e_fila/python_stack_frame.png)\n",
    "\n",
    "Nós podemos acessar e visualizar os conteúdos destes quadros e da pilha. Vejamos dois exemplos."
   ]
  },
  {
   "cell_type": "code",
   "execution_count": 24,
   "metadata": {},
   "outputs": [
    {
     "name": "stdout",
     "output_type": "stream",
     "text": [
      "Funcao1:\n",
      "Variáveis locais: {'argumento1': 1, 'argumento2': 2, 'frame': <frame at 0x7f6bb4576200, file '/tmp/ipykernel_15542/831056386.py', line 6, code funcao1>}\n",
      "Quadro de retorno: <frame at 0x7f6ba54ec040, file '/tmp/ipykernel_15542/831056386.py', line 9, code <module>>\n"
     ]
    }
   ],
   "source": [
    "import sys\n",
    "\n",
    "def funcao1(argumento1, argumento2):\n",
    "    print(\"Funcao1:\")\n",
    "    frame = sys._getframe()\n",
    "    print(\"Variáveis locais:\", frame.f_locals)\n",
    "    print(\"Quadro de retorno:\", frame.f_back)\n",
    "\n",
    "funcao1(1, 2)"
   ]
  },
  {
   "cell_type": "markdown",
   "metadata": {},
   "source": [
    "Agora vejamos uma outra função, com sua pilha de quadros de execução completa:"
   ]
  },
  {
   "cell_type": "code",
   "execution_count": 25,
   "metadata": {},
   "outputs": [
    {
     "name": "stdout",
     "output_type": "stream",
     "text": [
      "Funcao2:\n",
      "Variáveis locais: {'argumentoA': '1', 'argumentoB': '2', 'frame': <frame at 0x7f6ba577d480, file '/tmp/ipykernel_15542/3121221515.py', line 6, code funcao2>}\n",
      "Quadro de retorno: <frame at 0x7f6ba54ec1d0, file '/tmp/ipykernel_15542/3121221515.py', line 11, code <module>>\n",
      "Pilha de quadros:\n",
      "  File \"/usr/lib/python3.10/runpy.py\", line 196, in _run_module_as_main\n",
      "    return _run_code(code, main_globals, None,\n",
      "  File \"/usr/lib/python3.10/runpy.py\", line 86, in _run_code\n",
      "    exec(code, run_globals)\n",
      "  File \"/mnt/dev/tools/source/ed_2022_2/venv/lib/python3.10/site-packages/ipykernel_launcher.py\", line 17, in <module>\n",
      "    app.launch_new_instance()\n",
      "  File \"/mnt/dev/tools/source/ed_2022_2/venv/lib/python3.10/site-packages/traitlets/config/application.py\", line 982, in launch_instance\n",
      "    app.start()\n",
      "  File \"/mnt/dev/tools/source/ed_2022_2/venv/lib/python3.10/site-packages/ipykernel/kernelapp.py\", line 712, in start\n",
      "    self.io_loop.start()\n",
      "  File \"/mnt/dev/tools/source/ed_2022_2/venv/lib/python3.10/site-packages/tornado/platform/asyncio.py\", line 215, in start\n",
      "    self.asyncio_loop.run_forever()\n",
      "  File \"/usr/lib/python3.10/asyncio/base_events.py\", line 600, in run_forever\n",
      "    self._run_once()\n",
      "  File \"/usr/lib/python3.10/asyncio/base_events.py\", line 1896, in _run_once\n",
      "    handle._run()\n",
      "  File \"/usr/lib/python3.10/asyncio/events.py\", line 80, in _run\n",
      "    self._context.run(self._callback, *self._args)\n",
      "  File \"/mnt/dev/tools/source/ed_2022_2/venv/lib/python3.10/site-packages/ipykernel/kernelbase.py\", line 510, in dispatch_queue\n",
      "    await self.process_one()\n",
      "  File \"/mnt/dev/tools/source/ed_2022_2/venv/lib/python3.10/site-packages/ipykernel/kernelbase.py\", line 499, in process_one\n",
      "    await dispatch(*args)\n",
      "  File \"/mnt/dev/tools/source/ed_2022_2/venv/lib/python3.10/site-packages/ipykernel/kernelbase.py\", line 406, in dispatch_shell\n",
      "    await result\n",
      "  File \"/mnt/dev/tools/source/ed_2022_2/venv/lib/python3.10/site-packages/ipykernel/kernelbase.py\", line 730, in execute_request\n",
      "    reply_content = await reply_content\n",
      "  File \"/mnt/dev/tools/source/ed_2022_2/venv/lib/python3.10/site-packages/ipykernel/ipkernel.py\", line 383, in do_execute\n",
      "    res = shell.run_cell(\n",
      "  File \"/mnt/dev/tools/source/ed_2022_2/venv/lib/python3.10/site-packages/ipykernel/zmqshell.py\", line 528, in run_cell\n",
      "    return super().run_cell(*args, **kwargs)\n",
      "  File \"/mnt/dev/tools/source/ed_2022_2/venv/lib/python3.10/site-packages/IPython/core/interactiveshell.py\", line 2940, in run_cell\n",
      "    result = self._run_cell(\n",
      "  File \"/mnt/dev/tools/source/ed_2022_2/venv/lib/python3.10/site-packages/IPython/core/interactiveshell.py\", line 2995, in _run_cell\n",
      "    return runner(coro)\n",
      "  File \"/mnt/dev/tools/source/ed_2022_2/venv/lib/python3.10/site-packages/IPython/core/async_helpers.py\", line 129, in _pseudo_sync_runner\n",
      "    coro.send(None)\n",
      "  File \"/mnt/dev/tools/source/ed_2022_2/venv/lib/python3.10/site-packages/IPython/core/interactiveshell.py\", line 3194, in run_cell_async\n",
      "    has_raised = await self.run_ast_nodes(code_ast.body, cell_name,\n",
      "  File \"/mnt/dev/tools/source/ed_2022_2/venv/lib/python3.10/site-packages/IPython/core/interactiveshell.py\", line 3373, in run_ast_nodes\n",
      "    if await self.run_code(code, result, async_=asy):\n",
      "  File \"/mnt/dev/tools/source/ed_2022_2/venv/lib/python3.10/site-packages/IPython/core/interactiveshell.py\", line 3433, in run_code\n",
      "    exec(code_obj, self.user_global_ns, self.user_ns)\n",
      "  File \"/tmp/ipykernel_15542/3121221515.py\", line 11, in <module>\n",
      "    funcao2(\"1\", \"2\")\n",
      "  File \"/tmp/ipykernel_15542/3121221515.py\", line 9, in funcao2\n",
      "    traceback.print_stack(file=sys.stdout)\n"
     ]
    }
   ],
   "source": [
    "import traceback\n",
    "\n",
    "def funcao2(argumentoA, argumentoB):\n",
    "    print(\"Funcao2:\")\n",
    "    frame = sys._getframe()\n",
    "    print(\"Variáveis locais:\", frame.f_locals)\n",
    "    print(\"Quadro de retorno:\", frame.f_back)\n",
    "    print(\"Pilha de quadros:\")\n",
    "    traceback.print_stack(file=sys.stdout)\n",
    "\n",
    "funcao2(\"1\", \"2\")"
   ]
  },
  {
   "cell_type": "markdown",
   "metadata": {},
   "source": [
    "Note que essa pilha enorme não é normal, e sim devido ao código ter sido executado pelo notebook Jupyter.\n",
    "Se o mesmo programa é executado diretamente do interpretador CPython, obtemos o seguinte resultado impresso.\n",
    "\n",
    "\n",
    "```\n",
    "/mnt/dev/tools/source/ed_2022_2/venv/bin/python /mnt/dev/tools/source/ed_2022_2/test.py\n",
    "Funcao2:\n",
    "Variáveis locais: {'argumentoA': '1', 'argumentoB': '2', 'frame': <frame at 0x7fc3cc3dcfc0, file '/mnt/dev/tools/source/ed_2022_2/test.py', line 7, code funcao2>}\n",
    "Quadro de retorno: <frame at 0x7fc3cc349e40, file '/mnt/dev/tools/source/ed_2022_2/test.py', line 13, code <module>>\n",
    "Pilha de quadros:\n",
    "  File \"/mnt/dev/tools/source/ed_2022_2/test.py\", line 13, in <module>\n",
    "    funcao2(\"1\", \"2\")\n",
    "  File \"/mnt/dev/tools/source/ed_2022_2/test.py\", line 10, in funcao2\n",
    "    traceback.print_stack(file=sys.stdout)\n",
    "```"
   ]
  },
  {
   "cell_type": "markdown",
   "source": [
    "É realmente fantástico. Mas sabem onde mais as pilhas são comumente utilizadas? Máquinas de pilhas.\n",
    "\n",
    "O que são máquinas de pilhas? São máquinas que funcionam empilhando parâmetros e desempilhando conforme operadores são chamados.\n",
    "\n",
    "Como ninguém melhor que os próprios operandos para saber quantos parâmetros recebem, este tipo de implementação é bastante comum.\n",
    "\n",
    "E surpresa, o Python é um interpretador que utiliza máquina de pilhas.\n",
    "\n",
    "A especificação dos operandos está disponível em https://docs.python.org/3/library/dis.html."
   ],
   "metadata": {
    "collapsed": false
   }
  },
  {
   "cell_type": "code",
   "execution_count": 26,
   "metadata": {},
   "outputs": [
    {
     "name": "stdout",
     "output_type": "stream",
     "text": [
      "  4           0 LOAD_FAST                0 (n)\n",
      "              2 LOAD_CONST               1 (1)\n",
      "              4 COMPARE_OP               1 (<=)\n",
      "              6 POP_JUMP_IF_FALSE        6 (to 12)\n",
      "\n",
      "  5           8 LOAD_CONST               1 (1)\n",
      "             10 RETURN_VALUE\n",
      "\n",
      "  7     >>   12 LOAD_FAST                0 (n)\n",
      "             14 LOAD_GLOBAL              0 (fatorial)\n",
      "             16 LOAD_FAST                0 (n)\n",
      "             18 LOAD_CONST               1 (1)\n",
      "             20 BINARY_SUBTRACT\n",
      "             22 CALL_FUNCTION            1\n",
      "             24 BINARY_MULTIPLY\n",
      "             26 RETURN_VALUE\n"
     ]
    }
   ],
   "source": [
    "from dis import dis\n",
    "\n",
    "def fatorial(n):\n",
    "    if n <= 1:\n",
    "        return 1\n",
    "    else:\n",
    "        return n*fatorial(n-1)\n",
    "\n",
    "dis(fatorial)"
   ]
  },
  {
   "cell_type": "markdown",
   "source": [
    "### Filas\n",
    "\n",
    "Filas são bastante comuns devido a característica First-In First-Out, especialmente quando tentamos gerenciar recursos e atividades.\n",
    "\n",
    "Se já aguardou sua vez em uma fila, sabe exatamente do que estamos falando."
   ],
   "metadata": {
    "collapsed": false
   }
  },
  {
   "cell_type": "code",
   "execution_count": 27,
   "outputs": [
    {
     "name": "stdout",
     "output_type": "stream",
     "text": [
      "None\n",
      "1\n",
      "2\n",
      "3\n",
      "None\n"
     ]
    }
   ],
   "source": [
    "class ElementoFila():\n",
    "    def __init__(self, valorInicial):\n",
    "        self.valor = valorInicial\n",
    "        self.anterior = None\n",
    "\n",
    "class Fila():\n",
    "    def __init__(self):\n",
    "        self.ultimoElementoFila = None\n",
    "        self.primeiroElementoFila = None\n",
    "\n",
    "    def enfileira(self, valor):\n",
    "        novoElementoFila = ElementoFila(valorInicial=valor)\n",
    "        if self.primeiroElementoFila is not None:\n",
    "            self.primeiroElementoFila.anterior = novoElementoFila\n",
    "        self.primeiroElementoFila = novoElementoFila\n",
    "        if self.ultimoElementoFila is None:\n",
    "            self.ultimoElementoFila = self.primeiroElementoFila\n",
    "\n",
    "    def desenfileira(self):\n",
    "        if self.ultimoElementoFila is None:\n",
    "            self.primeiroElementoFila = None\n",
    "            return None\n",
    "        elementoFilaRemovido = self.ultimoElementoFila\n",
    "        self.ultimoElementoFila = elementoFilaRemovido.anterior\n",
    "        return elementoFilaRemovido.valor\n",
    "\n",
    "fila = Fila()\n",
    "print(fila.desenfileira())\n",
    "fila.enfileira(1)\n",
    "fila.enfileira(2)\n",
    "print(fila.desenfileira())\n",
    "fila.enfileira(3)\n",
    "print(fila.desenfileira())\n",
    "print(fila.desenfileira())\n",
    "print(fila.desenfileira())"
   ],
   "metadata": {
    "collapsed": false
   }
  }
 ],
 "metadata": {
  "kernelspec": {
   "display_name": "Python 3 (ipykernel)",
   "language": "python",
   "name": "python3"
  },
  "language_info": {
   "codemirror_mode": {
    "name": "ipython",
    "version": 3
   },
   "file_extension": ".py",
   "mimetype": "text/x-python",
   "name": "python",
   "nbconvert_exporter": "python",
   "pygments_lexer": "ipython3",
   "version": "3.10.6"
  }
 },
 "nbformat": 4,
 "nbformat_minor": 1
}
