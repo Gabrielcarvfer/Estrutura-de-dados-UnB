{
 "cells": [
  {
   "cell_type": "markdown",
   "source": [
    "Estrutura de Dados - Listas e deques\n",
    "==========================================\n",
    "\n",
    "Capítulo 10 do livro texto sugerido:\n",
    "Introduction to Algorithms, Fourth Edition\n",
    "By Thomas H. Cormen, Charles E. Leiserson, Ronald L. Rivest and Clifford Stein\n",
    "https://mitpress.mit.edu/9780262046305/introduction-to-algorithms/\n",
    "\n",
    "Conteúdo\n",
    "========\n",
    "\n",
    "## Listas\n",
    "Como mostrado na Seção de introdução, listas são implementadas de maneira bastante semelhante com pilhas e filas.\n",
    "\n",
    "São compostas por elementos de lista contendo um valor e uma referência para o elemento, a sua frente, enquanto a fila contém a referência para o primeiro elemento.\n",
    "\n",
    "Diferente da pilha e fila, porém, a posição de inserção e remoção dos dados não é pré-determinada, aumentando a complexidade da gerência dos dados nesta estrutura.\n",
    "\n",
    "A implementação de uma lista é mostrada abaixo"
   ],
   "metadata": {
    "collapsed": false
   }
  },
  {
   "cell_type": "code",
   "execution_count": 19,
   "metadata": {
    "collapsed": true
   },
   "outputs": [],
   "source": [
    "class ElementoLista():\n",
    "    def __init__(self, valorInicial):\n",
    "        # Cria um elemento de lista\n",
    "        # contendo o valor enfileirado\n",
    "        self.valor = valorInicial\n",
    "        # e a referência para o elemento seguinte a ele na lista\n",
    "        self.proximo = None\n",
    "\n",
    "class Lista():\n",
    "    def __init__(self):\n",
    "        # Cria uma lista vazia\n",
    "        self.primeiroElementoLista = None\n",
    "\n",
    "    def buscaElementoPosicao(self, posicao):\n",
    "        # Procure o elemento atualmente na posição\n",
    "        elementoPosicao = self.primeiroElementoLista\n",
    "        posicaoBuscada = 0\n",
    "        while posicaoBuscada != posicao:\n",
    "            if elementoPosicao is None:\n",
    "                raise Exception(f\"Posição não existente na lista: {posicao}\")\n",
    "            if elementoPosicao.proximo is None and posicao == -1:\n",
    "                return elementoPosicao\n",
    "            elementoPosicao = elementoPosicao.proximo\n",
    "            posicaoBuscada += 1\n",
    "        return elementoPosicao\n",
    "\n",
    "    def insereValor(self, valor, posicao=0):\n",
    "        # Cria um elemento para a lista\n",
    "        novoElementoLista = ElementoLista(valorInicial=valor)\n",
    "\n",
    "        if posicao == -1 and self.primeiroElementoLista is None:\n",
    "                self.primeiroElementoLista = novoElementoLista\n",
    "                return None\n",
    "\n",
    "        # E a posição de inserção seja a primeira posição\n",
    "        if posicao == 0:\n",
    "            if self.primeiroElementoLista is not None:\n",
    "                novoElementoLista.proximo = self.primeiroElementoLista\n",
    "            self.primeiroElementoLista = novoElementoLista\n",
    "        # Se a lista não estiver vazia\n",
    "        else:\n",
    "            posicao += 0 if posicao != -1 else 1\n",
    "            # Busca elemento anterior a posição\n",
    "            elementoPosicao = self.buscaElementoPosicao(posicao-1)\n",
    "            # Salva a referência para o elemento na\n",
    "            # posição como próximo do novo elemento\n",
    "            novoElementoLista.proximo = elementoPosicao.proximo\n",
    "            # Substitui elemento na posição pelo novo elemento\n",
    "            elementoPosicao.proximo = novoElementoLista\n",
    "        return None\n",
    "\n",
    "    def removerValor(self, posicao=0):\n",
    "        if posicao == 0:\n",
    "            if self.primeiroElementoLista is None:\n",
    "                return None\n",
    "            else:\n",
    "                elementoRemovido = self.primeiroElementoLista\n",
    "                self.primeiroElementoLista = self.primeiroElementoLista.proximo\n",
    "                return elementoRemovido.valor\n",
    "        else:\n",
    "            elementoPosicao = self.buscaElementoPosicao(posicao-1)\n",
    "            if elementoPosicao.proximo is not None:\n",
    "                elementoRemovido = elementoPosicao.proximo\n",
    "                elementoPosicao.proximo = elementoRemovido.proximo\n",
    "                return elementoRemovido.valor\n",
    "            return None"
   ]
  },
  {
   "cell_type": "markdown",
   "source": [
    "Quando inserimos um elemento na primeira posição, temos complexidade superior assintótica $O(1)$ para gravar a referência/ponteiro para o próximo elemento do novo elemento (`novoElementoLista.proximo = self.primeiroElementoLista`) e substituir as referências/ponteiros do início da lista pelo novo elemento (`self.primeiroElementoLista = novoElementoLista`).\n",
    "\n",
    "Para mostrar que de fato estas operações são rápidas, utilizaremos as seguintes funções."
   ],
   "metadata": {
    "collapsed": false
   }
  },
  {
   "cell_type": "code",
   "execution_count": 20,
   "outputs": [],
   "source": [
    "import time\n",
    "from functools import partial\n",
    "import statistics\n",
    "from matplotlib import pyplot as plt\n",
    "\n",
    "# Função decoradora que envelopa chamada original\n",
    "# e calcula o tempo passado\n",
    "def marcaTempo(func):\n",
    "    def funcWrapper(*args, **kwargs):\n",
    "        inicio = time.time()\n",
    "        resultado = func(*args, **kwargs)\n",
    "        fim = time.time()\n",
    "        #print(f\"Tempo gasto em {func.__name__}: {fim-inicio}s\")\n",
    "        return resultado, fim-inicio\n",
    "    return funcWrapper\n",
    "\n",
    "# Função de benchmark\n",
    "def benchmark(func, itens=10000, pulaImpressao=False):\n",
    "    tempos = []\n",
    "    for i in range(itens):\n",
    "        resultado, tempo = func(valor=i)\n",
    "        tempos.append(tempo)\n",
    "    if not pulaImpressao:\n",
    "        print(f\"Benchmark levou {sum(tempos):.2E}s no total, e {statistics.mean(tempos):.2E}±{statistics.stdev(tempos):.2E}s por iteração\")\n",
    "        plt.scatter(list(range(itens)), tempos)\n",
    "        plt.ylabel(\"Tempo (s)\")\n",
    "        plt.show()"
   ],
   "metadata": {
    "collapsed": false
   }
  },
  {
   "cell_type": "markdown",
   "source": [
    "Com as funções de benchmark prontas, podemos executar nossos testes.\n",
    "\n",
    "Primeiro inserindo 10 mil elementos no início da lista."
   ],
   "metadata": {
    "collapsed": false
   }
  },
  {
   "cell_type": "code",
   "execution_count": 21,
   "outputs": [
    {
     "name": "stdout",
     "output_type": "stream",
     "text": [
      "Benchmark levou 2.58E-02s no total, e 2.58E-06±2.04E-05s por iteração\n"
     ]
    },
    {
     "data": {
      "text/plain": "<Figure size 432x288 with 1 Axes>",
      "image/png": "[encoded data removed]"
     },
     "metadata": {
      "needs_background": "light"
     },
     "output_type": "display_data"
    }
   ],
   "source": [
    "listaTeste = Lista()\n",
    "\n",
    "# Cria uma função a partir de outra função e\n",
    "# parte dos seus parâmetros.\n",
    "# Para executá-la, basta chamar func(),\n",
    "# assim como feito pelo benchmark\n",
    "func = partial(marcaTempo(listaTeste.insereValor), posicao=0)\n",
    "benchmark(func)"
   ],
   "metadata": {
    "collapsed": false
   }
  },
  {
   "cell_type": "markdown",
   "source": [
    "Muito rápido, exceto por alguns outliers.\n",
    "\n",
    "Agora tentemos colocar sempre no final da lista.\n",
    "\n",
    "Como a lista vai crescendo, temos que buscar a última posição cada vez mais distante do início ($O(n)$)."
   ],
   "metadata": {
    "collapsed": false
   }
  },
  {
   "cell_type": "code",
   "execution_count": 22,
   "outputs": [
    {
     "name": "stdout",
     "output_type": "stream",
     "text": [
      "Benchmark levou 5.12E+00s no total, e 5.12E-04±6.20E-04s por iteração\n"
     ]
    },
    {
     "data": {
      "text/plain": "<Figure size 432x288 with 1 Axes>",
      "image/png": "[encoded data removed]"
     },
     "metadata": {
      "needs_background": "light"
     },
     "output_type": "display_data"
    }
   ],
   "source": [
    "listaTeste = Lista()\n",
    "\n",
    "# Cria uma função a partir de outra função e\n",
    "# parte dos seus parâmetros.\n",
    "# Para executá-la, basta chamar func(),\n",
    "# assim como feito pelo benchmark\n",
    "func = partial(marcaTempo(listaTeste.insereValor), posicao=-1)\n",
    "benchmark(func)"
   ],
   "metadata": {
    "collapsed": false
   }
  },
  {
   "cell_type": "markdown",
   "source": [
    "Pelos resultados (olhe as diferentes escalas e ignore os outliers), adicionar sempre no final da lista foi bem mais lento.\n",
    "\n",
    "Graficamente, também vemos que o tempo levado por iteração é menos regular.\n",
    "\n",
    "Uma das possíveis melhorias para permitir inserção mais rápida também na última posição, é modificando a implementação da nossa lista."
   ],
   "metadata": {
    "collapsed": false
   }
  },
  {
   "cell_type": "code",
   "execution_count": 23,
   "outputs": [],
   "source": [
    "class ListaComElementoFinal():\n",
    "    def __init__(self):\n",
    "        # Cria uma lista vazia\n",
    "        self.primeiroElementoLista = None\n",
    "        self.ultimoElementoLista = None\n",
    "\n",
    "    def buscaElementoPosicao(self, posicao):\n",
    "        # Procure o elemento atualmente na posição\n",
    "        elementoPosicao = self.primeiroElementoLista\n",
    "        posicaoBuscada = 0\n",
    "        while posicaoBuscada != posicao:\n",
    "            if elementoPosicao is None:\n",
    "                raise Exception(f\"Posição não existente na lista: {posicao}\")\n",
    "            if elementoPosicao.proximo is None and posicao == -1:\n",
    "                return elementoPosicao\n",
    "            if elementoPosicao.proximo.proximo is None and posicao == -2:\n",
    "                return elementoPosicao\n",
    "            elementoPosicao = elementoPosicao.proximo\n",
    "            posicaoBuscada += 1\n",
    "        return elementoPosicao\n",
    "\n",
    "    def insereValor(self, valor, posicao=0):\n",
    "        # Cria um elemento para a lista\n",
    "        novoElementoLista = ElementoLista(valorInicial=valor)\n",
    "\n",
    "        if posicao == -1 and self.primeiroElementoLista is None:\n",
    "                self.primeiroElementoLista = novoElementoLista\n",
    "                self.ultimoElementoLista = novoElementoLista\n",
    "                return None\n",
    "\n",
    "        # E a posição de inserção seja a primeira posição\n",
    "        if posicao == 0:\n",
    "            if self.primeiroElementoLista is not None:\n",
    "                novoElementoLista.proximo = self.primeiroElementoLista\n",
    "            else:\n",
    "                self.ultimoElementoLista = novoElementoLista\n",
    "            self.primeiroElementoLista = novoElementoLista\n",
    "        elif posicao == -1:\n",
    "            # Muda referência para próximo elemento colocado ao final da lista\n",
    "            self.ultimoElementoLista.proximo = novoElementoLista\n",
    "            # Atualiza novo ultimo elemento\n",
    "            self.ultimoElementoLista = novoElementoLista\n",
    "        # Se a lista não estiver vazia\n",
    "        else:\n",
    "            # Busca elemento anterior a posição\n",
    "            elementoPosicao = self.buscaElementoPosicao(posicao-1)\n",
    "            # Salva a referência para o elemento na\n",
    "            # posição como próximo do novo elemento\n",
    "            novoElementoLista.proximo = elementoPosicao.proximo\n",
    "            # Substitui elemento na posição pelo novo elemento\n",
    "            elementoPosicao.proximo = novoElementoLista\n",
    "        return None\n",
    "\n",
    "    def removerValor(self, posicao=0):\n",
    "        if posicao == 0:\n",
    "            if self.primeiroElementoLista is None:\n",
    "                return None\n",
    "            else:\n",
    "                elementoRemovido = self.primeiroElementoLista\n",
    "                self.primeiroElementoLista = self.primeiroElementoLista.proximo\n",
    "                if self.primeiroElementoLista is None:\n",
    "                    self.ultimoElementoLista = None\n",
    "                return elementoRemovido.valor\n",
    "        else:\n",
    "            if posicao == -1 and self.primeiroElementoLista == self.ultimoElementoLista:\n",
    "                elementoRemovido = self.primeiroElementoLista\n",
    "                self.primeiroElementoLista = None\n",
    "                self.ultimoElementoLista = None\n",
    "                return elementoRemovido\n",
    "            elementoPosicao = self.buscaElementoPosicao(posicao-1)\n",
    "            if elementoPosicao.proximo is not None:\n",
    "                elementoRemovido = elementoPosicao.proximo\n",
    "                elementoPosicao.proximo = elementoRemovido.proximo\n",
    "                if self.ultimoElementoLista == elementoRemovido:\n",
    "                    self.ultimoElementoLista = elementoPosicao\n",
    "                return elementoRemovido.valor\n",
    "            return None"
   ],
   "metadata": {
    "collapsed": false
   }
  },
  {
   "cell_type": "markdown",
   "source": [
    "Agora o desempenho deve ser similar inserindo elementos em ambos os lados"
   ],
   "metadata": {
    "collapsed": false
   }
  },
  {
   "cell_type": "code",
   "execution_count": 24,
   "outputs": [
    {
     "name": "stdout",
     "output_type": "stream",
     "text": [
      "Benchmark levou 1.08E-02s no total, e 1.08E-06±7.79E-06s por iteração\n"
     ]
    },
    {
     "data": {
      "text/plain": "<Figure size 432x288 with 1 Axes>",
      "image/png": "[encoded data removed]"
     },
     "metadata": {
      "needs_background": "light"
     },
     "output_type": "display_data"
    }
   ],
   "source": [
    "listaTeste = ListaComElementoFinal()\n",
    "func = partial(marcaTempo(listaTeste.insereValor), posicao=-1)\n",
    "benchmark(func)"
   ],
   "metadata": {
    "collapsed": false
   }
  },
  {
   "cell_type": "markdown",
   "source": [
    "E agora para tirar estes elementos? Como será o comportamento"
   ],
   "metadata": {
    "collapsed": false
   }
  },
  {
   "cell_type": "code",
   "execution_count": 25,
   "outputs": [
    {
     "name": "stdout",
     "output_type": "stream",
     "text": [
      "Benchmark levou 4.99E-03s no total, e 4.99E-07±1.22E-06s por iteração\n"
     ]
    },
    {
     "data": {
      "text/plain": "<Figure size 432x288 with 1 Axes>",
      "image/png": "[encoded data removed]"
     },
     "metadata": {
      "needs_background": "light"
     },
     "output_type": "display_data"
    }
   ],
   "source": [
    "def benchmarkRemocao(func, itens=10000, pulaImpressao=False):\n",
    "    tempos = []\n",
    "    for i in range(itens):\n",
    "        resultado, tempo = func()\n",
    "        tempos.append(tempo)\n",
    "    if not pulaImpressao:\n",
    "        print(f\"Benchmark levou {sum(tempos):.2E}s no total, e {statistics.mean(tempos):.2E}±{statistics.stdev(tempos):.2E}s por iteração\")\n",
    "        plt.scatter(list(range(itens)), tempos)\n",
    "        plt.ylabel(\"Tempo (s)\")\n",
    "        plt.show()\n",
    "\n",
    "func = partial(marcaTempo(listaTeste.removerValor), posicao=0)\n",
    "benchmarkRemocao(func)"
   ],
   "metadata": {
    "collapsed": false
   }
  },
  {
   "cell_type": "markdown",
   "source": [
    "Também bastante rápido removendo do começo da lista.\n",
    "\n",
    "O problema vem na hora de remover elementos do final.\n",
    "\n",
    "Não tem escapatória, já que mesmo com a referência para o último elemento, não podemos removê-lo e atualizar o elemento anterior a ele para ser o novo último elemento."
   ],
   "metadata": {
    "collapsed": false
   }
  },
  {
   "cell_type": "code",
   "execution_count": 26,
   "outputs": [
    {
     "name": "stdout",
     "output_type": "stream",
     "text": [
      "Benchmark levou 6.82E+00s no total, e 6.82E-04±4.58E-04s por iteração\n"
     ]
    },
    {
     "data": {
      "text/plain": "<Figure size 432x288 with 1 Axes>",
      "image/png": "[encoded data removed]"
     },
     "metadata": {
      "needs_background": "light"
     },
     "output_type": "display_data"
    }
   ],
   "source": [
    "func = partial(marcaTempo(listaTeste.insereValor), posicao=-1)\n",
    "benchmark(func, pulaImpressao=True)\n",
    "func = partial(marcaTempo(listaTeste.removerValor), posicao=-1)\n",
    "benchmarkRemocao(func)"
   ],
   "metadata": {
    "collapsed": false
   }
  },
  {
   "cell_type": "markdown",
   "source": [
    "Extremamente lento. Mas há uma solução.\n",
    "\n",
    "Uma estrutura de dados diferente, agora duplamente encadeada.\n",
    "\n",
    "## Deque\n",
    "\n",
    "O deque corrige este problema da lista, colocando referências também para os elementos anteriores, e não somente para os elementos posteriores.\n",
    "\n",
    "Isto permite remoção rápida dos elementos em ambas as extremidades."
   ],
   "metadata": {
    "collapsed": false
   }
  },
  {
   "cell_type": "code",
   "execution_count": 27,
   "outputs": [],
   "source": [
    "class ElementoDeque():\n",
    "    def __init__(self, valorInicial):\n",
    "        # Cria um elemento de deque\n",
    "        # contendo o valor enfileirado\n",
    "        self.valor = valorInicial\n",
    "        # e a referência para o elemento posterior a ele no deque\n",
    "        self.proximo = None\n",
    "        # e a referência para o elemento anterior a ele no deque\n",
    "        self.anterior = None\n",
    "\n",
    "class Deque():\n",
    "    def __init__(self):\n",
    "        # Cria um deque vazia\n",
    "        self.primeiroElementoDeque = None\n",
    "        self.ultimoElementoDeque = None\n",
    "\n",
    "    def buscaElementoPosicao(self, posicao):\n",
    "        # Procure o elemento atualmente na posição\n",
    "        elementoPosicao = self.primeiroElementoDeque\n",
    "        posicaoBuscada = posicao\n",
    "        while posicaoBuscada > 0:\n",
    "            if elementoPosicao is None:\n",
    "                raise Exception(f\"Posição não existente no deque: {posicao}\")\n",
    "            elementoPosicao = elementoPosicao.proximo\n",
    "            posicaoBuscada -= 1\n",
    "        return elementoPosicao\n",
    "\n",
    "    def insereNovoElemento(self, novoElemento, elementoPosicao):\n",
    "        # Salva a referência para o elemento na\n",
    "        # posição como próximo do novo elemento\n",
    "        #\n",
    "        #            novoElemento\n",
    "        #         anterior  proximo\n",
    "        #                   |\n",
    "        #                   v\n",
    "        # | posicao-1 |  posicao  | posicao+1\n",
    "        # | proximo-> | proximo-> | proximo->\n",
    "        # | <-anterior|<-anterior |<-anterior\n",
    "        novoElemento.proximo = elementoPosicao\n",
    "\n",
    "        # Salva a referência para o elemento anterior\n",
    "        # ao da posição como anterior do novo elemento\n",
    "        #\n",
    "        #            novoElemento\n",
    "        #         anterior  proximo\n",
    "        #           |       |\n",
    "        #           v       v\n",
    "        # | posicao-1 |  posicao  | posicao+1\n",
    "        # | proximo-> | proximo-> | proximo->\n",
    "        # | <-anterior|<-anterior |<-anterior\n",
    "        novoElemento.anterior = elementoPosicao.anterior\n",
    "\n",
    "        # Atualiza referencia do elemento posterior do elemento\n",
    "        # anterior para o novo elemento\n",
    "        #\n",
    "        #            novoElemento\n",
    "        #     anterior  ^    proximo\n",
    "        #           |   |    |\n",
    "        #           v   |    v\n",
    "        # | posicao-1   |    posicao    | posicao+1\n",
    "        # | proximo-----^    proximo->  | proximo->\n",
    "        # | <-anterior       <-anterior |<-anterior\n",
    "        # Salva a referência para o elemento anterior ao movido\n",
    "        if elementoPosicao.anterior is not None:\n",
    "            elementoPosicao.anterior.proximo = novoElemento\n",
    "\n",
    "        # Atualiza referencia do elemento anterior do elemento\n",
    "        # na posição para o novo elemento\n",
    "        #\n",
    "        #            novoElemento\n",
    "        #     anterior  ^ ^  proximo\n",
    "        #           |   | |   |\n",
    "        #           v   | |   v\n",
    "        # | posicao-1   | |   posicao    | posicao+1\n",
    "        # | proximo-----^ |   proximo->  | proximo->\n",
    "        # | <-anterior    ^----anterior  |<-anterior\n",
    "        elementoPosicao.anterior = novoElemento\n",
    "\n",
    "        if elementoPosicao == self.primeiroElementoDeque:\n",
    "            self.primeiroElementoDeque = self.primeiroElementoDeque.anterior\n",
    "\n",
    "    def insereValor(self, valor, posicao=0):\n",
    "        # Cria um elemento para o deque\n",
    "        novoElementoDeque = ElementoDeque(valorInicial=valor)\n",
    "\n",
    "        # E a posição de inserção seja a primeira posição\n",
    "        if self.primeiroElementoDeque is None:\n",
    "            self.primeiroElementoDeque = novoElementoDeque\n",
    "            self.ultimoElementoDeque = self.primeiroElementoDeque\n",
    "        # Se a deque não estiver vazia\n",
    "        else:\n",
    "            if posicao == 0:\n",
    "                novoElementoDeque.proximo = self.primeiroElementoDeque\n",
    "                self.primeiroElementoDeque.anterior = novoElementoDeque\n",
    "                self.primeiroElementoDeque = novoElementoDeque\n",
    "            elif posicao == -1:\n",
    "                self.ultimoElementoDeque.proximo = novoElementoDeque\n",
    "                novoElementoDeque.anterior = self.ultimoElementoDeque\n",
    "                self.ultimoElementoDeque = novoElementoDeque\n",
    "            else:\n",
    "                # Busca elemento anterior a posicao\n",
    "                #                  v\n",
    "                # | posicao-1 |  posicao  | posicao+1\n",
    "                # | proximo-> | proximo-> | proximo->\n",
    "                #\n",
    "                elementoPosicao = self.buscaElementoPosicao(posicao) if posicao > 0 else self.primeiroElementoDeque\n",
    "\n",
    "                # Reorganizando\n",
    "                #                novoElemento\n",
    "                #                    v\n",
    "                # | posicao-1  | posicao    | posicao+1 | posicao+2\n",
    "                # | proximo->  | proximo->  | proximo-> | proximo->\n",
    "                # | <-anterior | <-anterior |<-anterior |<-anterior\n",
    "                self.insereNovoElemento(novoElementoDeque, elementoPosicao)\n",
    "\n",
    "    def removerValor(self, posicao=0):\n",
    "        if self.primeiroElementoDeque is None or self.ultimoElementoDeque is None:\n",
    "            return None\n",
    "        else:\n",
    "            # inicio el0 | el1 | el2 | ... | eln | fim el-1\n",
    "            if posicao == 0:\n",
    "                elementoPosicao = self.primeiroElementoDeque\n",
    "\n",
    "                # Se estivermos tirando um elemento que seja o primeiro\n",
    "                #   primeiro    el removido   ultimo\n",
    "                # | posicao    | posicao+1  | posicao+2\n",
    "                # | proximo->  | proximo->  | proximo->\n",
    "                # | <-anterior | <-anterior |<-anterior\n",
    "                self.primeiroElementoDeque = elementoPosicao.proximo\n",
    "                #  el removido    primeiro     ultimo\n",
    "                # | posicao    | posicao+1  | posicao+2\n",
    "                # | proximo->  | proximo->  | proximo->\n",
    "                # | <-anterior | <-anterior |<-anterior\n",
    "                # Se havia de fato um valor na posicao+1, não era um None,\n",
    "                # precisamos arrumar a referência para o elemento anterior removido\n",
    "                if self.primeiroElementoDeque:\n",
    "                    self.primeiroElementoDeque.anterior = None\n",
    "                else:\n",
    "                    self.ultimoElementoDeque = None\n",
    "            elif posicao == -1:\n",
    "                elementoPosicao = self.ultimoElementoDeque\n",
    "\n",
    "                # Se estivermos tirando um elemento que seja o último\n",
    "                #   primeiro                  ultimo\n",
    "                # | posicao-2  | posicao-1  | posicao\n",
    "                # | proximo->  | proximo->  | proximo->\n",
    "                # | <-anterior | <-anterior |<-anterior\n",
    "                # Primeiro atualizamos a referencia para o último elemento\n",
    "                self.ultimoElementoDeque = elementoPosicao.anterior\n",
    "\n",
    "                #   primeiro     ultimo        el removido\n",
    "                # | posicao-2  | posicao-1  | posicao\n",
    "                # | proximo->  | proximo->None| proximo->\n",
    "                # | <-anterior | <-anterior |<-anterior\n",
    "                # Em seguida removemos a referência para o próximo elemento\n",
    "                if self.ultimoElementoDeque:\n",
    "                    self.ultimoElementoDeque.proximo = None\n",
    "                else:\n",
    "                    self.primeiroElementoDeque = None\n",
    "            else:\n",
    "                elementoPosicao = self.buscaElementoPosicao(posicao)\n",
    "\n",
    "                if posicao != -1 and elementoPosicao == self.ultimoElementoDeque:\n",
    "                    return self.removerValor(-1)\n",
    "\n",
    "                # Se estivermos tirando um elemento que não seja o primeiro\n",
    "                #   primeiro                  ultimo\n",
    "                # | posicao-1  | posicao    | posicao+1\n",
    "                # | proximo->  | proximo->  | proximo->\n",
    "                # | <-anterior | <-anterior |<-anterior\n",
    "                elementoPosicao.anterior.proximo = elementoPosicao.proximo\n",
    "                #   primeiro    el removido   ultimo\n",
    "                # | posicao-1  | posicao    | posicao+1\n",
    "                # | proximo---------------->| proximo->\n",
    "                # | <-anterior | <-anterior |<-anterior\n",
    "\n",
    "                # Se estivermos tirando um elemento que não seja o primeiro\n",
    "                #   primeiro                  ultimo\n",
    "                # | posicao-1  | posicao    | posicao+1\n",
    "                # | proximo---------------->| proximo->\n",
    "                # | <-anterior | <-anterior |<-anterior\n",
    "                # Precisamos arrumar a referência anterior do próximo elemento\n",
    "                elementoPosicao.proximo.anterior = elementoPosicao.anterior\n",
    "                #   primeiro     el removido  ultimo\n",
    "                # | posicao-1  | posicao    | posicao+1\n",
    "                # | proximo---------------->| proximo->\n",
    "                # | <-anterior |<-------------anterior\n",
    "\n",
    "            if self.ultimoElementoDeque is None or self.primeiroElementoDeque is None:\n",
    "                self.primeiroElementoDeque = self.ultimoElementoDeque = None\n",
    "            return elementoPosicao.valor\n",
    "\n",
    "    def push_left(self, valor):\n",
    "        self.insereValor(valor, 0)\n",
    "    def push_right(self, valor):\n",
    "        self.insereValor(valor, -1)\n",
    "    def pop_left(self):\n",
    "        return self.removerValor(0)\n",
    "    def pop_right(self):\n",
    "        return self.removerValor(-1)\n",
    "deque = Deque()\n"
   ],
   "metadata": {
    "collapsed": false
   }
  },
  {
   "cell_type": "markdown",
   "source": [
    "Agora precisamos testar este deque. Primeiro testaremos se podemos acrescentar e remover elementos por ambos os lados corretamente"
   ],
   "metadata": {
    "collapsed": false
   }
  },
  {
   "cell_type": "code",
   "execution_count": 28,
   "outputs": [
    {
     "name": "stdout",
     "output_type": "stream",
     "text": [
      "Saida pela esquerda: [3, 1, 2, 4], esperando [3,1,2,4]\n",
      "Saida pela direita: [4, 2, 1, 3], esperando [4,2,1,3]\n",
      "São o inverso? True\n"
     ]
    }
   ],
   "source": [
    "deque.push_left(1)\n",
    "deque.push_right(2)\n",
    "deque.push_left(3)\n",
    "deque.push_right(4)\n",
    "saida_esquerda = [deque.pop_left() for _ in range(4)]\n",
    "deque.push_left(1)\n",
    "deque.push_right(2)\n",
    "deque.push_left(3)\n",
    "deque.push_right(4)\n",
    "saida_direita = [deque.pop_right() for _ in range(4)]\n",
    "print(f\"Saida pela esquerda: {saida_esquerda}, esperando [3,1,2,4]\")\n",
    "print(f\"Saida pela direita: {saida_direita}, esperando [4,2,1,3]\")\n",
    "print(\"São o inverso?\", saida_esquerda == list(reversed(saida_direita)))"
   ],
   "metadata": {
    "collapsed": false
   }
  },
  {
   "cell_type": "markdown",
   "source": [
    "Em seguida, testaremos o que acontece se tentarmos tirar mais elementos que os contidos"
   ],
   "metadata": {
    "collapsed": false
   }
  },
  {
   "cell_type": "code",
   "execution_count": 29,
   "outputs": [
    {
     "name": "stdout",
     "output_type": "stream",
     "text": [
      "[3, 1, 2, 4, None]\n",
      "[4, 2, 1, 3, None]\n"
     ]
    }
   ],
   "source": [
    "deque.push_left(1)\n",
    "deque.push_right(2)\n",
    "deque.push_left(3)\n",
    "deque.push_right(4)\n",
    "print([deque.pop_left() for _ in range(5)])\n",
    "deque.push_left(1)\n",
    "deque.push_right(2)\n",
    "deque.push_left(3)\n",
    "deque.push_right(4)\n",
    "print([deque.pop_right() for _ in range(5)])"
   ],
   "metadata": {
    "collapsed": false
   }
  },
  {
   "cell_type": "markdown",
   "source": [
    "Finalmente, se conseguimos inserir e remover elementos de qualquer posição do deque"
   ],
   "metadata": {
    "collapsed": false
   }
  },
  {
   "cell_type": "code",
   "execution_count": 32,
   "outputs": [
    {
     "name": "stdout",
     "output_type": "stream",
     "text": [
      "5\n",
      "2\n",
      "4\n",
      "3\n",
      "None\n",
      "None\n"
     ]
    }
   ],
   "source": [
    "deque.push_right(2) # [2]\n",
    "deque.push_left(3) # [3, 2]\n",
    "deque.insereValor(5, 1) # [3, 5, 2]\n",
    "deque.push_right(4)  # [3, 5, 2, 4]\n",
    "print(deque.removerValor(1))  # [3, 2, 4] -> return 5\n",
    "print(deque.removerValor(1))  # [3, 4] -> return 2\n",
    "print(deque.removerValor(-1))  # [3] -> return 4\n",
    "print(deque.removerValor(0))  # [] -> return 3\n",
    "print(deque.removerValor(0))  # [] -> return None\n",
    "print(deque.removerValor(-1))  # [] -> return None"
   ],
   "metadata": {
    "collapsed": false
   }
  },
  {
   "cell_type": "markdown",
   "source": [
    "Mas onde podemos utilizar estes deques? Vai depender muito do caso de uso da sua aplicação.\n",
    "\n",
    "Em simuladores de eventos discretos, é bastante comum agendarmos operações que ocorrerão em diferentes instantes de tempo."
   ],
   "metadata": {
    "collapsed": false
   }
  },
  {
   "cell_type": "code",
   "execution_count": 38,
   "outputs": [
    {
     "name": "stdout",
     "output_type": "stream",
     "text": [
      "Executando Evento 0\n",
      "Iniciando execução de eventos\n",
      "Evento 0 não retornou nenhum valor. Prosseguindo para o próximo evento\n",
      "Finda a execução do Evento 0\n",
      "==================================\n",
      "Executando Evento 1\n",
      "Evento 2\n",
      "Evento 1 não retornou nenhum valor. Prosseguindo para o próximo evento\n",
      "Finda a execução do Evento 1\n",
      "==================================\n",
      "Executando Evento 2\n",
      "Requisitando arquivos do site http://site0.com\n",
      "Evento 2 não retornou error. Agendando seu callbackFracasso sem prioridade (inicio do deque)\n",
      "Finda a execução do Evento 2\n",
      "==================================\n",
      "Executando Evento 3\n",
      "Requisitando arquivos do site http://site1.com\n",
      "Evento 3 não retornou error. Agendando seu callbackFracasso sem prioridade (inicio do deque)\n",
      "Finda a execução do Evento 3\n",
      "==================================\n",
      "Executando Evento 4\n",
      "Requisitando arquivos do site http://site2.com\n",
      "Evento 4 retornou error. Agendando seu callbackFracasso com prioridade (fim do deque)\n",
      "Finda a execução do Evento 4\n",
      "==================================\n",
      "Executando Evento 8\n",
      "Requisição de arquivos do site http://site2.com FALHOU\n",
      "Evento 8 não retornou nenhum valor. Prosseguindo para o próximo evento\n",
      "Finda a execução do Evento 8\n",
      "==================================\n",
      "Executando Evento 5\n",
      "Requisitando arquivos do site http://site3.com\n",
      "Evento 5 retornou error. Agendando seu callbackFracasso com prioridade (fim do deque)\n",
      "Finda a execução do Evento 5\n",
      "==================================\n",
      "Executando Evento 9\n",
      "Requisição de arquivos do site http://site3.com FALHOU\n",
      "Evento 9 não retornou nenhum valor. Prosseguindo para o próximo evento\n",
      "Finda a execução do Evento 9\n",
      "==================================\n",
      "Executando Evento 6\n",
      "Requisição arquivos do site http://site0.com FOI BEM-SUCEDIDA\n",
      "Evento 6 não retornou nenhum valor. Prosseguindo para o próximo evento\n",
      "Finda a execução do Evento 6\n",
      "==================================\n",
      "Executando Evento 7\n",
      "Requisição arquivos do site http://site1.com FOI BEM-SUCEDIDA\n",
      "Evento 7 não retornou nenhum valor. Prosseguindo para o próximo evento\n",
      "Finda a execução do Evento 7\n",
      "==================================\n",
      "Fim da execução\n"
     ]
    }
   ],
   "source": [
    "dequeEventos = Deque()\n",
    "\n",
    "class Evento:\n",
    "    CONTADOR_EVENTOS = 0\n",
    "    def __init__(self, tarefaDoEvento, tarefaCasoSucesso=None, tarefaCasoFracasso=None):\n",
    "        self.id = Evento.CONTADOR_EVENTOS\n",
    "        Evento.CONTADOR_EVENTOS += 1\n",
    "        self.tarefaDoEvento = tarefaDoEvento\n",
    "        self.callbackSucesso = tarefaCasoSucesso\n",
    "        self.callbackFracasso = tarefaCasoFracasso\n",
    "    def __str__(self):\n",
    "        return f\"Evento {self.id}\"\n",
    "\n",
    "def tarefa_inicial():\n",
    "    print(\"Iniciando execução de eventos\")\n",
    "\n",
    "def evento2():\n",
    "    print(\"Evento 2\")\n",
    "\n",
    "from random import randint\n",
    "from functools import partial\n",
    "\n",
    "def requisicaoRede(id=0):\n",
    "    print(f\"Requisitando arquivos do site http://site{id}.com\")\n",
    "    return randint(0, 1) # requisições de rede tem chances de falhar\n",
    "\n",
    "def requisicaoFalhou(id=0):\n",
    "    print(f\"Requisição de arquivos do site http://site{id}.com FALHOU\")\n",
    "\n",
    "def requisicaoSucesso(id=0):\n",
    "    print(f\"Requisição arquivos do site http://site{id}.com FOI BEM-SUCEDIDA\")\n",
    "\n",
    "dequeEventos.push_left(Evento(tarefa_inicial))\n",
    "dequeEventos.push_left(Evento(evento2))\n",
    "for req in range(4):\n",
    "    dequeEventos.push_left(Evento(partial(requisicaoRede, req),\n",
    "                                  partial(requisicaoSucesso, req),\n",
    "                                  partial(requisicaoFalhou, req)))\n",
    "\n",
    "# Deque contém\n",
    "# \n",
    "#                   | Evento 5             | Evento 4             | Evento 3             | Evento 2             | Evento 1     | Evento 0         |\n",
    "# tarefaDoEvento    | requisicaoRede(4)    | requisicaoRede(3)    | requisicaoRede(2)    | requisicaoRede(1)    | evento2()    | tarefa_inicial() |\n",
    "# callbackSucesso   | requisicaoSucesso(4) | requisicaoSucesso(3) | requisicaoSucesso(2) | requisicaoSucesso(1) | None         | None             |\n",
    "# callbackFracasso  | requisicaoFalhou(4)  | requisicaoFalhou(3)  | requisicaoFalhou(2)  | requisicaoFalhou(1)  | None         | None             |\n",
    "\n",
    "# O laço abaixo consumirá os elementos do final do deque (evento 0)\n",
    "\n",
    "# Tempo = 0\n",
    "# Deque\n",
    "#                   | Evento 5             | Evento 4             | Evento 3             | Evento 2             | Evento 1\n",
    "# tarefaDoEvento    | requisicaoRede(4)    | requisicaoRede(3)    | requisicaoRede(2)    | requisicaoRede(1)    | evento2()\n",
    "# callbackSucesso   | requisicaoSucesso(4) | requisicaoSucesso(3) | requisicaoSucesso(2) | requisicaoSucesso(1) | None\n",
    "# callbackFracasso  | requisicaoFalhou(4)  | requisicaoFalhou(3)  | requisicaoFalhou(2)  | requisicaoFalhou(1)  | None\n",
    "#\n",
    "# Executa Evento 0\n",
    "# Deque inalterado\n",
    "#\n",
    "###########################################################################################\n",
    "# Tempo = 1\n",
    "# Deque\n",
    "#                   | Evento 5             | Evento 4             | Evento 3             | Evento 2\n",
    "# tarefaDoEvento    | requisicaoRede(4)    | requisicaoRede(3)    | requisicaoRede(2)    | requisicaoRede(1)\n",
    "# callbackSucesso   | requisicaoSucesso(4) | requisicaoSucesso(3) | requisicaoSucesso(2) | requisicaoSucesso(1)\n",
    "# callbackFracasso  | requisicaoFalhou(4)  | requisicaoFalhou(3)  | requisicaoFalhou(2)  | requisicaoFalhou(1)\n",
    "#\n",
    "# Executa Evento 1\n",
    "# Deque inalterado\n",
    "#\n",
    "###########################################################################################\n",
    "# Tempo = 2\n",
    "# Deque\n",
    "#                   | Evento 5             | Evento 4             | Evento 3\n",
    "# tarefaDoEvento    | requisicaoRede(4)    | requisicaoRede(3)    | requisicaoRede(2)\n",
    "# callbackSucesso   | requisicaoSucesso(4) | requisicaoSucesso(3) | requisicaoSucesso(2)\n",
    "# callbackFracasso  | requisicaoFalhou(4)  | requisicaoFalhou(3)  | requisicaoFalhou(2)\n",
    "#\n",
    "# Executa Evento 2\n",
    "#\n",
    "# Caso o Evento 2 retorne VERDADEIRO\n",
    "# Deque\n",
    "#                   | Evento 6             | Evento 5             | Evento 4             | Evento 3\n",
    "# tarefaDoEvento    | requisicaoSucesso(1) | requisicaoRede(4)    | requisicaoRede(3)    | requisicaoRede(2)\n",
    "# callbackSucesso   | None                 | requisicaoSucesso(4) | requisicaoSucesso(3) | requisicaoSucesso(2)\n",
    "# callbackFracasso  | None                 | requisicaoFalhou(4)  | requisicaoFalhou(3)  | requisicaoFalhou(2)\n",
    "#\n",
    "# Caso o Evento 2 retorne FALSO\n",
    "# Deque\n",
    "#                   | Evento 5             | Evento 4             | Evento 3             | Evento 6\n",
    "# tarefaDoEvento    | requisicaoRede(4)    | requisicaoRede(3)    | requisicaoRede(2)    | requisicaoFalhou(1)\n",
    "# callbackSucesso   | requisicaoSucesso(4) | requisicaoSucesso(3) | requisicaoSucesso(2) | None\n",
    "# callbackFracasso  | requisicaoFalhou(4)  | requisicaoFalhou(3)  | requisicaoFalhou(2)  | None\n",
    "\n",
    "\n",
    "# Executa eventos\n",
    "while True:\n",
    "    # Pega evento mais prioritário\n",
    "    evento = dequeEventos.pop_right()\n",
    "    # Se não existir, termina execução\n",
    "    if evento is None:\n",
    "        print(\"Fim da execução\")\n",
    "        break # quebra laço infinito\n",
    "    # Caso exista, executa sua tarefa\n",
    "    print(f\"Executando {evento}\")\n",
    "    # Funcionamento normal: agendar um novo evento\n",
    "    resultado = evento.tarefaDoEvento()\n",
    "    if resultado is None:\n",
    "        print(f\"{evento} não retornou nenhum valor. Prosseguindo para o próximo evento\")\n",
    "        pass # continua para próximo evento\n",
    "    elif resultado == 1:\n",
    "        print(f\"{evento} retornou error. Agendando seu callbackFracasso com prioridade (fim do deque)\")\n",
    "        # Funcionamento inesperado, precisa prejudicar algum evento já no deque\n",
    "        dequeEventos.push_right(Evento(evento.callbackFracasso))\n",
    "    else:\n",
    "        print(f\"{evento} não retornou error. Agendando seu callbackFracasso sem prioridade (inicio do deque)\")\n",
    "        dequeEventos.push_left(Evento(evento.callbackSucesso))\n",
    "\n",
    "    print(f\"Finda a execução do {evento}\")\n",
    "    print(\"==================================\")"
   ],
   "metadata": {
    "collapsed": false
   }
  },
  {
   "cell_type": "markdown",
   "source": [],
   "metadata": {
    "collapsed": false
   }
  },
  {
   "cell_type": "code",
   "execution_count": null,
   "outputs": [],
   "source": [],
   "metadata": {
    "collapsed": false
   }
  }
 ],
 "metadata": {
  "kernelspec": {
   "display_name": "Python 3",
   "language": "python",
   "name": "python3"
  },
  "language_info": {
   "codemirror_mode": {
    "name": "ipython",
    "version": 2
   },
   "file_extension": ".py",
   "mimetype": "text/x-python",
   "name": "python",
   "nbconvert_exporter": "python",
   "pygments_lexer": "ipython2",
   "version": "2.7.6"
  }
 },
 "nbformat": 4,
 "nbformat_minor": 0
}
