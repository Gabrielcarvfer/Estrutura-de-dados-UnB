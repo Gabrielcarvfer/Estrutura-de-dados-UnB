{
 "cells": [
  {
   "cell_type": "markdown",
   "source": [
    "Estrutura de Dados - Listas e deques\n",
    "==========================================\n",
    "\n",
    "Capítulo 10 do livro texto sugerido:\n",
    "Introduction to Algorithms, Fourth Edition\n",
    "By Thomas H. Cormen, Charles E. Leiserson, Ronald L. Rivest and Clifford Stein\n",
    "https://mitpress.mit.edu/9780262046305/introduction-to-algorithms/\n",
    "\n",
    "Conteúdo\n",
    "========\n",
    "\n",
    "## Listas\n",
    "Como mostrado na Seção de introdução, listas são implementadas de maneira bastante semelhante com pilhas e filas.\n",
    "\n",
    "São compostas por elementos de lista contendo um valor e um referência para o elemento a sua frente, enquanto a fila contém a referência para o primeiro elemento.\n",
    "\n",
    "Diferente da pilha e fila porém, a posição de inserção e remoção dos dados não é pré-determinada, aumentando a complexidade da gerência dos dados nesta estrutura.\n",
    "\n",
    "A implementação de uma lista é mostrada abaixo"
   ],
   "metadata": {
    "collapsed": false
   }
  },
  {
   "cell_type": "code",
   "execution_count": 149,
   "metadata": {
    "collapsed": true
   },
   "outputs": [],
   "source": [
    "class ElementoLista():\n",
    "    def __init__(self, valorInicial):\n",
    "        # Cria um elemento de lista\n",
    "        # contendo o valor enfileirado\n",
    "        self.valor = valorInicial\n",
    "        # e a referência para o elemento seginte a ele na lista\n",
    "        self.proximo = None\n",
    "\n",
    "class Lista():\n",
    "    def __init__(self):\n",
    "        # Cria uma lista vazia\n",
    "        self.primeiroElementoLista = None\n",
    "\n",
    "    def buscaElementoPosicao(self, posicao):\n",
    "        # Procure o elemento atualmente na posicao\n",
    "        elementoPosicao = self.primeiroElementoLista\n",
    "        posicaoBuscada = 0\n",
    "        while posicaoBuscada != posicao:\n",
    "            if elementoPosicao is None:\n",
    "                raise Exception(f\"Posição não existente na lista: {posicao}\")\n",
    "            if elementoPosicao.proximo is None and posicao == -1:\n",
    "                return elementoPosicao\n",
    "            elementoPosicao = elementoPosicao.proximo\n",
    "            posicaoBuscada += 1\n",
    "        return elementoPosicao\n",
    "\n",
    "    def insereValor(self, valor, posicao=0):\n",
    "        # Cria um elemento para a lista\n",
    "        novoElementoLista = ElementoLista(valorInicial=valor)\n",
    "\n",
    "        if posicao == -1 and self.primeiroElementoLista is None:\n",
    "                self.primeiroElementoLista = novoElementoLista\n",
    "                return None\n",
    "\n",
    "        # E a posição de inserção seja a primeira posição\n",
    "        if posicao == 0:\n",
    "            if self.primeiroElementoLista is not None:\n",
    "                novoElementoLista.proximo = self.primeiroElementoLista\n",
    "            self.primeiroElementoLista = novoElementoLista\n",
    "        # Se a lista não estiver vazia\n",
    "        else:\n",
    "            posicao += 0 if posicao != -1 else 1\n",
    "            # Busca elemento anterior a posicao\n",
    "            elementoPosicao = self.buscaElementoPosicao(posicao-1)\n",
    "            # Salva a referência para o elemento na\n",
    "            # posição como próximo do novo elemento\n",
    "            novoElementoLista.proximo = elementoPosicao.proximo\n",
    "            # Substitui elemento na posição pelo novo elemento\n",
    "            elementoPosicao.proximo = novoElementoLista\n",
    "        return None\n",
    "\n",
    "    def removerValor(self, posicao=0):\n",
    "        if posicao == 0:\n",
    "            if self.primeiroElementoLista is None:\n",
    "                return None\n",
    "            else:\n",
    "                elementoRemovido = self.primeiroElementoLista\n",
    "                self.primeiroElementoLista = self.primeiroElementoLista.proximo\n",
    "                return elementoRemovido.valor\n",
    "        else:\n",
    "            elementoPosicao = self.buscaElementoPosicao(posicao-1)\n",
    "            if elementoPosicao.proximo is not None:\n",
    "                elementoRemovido = elementoPosicao.proximo\n",
    "                elementoPosicao.proximo = elementoRemovido.proximo\n",
    "                return elementoRemovido.valor\n",
    "            return None"
   ]
  },
  {
   "cell_type": "markdown",
   "source": [
    "Quando inserimos um elemento na primeira posição, temos complexidade superior assintótica $O(1)$ para gravar a referência/ponteiro para o próximo elemento do novo elemento (`novoElementoLista.proximo = self.primeiroElementoLista`) e substituir as referências/ponteiros do início da lista pelo novo elemento (`self.primeiroElementoLista = novoElementoLista`).\n",
    "\n",
    "Para mostrar que de fato estas operações são rápidas, utilizaremos as seguintes funções."
   ],
   "metadata": {
    "collapsed": false
   }
  },
  {
   "cell_type": "code",
   "execution_count": 150,
   "outputs": [],
   "source": [
    "import time\n",
    "from functools import partial\n",
    "import statistics\n",
    "from matplotlib import pyplot as plt\n",
    "\n",
    "# Função decorador que envelopa chamada original\n",
    "# e calcula o tempo passado\n",
    "def marcaTempo(func):\n",
    "    def funcWrapper(*args, **kwargs):\n",
    "        inicio = time.time()\n",
    "        resultado = func(*args, **kwargs)\n",
    "        fim = time.time()\n",
    "        #print(f\"Tempo gasto em {func.__name__}: {fim-inicio}s\")\n",
    "        return resultado, fim-inicio\n",
    "    return funcWrapper\n",
    "\n",
    "# Função de benchmark\n",
    "def benchmark(func, itens=10000, pulaImpressao=False):\n",
    "    tempos = []\n",
    "    for i in range(itens):\n",
    "        resultado, tempo = func(valor=i)\n",
    "        tempos.append(tempo)\n",
    "    if not pulaImpressao:\n",
    "        print(f\"Benchmark levou {sum(tempos):.2E}s no total, e {statistics.mean(tempos):.2E}±{statistics.stdev(tempos):.2E}s por iteração\")\n",
    "        plt.scatter(list(range(itens)), tempos)\n",
    "        plt.ylabel(\"Tempo (s)\")\n",
    "        plt.show()"
   ],
   "metadata": {
    "collapsed": false
   }
  },
  {
   "cell_type": "markdown",
   "source": [
    "Com as funções de benchmark prontas, podemos executar nossos testes.\n",
    "\n",
    "Primeiro inserindo 10 mil elementos no início da lista."
   ],
   "metadata": {
    "collapsed": false
   }
  },
  {
   "cell_type": "code",
   "execution_count": 151,
   "outputs": [
    {
     "name": "stdout",
     "output_type": "stream",
     "text": [
      "Benchmark levou 3.13E-02s no total, e 3.13E-06±2.21E-04s por iteração\n"
     ]
    },
    {
     "data": {
      "text/plain": "<Figure size 640x480 with 1 Axes>",
      "image/png": "[encoded data removed]"
     },
     "metadata": {},
     "output_type": "display_data"
    }
   ],
   "source": [
    "listaTeste = Lista()\n",
    "\n",
    "# Cria uma função a partir de outra função e\n",
    "# parte dos seus parâmetros.\n",
    "# Para executá-la, basta chamar func(),\n",
    "# assim como feito pelo benchmark\n",
    "func = partial(marcaTempo(listaTeste.insereValor), posicao=0)\n",
    "benchmark(func)"
   ],
   "metadata": {
    "collapsed": false
   }
  },
  {
   "cell_type": "markdown",
   "source": [
    "Muito rápido, exceto por alguns outliers.\n",
    "\n",
    "Agora tentemos colocar sempre no final da lista.\n",
    "\n",
    "Como a lista vai crescendo, temos que buscar a última posição cada vez mais distante do início ($O(n)$)."
   ],
   "metadata": {
    "collapsed": false
   }
  },
  {
   "cell_type": "code",
   "execution_count": 152,
   "outputs": [
    {
     "name": "stdout",
     "output_type": "stream",
     "text": [
      "Benchmark levou 9.35E+00s no total, e 9.35E-04±4.09E-03s por iteração\n"
     ]
    },
    {
     "data": {
      "text/plain": "<Figure size 640x480 with 1 Axes>",
      "image/png": "[encoded data removed]"
     },
     "metadata": {},
     "output_type": "display_data"
    }
   ],
   "source": [
    "listaTeste = Lista()\n",
    "\n",
    "# Cria uma função a partir de outra função e\n",
    "# parte dos seus parâmetros.\n",
    "# Para executá-la, basta chamar func(),\n",
    "# assim como feito pelo benchmark\n",
    "func = partial(marcaTempo(listaTeste.insereValor), posicao=-1)\n",
    "benchmark(func)"
   ],
   "metadata": {
    "collapsed": false
   }
  },
  {
   "cell_type": "markdown",
   "source": [
    "Pelos resultados (olhe as diferentes escalas e ignore os outliers), adicionar sempre no final da lista foi bem mais lento.\n",
    "\n",
    "Gráficamente, também vemos que o tempo levado por iteração é menos regular.\n",
    "\n",
    "Uma das possíveis melhorias para permitir inserção mais rápida também na última posição, é modificando a implementação da nossa lista."
   ],
   "metadata": {
    "collapsed": false
   }
  },
  {
   "cell_type": "code",
   "execution_count": 153,
   "outputs": [],
   "source": [
    "class ListaComElementoFinal():\n",
    "    def __init__(self):\n",
    "        # Cria uma lista vazia\n",
    "        self.primeiroElementoLista = None\n",
    "        self.ultimoElementoLista = None\n",
    "\n",
    "    def buscaElementoPosicao(self, posicao):\n",
    "        # Procure o elemento atualmente na posicao\n",
    "        elementoPosicao = self.primeiroElementoLista\n",
    "        posicaoBuscada = 0\n",
    "        while posicaoBuscada != posicao:\n",
    "            if elementoPosicao is None:\n",
    "                raise Exception(f\"Posição não existente na lista: {posicao}\")\n",
    "            if elementoPosicao.proximo is None and posicao == -1:\n",
    "                return elementoPosicao\n",
    "            if elementoPosicao.proximo.proximo is None and posicao == -2:\n",
    "                return elementoPosicao\n",
    "            elementoPosicao = elementoPosicao.proximo\n",
    "            posicaoBuscada += 1\n",
    "        return elementoPosicao\n",
    "\n",
    "    def insereValor(self, valor, posicao=0):\n",
    "        # Cria um elemento para a lista\n",
    "        novoElementoLista = ElementoLista(valorInicial=valor)\n",
    "\n",
    "        if posicao == -1 and self.primeiroElementoLista is None:\n",
    "                self.primeiroElementoLista = novoElementoLista\n",
    "                self.ultimoElementoLista = novoElementoLista\n",
    "                return None\n",
    "\n",
    "        # E a posição de inserção seja a primeira posição\n",
    "        if posicao == 0:\n",
    "            if self.primeiroElementoLista is not None:\n",
    "                novoElementoLista.proximo = self.primeiroElementoLista\n",
    "            else:\n",
    "                self.ultimoElementoLista = novoElementoLista\n",
    "            self.primeiroElementoLista = novoElementoLista\n",
    "        elif posicao == -1:\n",
    "            # Muda referência para próximo elemento colocado ao final da lista\n",
    "            self.ultimoElementoLista.proximo = novoElementoLista\n",
    "            # Atualiza novo ultimo elemento\n",
    "            self.ultimoElementoLista = novoElementoLista\n",
    "        # Se a lista não estiver vazia\n",
    "        else:\n",
    "            # Busca elemento anterior a posicao\n",
    "            elementoPosicao = self.buscaElementoPosicao(posicao-1)\n",
    "            # Salva a referência para o elemento na\n",
    "            # posição como próximo do novo elemento\n",
    "            novoElementoLista.proximo = elementoPosicao.proximo\n",
    "            # Substitui elemento na posição pelo novo elemento\n",
    "            elementoPosicao.proximo = novoElementoLista\n",
    "        return None\n",
    "\n",
    "    def removerValor(self, posicao=0):\n",
    "        if posicao == 0:\n",
    "            if self.primeiroElementoLista is None:\n",
    "                return None\n",
    "            else:\n",
    "                elementoRemovido = self.primeiroElementoLista\n",
    "                self.primeiroElementoLista = self.primeiroElementoLista.proximo\n",
    "                if self.primeiroElementoLista is None:\n",
    "                    self.ultimoElementoLista = None\n",
    "                return elementoRemovido.valor\n",
    "        else:\n",
    "            if posicao == -1 and self.primeiroElementoLista == self.ultimoElementoLista:\n",
    "                elementoRemovido = self.primeiroElementoLista\n",
    "                self.primeiroElementoLista = None\n",
    "                self.ultimoElementoLista = None\n",
    "                return elementoRemovido\n",
    "            elementoPosicao = self.buscaElementoPosicao(posicao-1)\n",
    "            if elementoPosicao.proximo is not None:\n",
    "                elementoRemovido = elementoPosicao.proximo\n",
    "                elementoPosicao.proximo = elementoRemovido.proximo\n",
    "                if self.ultimoElementoLista == elementoRemovido:\n",
    "                    self.ultimoElementoLista = elementoPosicao\n",
    "                return elementoRemovido.valor\n",
    "            return None"
   ],
   "metadata": {
    "collapsed": false
   }
  },
  {
   "cell_type": "markdown",
   "source": [
    "Agora o desempenho deve ser similar inserindo elementos em ambos os lados"
   ],
   "metadata": {
    "collapsed": false
   }
  },
  {
   "cell_type": "code",
   "execution_count": 154,
   "outputs": [
    {
     "name": "stdout",
     "output_type": "stream",
     "text": [
      "Benchmark levou 3.09E-02s no total, e 3.09E-06±2.19E-04s por iteração\n"
     ]
    },
    {
     "data": {
      "text/plain": "<Figure size 640x480 with 1 Axes>",
      "image/png": "[encoded data removed]"
     },
     "metadata": {},
     "output_type": "display_data"
    }
   ],
   "source": [
    "listaTeste = ListaComElementoFinal()\n",
    "func = partial(marcaTempo(listaTeste.insereValor), posicao=-1)\n",
    "benchmark(func)"
   ],
   "metadata": {
    "collapsed": false
   }
  },
  {
   "cell_type": "markdown",
   "source": [
    "E agora para tirar estes elementos? Como será o comportamento"
   ],
   "metadata": {
    "collapsed": false
   }
  },
  {
   "cell_type": "code",
   "execution_count": 155,
   "outputs": [
    {
     "name": "stdout",
     "output_type": "stream",
     "text": [
      "Benchmark levou 1.56E-02s no total, e 1.56E-06±1.56E-04s por iteração\n"
     ]
    },
    {
     "data": {
      "text/plain": "<Figure size 640x480 with 1 Axes>",
      "image/png": "[encoded data removed]"
     },
     "metadata": {},
     "output_type": "display_data"
    }
   ],
   "source": [
    "def benchmarkRemocao(func, itens=10000, pulaImpressao=False):\n",
    "    tempos = []\n",
    "    for i in range(itens):\n",
    "        resultado, tempo = func()\n",
    "        tempos.append(tempo)\n",
    "    if not pulaImpressao:\n",
    "        print(f\"Benchmark levou {sum(tempos):.2E}s no total, e {statistics.mean(tempos):.2E}±{statistics.stdev(tempos):.2E}s por iteração\")\n",
    "        plt.scatter(list(range(itens)), tempos)\n",
    "        plt.ylabel(\"Tempo (s)\")\n",
    "        plt.show()\n",
    "\n",
    "func = partial(marcaTempo(listaTeste.removerValor), posicao=0)\n",
    "benchmarkRemocao(func)"
   ],
   "metadata": {
    "collapsed": false
   }
  },
  {
   "cell_type": "markdown",
   "source": [
    "Também bastante rápido removendo do começo da lista.\n",
    "\n",
    "O problema vem na hora de remover elementos do final.\n",
    "\n",
    "Não tem escapatória, já que mesmo com a referência para o último elemento, não podêmos removê-lo e atualizar o elemento anterior a ele para ser o novo último elemento."
   ],
   "metadata": {
    "collapsed": false
   }
  },
  {
   "cell_type": "code",
   "execution_count": 156,
   "outputs": [
    {
     "name": "stdout",
     "output_type": "stream",
     "text": [
      "Benchmark levou 1.43E+01s no total, e 1.43E-03±4.51E-03s por iteração\n"
     ]
    },
    {
     "data": {
      "text/plain": "<Figure size 640x480 with 1 Axes>",
      "image/png": "[encoded data removed]"
     },
     "metadata": {},
     "output_type": "display_data"
    }
   ],
   "source": [
    "func = partial(marcaTempo(listaTeste.insereValor), posicao=-1)\n",
    "benchmark(func, pulaImpressao=True)\n",
    "func = partial(marcaTempo(listaTeste.removerValor), posicao=-1)\n",
    "benchmarkRemocao(func)"
   ],
   "metadata": {
    "collapsed": false
   }
  },
  {
   "cell_type": "markdown",
   "source": [
    "Extremamente lento. Mas há uma solução.\n",
    "\n",
    "Uma estrutura de dados diferente, agora duplamente encadeada.\n",
    "\n",
    "## Deque\n",
    "\n",
    "O deque corrige este problema da lista, colocando referências também para os elementos anteriores, e não somente para os elementos posteriores.\n",
    "\n",
    "Isto permite remoção rápida dos elementos em ambas as extremidades."
   ],
   "metadata": {
    "collapsed": false
   }
  },
  {
   "cell_type": "code",
   "execution_count": 157,
   "outputs": [],
   "source": [
    "class ElementoDeque():\n",
    "    def __init__(self, valorInicial):\n",
    "        # Cria um elemento de deque\n",
    "        # contendo o valor enfileirado\n",
    "        self.valor = valorInicial\n",
    "        # e a referência para o elemento posterior a ele no deque\n",
    "        self.proximo = None\n",
    "        # e a referência para o elemento anterior a ele no deque\n",
    "        self.anterior = None\n",
    "\n",
    "class Deque():\n",
    "    def __init__(self):\n",
    "        # Cria um deque vazia\n",
    "        self.primeiroElementoDeque = None\n",
    "\n",
    "    def buscaElementoPosicao(self, posicao):\n",
    "        # Procure o elemento atualmente na posicao\n",
    "        elementoPosicao = self.primeiroElementoDeque\n",
    "        posicaoBuscada = posicao\n",
    "        while posicaoBuscada > 0:\n",
    "            if elementoPosicao is None:\n",
    "                raise Exception(f\"Posição não existente no deque: {posicao}\")\n",
    "            elementoPosicao = elementoPosicao.proximo\n",
    "            posicaoBuscada -= 1\n",
    "        return elementoPosicao\n",
    "\n",
    "    def insereNovoElemento(self, novoElemento, elementoPosicao):\n",
    "        # Salva a referência para o elemento na\n",
    "        # posição como próximo do novo elemento\n",
    "        #\n",
    "        #            novoElemento\n",
    "        #         anterior  proximo\n",
    "        #                   |\n",
    "        #                   v\n",
    "        # | posicao-1 |  posicao  | posicao+1\n",
    "        # | proximo-> | proximo-> | proximo->\n",
    "        # | <-anterior|<-anterior |<-anterior\n",
    "        novoElemento.proximo = elementoPosicao\n",
    "\n",
    "        # Salva a referência para o elemento anterior\n",
    "        # ao da posição como anterior do novo elemento\n",
    "        #\n",
    "        #            novoElemento\n",
    "        #         anterior  proximo\n",
    "        #           |       |\n",
    "        #           v       v\n",
    "        # | posicao-1 |  posicao  | posicao+1\n",
    "        # | proximo-> | proximo-> | proximo->\n",
    "        # | <-anterior|<-anterior |<-anterior\n",
    "        novoElemento.anterior = elementoPosicao.anterior\n",
    "\n",
    "        # Atualiza referencia do elemento posterior do elemento\n",
    "        # anterior para o novo elemento\n",
    "        #\n",
    "        #            novoElemento\n",
    "        #     anterior  ^    proximo\n",
    "        #           |   |    |\n",
    "        #           v   |    v\n",
    "        # | posicao-1   |    posicao    | posicao+1\n",
    "        # | proximo-----^    proximo->  | proximo->\n",
    "        # | <-anterior       <-anterior |<-anterior\n",
    "        # Salva a referência para o elemento anterior ao movido\n",
    "        if elementoPosicao.anterior is not None:\n",
    "            elementoPosicao.anterior.proximo = novoElemento\n",
    "\n",
    "        # Atualiza referencia do elemento anterior do elemento\n",
    "        # na posição para o novo elemento\n",
    "        #\n",
    "        #            novoElemento\n",
    "        #     anterior  ^ ^  proximo\n",
    "        #           |   | |   |\n",
    "        #           v   | |   v\n",
    "        # | posicao-1   | |   posicao    | posicao+1\n",
    "        # | proximo-----^ |   proximo->  | proximo->\n",
    "        # | <-anterior    ^----anterior  |<-anterior\n",
    "        elementoPosicao.anterior = novoElemento\n",
    "\n",
    "        if elementoPosicao == self.primeiroElementoDeque:\n",
    "            self.primeiroElementoDeque = self.primeiroElementoDeque.anterior\n",
    "\n",
    "    def insereValor(self, valor, posicao=0):\n",
    "        # Cria um elemento para o deque\n",
    "        novoElementoDeque = ElementoDeque(valorInicial=valor)\n",
    "\n",
    "        # E a posição de inserção seja a primeira posição\n",
    "        if self.primeiroElementoDeque is None:\n",
    "            self.primeiroElementoDeque = novoElementoDeque\n",
    "        # Se a deque não estiver vazia\n",
    "        else:\n",
    "            # Busca elemento anterior a posicao\n",
    "            #                  v\n",
    "            # | posicao-1 |  posicao  | posicao+1\n",
    "            # | proximo-> | proximo-> | proximo->\n",
    "            #\n",
    "            elementoPosicao = self.buscaElementoPosicao(posicao) if posicao > 0 else self.primeiroElementoDeque\n",
    "\n",
    "            # Reorganizando\n",
    "            #                novoElemento\n",
    "            #                    v\n",
    "            # | posicao-1  | posicao    | posicao+1 | posicao+2\n",
    "            # | proximo->  | proximo->  | proximo-> | proximo->\n",
    "            # | <-anterior | <-anterior |<-anterior |<-anterior\n",
    "            self.insereNovoElemento(novoElementoDeque, elementoPosicao)\n",
    "\n",
    "    def removerValor(self, posicao=0):\n",
    "        if self.primeiroElementoDeque is None:\n",
    "            return None\n",
    "        else:\n",
    "            elementoPosicao = self.buscaElementoPosicao(posicao-1) if posicao > 0 else self.primeiroElementoDeque\n",
    "            valor = elementoPosicao.valor\n",
    "            if elementoPosicao.proximo is not None:\n",
    "                elementoPosicao.proximo.anterior = None\n",
    "            if elementoPosicao == self.primeiroElementoDeque:\n",
    "                self.primeiroElementoDeque = self.primeiroElementoDeque.proximo\n",
    "            return valor"
   ],
   "metadata": {
    "collapsed": false
   }
  }
 ],
 "metadata": {
  "kernelspec": {
   "display_name": "Python 3",
   "language": "python",
   "name": "python3"
  },
  "language_info": {
   "codemirror_mode": {
    "name": "ipython",
    "version": 2
   },
   "file_extension": ".py",
   "mimetype": "text/x-python",
   "name": "python",
   "nbconvert_exporter": "python",
   "pygments_lexer": "ipython2",
   "version": "2.7.6"
  }
 },
 "nbformat": 4,
 "nbformat_minor": 0
}
