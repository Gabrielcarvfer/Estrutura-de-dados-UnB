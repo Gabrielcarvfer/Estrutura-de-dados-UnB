{
 "cells": [
  {
   "cell_type": "markdown",
   "source": [
    "Objetos são a combinação de estruturas de dados e dos algoritmos que os manipulam.\n",
    "\n",
    "São utilizados para modelar comportamentos diversos observados.\n",
    "\n",
    "Utilizemos como exemplo o de um controle remoto.\n",
    "\n",
    "Um controle é um objeto abstrato, e neste controle tipicamente existem botões que podem ser apertados."
   ],
   "metadata": {
    "collapsed": false
   }
  },
  {
   "cell_type": "code",
   "execution_count": 52,
   "outputs": [],
   "source": [
    "class Controle:\n",
    "    # Método construtor Python, onde é definida a estrutura\n",
    "    # de dados de um objeto de classe Controle (neste caso)\n",
    "    def __init__(self):\n",
    "        self.botoes = {}\n",
    "\n",
    "    # Um controle abstrato sem botões não pode\n",
    "    # ter nenhum botão apertado, portanto não faça nada.\n",
    "    def apertarBotao(self, botao):\n",
    "        return"
   ],
   "metadata": {
    "collapsed": false
   }
  },
  {
   "cell_type": "markdown",
   "source": [
    "O controle acima pode ser especializado em diferentes tipos de controles, como um controle remoto de televisão ou de um videogame."
   ],
   "metadata": {
    "collapsed": false
   }
  },
  {
   "cell_type": "code",
   "execution_count": 53,
   "outputs": [],
   "source": [
    "class ControleTV(Controle):\n",
    "    # Adiciona novos botões ao dicionário de botões\n",
    "    # O dicionário é composto pelos botões e a ação dos botões\n",
    "    def botao1(self):\n",
    "        print(\"Apertou 1\")\n",
    "    def botao2(self):\n",
    "        print(\"Apertou 2\")\n",
    "    def botao3(self):\n",
    "        print(\"Apertou 3\")\n",
    "    def botao4(self):\n",
    "        print(\"Apertou 4\")\n",
    "    def botao5(self):\n",
    "        print(\"Apertou 5\")\n",
    "    def botao6(self):\n",
    "        print(\"Apertou 6\")\n",
    "    def botao7(self):\n",
    "        print(\"Apertou 7\")\n",
    "    def botao8(self):\n",
    "        print(\"Apertou 8\")\n",
    "    def botao9(self):\n",
    "        print(\"Apertou 9\")\n",
    "    def botao0(self):\n",
    "        print(\"Apertou 0\")\n",
    "    def __init__(self):\n",
    "        # Chama o construtor da classe pai (Controle)\n",
    "        # Ele criará automaticamente self.botoes\n",
    "        super().__init__()\n",
    "\n",
    "        self.botoes.update({\n",
    "            1: self.botao1,\n",
    "            2: self.botao2,\n",
    "            3: self.botao3,\n",
    "            4: self.botao4,\n",
    "            5: self.botao5,\n",
    "            6: self.botao6,\n",
    "            7: self.botao7,\n",
    "            8: self.botao8,\n",
    "            9: self.botao9,\n",
    "            0: self.botao0\n",
    "        })\n",
    "    # Substitui o comportamento de apertarBotao\n",
    "    # definido na classe Controle\n",
    "    def apertarBotao(self, botao):\n",
    "        # Se tentar apertar um botão que não existe,\n",
    "        # não aconteceria nada na vida real, porém no código\n",
    "        # deve ser checado e tratado\n",
    "        if botao not in self.botoes:\n",
    "            raise Exception(\"Botão inexistente\")\n",
    "        # Aciona a função de tratamento de aperto do botão\n",
    "        self.botoes[botao]()"
   ],
   "metadata": {
    "collapsed": false
   }
  },
  {
   "cell_type": "markdown",
   "source": [
    "Agora apertemos estes botões para digitar o famoso número da rádio-taxi alvorada.\n",
    "Primeiro precisamos criar um controle do modelo (classe) ControleTV.\n",
    "Depois apertar o número 3218181."
   ],
   "metadata": {
    "collapsed": false
   }
  },
  {
   "cell_type": "code",
   "execution_count": 54,
   "outputs": [
    {
     "name": "stdout",
     "output_type": "stream",
     "text": [
      "Apertou 3\n",
      "Apertou 2\n",
      "Apertou 1\n",
      "Apertou 8\n",
      "Apertou 1\n",
      "Apertou 8\n",
      "Apertou 1\n"
     ]
    }
   ],
   "source": [
    "controletv = ControleTV()\n",
    "controletv.apertarBotao(3)\n",
    "controletv.apertarBotao(2)\n",
    "controletv.apertarBotao(1)\n",
    "controletv.apertarBotao(8)\n",
    "controletv.apertarBotao(1)\n",
    "controletv.apertarBotao(8)\n",
    "controletv.apertarBotao(1)"
   ],
   "metadata": {
    "collapsed": false
   }
  },
  {
   "cell_type": "markdown",
   "source": [
    "Também podemos ter controles de videogames.\n",
    "E neste caso, modelaremos também o videogame"
   ],
   "metadata": {
    "collapsed": false
   }
  },
  {
   "cell_type": "code",
   "execution_count": 55,
   "metadata": {
    "collapsed": true
   },
   "outputs": [
    {
     "name": "stdout",
     "output_type": "stream",
     "text": [
      "Aperta botão 'a' no controle 0\n",
      "Controle não sincronizado\n",
      "Aperta botão 'b' no controle 0\n",
      "Controle não sincronizado\n",
      "Aperta botão 'x' no controle 0\n",
      "Controle não sincronizado\n",
      "Aperta botão 'y' no controle 0\n",
      "Controle não sincronizado\n"
     ]
    }
   ],
   "source": [
    "class ControleVideogame(Controle):\n",
    "    CONTADOR_INSTANCIAS = 0\n",
    "    def fazNada(self, id):\n",
    "        print(\"Controle não sincronizado\")\n",
    "\n",
    "    def __init__(self):\n",
    "        # Método construtor de Controle irá criar o dicionário self.botoes\n",
    "        super().__init__()\n",
    "\n",
    "        # Dá identificador único para este controle\n",
    "        self.id = ControleVideogame.CONTADOR_INSTANCIAS\n",
    "        ControleVideogame.CONTADOR_INSTANCIAS += 1\n",
    "\n",
    "        # Adicionamos os botões do controle, porém sem implementar nada\n",
    "        self.botoes.update({\"x\": self.fazNada,\n",
    "                            \"y\": self.fazNada,\n",
    "                            \"a\": self.fazNada,\n",
    "                            \"b\": self.fazNada\n",
    "                            })\n",
    "        # Adicionamos também uma variável de controle\n",
    "        # utilizada para indicar a qual console o controle já foi\n",
    "        # sincronizado (quando a implementação dos botões será definida)\n",
    "        self.consoleSincronizado = None\n",
    "\n",
    "    # Um console pode sincronizar com este controle\n",
    "    def sincronizaControle(self, console, mapeamentoBotoes: dict):\n",
    "        self.consoleSincronizado = console\n",
    "        self.botoes.update(mapeamentoBotoes)\n",
    "\n",
    "    # Chama a implementação do botão\n",
    "    def apertarBotao(self, botao):\n",
    "        print(f\"Aperta botão '{botao}' no controle {self.id}\")\n",
    "        self.botoes[botao](self.id)\n",
    "\n",
    "controleNaoSincronizado = ControleVideogame()\n",
    "controleNaoSincronizado.apertarBotao(\"a\")\n",
    "controleNaoSincronizado.apertarBotao(\"b\")\n",
    "controleNaoSincronizado.apertarBotao(\"x\")\n",
    "controleNaoSincronizado.apertarBotao(\"y\")"
   ]
  },
  {
   "cell_type": "code",
   "execution_count": 56,
   "outputs": [
    {
     "name": "stdout",
     "output_type": "stream",
     "text": [
      "\n",
      "Aperta botão 'b' no controle 1\n",
      "Console imprime B: apertado por controle 1\n",
      "Aperta botão 'a' no controle 1\n",
      "Console imprime A: apertado por controle 1\n",
      "Aperta botão 'x' no controle 1\n",
      "Console imprime X: apertado por controle 1\n",
      "Aperta botão 'y' no controle 1\n",
      "Console imprime Y: apertado por controle 1\n",
      "\n"
     ]
    }
   ],
   "source": [
    "Precisamos agora sincronizar um controle a um console, que redefinirá a funcionalidade dos botões\n",
    "class Console:\n",
    "    # Um console pode ter mais de um controle associado\n",
    "    def __init__(self):\n",
    "        self.controles = []\n",
    "\n",
    "    def apertaX(self, controle):\n",
    "        print(f\"Console imprime X: apertado por controle {controle}\")\n",
    "    def apertaY(self, controle):\n",
    "        print(f\"Console imprime Y: apertado por controle {controle}\")\n",
    "    def apertaA(self, controle):\n",
    "        print(f\"Console imprime A: apertado por controle {controle}\")\n",
    "    def apertaB(self, controle):\n",
    "        print(f\"Console imprime B: apertado por controle {controle}\")\n",
    "\n",
    "    def sincronizaControle(self, controle: ControleVideogame):\n",
    "        self.controles.append(controle)\n",
    "        controle.sincronizaControle(self, {\"x\": self.apertaX,\n",
    "                                           \"y\": self.apertaY,\n",
    "                                           \"a\": self.apertaA,\n",
    "                                           \"b\": self.apertaB\n",
    "                                           }\n",
    "                                    )\n",
    "controleSincronizado = ControleVideogame()\n",
    "consoleXbox = Console()\n",
    "print()\n",
    "consoleXbox.sincronizaControle(controleSincronizado)\n",
    "controleSincronizado.apertarBotao(\"b\")\n",
    "controleSincronizado.apertarBotao(\"a\")\n",
    "controleSincronizado.apertarBotao(\"x\")\n",
    "controleSincronizado.apertarBotao(\"y\")\n",
    "print()"
   ],
   "metadata": {
    "collapsed": false
   }
  },
  {
   "cell_type": "markdown",
   "source": [
    "As classes em Python também permitem que sejam comparadas as instâncias"
   ],
   "metadata": {
    "collapsed": false
   }
  },
  {
   "cell_type": "code",
   "execution_count": 57,
   "outputs": [
    {
     "name": "stdout",
     "output_type": "stream",
     "text": [
      "n0 < n1 ? True\n"
     ]
    }
   ],
   "source": [
    "class Numero:\n",
    "    def __init__(self, valor=0):\n",
    "        self.valor = valor\n",
    "\n",
    "    def __lt__(self, other):\n",
    "        return self.valor < other.valor\n",
    "\n",
    "    def __str__(self):\n",
    "        return f\"{self.valor}\"\n",
    "\n",
    "n0 = Numero(0)\n",
    "n1 = Numero(1)\n",
    "print(f\"n0 < n1 ? {n0<n1}\")"
   ],
   "metadata": {
    "collapsed": false
   }
  },
  {
   "cell_type": "markdown",
   "source": [
    "Se conseguimos determinar uma ordem, conseguimos ordenar."
   ],
   "metadata": {
    "collapsed": false
   }
  },
  {
   "cell_type": "code",
   "execution_count": 60,
   "outputs": [
    {
     "name": "stdout",
     "output_type": "stream",
     "text": [
      "1\n",
      "2\n",
      "3\n",
      "3\n",
      "5\n",
      "6\n",
      "7\n",
      "9\n"
     ]
    }
   ],
   "source": [
    "numeros = [\n",
    "    Numero(3),\n",
    "    Numero(1),\n",
    "    Numero(2),\n",
    "    Numero(9),\n",
    "    Numero(7),\n",
    "    Numero(6),\n",
    "    Numero(3),\n",
    "    Numero(5),\n",
    "]\n",
    "for numero in sorted(numeros):\n",
    "    print(numero)"
   ],
   "metadata": {
    "collapsed": false
   }
  }
 ],
 "metadata": {
  "kernelspec": {
   "display_name": "Python 3",
   "language": "python",
   "name": "python3"
  },
  "language_info": {
   "codemirror_mode": {
    "name": "ipython",
    "version": 2
   },
   "file_extension": ".py",
   "mimetype": "text/x-python",
   "name": "python",
   "nbconvert_exporter": "python",
   "pygments_lexer": "ipython2",
   "version": "2.7.6"
  }
 },
 "nbformat": 4,
 "nbformat_minor": 0
}
